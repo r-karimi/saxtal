{
 "cells": [
  {
   "cell_type": "code",
   "execution_count": 1,
   "id": "41ffbea1",
   "metadata": {},
   "outputs": [],
   "source": [
    "import saxtal_functions as sax\n",
    "import matplotlib.pyplot as plt\n",
    "import numpy as np\n",
    "from itertools import product\n",
    "from tqdm import tqdm"
   ]
  },
  {
   "cell_type": "code",
   "execution_count": 2,
   "id": "19801d6f",
   "metadata": {},
   "outputs": [],
   "source": [
    "filename = 'test_data/test_lattices/000085379250142240070_SFO2_105_0024_patch_aligned_doseweighted_bin_2.mrc'\n",
    "threshold_method='sd' \n",
    "pixel_size = 1.048\n",
    "verbose=True\n",
    "show_plots=True\n",
    "threads=16\n",
    "sigma=15 \n",
    "num_sd=3.0\n",
    "num_sd_secondpass=2.0\n",
    "x_window_percent=(0, 0.7)\n",
    "y_window_percent=(0, 0.995)\n",
    "miller_index_buffer=2\n",
    "box_radius=10\n",
    "min_lattice_size=5\n",
    "mask_hotpixels=False\n",
    "replace_distance_percent=0.05\n",
    "return_spots=False"
   ]
  },
  {
   "cell_type": "code",
   "execution_count": 3,
   "id": "2dd7ac3d",
   "metadata": {},
   "outputs": [
    {
     "name": "stdout",
     "output_type": "stream",
     "text": [
      "scipy_fft(): FFT performed in 90.41 milliseconds.\n"
     ]
    }
   ],
   "source": [
    "image, header = sax.import_mrc(filename)\n",
    "padded_fft = sax.scipy_fft(image, verbose, 16)\n",
    "log_diff_spectrum, smoothed_spectrum = sax.generate_diff_spectrum(padded_fft, sigma)"
   ]
  },
  {
   "cell_type": "code",
   "execution_count": 4,
   "id": "2bfe1a76",
   "metadata": {},
   "outputs": [],
   "source": [
    "diffraction_indices, diffraction_amplitudes = sax.find_diffraction_spots_sd(log_diff_spectrum, num_sd, x_window_percent, y_window_percent)"
   ]
  },
  {
   "cell_type": "code",
   "execution_count": 5,
   "id": "017ccd0b",
   "metadata": {},
   "outputs": [
    {
     "ename": "TypeError",
     "evalue": "find_lattice() got an unexpected keyword argument 'num_sd'",
     "output_type": "error",
     "traceback": [
      "\u001b[0;31m---------------------------------------------------------------------------\u001b[0m",
      "\u001b[0;31mTypeError\u001b[0m                                 Traceback (most recent call last)",
      "Cell \u001b[0;32mIn [5], line 1\u001b[0m\n\u001b[0;32m----> 1\u001b[0m combined_nonredundant_lattice, unit_cell_dimensions, highest_resolution \u001b[38;5;241m=\u001b[39m \u001b[43msax\u001b[49m\u001b[38;5;241;43m.\u001b[39;49m\u001b[43mfind_lattice\u001b[49m\u001b[43m(\u001b[49m\u001b[43mdiffraction_indices\u001b[49m\u001b[43m,\u001b[49m\u001b[43m \u001b[49m\n\u001b[1;32m      2\u001b[0m \u001b[43m                                                                                           \u001b[49m\u001b[43mdiffraction_amplitudes\u001b[49m\u001b[43m,\u001b[49m\u001b[43m \u001b[49m\n\u001b[1;32m      3\u001b[0m \u001b[43m                                                                                           \u001b[49m\u001b[43mlog_diff_spectrum\u001b[49m\u001b[43m,\u001b[49m\n\u001b[1;32m      4\u001b[0m \u001b[43m                                                                                           \u001b[49m\u001b[43mpixel_size\u001b[49m\u001b[43m \u001b[49m\u001b[38;5;241;43m=\u001b[39;49m\u001b[43m \u001b[49m\u001b[38;5;241;43m1.048\u001b[39;49m\u001b[43m,\u001b[49m\n\u001b[1;32m      5\u001b[0m \u001b[43m                                                                                           \u001b[49m\u001b[43mshow_plots\u001b[49m\u001b[38;5;241;43m=\u001b[39;49m\u001b[38;5;28;43;01mTrue\u001b[39;49;00m\u001b[43m,\u001b[49m\n\u001b[1;32m      6\u001b[0m \u001b[43m                                                                                           \u001b[49m\u001b[43mverbose\u001b[49m\u001b[38;5;241;43m=\u001b[39;49m\u001b[38;5;28;43;01mTrue\u001b[39;49;00m\u001b[43m,\u001b[49m\u001b[43m \u001b[49m\n\u001b[1;32m      7\u001b[0m \u001b[43m                                                                                           \u001b[49m\u001b[43mnum_sd\u001b[49m\u001b[38;5;241;43m=\u001b[39;49m\u001b[38;5;241;43m2\u001b[39;49m\u001b[43m,\u001b[49m\u001b[43m \u001b[49m\n\u001b[1;32m      8\u001b[0m \u001b[43m                                                                                           \u001b[49m\u001b[43mmiller_index_buffer\u001b[49m\u001b[38;5;241;43m=\u001b[39;49m\u001b[38;5;241;43m2\u001b[39;49m\u001b[43m,\u001b[49m\u001b[43m \u001b[49m\n\u001b[1;32m      9\u001b[0m \u001b[43m                                                                                           \u001b[49m\u001b[43mbox_radius\u001b[49m\u001b[38;5;241;43m=\u001b[39;49m\u001b[38;5;241;43m10\u001b[39;49m\u001b[43m,\u001b[49m\n\u001b[1;32m     10\u001b[0m \u001b[43m                                                                                           \u001b[49m\u001b[43mmin_lattice_size\u001b[49m\u001b[38;5;241;43m=\u001b[39;49m\u001b[38;5;241;43m5\u001b[39;49m\u001b[43m)\u001b[49m\n\u001b[1;32m     12\u001b[0m \u001b[38;5;28mprint\u001b[39m(unit_cell_dimensions, highest_resolution)\n",
      "\u001b[0;31mTypeError\u001b[0m: find_lattice() got an unexpected keyword argument 'num_sd'"
     ]
    }
   ],
   "source": [
    "combined_nonredundant_lattice, unit_cell_dimensions, highest_resolution = sax.find_lattice(diffraction_indices, \n",
    "                                                                                           diffraction_amplitudes, \n",
    "                                                                                           log_diff_spectrum,\n",
    "                                                                                           pixel_size = 1.048,\n",
    "                                                                                           show_plots=True,\n",
    "                                                                                           verbose=True, \n",
    "                                                                                           num_sd_secondpass=2,\n",
    "                                                                                           miller_index_buffer=2, \n",
    "                                                                                           box_radius=10,\n",
    "                                                                                           min_lattice_size=5)\n",
    "\n",
    "print(unit_cell_dimensions, highest_resolution)"
   ]
  },
  {
   "cell_type": "code",
   "execution_count": null,
   "id": "f7cb749a",
   "metadata": {},
   "outputs": [],
   "source": [
    "mask_indices_array = sax.generate_lattice_mask_indices(combined_nonredundant_lattice)"
   ]
  },
  {
   "cell_type": "code",
   "execution_count": null,
   "id": "896e734b",
   "metadata": {},
   "outputs": [],
   "source": [
    "# Pass these values to replace_diffraction_spots\n",
    "\n",
    "masked_fft = sax.replace_diffraction_spots(padded_fft, mask_indices_array)"
   ]
  },
  {
   "cell_type": "code",
   "execution_count": null,
   "id": "22bdd6d0",
   "metadata": {},
   "outputs": [],
   "source": [
    "# From here, calculate a new log_diff_spectrum and rerun pipeline\n",
    "# If the lattice has more than 5 points...do something. Remove it?"
   ]
  },
  {
   "cell_type": "code",
   "execution_count": null,
   "id": "e6f342c3",
   "metadata": {},
   "outputs": [],
   "source": [
    "log_diff_spectrum, smoothed_spectrum = sax.generate_diff_spectrum(masked_fft, sigma)"
   ]
  },
  {
   "cell_type": "code",
   "execution_count": null,
   "id": "0340b8fa",
   "metadata": {},
   "outputs": [],
   "source": [
    "diffraction_indices, diffraction_amplitudes = sax.find_diffraction_spots_sd(log_diff_spectrum, num_sd, x_window_percent, y_window_percent)"
   ]
  },
  {
   "cell_type": "code",
   "execution_count": null,
   "id": "5d0147a3",
   "metadata": {},
   "outputs": [],
   "source": [
    "combined_nonredundant_lattice, unit_cell_dimensions, highest_resolution = sax.find_lattice(diffraction_indices, \n",
    "                                                                                           diffraction_amplitudes, \n",
    "                                                                                           log_diff_spectrum,\n",
    "                                                                                           pixel_size = 1.048,\n",
    "                                                                                           show_plots=True,\n",
    "                                                                                           verbose=True, \n",
    "                                                                                           num_sd_secondpass=2, \n",
    "                                                                                           miller_index_buffer=2, \n",
    "                                                                                           box_radius=10,\n",
    "                                                                                           min_lattice_size=5)\n",
    "\n",
    "print(combined_nonredundant_lattice, unit_cell_dimensions, highest_resolution)"
   ]
  },
  {
   "cell_type": "code",
   "execution_count": null,
   "id": "4a1ae347",
   "metadata": {},
   "outputs": [],
   "source": [
    "sax.mask_image(filename, \n",
    "           threshold_method,\n",
    "           pixel_size,\n",
    "           verbose,\n",
    "           show_plots,\n",
    "           threads,\n",
    "           sigma,\n",
    "           num_sd,\n",
    "           num_sd_secondpass,\n",
    "           x_window_percent,\n",
    "           y_window_percent,\n",
    "           miller_index_buffer,\n",
    "           box_radius,\n",
    "           min_lattice_size,\n",
    "           mask_hotpixels,\n",
    "           replace_distance_percent,\n",
    "           return_spots)"
   ]
  }
 ],
 "metadata": {
  "kernelspec": {
   "display_name": "Python 3 (ipykernel)",
   "language": "python",
   "name": "python3"
  },
  "language_info": {
   "codemirror_mode": {
    "name": "ipython",
    "version": 3
   },
   "file_extension": ".py",
   "mimetype": "text/x-python",
   "name": "python",
   "nbconvert_exporter": "python",
   "pygments_lexer": "ipython3",
   "version": "3.10.8"
  }
 },
 "nbformat": 4,
 "nbformat_minor": 5
}
