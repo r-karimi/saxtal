{
 "cells": [
  {
   "cell_type": "code",
   "execution_count": 2,
   "id": "41ffbea1",
   "metadata": {},
   "outputs": [],
   "source": [
    "import saxtal_functions as sax\n",
    "import matplotlib.pyplot as plt\n",
    "import numpy as np\n",
    "from itertools import product\n",
    "from tqdm import tqdm"
   ]
  },
  {
   "cell_type": "code",
   "execution_count": 3,
   "id": "19801d6f",
   "metadata": {},
   "outputs": [],
   "source": [
    "filename = 'test_data/test_lattices/000022735715047590394_SFO2_118_0019_patch_aligned_doseweighted_bin_2.mrc'\n",
    "filename_out = 'test_data/test_lattices/000022735715047590394_SFO2_118_0019_patch_aligned_doseweighted_bin_2_masked.mrc'\n",
    "threshold_method='sd' \n",
    "pixel_size = 1.048\n",
    "verbose=False\n",
    "show_plots=False\n",
    "threads=16\n",
    "sigma=15 \n",
    "num_sd=3.0\n",
    "num_sd_secondpass=2.0\n",
    "x_window_percent=(0, 0.7)\n",
    "y_window_percent=(0, 0.995)\n",
    "miller_index_buffer=2\n",
    "box_radius=10\n",
    "min_lattice_size=5\n",
    "mask_hotpixels=False\n",
    "mask_radius=5\n",
    "replace_distance_percent=0.05\n",
    "return_spots=True"
   ]
  },
  {
   "cell_type": "code",
   "execution_count": 3,
   "id": "d328d480",
   "metadata": {},
   "outputs": [],
   "source": [
    "# To test multiple lattices, use:\n",
    "\n",
    "# filename = 'test_data/test_lattices/000022735715047590394_SFO2_118_0019_patch_aligned_doseweighted_bin_2.mrc'\n",
    "# filename_out = 'test_data/test_lattices/000022735715047590394_SFO2_118_0019_patch_aligned_doseweighted_bin_2_masked.mrc'\n",
    "# threshold_method='sd' \n",
    "# pixel_size = 1.048\n",
    "# verbose=True\n",
    "# show_plots=True\n",
    "# threads=16\n",
    "# sigma=15 \n",
    "# num_sd=3.0\n",
    "# num_sd_secondpass=2.0\n",
    "# x_window_percent=(0, 0.7)\n",
    "# y_window_percent=(0, 0.995)\n",
    "# miller_index_buffer=2\n",
    "# box_radius=10\n",
    "# min_lattice_size=5\n",
    "# mask_hotpixels=False\n",
    "# mask_radius=5\n",
    "# replace_distance_percent=0.05\n",
    "# return_spots=False"
   ]
  },
  {
   "cell_type": "code",
   "execution_count": 4,
   "id": "fbf66a04",
   "metadata": {},
   "outputs": [
    {
     "name": "stdout",
     "output_type": "stream",
     "text": [
      "[5.73]\n"
     ]
    },
    {
     "data": {
      "text/plain": [
       "array([[4900, 4846, 5040, 5185, 5132, 5323, 5169, 5473, 5419, 5366, 5258,\n",
       "        5204, 5616, 5562, 5508, 5706, 5652, 5545, 5437,   89,   35, 5742,\n",
       "        5688, 5582, 5529, 5477,  232,  178,  125,   17, 5671,  324,  270,\n",
       "         215,  161,  109,  465,  359,  303,  250,  144, 5693,  557,  341,\n",
       "         287,   66,  699,  651,  539,  485,  432,  373,  268,  789,  774,\n",
       "         719,  391],\n",
       "       [ 224,  324,  182,  150,  239,  118,  385,   74,  167,  259,  439,\n",
       "         531,   38,  129,  220,   92,  184,  366,  554,   53,  146,  238,\n",
       "         330,  513,  606,  700,   16,  108,  200,  384,  567,   70,  167,\n",
       "         254,  346,  438,   34,  216,  311,  400,  583,  955,   88,  455,\n",
       "         539,  913,   52,  138,  327,  417,  510,  604,  791,  106,  343,\n",
       "         436,  977]])"
      ]
     },
     "execution_count": 4,
     "metadata": {},
     "output_type": "execute_result"
    }
   ],
   "source": [
    "sax.mask_image(filename,\n",
    "               filename_out,\n",
    "               threshold_method,\n",
    "               pixel_size,\n",
    "               verbose = verbose,\n",
    "               show_plots = show_plots,\n",
    "               threads = threads,\n",
    "               sigma = sigma,\n",
    "               num_sd = num_sd,\n",
    "               num_sd_secondpass = num_sd_secondpass,\n",
    "               x_window_percent = x_window_percent,\n",
    "               y_window_percent = y_window_percent,\n",
    "               miller_index_buffer = miller_index_buffer,\n",
    "               box_radius = box_radius,\n",
    "               min_lattice_size = min_lattice_size,\n",
    "               mask_hotpixels = mask_hotpixels,\n",
    "               mask_radius= mask_radius,\n",
    "               replace_distance_percent = replace_distance_percent,\n",
    "               return_spots = return_spots)"
   ]
  },
  {
   "cell_type": "code",
   "execution_count": null,
   "id": "6f30e761",
   "metadata": {},
   "outputs": [],
   "source": [
    "# Import the image\n",
    "image, header = sax.import_mrc(filename)\n",
    "\n",
    "# Perform an FFT of the image\n",
    "padded_fft = sax.scipy_fft(image, verbose, threads)\n",
    "\n",
    "# Subtract the FFT from a Gaussian-smoothed FFT\n",
    "log_diff_spectrum, smoothed_spectrum = sax.generate_diff_spectrum(padded_fft, sigma)\n",
    "\n",
    "# Find diffraction spots\n",
    "if threshold_method == \"quantile\":\n",
    "    diffraction_indices, diffraction_amplitudes = find_diffraction_spots_quantile(log_diff_spectrum, quantile, x_window_percent, y_window_percent)\n",
    "if threshold_method == \"sd\":\n",
    "    diffraction_indices, diffraction_amplitudes = sax.find_diffraction_spots_sd(log_diff_spectrum, num_sd, x_window_percent, y_window_percent)\n",
    "else:\n",
    "    print(\"No thresholding method specified. Please specify a method using the threshold_method parameter.\")\n",
    "    \n",
    "\n",
    "# Return some info if function is verbose\n",
    "if verbose:\n",
    "    print(\"Number of first-pass spots found: \" + str(diffraction_indices.shape[0]))\n",
    "\n",
    "# Start while ----------------------------\n",
    "\n",
    "# Look for the lattice\n",
    "combined_nonredundant_lattice, unit_cell_dimensions, highest_resolution = sax.find_lattice(diffraction_indices,\n",
    "                                                                                       diffraction_amplitudes, \n",
    "                                                                                       log_diff_spectrum, \n",
    "                                                                                       pixel_size, \n",
    "                                                                                       show_plots=True, \n",
    "                                                                                       verbose=True, \n",
    "                                                                                       num_sd_secondpass=2, \n",
    "                                                                                       miller_index_buffer=2, \n",
    "                                                                                       box_radius=10, \n",
    "                                                                                       min_lattice_size=5)\n",
    "\n",
    "\n",
    "# Filter out the hot pixels - leave off, depreciated\n",
    "if mask_hotpixels:\n",
    "    if verbose: print(\"Removing hot pixels...\")\n",
    "    combined_nonredundant_lattice = combined_nonredundant_lattice[remove_hotpixels(combined_nonredundant_lattice, verbose)]\n",
    "    if verbose: print(str(num_spots - combined_nonredundant_lattice.shape[0]) + \" hot pixels removed.\")\n"
   ]
  },
  {
   "cell_type": "code",
   "execution_count": null,
   "id": "e9c01ec8",
   "metadata": {},
   "outputs": [],
   "source": [
    "for indices in np.transpose(combined_nonredundant_lattice):\n",
    "    print(indices)"
   ]
  },
  {
   "cell_type": "code",
   "execution_count": null,
   "id": "15725d0f",
   "metadata": {},
   "outputs": [],
   "source": [
    "masked_fft = replace_diffraction_spots(padded_fft, combined_nonredundant_lattice, replace_distance_percent)"
   ]
  },
  {
   "cell_type": "code",
   "execution_count": null,
   "id": "2dd7ac3d",
   "metadata": {},
   "outputs": [],
   "source": [
    "image, header = sax.import_mrc(filename)\n",
    "padded_fft = sax.scipy_fft(image, verbose, 16)\n",
    "log_diff_spectrum, smoothed_spectrum = sax.generate_diff_spectrum(padded_fft, sigma)"
   ]
  },
  {
   "cell_type": "code",
   "execution_count": null,
   "id": "2bfe1a76",
   "metadata": {},
   "outputs": [],
   "source": [
    "diffraction_indices, diffraction_amplitudes = sax.find_diffraction_spots_sd(log_diff_spectrum, num_sd, x_window_percent, y_window_percent)"
   ]
  },
  {
   "cell_type": "code",
   "execution_count": null,
   "id": "017ccd0b",
   "metadata": {},
   "outputs": [],
   "source": [
    "combined_nonredundant_lattice, unit_cell_dimensions, highest_resolution = sax.find_lattice(diffraction_indices, \n",
    "                                                                                           diffraction_amplitudes, \n",
    "                                                                                           log_diff_spectrum,\n",
    "                                                                                           pixel_size = 1.048,\n",
    "                                                                                           show_plots=True,\n",
    "                                                                                           verbose=True, \n",
    "                                                                                           num_sd_secondpass=2,\n",
    "                                                                                           miller_index_buffer=2, \n",
    "                                                                                           box_radius=10,\n",
    "                                                                                           min_lattice_size=5)\n",
    "\n",
    "print(unit_cell_dimensions, highest_resolution)"
   ]
  },
  {
   "cell_type": "code",
   "execution_count": null,
   "id": "f7cb749a",
   "metadata": {},
   "outputs": [],
   "source": [
    "mask_indices_array = sax.generate_lattice_mask_indices(combined_nonredundant_lattice)"
   ]
  },
  {
   "cell_type": "code",
   "execution_count": null,
   "id": "896e734b",
   "metadata": {},
   "outputs": [],
   "source": [
    "# Pass these values to replace_diffraction_spots\n",
    "\n",
    "masked_fft = sax.replace_diffraction_spots(padded_fft, mask_indices_array)"
   ]
  },
  {
   "cell_type": "code",
   "execution_count": null,
   "id": "22bdd6d0",
   "metadata": {},
   "outputs": [],
   "source": [
    "# From here, calculate a new log_diff_spectrum and rerun pipeline\n",
    "# If the lattice has more than 5 points...do something. Remove it?"
   ]
  },
  {
   "cell_type": "code",
   "execution_count": null,
   "id": "e6f342c3",
   "metadata": {},
   "outputs": [],
   "source": [
    "log_diff_spectrum, smoothed_spectrum = sax.generate_diff_spectrum(masked_fft, sigma)"
   ]
  },
  {
   "cell_type": "code",
   "execution_count": null,
   "id": "cabda617",
   "metadata": {},
   "outputs": [],
   "source": [
    "diffraction_indices, diffraction_amplitudes = sax.find_diffraction_spots_sd(log_diff_spectrum, num_sd, x_window_percent, y_window_percent)"
   ]
  },
  {
   "cell_type": "code",
   "execution_count": null,
   "id": "933e4ebc",
   "metadata": {},
   "outputs": [],
   "source": [
    "combined_nonredundant_lattice, unit_cell_dimensions, highest_resolution = sax.find_lattice(diffraction_indices, \n",
    "                                                                                           diffraction_amplitudes, \n",
    "                                                                                           log_diff_spectrum,\n",
    "                                                                                           pixel_size = 1.048,\n",
    "                                                                                           show_plots=True,\n",
    "                                                                                           verbose=True, \n",
    "                                                                                           num_sd_secondpass=2, \n",
    "                                                                                           miller_index_buffer=2, \n",
    "                                                                                           box_radius=10,\n",
    "                                                                                           min_lattice_size=5)\n",
    "\n",
    "print(combined_nonredundant_lattice, unit_cell_dimensions, highest_resolution)"
   ]
  }
 ],
 "metadata": {
  "kernelspec": {
   "display_name": "Python 3 (ipykernel)",
   "language": "python",
   "name": "python3"
  },
  "language_info": {
   "codemirror_mode": {
    "name": "ipython",
    "version": 3
   },
   "file_extension": ".py",
   "mimetype": "text/x-python",
   "name": "python",
   "nbconvert_exporter": "python",
   "pygments_lexer": "ipython3",
   "version": "3.10.8"
  }
 },
 "nbformat": 4,
 "nbformat_minor": 5
}
