{
 "cells": [
  {
   "cell_type": "code",
   "execution_count": 4,
   "id": "41ffbea1",
   "metadata": {},
   "outputs": [],
   "source": [
    "import saxtal_functions as sax\n",
    "import matplotlib.pyplot as plt\n",
    "import numpy as np\n",
    "from itertools import product\n",
    "from tqdm import tqdm"
   ]
  },
  {
   "cell_type": "code",
   "execution_count": 2,
   "id": "19801d6f",
   "metadata": {},
   "outputs": [],
   "source": [
    "movie_filename = 'test_data/test_movie.mrc'\n",
    "movie_filename_out = 'test_data/test_movie_masked.mrc'\n",
    "micrograph_filename = 'test_data/test_micrograph.mrc'\n",
    "micrograph_filename_out = 'test_data/test_micrograph_masked.mrc'\n",
    "threshold_method='sd' \n",
    "pixel_size = 1.45\n",
    "verbose=True\n",
    "show_plots=True\n",
    "threads=16\n",
    "sigma=15 \n",
    "num_sd=3.0\n",
    "num_sd_secondpass=2.0\n",
    "x_window_percent=(0, 0.7)\n",
    "y_window_percent=(0, 0.995)\n",
    "miller_index_buffer=2\n",
    "box_radius=10\n",
    "min_lattice_size=5\n",
    "mask_hotpixels=False\n",
    "mask_radius=5\n",
    "replace_distance_percent=0.05\n",
    "return_spots=True\n",
    "return_stats=False"
   ]
  },
  {
   "cell_type": "code",
   "execution_count": 3,
   "id": "423f0944",
   "metadata": {},
   "outputs": [
    {
     "ename": "TypeError",
     "evalue": "mask_movie() missing 1 required positional argument: 'pixel_size'",
     "output_type": "error",
     "traceback": [
      "\u001b[0;31m---------------------------------------------------------------------------\u001b[0m",
      "\u001b[0;31mTypeError\u001b[0m                                 Traceback (most recent call last)",
      "Cell \u001b[0;32mIn [3], line 1\u001b[0m\n\u001b[0;32m----> 1\u001b[0m \u001b[43msax\u001b[49m\u001b[38;5;241;43m.\u001b[39;49m\u001b[43mmask_movie\u001b[49m\u001b[43m(\u001b[49m\u001b[43mmovie_filename\u001b[49m\u001b[43m,\u001b[49m\n\u001b[1;32m      2\u001b[0m \u001b[43m               \u001b[49m\u001b[43mmovie_filename_out\u001b[49m\u001b[43m,\u001b[49m\n\u001b[1;32m      3\u001b[0m \u001b[43m               \u001b[49m\u001b[43mmicrograph_filename\u001b[49m\u001b[43m,\u001b[49m\n\u001b[1;32m      4\u001b[0m \u001b[43m               \u001b[49m\u001b[43mthreshold_method\u001b[49m\u001b[43m,\u001b[49m\n\u001b[1;32m      5\u001b[0m \u001b[43m               \u001b[49m\u001b[43mpixel_size\u001b[49m\u001b[43m,\u001b[49m\n\u001b[1;32m      6\u001b[0m \u001b[43m               \u001b[49m\u001b[43mverbose\u001b[49m\u001b[38;5;241;43m=\u001b[39;49m\u001b[43mverbose\u001b[49m\u001b[43m,\u001b[49m\n\u001b[1;32m      7\u001b[0m \u001b[43m               \u001b[49m\u001b[43mshow_plots\u001b[49m\u001b[38;5;241;43m=\u001b[39;49m\u001b[43mshow_plots\u001b[49m\u001b[43m,\u001b[49m\n\u001b[1;32m      8\u001b[0m \u001b[43m               \u001b[49m\u001b[43mthreads\u001b[49m\u001b[38;5;241;43m=\u001b[39;49m\u001b[43mthreads\u001b[49m\u001b[43m,\u001b[49m\n\u001b[1;32m      9\u001b[0m \u001b[43m               \u001b[49m\u001b[43msigma\u001b[49m\u001b[38;5;241;43m=\u001b[39;49m\u001b[43msigma\u001b[49m\u001b[43m,\u001b[49m\n\u001b[1;32m     10\u001b[0m \u001b[43m               \u001b[49m\u001b[43mnum_sd\u001b[49m\u001b[38;5;241;43m=\u001b[39;49m\u001b[43mnum_sd\u001b[49m\u001b[43m,\u001b[49m\n\u001b[1;32m     11\u001b[0m \u001b[43m               \u001b[49m\u001b[43mnum_sd_secondpass\u001b[49m\u001b[38;5;241;43m=\u001b[39;49m\u001b[43mnum_sd_secondpass\u001b[49m\u001b[43m,\u001b[49m\n\u001b[1;32m     12\u001b[0m \u001b[43m               \u001b[49m\u001b[43mx_window_percent\u001b[49m\u001b[38;5;241;43m=\u001b[39;49m\u001b[43mx_window_percent\u001b[49m\u001b[43m,\u001b[49m\n\u001b[1;32m     13\u001b[0m \u001b[43m               \u001b[49m\u001b[43my_window_percent\u001b[49m\u001b[38;5;241;43m=\u001b[39;49m\u001b[43my_window_percent\u001b[49m\u001b[43m,\u001b[49m\n\u001b[1;32m     14\u001b[0m \u001b[43m               \u001b[49m\u001b[43mmiller_index_buffer\u001b[49m\u001b[38;5;241;43m=\u001b[39;49m\u001b[43mmiller_index_buffer\u001b[49m\u001b[43m,\u001b[49m\n\u001b[1;32m     15\u001b[0m \u001b[43m               \u001b[49m\u001b[43mbox_radius\u001b[49m\u001b[38;5;241;43m=\u001b[39;49m\u001b[43mbox_radius\u001b[49m\u001b[43m,\u001b[49m\n\u001b[1;32m     16\u001b[0m \u001b[43m               \u001b[49m\u001b[43mmin_lattice_size\u001b[49m\u001b[38;5;241;43m=\u001b[39;49m\u001b[43mmin_lattice_size\u001b[49m\u001b[43m,\u001b[49m\n\u001b[1;32m     17\u001b[0m \u001b[43m               \u001b[49m\u001b[43mmask_hotpixels\u001b[49m\u001b[43m \u001b[49m\u001b[38;5;241;43m=\u001b[39;49m\u001b[43m \u001b[49m\u001b[43mmask_hotpixels\u001b[49m\u001b[43m,\u001b[49m\n\u001b[1;32m     18\u001b[0m \u001b[43m               \u001b[49m\u001b[43mmask_radius\u001b[49m\u001b[38;5;241;43m=\u001b[39;49m\u001b[43mmask_radius\u001b[49m\u001b[43m,\u001b[49m\n\u001b[1;32m     19\u001b[0m \u001b[43m               \u001b[49m\u001b[43mreplace_distance_percent\u001b[49m\u001b[38;5;241;43m=\u001b[39;49m\u001b[43mreplace_distance_percent\u001b[49m\u001b[43m,\u001b[49m\n\u001b[1;32m     20\u001b[0m \u001b[43m               \u001b[49m\u001b[43mreturn_spots\u001b[49m\u001b[38;5;241;43m=\u001b[39;49m\u001b[43mreturn_spots\u001b[49m\u001b[43m,\u001b[49m\n\u001b[1;32m     21\u001b[0m \u001b[43m               \u001b[49m\u001b[43mreturn_stats\u001b[49m\u001b[38;5;241;43m=\u001b[39;49m\u001b[43mreturn_stats\u001b[49m\u001b[43m)\u001b[49m\n",
      "\u001b[0;31mTypeError\u001b[0m: mask_movie() missing 1 required positional argument: 'pixel_size'"
     ]
    }
   ],
   "source": [
    "sax.mask_movie(movie_filename,\n",
    "               movie_filename_out,\n",
    "               micrograph_filename\n",
    "               micrograph_filename_out,\n",
    "               threshold_method,\n",
    "               pixel_size=pixel_size,\n",
    "               verbose=verbose,\n",
    "               show_plots=show_plots,\n",
    "               threads=threads,\n",
    "               sigma=sigma,\n",
    "               num_sd=num_sd,\n",
    "               num_sd_secondpass=num_sd_secondpass,\n",
    "               x_window_percent=x_window_percent,\n",
    "               y_window_percent=y_window_percent,\n",
    "               miller_index_buffer=miller_index_buffer,\n",
    "               box_radius=box_radius,\n",
    "               min_lattice_size=min_lattice_size,\n",
    "               mask_hotpixels = mask_hotpixels,\n",
    "               mask_radius=mask_radius,\n",
    "               replace_distance_percent=replace_distance_percent,\n",
    "               return_spots=return_spots,\n",
    "               return_stats=return_stats)"
   ]
  }
 ],
 "metadata": {
  "kernelspec": {
   "display_name": "Python 3 (ipykernel)",
   "language": "python",
   "name": "python3"
  },
  "language_info": {
   "codemirror_mode": {
    "name": "ipython",
    "version": 3
   },
   "file_extension": ".py",
   "mimetype": "text/x-python",
   "name": "python",
   "nbconvert_exporter": "python",
   "pygments_lexer": "ipython3",
   "version": "3.10.8"
  }
 },
 "nbformat": 4,
 "nbformat_minor": 5
}
