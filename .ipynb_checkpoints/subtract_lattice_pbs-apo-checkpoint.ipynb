{
 "cells": [
  {
   "cell_type": "code",
   "execution_count": 1,
   "id": "832af1aa",
   "metadata": {},
   "outputs": [],
   "source": [
    "from tqdm import tqdm\n",
    "#from saxtal_functions import *\n",
    "import os"
   ]
  },
  {
   "cell_type": "code",
   "execution_count": 2,
   "id": "9bcbf6d6",
   "metadata": {},
   "outputs": [],
   "source": [
    "from funcs_mrcio import iwrhdr_opened, irdhdr_opened, iwrsec_opened, irdpas_opened\n",
    "from funcs_mrcio import irdsec_opened\n",
    "import matplotlib.pyplot as plt\n",
    "import numpy as np\n",
    "import scipy.fft as sfft\n",
    "import time\n",
    "from skimage.filters import gaussian\n",
    "from skimage.exposure import rescale_intensity\n",
    "\n",
    "def import_mrc(filename):\n",
    "    \"\"\"Use funcs_mrcio to open a specified .mrc file\"\"\"\n",
    "    # Read the .mrc file in binary\n",
    "    micrograph = open(filename,'rb')\n",
    "    \n",
    "    # Use funcs_mrcio to extract image array and rescale values to lie between [-1, 1]\n",
    "    image = rescale_intensity(irdsec_opened(micrograph,0))\n",
    "    \n",
    "    # Use funcs_mrcio to extract header info\n",
    "    header = irdhdr_opened(micrograph)\n",
    "    \n",
    "    # Return the rescaled image and header\n",
    "    return image, header\n",
    "\n",
    "\n",
    "def pad_image(image, header):\n",
    "    \"\"\"Take image and header from import_mrc() and pad image to make array square\"\"\"\n",
    "    # Find the maximum dimension of the image\n",
    "    max_dimension = np.maximum(header['nx'], header['ny'])\n",
    "    \n",
    "    # Make an array of the median pixel value of the image array with maximum dimensions\n",
    "    padded_image = np.full(shape=(max_dimension, max_dimension),\n",
    "                           fill_value=np.median(image))\n",
    "    \n",
    "    # Transplant image values into padded array\n",
    "    padded_image[0:header['nx'],0:header['ny']] = image\n",
    "    \n",
    "    # Return padded image and header\n",
    "    return padded_image#, header\n",
    "\n",
    "def scipy_fft(padded_image, print_timestamps=False):\n",
    "    \"\"\"Take padded image from pad_image() and return the FFT\"\"\"\n",
    "    \n",
    "    # Record the time it takes to do the FFT\n",
    "    # for later comparison with multi-threaded FFTW\n",
    "    \n",
    "    # Start the timer\n",
    "    start_time = time.time()\n",
    "    \n",
    "    # Perform the FFT\n",
    "    padded_fft = sfft.rfft2(padded_image, norm=\"ortho\")\n",
    "    \n",
    "    # Stop the timer\n",
    "    end_time = time.time()\n",
    "    \n",
    "    if print_timestamps:\n",
    "        # Print the elapsed time to the nearest hundreth of a millisecond\n",
    "        print(\"scipy_fft(): FFT performed in\", np.round((end_time-start_time)*1000, 2), \"milliseconds.\")\n",
    "    \n",
    "    # Return FFT of padded image\n",
    "    return padded_fft\n",
    "\n",
    "def generate_diff_spectrum(padded_fft, sigma=1):\n",
    "    \"\"\"\n",
    "    Apply gaussian filter to power spectrum of FFT from scipy_fft() or west_fft() \n",
    "    to generate a difference spectrum\n",
    "    \"\"\"\n",
    "    \n",
    "    # Generate the power spectrum of padded FFT\n",
    "    padded_spectrum = np.abs(padded_fft)\n",
    "    \n",
    "    # Smooth the power spectrum with Gaussian filter\n",
    "    smoothed_spectrum = gaussian(padded_spectrum, sigma)\n",
    "    \n",
    "    # Return the difference spectrum\n",
    "    diff_spectrum = padded_spectrum - smoothed_spectrum\n",
    "    \n",
    "    return diff_spectrum, smoothed_spectrum\n",
    "\n",
    "def find_diffraction_spots(diff_spectrum, quantile=0.99, x_window_percent = (0, 1), y_window_percent = (0, 1)):\n",
    "    \"\"\"\n",
    "    Take a difference spectrum and find outliers greater than a given quantile,\n",
    "    taking a user-defined window of the FFT.\n",
    "    \"\"\"\n",
    "    \n",
    "    # Define minimum and maximum indices of the window\n",
    "    \n",
    "    y_min = int(diff_spectrum.shape[0]*y_window_percent[0])\n",
    "    y_max = int(diff_spectrum.shape[0]*y_window_percent[1])\n",
    "    x_min = int(diff_spectrum.shape[1]*x_window_percent[0])\n",
    "    x_max = int(diff_spectrum.shape[1]*x_window_percent[1])\n",
    "\n",
    "    # Calculate the threshold on a subset of the spectrum\n",
    "    quantile_threshold = np.quantile(diff_spectrum[y_min:y_max, x_min:x_max].flatten(), \n",
    "                                     quantile)\n",
    "    \n",
    "    # Print the theshold for debugging\n",
    "    # print(quantile_threshold)\n",
    "    \n",
    "    # Find the indices of points where the value is greater than the threshold\n",
    "    diffraction_spots = np.transpose(np.where(diff_spectrum >= quantile_threshold))\n",
    "    \n",
    "    # Discard the points that fall outside the window\n",
    "    diffraction_spots_yfilt = np.logical_and(diffraction_spots[:,0] >= y_min, diffraction_spots[:,0] <= y_max)\n",
    "    diffraction_spots_xfilt = np.logical_and(diffraction_spots[:,1] >= x_min, diffraction_spots[:,1] <= x_max)\n",
    "    diffraction_spots_filt = np.array([diffraction_spots_yfilt, diffraction_spots_xfilt]).min(axis=0)\n",
    "    \n",
    "    # Subset the rows of diffraction_spots that fall within the window\n",
    "    \n",
    "    diffraction_spots = diffraction_spots[diffraction_spots_filt,:]\n",
    "\n",
    "    return diffraction_spots\n",
    "\n",
    "def replace_diffraction_spots(padded_fft, diffraction_spots, replace_distance_percent = 0.05):\n",
    "    \"\"\"\n",
    "    Take FFT from scipy_fft() or west_fft() and replace diffraction spots according to indices from find_diffraction_spots.\n",
    "    replace_distance_percent: fraction of x-dimension to move along the diagonal when finding new amplitude.\n",
    "    \"\"\"\n",
    "    # Generate a masked fft\n",
    "    masked_fft = np.copy(padded_fft)\n",
    "    \n",
    "    # Generate a vector of random phases with the same length as number of diffraction_spots\n",
    "    phases = np.random.uniform(low = 0.0,\n",
    "                               high = 2*np.pi,\n",
    "                               size = diffraction_spots.shape[0])\n",
    "    phase_count = 0\n",
    "    \n",
    "    # Figure out the movement distances horizontally and vertically\n",
    "    replace_distance = int((np.min(padded_fft.shape)*replace_distance_percent)/np.sqrt(2))\n",
    "    \n",
    "    # Loop through axis-0, axis-1 coordinates\n",
    "    for indices in diffraction_spots:\n",
    "        # If we're in the top quadrant\n",
    "        if indices[0] < int(padded_fft.shape[0]/2):\n",
    "            # Construct the complex number by moving down and right\n",
    "            real = np.real(masked_fft[indices[0]+replace_distance, indices[1]+replace_distance])\n",
    "            imaginary = phases[phase_count]\n",
    "            replacement = real + np.imag(imaginary)\n",
    "            # Replace\n",
    "            masked_fft[indices[0], indices[1]] = replacement\n",
    "        # If we're in the bottom quadrant\n",
    "        else:\n",
    "            # Construct the complex number by moving up and right\n",
    "            real = np.real(masked_fft[indices[0]-replace_distance, indices[1]+replace_distance])\n",
    "            imaginary = phases[phase_count]\n",
    "            replacement = real + np.imag(imaginary)\n",
    "            # Replace\n",
    "            masked_fft[indices[0], indices[1]] = replacement\n",
    "        # Increment the phase count\n",
    "        phase_count =+ 1\n",
    "    \n",
    "    return masked_fft\n",
    "\n",
    "def scipy_inverse_fft(masked_fft, print_timestamps=False):\n",
    "    \"\"\"Take masked FFT from replace_diffraction_spots and return the padded image array\"\"\"\n",
    "    \n",
    "    # Record the time it takes to do the FFT\n",
    "    # for later comparison with multi-threaded FFTW\n",
    "    \n",
    "    # Start the timer\n",
    "    start_time = time.time()\n",
    "    \n",
    "    # Perform the FFT\n",
    "    padded_masked_image = sfft.irfft2(masked_fft, norm=\"ortho\")\n",
    "    \n",
    "    # Stop the timer\n",
    "    end_time = time.time()\n",
    "    \n",
    "    if print_timestamps:\n",
    "        # Print the elapsed time to the nearest hundreth of a millisecond\n",
    "        print(\"scipy_ifft(): FFT performed in\", np.round((end_time-start_time)*1000, 2), \"milliseconds.\")\n",
    "    \n",
    "    # Return FFT of padded image\n",
    "    return padded_masked_image\n",
    "\n",
    "def unpad_image(padded_masked_image, original_shape):\n",
    "    \"\"\"\n",
    "    Take padded masked image from scipy_inverse_fft() or west_inverse_fft() \n",
    "    and original image shape and return unpadded image\n",
    "    \"\"\"\n",
    "    return padded_masked_image[0:original_shape[0], 0:original_shape[1]]\n",
    "\n",
    "def export_masked_mrc(masked_image, filename):\n",
    "    \"\"\"Take unpadded masked image from unpad_image() and write out a new header\"\"\"\n",
    "    \n",
    "    # Generate a new filename\n",
    "    new_filename = \"masked_output/\" + filename[0:-4] + \"_masked.mrc\"\n",
    "    \n",
    "    # Generate a new header\n",
    "    nx, ny = masked_image.shape\n",
    "    nxyz = np.array([nx, ny, 1], dtype=np.float32)\n",
    "    dmin = np.min(masked_image)\n",
    "    dmax = np.max(masked_image)\n",
    "    dmean = np.sum(masked_image)/(nx*ny)\n",
    "    \n",
    "    # Open a new file\n",
    "    masked_mrc = open(new_filename, 'wb')\n",
    "    \n",
    "    # Write the header to the new file\n",
    "    iwrhdr_opened(masked_mrc, \n",
    "                  nxyz, \n",
    "                  dmin, \n",
    "                  dmax, \n",
    "                  dmean, \n",
    "                  mode=2)\n",
    "    \n",
    "    # Write the rebinned array to the new file\n",
    "    iwrsec_opened(masked_image, masked_mrc)\n",
    "  \n",
    "def mask_image(filename, \n",
    "               print_timestamps=False, \n",
    "               sigma=1,\n",
    "               quantile=0.99,\n",
    "               x_window_percent=(0, 1),\n",
    "               y_window_percent=(0, 1),\n",
    "               replace_distance_percent=0.05):\n",
    "    \"\"\"\n",
    "    Take the filename of a micrograph in the .mrc format and subtract the streptavidin crystal lattice.\n",
    "    print_timestamps: Boolean, whether to print how long it takes to perform the FFT and iFFT.\n",
    "    sigma: Int. The SD of the Gaussian filter applied.\n",
    "    quantile: Float. The quantile above which points will be designated diffraction spots to be masked.\n",
    "    x_window_percent: Tuple. The upper and lower bounds of the x-dimension window in which to mask points (axis 1).\n",
    "    x_window_percent: Tuple. The upper and lower bounds of the y-dimension window in which to mask points (axis 0).\n",
    "    replace_distance_percent: Float. The fraction of the lesser dimension of the FFT to use as a radial distance \n",
    "    to find replacement point values.\n",
    "    \"\"\"\n",
    "    \n",
    "    image, header = import_mrc(filename)\n",
    "    padded_image = pad_image(image, header)\n",
    "    padded_fft = scipy_fft(padded_image, print_timestamps)\n",
    "    diff_spectrum, smoothed_spectrum = generate_diff_spectrum(padded_fft, sigma)\n",
    "    diffraction_spots = find_diffraction_spots(diff_spectrum, quantile, x_window_percent, y_window_percent)\n",
    "    masked_fft = replace_diffraction_spots(padded_fft, diffraction_spots, replace_distance_percent)\n",
    "    padded_masked_image = scipy_inverse_fft(masked_fft, print_timestamps)\n",
    "    masked_image = unpad_image(padded_masked_image, image.shape)\n",
    "    export_masked_mrc(masked_image, filename)\n",
    "    \n",
    "    print(filename + \" masked successfully!\")"
   ]
  },
  {
   "cell_type": "code",
   "execution_count": 3,
   "id": "c84e1c49",
   "metadata": {},
   "outputs": [
    {
     "name": "stderr",
     "output_type": "stream",
     "text": [
      "  0%|                                          | 1/1020 [00:02<34:01,  2.00s/it]"
     ]
    },
    {
     "name": "stdout",
     "output_type": "stream",
     "text": [
      "012986079894069664275_SFO2_105_0021_patch_aligned_doseweighted_bin_2.mrc masked successfully!\n"
     ]
    },
    {
     "name": "stderr",
     "output_type": "stream",
     "text": [
      "\r",
      "  0%|                                          | 2/1020 [00:04<34:24,  2.03s/it]"
     ]
    },
    {
     "name": "stdout",
     "output_type": "stream",
     "text": [
      "015039974327411268865_SFO2_120_0022_patch_aligned_doseweighted_bin_2.mrc masked successfully!\n"
     ]
    },
    {
     "name": "stderr",
     "output_type": "stream",
     "text": [
      "\r",
      "  0%|                                          | 3/1020 [00:05<33:30,  1.98s/it]"
     ]
    },
    {
     "name": "stdout",
     "output_type": "stream",
     "text": [
      "002485085417307594896_SFO2_113_0008_patch_aligned_doseweighted_bin_2.mrc masked successfully!\n"
     ]
    },
    {
     "name": "stderr",
     "output_type": "stream",
     "text": [
      "\r",
      "  0%|▏                                         | 4/1020 [00:07<33:13,  1.96s/it]"
     ]
    },
    {
     "name": "stdout",
     "output_type": "stream",
     "text": [
      "010912060779782863055_SFO2_120_0013_patch_aligned_doseweighted_bin_2.mrc masked successfully!\n"
     ]
    },
    {
     "name": "stderr",
     "output_type": "stream",
     "text": [
      "\r",
      "  0%|▏                                         | 5/1020 [00:09<32:43,  1.93s/it]"
     ]
    },
    {
     "name": "stdout",
     "output_type": "stream",
     "text": [
      "016799861784575910037_SFO2_108_0006_patch_aligned_doseweighted_bin_2.mrc masked successfully!\n"
     ]
    },
    {
     "name": "stderr",
     "output_type": "stream",
     "text": [
      "\r",
      "  1%|▏                                         | 6/1020 [00:11<32:34,  1.93s/it]"
     ]
    },
    {
     "name": "stdout",
     "output_type": "stream",
     "text": [
      "016939178745789300998_SFO2_124_0034_patch_aligned_doseweighted_bin_2.mrc masked successfully!\n"
     ]
    },
    {
     "name": "stderr",
     "output_type": "stream",
     "text": [
      "\r",
      "  1%|▎                                         | 7/1020 [00:13<32:36,  1.93s/it]"
     ]
    },
    {
     "name": "stdout",
     "output_type": "stream",
     "text": [
      "008141571297665661518_SFO2_125_0002_patch_aligned_doseweighted_bin_2.mrc masked successfully!\n"
     ]
    },
    {
     "name": "stderr",
     "output_type": "stream",
     "text": [
      "\r",
      "  1%|▎                                         | 8/1020 [00:15<32:40,  1.94s/it]"
     ]
    },
    {
     "name": "stdout",
     "output_type": "stream",
     "text": [
      "012970136872575091987_SFO2_123_0027_patch_aligned_doseweighted_bin_2.mrc masked successfully!\n"
     ]
    },
    {
     "name": "stderr",
     "output_type": "stream",
     "text": [
      "\r",
      "  1%|▎                                         | 9/1020 [00:17<33:02,  1.96s/it]"
     ]
    },
    {
     "name": "stdout",
     "output_type": "stream",
     "text": [
      "008804300314028541916_SFO2_102_0010_patch_aligned_doseweighted_bin_2.mrc masked successfully!\n"
     ]
    },
    {
     "name": "stderr",
     "output_type": "stream",
     "text": [
      "\r",
      "  1%|▍                                        | 10/1020 [00:19<33:17,  1.98s/it]"
     ]
    },
    {
     "name": "stdout",
     "output_type": "stream",
     "text": [
      "007133471166069399130_SFO2_115_0027_patch_aligned_doseweighted_bin_2.mrc masked successfully!\n"
     ]
    },
    {
     "name": "stderr",
     "output_type": "stream",
     "text": [
      "\r",
      "  1%|▍                                        | 11/1020 [00:21<33:24,  1.99s/it]"
     ]
    },
    {
     "name": "stdout",
     "output_type": "stream",
     "text": [
      "002433840778818667167_SFO2_121_0027_patch_aligned_doseweighted_bin_2.mrc masked successfully!\n"
     ]
    },
    {
     "name": "stderr",
     "output_type": "stream",
     "text": [
      "\r",
      "  1%|▍                                        | 12/1020 [00:23<33:13,  1.98s/it]"
     ]
    },
    {
     "name": "stdout",
     "output_type": "stream",
     "text": [
      "013364593627081289524_SFO2_101_0024_patch_aligned_doseweighted_bin_2.mrc masked successfully!\n"
     ]
    },
    {
     "name": "stderr",
     "output_type": "stream",
     "text": [
      "\r",
      "  1%|▌                                        | 13/1020 [00:25<33:10,  1.98s/it]"
     ]
    },
    {
     "name": "stdout",
     "output_type": "stream",
     "text": [
      "004516384102525334983_SFO2_126_0008_patch_aligned_doseweighted_bin_2.mrc masked successfully!\n"
     ]
    },
    {
     "name": "stderr",
     "output_type": "stream",
     "text": [
      "\r",
      "  1%|▌                                        | 14/1020 [00:27<33:25,  1.99s/it]"
     ]
    },
    {
     "name": "stdout",
     "output_type": "stream",
     "text": [
      "017577169497913354358_SFO2_101_0025_patch_aligned_doseweighted_bin_2.mrc masked successfully!\n"
     ]
    },
    {
     "name": "stderr",
     "output_type": "stream",
     "text": [
      "\r",
      "  1%|▌                                        | 15/1020 [00:29<33:20,  1.99s/it]"
     ]
    },
    {
     "name": "stdout",
     "output_type": "stream",
     "text": [
      "012150956970719654355_SFO2_102_0022_patch_aligned_doseweighted_bin_2.mrc masked successfully!\n"
     ]
    },
    {
     "name": "stderr",
     "output_type": "stream",
     "text": [
      "\r",
      "  2%|▋                                        | 16/1020 [00:31<32:55,  1.97s/it]"
     ]
    },
    {
     "name": "stdout",
     "output_type": "stream",
     "text": [
      "016666223315237934446_SFO2_119_0009_patch_aligned_doseweighted_bin_2.mrc masked successfully!\n"
     ]
    },
    {
     "name": "stderr",
     "output_type": "stream",
     "text": [
      "\r",
      "  2%|▋                                        | 17/1020 [00:33<32:59,  1.97s/it]"
     ]
    },
    {
     "name": "stdout",
     "output_type": "stream",
     "text": [
      "016898308537353882073_SFO2_122_0028_patch_aligned_doseweighted_bin_2.mrc masked successfully!\n"
     ]
    },
    {
     "name": "stderr",
     "output_type": "stream",
     "text": [
      "\r",
      "  2%|▋                                        | 18/1020 [00:35<32:33,  1.95s/it]"
     ]
    },
    {
     "name": "stdout",
     "output_type": "stream",
     "text": [
      "014033221354810027864_SFO2_120_0012_patch_aligned_doseweighted_bin_2.mrc masked successfully!\n"
     ]
    },
    {
     "name": "stderr",
     "output_type": "stream",
     "text": [
      "\r",
      "  2%|▊                                        | 19/1020 [00:37<32:43,  1.96s/it]"
     ]
    },
    {
     "name": "stdout",
     "output_type": "stream",
     "text": [
      "017657413819263712619_SFO2_128_0002_patch_aligned_doseweighted_bin_2.mrc masked successfully!\n"
     ]
    },
    {
     "name": "stderr",
     "output_type": "stream",
     "text": [
      "\r",
      "  2%|▊                                        | 20/1020 [00:39<32:51,  1.97s/it]"
     ]
    },
    {
     "name": "stdout",
     "output_type": "stream",
     "text": [
      "004932372508271290418_SFO2_128_0003_patch_aligned_doseweighted_bin_2.mrc masked successfully!\n"
     ]
    },
    {
     "name": "stderr",
     "output_type": "stream",
     "text": [
      "\r",
      "  2%|▊                                        | 21/1020 [00:41<32:43,  1.97s/it]"
     ]
    },
    {
     "name": "stdout",
     "output_type": "stream",
     "text": [
      "001932592041381487472_SFO2_117_0011_patch_aligned_doseweighted_bin_2.mrc masked successfully!\n"
     ]
    },
    {
     "name": "stderr",
     "output_type": "stream",
     "text": [
      "\r",
      "  2%|▉                                        | 22/1020 [00:43<32:35,  1.96s/it]"
     ]
    },
    {
     "name": "stdout",
     "output_type": "stream",
     "text": [
      "017829026486691401043_SFO2_107_0012_patch_aligned_doseweighted_bin_2.mrc masked successfully!\n"
     ]
    },
    {
     "name": "stderr",
     "output_type": "stream",
     "text": [
      "\r",
      "  2%|▉                                        | 23/1020 [00:45<32:14,  1.94s/it]"
     ]
    },
    {
     "name": "stdout",
     "output_type": "stream",
     "text": [
      "006775469922361224760_SFO2_117_0006_patch_aligned_doseweighted_bin_2.mrc masked successfully!\n"
     ]
    },
    {
     "name": "stderr",
     "output_type": "stream",
     "text": [
      "\r",
      "  2%|▉                                        | 24/1020 [00:47<32:14,  1.94s/it]"
     ]
    },
    {
     "name": "stdout",
     "output_type": "stream",
     "text": [
      "008782937792804129308_SFO2_122_0013_patch_aligned_doseweighted_bin_2.mrc masked successfully!\n"
     ]
    },
    {
     "name": "stderr",
     "output_type": "stream",
     "text": [
      "\r",
      "  2%|█                                        | 25/1020 [00:49<32:02,  1.93s/it]"
     ]
    },
    {
     "name": "stdout",
     "output_type": "stream",
     "text": [
      "016285805720340515400_SFO2_114_0028_patch_aligned_doseweighted_bin_2.mrc masked successfully!\n"
     ]
    },
    {
     "name": "stderr",
     "output_type": "stream",
     "text": [
      "\r",
      "  3%|█                                        | 26/1020 [00:50<32:04,  1.94s/it]"
     ]
    },
    {
     "name": "stdout",
     "output_type": "stream",
     "text": [
      "006509712851570866307_SFO2_121_0024_patch_aligned_doseweighted_bin_2.mrc masked successfully!\n"
     ]
    },
    {
     "name": "stderr",
     "output_type": "stream",
     "text": [
      "\r",
      "  3%|█                                        | 27/1020 [00:52<32:13,  1.95s/it]"
     ]
    },
    {
     "name": "stdout",
     "output_type": "stream",
     "text": [
      "013597038233097798046_SFO2_116_0002_patch_aligned_doseweighted_bin_2.mrc masked successfully!\n"
     ]
    },
    {
     "name": "stderr",
     "output_type": "stream",
     "text": [
      "\r",
      "  3%|█▏                                       | 28/1020 [00:54<32:31,  1.97s/it]"
     ]
    },
    {
     "name": "stdout",
     "output_type": "stream",
     "text": [
      "009185037196006039922_SFO2_103_0036_patch_aligned_doseweighted_bin_2.mrc masked successfully!\n"
     ]
    },
    {
     "name": "stderr",
     "output_type": "stream",
     "text": [
      "\r",
      "  3%|█▏                                       | 29/1020 [00:56<32:23,  1.96s/it]"
     ]
    },
    {
     "name": "stdout",
     "output_type": "stream",
     "text": [
      "017895268857209844656_SFO2_101_0018_patch_aligned_doseweighted_bin_2.mrc masked successfully!\n"
     ]
    },
    {
     "name": "stderr",
     "output_type": "stream",
     "text": [
      "\r",
      "  3%|█▏                                       | 30/1020 [00:58<32:19,  1.96s/it]"
     ]
    },
    {
     "name": "stdout",
     "output_type": "stream",
     "text": [
      "014566989107711548092_SFO2_112_0009_patch_aligned_doseweighted_bin_2.mrc masked successfully!\n"
     ]
    },
    {
     "name": "stderr",
     "output_type": "stream",
     "text": [
      "\r",
      "  3%|█▏                                       | 31/1020 [01:00<32:21,  1.96s/it]"
     ]
    },
    {
     "name": "stdout",
     "output_type": "stream",
     "text": [
      "014122764012531635795_SFO2_105_0027_patch_aligned_doseweighted_bin_2.mrc masked successfully!\n"
     ]
    },
    {
     "name": "stderr",
     "output_type": "stream",
     "text": [
      "\r",
      "  3%|█▎                                       | 32/1020 [01:02<32:01,  1.94s/it]"
     ]
    },
    {
     "name": "stdout",
     "output_type": "stream",
     "text": [
      "007934744599797742552_SFO2_118_0023_patch_aligned_doseweighted_bin_2.mrc masked successfully!\n"
     ]
    },
    {
     "name": "stderr",
     "output_type": "stream",
     "text": [
      "\r",
      "  3%|█▎                                       | 33/1020 [01:04<32:27,  1.97s/it]"
     ]
    },
    {
     "name": "stdout",
     "output_type": "stream",
     "text": [
      "009051839554061021830_SFO2_122_0008_patch_aligned_doseweighted_bin_2.mrc masked successfully!\n"
     ]
    },
    {
     "name": "stderr",
     "output_type": "stream",
     "text": [
      "\r",
      "  3%|█▎                                       | 34/1020 [01:06<32:29,  1.98s/it]"
     ]
    },
    {
     "name": "stdout",
     "output_type": "stream",
     "text": [
      "000333188940689429479_SFO2_120_0004_patch_aligned_doseweighted_bin_2.mrc masked successfully!\n"
     ]
    },
    {
     "name": "stderr",
     "output_type": "stream",
     "text": [
      "\r",
      "  3%|█▍                                       | 35/1020 [01:08<32:04,  1.95s/it]"
     ]
    },
    {
     "name": "stdout",
     "output_type": "stream",
     "text": [
      "009169295275673159350_SFO2_100_0011_patch_aligned_doseweighted_bin_2.mrc masked successfully!\n"
     ]
    },
    {
     "name": "stderr",
     "output_type": "stream",
     "text": [
      "\r",
      "  4%|█▍                                       | 36/1020 [01:10<32:10,  1.96s/it]"
     ]
    },
    {
     "name": "stdout",
     "output_type": "stream",
     "text": [
      "006246173411980476497_SFO2_101_0019_patch_aligned_doseweighted_bin_2.mrc masked successfully!\n"
     ]
    },
    {
     "name": "stderr",
     "output_type": "stream",
     "text": [
      "\r",
      "  4%|█▍                                       | 37/1020 [01:12<32:17,  1.97s/it]"
     ]
    },
    {
     "name": "stdout",
     "output_type": "stream",
     "text": [
      "012091300531808302076_SFO2_110_0032_patch_aligned_doseweighted_bin_2.mrc masked successfully!\n"
     ]
    },
    {
     "name": "stderr",
     "output_type": "stream",
     "text": [
      "\r",
      "  4%|█▌                                       | 38/1020 [01:14<32:18,  1.97s/it]"
     ]
    },
    {
     "name": "stdout",
     "output_type": "stream",
     "text": [
      "016252244928727090395_SFO2_104_0005_patch_aligned_doseweighted_bin_2.mrc masked successfully!\n"
     ]
    },
    {
     "name": "stderr",
     "output_type": "stream",
     "text": [
      "\r",
      "  4%|█▌                                       | 39/1020 [01:16<32:21,  1.98s/it]"
     ]
    },
    {
     "name": "stdout",
     "output_type": "stream",
     "text": [
      "012422732204766011231_SFO2_123_0002_patch_aligned_doseweighted_bin_2.mrc masked successfully!\n"
     ]
    },
    {
     "name": "stderr",
     "output_type": "stream",
     "text": [
      "\r",
      "  4%|█▌                                       | 40/1020 [01:18<32:00,  1.96s/it]"
     ]
    },
    {
     "name": "stdout",
     "output_type": "stream",
     "text": [
      "007616843087926399551_SFO2_104_0026_patch_aligned_doseweighted_bin_2.mrc masked successfully!\n"
     ]
    },
    {
     "name": "stderr",
     "output_type": "stream",
     "text": [
      "\r",
      "  4%|█▋                                       | 41/1020 [01:20<31:59,  1.96s/it]"
     ]
    },
    {
     "name": "stdout",
     "output_type": "stream",
     "text": [
      "006761422160655430178_SFO2_121_0014_patch_aligned_doseweighted_bin_2.mrc masked successfully!\n"
     ]
    },
    {
     "name": "stderr",
     "output_type": "stream",
     "text": [
      "\r",
      "  4%|█▋                                       | 42/1020 [01:22<31:51,  1.95s/it]"
     ]
    },
    {
     "name": "stdout",
     "output_type": "stream",
     "text": [
      "018138046463096275577_SFO2_117_0015_patch_aligned_doseweighted_bin_2.mrc masked successfully!\n"
     ]
    },
    {
     "name": "stderr",
     "output_type": "stream",
     "text": [
      "\r",
      "  4%|█▋                                       | 43/1020 [01:24<31:48,  1.95s/it]"
     ]
    },
    {
     "name": "stdout",
     "output_type": "stream",
     "text": [
      "000427691296803018705_SFO2_101_0022_patch_aligned_doseweighted_bin_2.mrc masked successfully!\n"
     ]
    },
    {
     "name": "stderr",
     "output_type": "stream",
     "text": [
      "\r",
      "  4%|█▊                                       | 44/1020 [01:26<31:48,  1.96s/it]"
     ]
    },
    {
     "name": "stdout",
     "output_type": "stream",
     "text": [
      "008626947068720669010_SFO2_103_0035_patch_aligned_doseweighted_bin_2.mrc masked successfully!\n"
     ]
    },
    {
     "name": "stderr",
     "output_type": "stream",
     "text": [
      "\r",
      "  4%|█▊                                       | 45/1020 [01:28<32:01,  1.97s/it]"
     ]
    },
    {
     "name": "stdout",
     "output_type": "stream",
     "text": [
      "014468586339100296071_SFO2_111_0018_patch_aligned_doseweighted_bin_2.mrc masked successfully!\n"
     ]
    },
    {
     "name": "stderr",
     "output_type": "stream",
     "text": [
      "\r",
      "  5%|█▊                                       | 46/1020 [01:30<32:04,  1.98s/it]"
     ]
    },
    {
     "name": "stdout",
     "output_type": "stream",
     "text": [
      "017281399682655903859_SFO2_108_0023_patch_aligned_doseweighted_bin_2.mrc masked successfully!\n"
     ]
    },
    {
     "name": "stderr",
     "output_type": "stream",
     "text": [
      "\r",
      "  5%|█▉                                       | 47/1020 [01:32<32:05,  1.98s/it]"
     ]
    },
    {
     "name": "stdout",
     "output_type": "stream",
     "text": [
      "007545812770672339358_SFO2_102_0001_patch_aligned_doseweighted_bin_2.mrc masked successfully!\n"
     ]
    },
    {
     "name": "stderr",
     "output_type": "stream",
     "text": [
      "\r",
      "  5%|█▉                                       | 48/1020 [01:34<32:01,  1.98s/it]"
     ]
    },
    {
     "name": "stdout",
     "output_type": "stream",
     "text": [
      "014056815565181400827_SFO2_103_0022_patch_aligned_doseweighted_bin_2.mrc masked successfully!\n"
     ]
    },
    {
     "name": "stderr",
     "output_type": "stream",
     "text": [
      "\r",
      "  5%|█▉                                       | 49/1020 [01:36<31:52,  1.97s/it]"
     ]
    },
    {
     "name": "stdout",
     "output_type": "stream",
     "text": [
      "001017528581170268817_SFO2_118_0008_patch_aligned_doseweighted_bin_2.mrc masked successfully!\n"
     ]
    },
    {
     "name": "stderr",
     "output_type": "stream",
     "text": [
      "\r",
      "  5%|██                                       | 50/1020 [01:38<31:51,  1.97s/it]"
     ]
    },
    {
     "name": "stdout",
     "output_type": "stream",
     "text": [
      "008311658259699408379_SFO2_117_0020_patch_aligned_doseweighted_bin_2.mrc masked successfully!\n"
     ]
    },
    {
     "name": "stderr",
     "output_type": "stream",
     "text": [
      "\r",
      "  5%|██                                       | 51/1020 [01:40<31:36,  1.96s/it]"
     ]
    },
    {
     "name": "stdout",
     "output_type": "stream",
     "text": [
      "002744843315847785623_SFO2_106_0031_patch_aligned_doseweighted_bin_2.mrc masked successfully!\n"
     ]
    },
    {
     "name": "stderr",
     "output_type": "stream",
     "text": [
      "\r",
      "  5%|██                                       | 52/1020 [01:42<31:24,  1.95s/it]"
     ]
    },
    {
     "name": "stdout",
     "output_type": "stream",
     "text": [
      "003450281031059259868_SFO2_121_0020_patch_aligned_doseweighted_bin_2.mrc masked successfully!\n"
     ]
    },
    {
     "name": "stderr",
     "output_type": "stream",
     "text": [
      "\r",
      "  5%|██▏                                      | 53/1020 [01:43<31:14,  1.94s/it]"
     ]
    },
    {
     "name": "stdout",
     "output_type": "stream",
     "text": [
      "017491684574530660610_SFO2_103_0024_patch_aligned_doseweighted_bin_2.mrc masked successfully!\n"
     ]
    },
    {
     "name": "stderr",
     "output_type": "stream",
     "text": [
      "\r",
      "  5%|██▏                                      | 54/1020 [01:45<31:16,  1.94s/it]"
     ]
    },
    {
     "name": "stdout",
     "output_type": "stream",
     "text": [
      "004515039424329849054_SFO2_112_0004_patch_aligned_doseweighted_bin_2.mrc masked successfully!\n"
     ]
    },
    {
     "name": "stderr",
     "output_type": "stream",
     "text": [
      "\r",
      "  5%|██▏                                      | 55/1020 [01:47<31:40,  1.97s/it]"
     ]
    },
    {
     "name": "stdout",
     "output_type": "stream",
     "text": [
      "009663375918243140261_SFO2_101_0006_patch_aligned_doseweighted_bin_2.mrc masked successfully!\n"
     ]
    },
    {
     "name": "stderr",
     "output_type": "stream",
     "text": [
      "\r",
      "  5%|██▎                                      | 56/1020 [01:49<31:31,  1.96s/it]"
     ]
    },
    {
     "name": "stdout",
     "output_type": "stream",
     "text": [
      "005359696092864307158_SFO2_115_0008_patch_aligned_doseweighted_bin_2.mrc masked successfully!\n"
     ]
    },
    {
     "name": "stderr",
     "output_type": "stream",
     "text": [
      "\r",
      "  6%|██▎                                      | 57/1020 [01:51<31:53,  1.99s/it]"
     ]
    },
    {
     "name": "stdout",
     "output_type": "stream",
     "text": [
      "002753481754682368212_SFO2_118_0015_patch_aligned_doseweighted_bin_2.mrc masked successfully!\n"
     ]
    },
    {
     "name": "stderr",
     "output_type": "stream",
     "text": [
      "\r",
      "  6%|██▎                                      | 58/1020 [01:54<32:24,  2.02s/it]"
     ]
    },
    {
     "name": "stdout",
     "output_type": "stream",
     "text": [
      "017434169855114272859_SFO2_111_0019_patch_aligned_doseweighted_bin_2.mrc masked successfully!\n"
     ]
    },
    {
     "name": "stderr",
     "output_type": "stream",
     "text": [
      "\r",
      "  6%|██▎                                      | 59/1020 [01:55<32:05,  2.00s/it]"
     ]
    },
    {
     "name": "stdout",
     "output_type": "stream",
     "text": [
      "005063761657671500153_SFO2_122_0002_patch_aligned_doseweighted_bin_2.mrc masked successfully!\n"
     ]
    },
    {
     "name": "stderr",
     "output_type": "stream",
     "text": [
      "\r",
      "  6%|██▍                                      | 60/1020 [01:57<32:01,  2.00s/it]"
     ]
    },
    {
     "name": "stdout",
     "output_type": "stream",
     "text": [
      "015966757394901293339_SFO2_101_0034_patch_aligned_doseweighted_bin_2.mrc masked successfully!\n"
     ]
    },
    {
     "name": "stderr",
     "output_type": "stream",
     "text": [
      "\r",
      "  6%|██▍                                      | 61/1020 [01:59<31:46,  1.99s/it]"
     ]
    },
    {
     "name": "stdout",
     "output_type": "stream",
     "text": [
      "016299218883297196263_SFO2_118_0036_patch_aligned_doseweighted_bin_2.mrc masked successfully!\n"
     ]
    },
    {
     "name": "stderr",
     "output_type": "stream",
     "text": [
      "\r",
      "  6%|██▍                                      | 62/1020 [02:01<31:57,  2.00s/it]"
     ]
    },
    {
     "name": "stdout",
     "output_type": "stream",
     "text": [
      "008295118778802610447_SFO2_116_0034_patch_aligned_doseweighted_bin_2.mrc masked successfully!\n"
     ]
    },
    {
     "name": "stderr",
     "output_type": "stream",
     "text": [
      "\r",
      "  6%|██▌                                      | 63/1020 [02:04<32:11,  2.02s/it]"
     ]
    },
    {
     "name": "stdout",
     "output_type": "stream",
     "text": [
      "010082502196174170817_SFO2_122_0006_patch_aligned_doseweighted_bin_2.mrc masked successfully!\n"
     ]
    },
    {
     "name": "stderr",
     "output_type": "stream",
     "text": [
      "\r",
      "  6%|██▌                                      | 64/1020 [02:06<32:21,  2.03s/it]"
     ]
    },
    {
     "name": "stdout",
     "output_type": "stream",
     "text": [
      "010065011068313355792_SFO2_115_0018_patch_aligned_doseweighted_bin_2.mrc masked successfully!\n"
     ]
    },
    {
     "name": "stderr",
     "output_type": "stream",
     "text": [
      "\r",
      "  6%|██▌                                      | 65/1020 [02:08<32:11,  2.02s/it]"
     ]
    },
    {
     "name": "stdout",
     "output_type": "stream",
     "text": [
      "002893597573411952529_SFO2_106_0005_patch_aligned_doseweighted_bin_2.mrc masked successfully!\n"
     ]
    },
    {
     "name": "stderr",
     "output_type": "stream",
     "text": [
      "\r",
      "  6%|██▋                                      | 66/1020 [02:10<32:13,  2.03s/it]"
     ]
    },
    {
     "name": "stdout",
     "output_type": "stream",
     "text": [
      "005395614915223315981_SFO2_100_0005_patch_aligned_doseweighted_bin_2.mrc masked successfully!\n"
     ]
    },
    {
     "name": "stderr",
     "output_type": "stream",
     "text": [
      "\r",
      "  7%|██▋                                      | 67/1020 [02:12<32:13,  2.03s/it]"
     ]
    },
    {
     "name": "stdout",
     "output_type": "stream",
     "text": [
      "002450929140183027641_SFO2_100_0027_patch_aligned_doseweighted_bin_2.mrc masked successfully!\n"
     ]
    },
    {
     "name": "stderr",
     "output_type": "stream",
     "text": [
      "\r",
      "  7%|██▋                                      | 68/1020 [02:14<32:26,  2.04s/it]"
     ]
    },
    {
     "name": "stdout",
     "output_type": "stream",
     "text": [
      "012702591508326504697_SFO2_125_0013_patch_aligned_doseweighted_bin_2.mrc masked successfully!\n"
     ]
    },
    {
     "name": "stderr",
     "output_type": "stream",
     "text": [
      "\r",
      "  7%|██▊                                      | 69/1020 [02:16<32:24,  2.04s/it]"
     ]
    },
    {
     "name": "stdout",
     "output_type": "stream",
     "text": [
      "014920895386734128114_SFO2_113_0030_patch_aligned_doseweighted_bin_2.mrc masked successfully!\n"
     ]
    },
    {
     "name": "stderr",
     "output_type": "stream",
     "text": [
      "\r",
      "  7%|██▊                                      | 70/1020 [02:18<32:10,  2.03s/it]"
     ]
    },
    {
     "name": "stdout",
     "output_type": "stream",
     "text": [
      "006069303373180390725_SFO2_100_0002_patch_aligned_doseweighted_bin_2.mrc masked successfully!\n"
     ]
    },
    {
     "name": "stderr",
     "output_type": "stream",
     "text": [
      "\r",
      "  7%|██▊                                      | 71/1020 [02:20<32:38,  2.06s/it]"
     ]
    },
    {
     "name": "stdout",
     "output_type": "stream",
     "text": [
      "009545993093743230864_SFO2_106_0022_patch_aligned_doseweighted_bin_2.mrc masked successfully!\n"
     ]
    },
    {
     "name": "stderr",
     "output_type": "stream",
     "text": [
      "\r",
      "  7%|██▉                                      | 72/1020 [02:22<32:26,  2.05s/it]"
     ]
    },
    {
     "name": "stdout",
     "output_type": "stream",
     "text": [
      "011350683983641496869_SFO2_103_0009_patch_aligned_doseweighted_bin_2.mrc masked successfully!\n"
     ]
    },
    {
     "name": "stderr",
     "output_type": "stream",
     "text": [
      "\r",
      "  7%|██▉                                      | 73/1020 [02:24<31:58,  2.03s/it]"
     ]
    },
    {
     "name": "stdout",
     "output_type": "stream",
     "text": [
      "013121908385947736269_SFO2_125_0033_patch_aligned_doseweighted_bin_2.mrc masked successfully!\n"
     ]
    },
    {
     "name": "stderr",
     "output_type": "stream",
     "text": [
      "\r",
      "  7%|██▉                                      | 74/1020 [02:26<32:02,  2.03s/it]"
     ]
    },
    {
     "name": "stdout",
     "output_type": "stream",
     "text": [
      "012217361096458654259_SFO2_102_0036_patch_aligned_doseweighted_bin_2.mrc masked successfully!\n"
     ]
    },
    {
     "name": "stderr",
     "output_type": "stream",
     "text": [
      "\r",
      "  7%|███                                      | 75/1020 [02:28<31:50,  2.02s/it]"
     ]
    },
    {
     "name": "stdout",
     "output_type": "stream",
     "text": [
      "009952631189451870153_SFO2_123_0015_patch_aligned_doseweighted_bin_2.mrc masked successfully!\n"
     ]
    },
    {
     "name": "stderr",
     "output_type": "stream",
     "text": [
      "\r",
      "  7%|███                                      | 76/1020 [02:30<31:54,  2.03s/it]"
     ]
    },
    {
     "name": "stdout",
     "output_type": "stream",
     "text": [
      "013406724034361008422_SFO2_113_0021_patch_aligned_doseweighted_bin_2.mrc masked successfully!\n"
     ]
    },
    {
     "name": "stderr",
     "output_type": "stream",
     "text": [
      "\r",
      "  8%|███                                      | 77/1020 [02:32<32:10,  2.05s/it]"
     ]
    },
    {
     "name": "stdout",
     "output_type": "stream",
     "text": [
      "009110575362081381146_SFO2_106_0026_patch_aligned_doseweighted_bin_2.mrc masked successfully!\n"
     ]
    },
    {
     "name": "stderr",
     "output_type": "stream",
     "text": [
      "\r",
      "  8%|███▏                                     | 78/1020 [02:34<32:07,  2.05s/it]"
     ]
    },
    {
     "name": "stdout",
     "output_type": "stream",
     "text": [
      "002973939958123754120_SFO2_104_0029_patch_aligned_doseweighted_bin_2.mrc masked successfully!\n"
     ]
    },
    {
     "name": "stderr",
     "output_type": "stream",
     "text": [
      "\r",
      "  8%|███▏                                     | 79/1020 [02:36<32:03,  2.04s/it]"
     ]
    },
    {
     "name": "stdout",
     "output_type": "stream",
     "text": [
      "012381530660558002012_SFO2_124_0017_patch_aligned_doseweighted_bin_2.mrc masked successfully!\n"
     ]
    },
    {
     "name": "stderr",
     "output_type": "stream",
     "text": [
      "\r",
      "  8%|███▏                                     | 80/1020 [02:38<31:54,  2.04s/it]"
     ]
    },
    {
     "name": "stdout",
     "output_type": "stream",
     "text": [
      "017217532141913294369_SFO2_118_0027_patch_aligned_doseweighted_bin_2.mrc masked successfully!\n"
     ]
    },
    {
     "name": "stderr",
     "output_type": "stream",
     "text": [
      "\r",
      "  8%|███▎                                     | 81/1020 [02:40<31:54,  2.04s/it]"
     ]
    },
    {
     "name": "stdout",
     "output_type": "stream",
     "text": [
      "016569487485041670171_SFO2_124_0008_patch_aligned_doseweighted_bin_2.mrc masked successfully!\n"
     ]
    },
    {
     "name": "stderr",
     "output_type": "stream",
     "text": [
      "\r",
      "  8%|███▎                                     | 82/1020 [02:42<31:54,  2.04s/it]"
     ]
    },
    {
     "name": "stdout",
     "output_type": "stream",
     "text": [
      "006404299022539464741_SFO2_108_0008_patch_aligned_doseweighted_bin_2.mrc masked successfully!\n"
     ]
    },
    {
     "name": "stderr",
     "output_type": "stream",
     "text": [
      "\r",
      "  8%|███▎                                     | 83/1020 [02:44<31:50,  2.04s/it]"
     ]
    },
    {
     "name": "stdout",
     "output_type": "stream",
     "text": [
      "004298778766851095925_SFO2_100_0008_patch_aligned_doseweighted_bin_2.mrc masked successfully!\n"
     ]
    },
    {
     "name": "stderr",
     "output_type": "stream",
     "text": [
      "\r",
      "  8%|███▍                                     | 84/1020 [02:46<32:01,  2.05s/it]"
     ]
    },
    {
     "name": "stdout",
     "output_type": "stream",
     "text": [
      "011248661297692155817_SFO2_120_0024_patch_aligned_doseweighted_bin_2.mrc masked successfully!\n"
     ]
    },
    {
     "name": "stderr",
     "output_type": "stream",
     "text": [
      "\r",
      "  8%|███▍                                     | 85/1020 [02:49<32:15,  2.07s/it]"
     ]
    },
    {
     "name": "stdout",
     "output_type": "stream",
     "text": [
      "016885251015237622729_SFO2_113_0028_patch_aligned_doseweighted_bin_2.mrc masked successfully!\n"
     ]
    },
    {
     "name": "stderr",
     "output_type": "stream",
     "text": [
      "\r",
      "  8%|███▍                                     | 86/1020 [02:51<32:10,  2.07s/it]"
     ]
    },
    {
     "name": "stdout",
     "output_type": "stream",
     "text": [
      "007409315205687415344_SFO2_120_0031_patch_aligned_doseweighted_bin_2.mrc masked successfully!\n"
     ]
    },
    {
     "name": "stderr",
     "output_type": "stream",
     "text": [
      "\r",
      "  9%|███▍                                     | 87/1020 [02:53<32:10,  2.07s/it]"
     ]
    },
    {
     "name": "stdout",
     "output_type": "stream",
     "text": [
      "008088609846806344543_SFO2_100_0025_patch_aligned_doseweighted_bin_2.mrc masked successfully!\n"
     ]
    },
    {
     "name": "stderr",
     "output_type": "stream",
     "text": [
      "\r",
      "  9%|███▌                                     | 88/1020 [02:55<31:50,  2.05s/it]"
     ]
    },
    {
     "name": "stdout",
     "output_type": "stream",
     "text": [
      "009762529803049792411_SFO2_118_0017_patch_aligned_doseweighted_bin_2.mrc masked successfully!\n"
     ]
    },
    {
     "name": "stderr",
     "output_type": "stream",
     "text": [
      "\r",
      "  9%|███▌                                     | 89/1020 [02:57<31:45,  2.05s/it]"
     ]
    },
    {
     "name": "stdout",
     "output_type": "stream",
     "text": [
      "004157696500588127741_SFO2_126_0007_patch_aligned_doseweighted_bin_2.mrc masked successfully!\n"
     ]
    },
    {
     "name": "stderr",
     "output_type": "stream",
     "text": [
      "\r",
      "  9%|███▌                                     | 90/1020 [02:59<31:32,  2.04s/it]"
     ]
    },
    {
     "name": "stdout",
     "output_type": "stream",
     "text": [
      "003922073047118075499_SFO2_125_0015_patch_aligned_doseweighted_bin_2.mrc masked successfully!\n"
     ]
    },
    {
     "name": "stderr",
     "output_type": "stream",
     "text": [
      "\r",
      "  9%|███▋                                     | 91/1020 [03:01<31:34,  2.04s/it]"
     ]
    },
    {
     "name": "stdout",
     "output_type": "stream",
     "text": [
      "006606167448549351213_SFO2_103_0023_patch_aligned_doseweighted_bin_2.mrc masked successfully!\n"
     ]
    },
    {
     "name": "stderr",
     "output_type": "stream",
     "text": [
      "\r",
      "  9%|███▋                                     | 92/1020 [03:03<31:12,  2.02s/it]"
     ]
    },
    {
     "name": "stdout",
     "output_type": "stream",
     "text": [
      "016604268650783274252_SFO2_114_0023_patch_aligned_doseweighted_bin_2.mrc masked successfully!\n"
     ]
    },
    {
     "name": "stderr",
     "output_type": "stream",
     "text": [
      "\r",
      "  9%|███▋                                     | 93/1020 [03:05<30:54,  2.00s/it]"
     ]
    },
    {
     "name": "stdout",
     "output_type": "stream",
     "text": [
      "009696990731831995162_SFO2_102_0018_patch_aligned_doseweighted_bin_2.mrc masked successfully!\n"
     ]
    },
    {
     "name": "stderr",
     "output_type": "stream",
     "text": [
      "\r",
      "  9%|███▊                                     | 94/1020 [03:07<30:37,  1.98s/it]"
     ]
    },
    {
     "name": "stdout",
     "output_type": "stream",
     "text": [
      "014212130679808221229_SFO2_115_0004_patch_aligned_doseweighted_bin_2.mrc masked successfully!\n"
     ]
    },
    {
     "name": "stderr",
     "output_type": "stream",
     "text": [
      "\r",
      "  9%|███▊                                     | 95/1020 [03:09<30:31,  1.98s/it]"
     ]
    },
    {
     "name": "stdout",
     "output_type": "stream",
     "text": [
      "003234922479775150197_SFO2_124_0026_patch_aligned_doseweighted_bin_2.mrc masked successfully!\n"
     ]
    },
    {
     "name": "stderr",
     "output_type": "stream",
     "text": [
      "\r",
      "  9%|███▊                                     | 96/1020 [03:11<30:40,  1.99s/it]"
     ]
    },
    {
     "name": "stdout",
     "output_type": "stream",
     "text": [
      "007012728354736882360_SFO2_109_0026_patch_aligned_doseweighted_bin_2.mrc masked successfully!\n"
     ]
    },
    {
     "name": "stderr",
     "output_type": "stream",
     "text": [
      "\r",
      " 10%|███▉                                     | 97/1020 [03:13<30:53,  2.01s/it]"
     ]
    },
    {
     "name": "stdout",
     "output_type": "stream",
     "text": [
      "016059421611843874493_SFO2_118_0021_patch_aligned_doseweighted_bin_2.mrc masked successfully!\n"
     ]
    },
    {
     "name": "stderr",
     "output_type": "stream",
     "text": [
      "\r",
      " 10%|███▉                                     | 98/1020 [03:15<31:10,  2.03s/it]"
     ]
    },
    {
     "name": "stdout",
     "output_type": "stream",
     "text": [
      "003745980492359371957_SFO2_123_0011_patch_aligned_doseweighted_bin_2.mrc masked successfully!\n"
     ]
    },
    {
     "name": "stderr",
     "output_type": "stream",
     "text": [
      "\r",
      " 10%|███▉                                     | 99/1020 [03:17<30:59,  2.02s/it]"
     ]
    },
    {
     "name": "stdout",
     "output_type": "stream",
     "text": [
      "018106647903676822553_SFO2_116_0013_patch_aligned_doseweighted_bin_2.mrc masked successfully!\n"
     ]
    },
    {
     "name": "stderr",
     "output_type": "stream",
     "text": [
      "\r",
      " 10%|███▉                                    | 100/1020 [03:19<31:08,  2.03s/it]"
     ]
    },
    {
     "name": "stdout",
     "output_type": "stream",
     "text": [
      "009002363196954906256_SFO2_122_0004_patch_aligned_doseweighted_bin_2.mrc masked successfully!\n"
     ]
    },
    {
     "name": "stderr",
     "output_type": "stream",
     "text": [
      "\r",
      " 10%|███▉                                    | 101/1020 [03:21<31:06,  2.03s/it]"
     ]
    },
    {
     "name": "stdout",
     "output_type": "stream",
     "text": [
      "004740490735576072250_SFO2_104_0030_patch_aligned_doseweighted_bin_2.mrc masked successfully!\n"
     ]
    },
    {
     "name": "stderr",
     "output_type": "stream",
     "text": [
      "\r",
      " 10%|████                                    | 102/1020 [03:23<30:51,  2.02s/it]"
     ]
    },
    {
     "name": "stdout",
     "output_type": "stream",
     "text": [
      "002970274335388559554_SFO2_126_0036_patch_aligned_doseweighted_bin_2.mrc masked successfully!\n"
     ]
    },
    {
     "name": "stderr",
     "output_type": "stream",
     "text": [
      "\r",
      " 10%|████                                    | 103/1020 [03:25<30:59,  2.03s/it]"
     ]
    },
    {
     "name": "stdout",
     "output_type": "stream",
     "text": [
      "003080904138244860326_SFO2_124_0021_patch_aligned_doseweighted_bin_2.mrc masked successfully!\n"
     ]
    },
    {
     "name": "stderr",
     "output_type": "stream",
     "text": [
      "\r",
      " 10%|████                                    | 104/1020 [03:27<30:53,  2.02s/it]"
     ]
    },
    {
     "name": "stdout",
     "output_type": "stream",
     "text": [
      "004328194900809534818_SFO2_120_0028_patch_aligned_doseweighted_bin_2.mrc masked successfully!\n"
     ]
    },
    {
     "name": "stderr",
     "output_type": "stream",
     "text": [
      "\r",
      " 10%|████                                    | 105/1020 [03:29<30:31,  2.00s/it]"
     ]
    },
    {
     "name": "stdout",
     "output_type": "stream",
     "text": [
      "013005782669292855561_SFO2_120_0027_patch_aligned_doseweighted_bin_2.mrc masked successfully!\n"
     ]
    },
    {
     "name": "stderr",
     "output_type": "stream",
     "text": [
      "\r",
      " 10%|████▏                                   | 106/1020 [03:31<30:42,  2.02s/it]"
     ]
    },
    {
     "name": "stdout",
     "output_type": "stream",
     "text": [
      "002006754888139981923_SFO2_104_0012_patch_aligned_doseweighted_bin_2.mrc masked successfully!\n"
     ]
    },
    {
     "name": "stderr",
     "output_type": "stream",
     "text": [
      "\r",
      " 10%|████▏                                   | 107/1020 [03:33<30:34,  2.01s/it]"
     ]
    },
    {
     "name": "stdout",
     "output_type": "stream",
     "text": [
      "006599348665262653932_SFO2_118_0009_patch_aligned_doseweighted_bin_2.mrc masked successfully!\n"
     ]
    },
    {
     "name": "stderr",
     "output_type": "stream",
     "text": [
      "\r",
      " 11%|████▏                                   | 108/1020 [03:35<30:33,  2.01s/it]"
     ]
    },
    {
     "name": "stdout",
     "output_type": "stream",
     "text": [
      "012666230456888415887_SFO2_100_0009_patch_aligned_doseweighted_bin_2.mrc masked successfully!\n"
     ]
    },
    {
     "name": "stderr",
     "output_type": "stream",
     "text": [
      "\r",
      " 11%|████▎                                   | 109/1020 [03:37<30:31,  2.01s/it]"
     ]
    },
    {
     "name": "stdout",
     "output_type": "stream",
     "text": [
      "014383810046728752790_SFO2_120_0005_patch_aligned_doseweighted_bin_2.mrc masked successfully!\n"
     ]
    },
    {
     "name": "stderr",
     "output_type": "stream",
     "text": [
      "\r",
      " 11%|████▎                                   | 110/1020 [03:39<30:43,  2.03s/it]"
     ]
    },
    {
     "name": "stdout",
     "output_type": "stream",
     "text": [
      "002155856310115888398_SFO2_116_0009_patch_aligned_doseweighted_bin_2.mrc masked successfully!\n"
     ]
    },
    {
     "name": "stderr",
     "output_type": "stream",
     "text": [
      "\r",
      " 11%|████▎                                   | 111/1020 [03:41<30:39,  2.02s/it]"
     ]
    },
    {
     "name": "stdout",
     "output_type": "stream",
     "text": [
      "002839952749114872275_SFO2_117_0023_patch_aligned_doseweighted_bin_2.mrc masked successfully!\n"
     ]
    },
    {
     "name": "stderr",
     "output_type": "stream",
     "text": [
      "\r",
      " 11%|████▍                                   | 112/1020 [03:43<30:30,  2.02s/it]"
     ]
    },
    {
     "name": "stdout",
     "output_type": "stream",
     "text": [
      "005995278976159198407_SFO2_112_0001_patch_aligned_doseweighted_bin_2.mrc masked successfully!\n"
     ]
    },
    {
     "name": "stderr",
     "output_type": "stream",
     "text": [
      "\r",
      " 11%|████▍                                   | 113/1020 [03:45<30:07,  1.99s/it]"
     ]
    },
    {
     "name": "stdout",
     "output_type": "stream",
     "text": [
      "010667621350966628481_SFO2_123_0006_patch_aligned_doseweighted_bin_2.mrc masked successfully!\n"
     ]
    },
    {
     "name": "stderr",
     "output_type": "stream",
     "text": [
      "\r",
      " 11%|████▍                                   | 114/1020 [03:47<30:17,  2.01s/it]"
     ]
    },
    {
     "name": "stdout",
     "output_type": "stream",
     "text": [
      "007256614668790865128_SFO2_126_0010_patch_aligned_doseweighted_bin_2.mrc masked successfully!\n"
     ]
    },
    {
     "name": "stderr",
     "output_type": "stream",
     "text": [
      "\r",
      " 11%|████▌                                   | 115/1020 [03:49<30:16,  2.01s/it]"
     ]
    },
    {
     "name": "stdout",
     "output_type": "stream",
     "text": [
      "008919656659022986685_SFO2_112_0032_patch_aligned_doseweighted_bin_2.mrc masked successfully!\n"
     ]
    },
    {
     "name": "stderr",
     "output_type": "stream",
     "text": [
      "\r",
      " 11%|████▌                                   | 116/1020 [03:51<29:54,  1.98s/it]"
     ]
    },
    {
     "name": "stdout",
     "output_type": "stream",
     "text": [
      "004707041580558801852_SFO2_119_0004_patch_aligned_doseweighted_bin_2.mrc masked successfully!\n"
     ]
    },
    {
     "name": "stderr",
     "output_type": "stream",
     "text": [
      "\r",
      " 11%|████▌                                   | 117/1020 [03:53<29:55,  1.99s/it]"
     ]
    },
    {
     "name": "stdout",
     "output_type": "stream",
     "text": [
      "007766795385660884332_SFO2_125_0034_patch_aligned_doseweighted_bin_2.mrc masked successfully!\n"
     ]
    },
    {
     "name": "stderr",
     "output_type": "stream",
     "text": [
      "\r",
      " 12%|████▋                                   | 118/1020 [03:55<29:45,  1.98s/it]"
     ]
    },
    {
     "name": "stdout",
     "output_type": "stream",
     "text": [
      "002711650512122306012_SFO2_106_0009_patch_aligned_doseweighted_bin_2.mrc masked successfully!\n"
     ]
    },
    {
     "name": "stderr",
     "output_type": "stream",
     "text": [
      "\r",
      " 12%|████▋                                   | 119/1020 [03:57<30:13,  2.01s/it]"
     ]
    },
    {
     "name": "stdout",
     "output_type": "stream",
     "text": [
      "009836595459966532354_SFO2_119_0029_patch_aligned_doseweighted_bin_2.mrc masked successfully!\n"
     ]
    },
    {
     "name": "stderr",
     "output_type": "stream",
     "text": [
      "\r",
      " 12%|████▋                                   | 120/1020 [03:59<30:00,  2.00s/it]"
     ]
    },
    {
     "name": "stdout",
     "output_type": "stream",
     "text": [
      "009838426205763758689_SFO2_114_0018_patch_aligned_doseweighted_bin_2.mrc masked successfully!\n"
     ]
    },
    {
     "name": "stderr",
     "output_type": "stream",
     "text": [
      "\r",
      " 12%|████▋                                   | 121/1020 [04:01<30:05,  2.01s/it]"
     ]
    },
    {
     "name": "stdout",
     "output_type": "stream",
     "text": [
      "005599250081426815328_SFO2_123_0032_patch_aligned_doseweighted_bin_2.mrc masked successfully!\n"
     ]
    },
    {
     "name": "stderr",
     "output_type": "stream",
     "text": [
      "\r",
      " 12%|████▊                                   | 122/1020 [04:03<30:17,  2.02s/it]"
     ]
    },
    {
     "name": "stdout",
     "output_type": "stream",
     "text": [
      "011359378233558919126_SFO2_109_0014_patch_aligned_doseweighted_bin_2.mrc masked successfully!\n"
     ]
    },
    {
     "name": "stderr",
     "output_type": "stream",
     "text": [
      "\r",
      " 12%|████▊                                   | 123/1020 [04:05<30:13,  2.02s/it]"
     ]
    },
    {
     "name": "stdout",
     "output_type": "stream",
     "text": [
      "016063413742472321878_SFO2_125_0030_patch_aligned_doseweighted_bin_2.mrc masked successfully!\n"
     ]
    },
    {
     "name": "stderr",
     "output_type": "stream",
     "text": [
      "\r",
      " 12%|████▊                                   | 124/1020 [04:07<30:12,  2.02s/it]"
     ]
    },
    {
     "name": "stdout",
     "output_type": "stream",
     "text": [
      "012021308731199926797_SFO2_127_0016_patch_aligned_doseweighted_bin_2.mrc masked successfully!\n"
     ]
    },
    {
     "name": "stderr",
     "output_type": "stream",
     "text": [
      "\r",
      " 12%|████▉                                   | 125/1020 [04:09<30:35,  2.05s/it]"
     ]
    },
    {
     "name": "stdout",
     "output_type": "stream",
     "text": [
      "001129292249598927848_SFO2_124_0025_patch_aligned_doseweighted_bin_2.mrc masked successfully!\n"
     ]
    },
    {
     "name": "stderr",
     "output_type": "stream",
     "text": [
      "\r",
      " 12%|████▉                                   | 126/1020 [04:11<30:24,  2.04s/it]"
     ]
    },
    {
     "name": "stdout",
     "output_type": "stream",
     "text": [
      "017668999638313939332_SFO2_111_0005_patch_aligned_doseweighted_bin_2.mrc masked successfully!\n"
     ]
    },
    {
     "name": "stderr",
     "output_type": "stream",
     "text": [
      "\r",
      " 12%|████▉                                   | 127/1020 [04:13<30:23,  2.04s/it]"
     ]
    },
    {
     "name": "stdout",
     "output_type": "stream",
     "text": [
      "005941672824552914045_SFO2_100_0004_patch_aligned_doseweighted_bin_2.mrc masked successfully!\n"
     ]
    },
    {
     "name": "stderr",
     "output_type": "stream",
     "text": [
      "\r",
      " 13%|█████                                   | 128/1020 [04:15<30:14,  2.03s/it]"
     ]
    },
    {
     "name": "stdout",
     "output_type": "stream",
     "text": [
      "001575584010124022068_SFO2_115_0020_patch_aligned_doseweighted_bin_2.mrc masked successfully!\n"
     ]
    },
    {
     "name": "stderr",
     "output_type": "stream",
     "text": [
      "\r",
      " 13%|█████                                   | 129/1020 [04:17<30:25,  2.05s/it]"
     ]
    },
    {
     "name": "stdout",
     "output_type": "stream",
     "text": [
      "008002869768871998653_SFO2_116_0004_patch_aligned_doseweighted_bin_2.mrc masked successfully!\n"
     ]
    },
    {
     "name": "stderr",
     "output_type": "stream",
     "text": [
      "\r",
      " 13%|█████                                   | 130/1020 [04:19<29:57,  2.02s/it]"
     ]
    },
    {
     "name": "stdout",
     "output_type": "stream",
     "text": [
      "006276030387877395193_SFO2_112_0018_patch_aligned_doseweighted_bin_2.mrc masked successfully!\n"
     ]
    },
    {
     "name": "stderr",
     "output_type": "stream",
     "text": [
      "\r",
      " 13%|█████▏                                  | 131/1020 [04:21<30:15,  2.04s/it]"
     ]
    },
    {
     "name": "stdout",
     "output_type": "stream",
     "text": [
      "009791263791480012080_SFO2_116_0016_patch_aligned_doseweighted_bin_2.mrc masked successfully!\n"
     ]
    },
    {
     "name": "stderr",
     "output_type": "stream",
     "text": [
      "\r",
      " 13%|█████▏                                  | 132/1020 [04:23<30:10,  2.04s/it]"
     ]
    },
    {
     "name": "stdout",
     "output_type": "stream",
     "text": [
      "005257974081545005607_SFO2_102_0023_patch_aligned_doseweighted_bin_2.mrc masked successfully!\n"
     ]
    },
    {
     "name": "stderr",
     "output_type": "stream",
     "text": [
      "\r",
      " 13%|█████▏                                  | 133/1020 [04:25<30:11,  2.04s/it]"
     ]
    },
    {
     "name": "stdout",
     "output_type": "stream",
     "text": [
      "000978417428769456388_SFO2_112_0006_patch_aligned_doseweighted_bin_2.mrc masked successfully!\n"
     ]
    },
    {
     "name": "stderr",
     "output_type": "stream",
     "text": [
      "\r",
      " 13%|█████▎                                  | 134/1020 [04:28<30:15,  2.05s/it]"
     ]
    },
    {
     "name": "stdout",
     "output_type": "stream",
     "text": [
      "003549726853677031095_SFO2_123_0021_patch_aligned_doseweighted_bin_2.mrc masked successfully!\n"
     ]
    },
    {
     "name": "stderr",
     "output_type": "stream",
     "text": [
      "\r",
      " 13%|█████▎                                  | 135/1020 [04:30<30:00,  2.03s/it]"
     ]
    },
    {
     "name": "stdout",
     "output_type": "stream",
     "text": [
      "007509787621198719038_SFO2_107_0009_patch_aligned_doseweighted_bin_2.mrc masked successfully!\n"
     ]
    },
    {
     "name": "stderr",
     "output_type": "stream",
     "text": [
      "\r",
      " 13%|█████▎                                  | 136/1020 [04:32<29:59,  2.04s/it]"
     ]
    },
    {
     "name": "stdout",
     "output_type": "stream",
     "text": [
      "012428591447214293487_SFO2_106_0015_patch_aligned_doseweighted_bin_2.mrc masked successfully!\n"
     ]
    },
    {
     "name": "stderr",
     "output_type": "stream",
     "text": [
      "\r",
      " 13%|█████▎                                  | 137/1020 [04:34<30:20,  2.06s/it]"
     ]
    },
    {
     "name": "stdout",
     "output_type": "stream",
     "text": [
      "014982517592930648798_SFO2_105_0001_patch_aligned_doseweighted_bin_2.mrc masked successfully!\n"
     ]
    },
    {
     "name": "stderr",
     "output_type": "stream",
     "text": [
      "\r",
      " 14%|█████▍                                  | 138/1020 [04:36<30:24,  2.07s/it]"
     ]
    },
    {
     "name": "stdout",
     "output_type": "stream",
     "text": [
      "008693453634947577525_SFO2_118_0031_patch_aligned_doseweighted_bin_2.mrc masked successfully!\n"
     ]
    },
    {
     "name": "stderr",
     "output_type": "stream",
     "text": [
      "\r",
      " 14%|█████▍                                  | 139/1020 [04:38<30:05,  2.05s/it]"
     ]
    },
    {
     "name": "stdout",
     "output_type": "stream",
     "text": [
      "001146100649822780104_SFO2_128_0007_patch_aligned_doseweighted_bin_2.mrc masked successfully!\n"
     ]
    },
    {
     "name": "stderr",
     "output_type": "stream",
     "text": [
      "\r",
      " 14%|█████▍                                  | 140/1020 [04:40<29:56,  2.04s/it]"
     ]
    },
    {
     "name": "stdout",
     "output_type": "stream",
     "text": [
      "006631660153234886898_SFO2_106_0012_patch_aligned_doseweighted_bin_2.mrc masked successfully!\n"
     ]
    },
    {
     "name": "stderr",
     "output_type": "stream",
     "text": [
      "\r",
      " 14%|█████▌                                  | 141/1020 [04:42<30:00,  2.05s/it]"
     ]
    },
    {
     "name": "stdout",
     "output_type": "stream",
     "text": [
      "010467451343834230792_SFO2_114_0036_patch_aligned_doseweighted_bin_2.mrc masked successfully!\n"
     ]
    },
    {
     "name": "stderr",
     "output_type": "stream",
     "text": [
      "\r",
      " 14%|█████▌                                  | 142/1020 [04:44<29:52,  2.04s/it]"
     ]
    },
    {
     "name": "stdout",
     "output_type": "stream",
     "text": [
      "003912264437160918027_SFO2_111_0016_patch_aligned_doseweighted_bin_2.mrc masked successfully!\n"
     ]
    },
    {
     "name": "stderr",
     "output_type": "stream",
     "text": [
      "\r",
      " 14%|█████▌                                  | 143/1020 [04:46<29:50,  2.04s/it]"
     ]
    },
    {
     "name": "stdout",
     "output_type": "stream",
     "text": [
      "017951831862833980583_SFO2_120_0034_patch_aligned_doseweighted_bin_2.mrc masked successfully!\n"
     ]
    },
    {
     "name": "stderr",
     "output_type": "stream",
     "text": [
      "\r",
      " 14%|█████▋                                  | 144/1020 [04:48<29:27,  2.02s/it]"
     ]
    },
    {
     "name": "stdout",
     "output_type": "stream",
     "text": [
      "017043427674002692147_SFO2_121_0003_patch_aligned_doseweighted_bin_2.mrc masked successfully!\n"
     ]
    },
    {
     "name": "stderr",
     "output_type": "stream",
     "text": [
      "\r",
      " 14%|█████▋                                  | 145/1020 [04:50<29:28,  2.02s/it]"
     ]
    },
    {
     "name": "stdout",
     "output_type": "stream",
     "text": [
      "000374209320152300541_SFO2_102_0014_patch_aligned_doseweighted_bin_2.mrc masked successfully!\n"
     ]
    },
    {
     "name": "stderr",
     "output_type": "stream",
     "text": [
      "\r",
      " 14%|█████▋                                  | 146/1020 [04:52<29:30,  2.03s/it]"
     ]
    },
    {
     "name": "stdout",
     "output_type": "stream",
     "text": [
      "009608375477191024379_SFO2_104_0024_patch_aligned_doseweighted_bin_2.mrc masked successfully!\n"
     ]
    },
    {
     "name": "stderr",
     "output_type": "stream",
     "text": [
      "\r",
      " 14%|█████▊                                  | 147/1020 [04:54<29:30,  2.03s/it]"
     ]
    },
    {
     "name": "stdout",
     "output_type": "stream",
     "text": [
      "001832789911049293458_SFO2_126_0019_patch_aligned_doseweighted_bin_2.mrc masked successfully!\n"
     ]
    },
    {
     "name": "stderr",
     "output_type": "stream",
     "text": [
      "\r",
      " 15%|█████▊                                  | 148/1020 [04:56<29:31,  2.03s/it]"
     ]
    },
    {
     "name": "stdout",
     "output_type": "stream",
     "text": [
      "001625855763731592432_SFO2_105_0019_patch_aligned_doseweighted_bin_2.mrc masked successfully!\n"
     ]
    },
    {
     "name": "stderr",
     "output_type": "stream",
     "text": [
      "\r",
      " 15%|█████▊                                  | 149/1020 [04:58<29:41,  2.05s/it]"
     ]
    },
    {
     "name": "stdout",
     "output_type": "stream",
     "text": [
      "017730799437936292598_SFO2_116_0003_patch_aligned_doseweighted_bin_2.mrc masked successfully!\n"
     ]
    },
    {
     "name": "stderr",
     "output_type": "stream",
     "text": [
      "\r",
      " 15%|█████▉                                  | 150/1020 [05:00<29:55,  2.06s/it]"
     ]
    },
    {
     "name": "stdout",
     "output_type": "stream",
     "text": [
      "015684336330081675244_SFO2_101_0002_patch_aligned_doseweighted_bin_2.mrc masked successfully!\n"
     ]
    },
    {
     "name": "stderr",
     "output_type": "stream",
     "text": [
      "\r",
      " 15%|█████▉                                  | 151/1020 [05:02<29:42,  2.05s/it]"
     ]
    },
    {
     "name": "stdout",
     "output_type": "stream",
     "text": [
      "016611869559701290474_SFO2_102_0016_patch_aligned_doseweighted_bin_2.mrc masked successfully!\n"
     ]
    },
    {
     "name": "stderr",
     "output_type": "stream",
     "text": [
      "\r",
      " 15%|█████▉                                  | 152/1020 [05:04<29:41,  2.05s/it]"
     ]
    },
    {
     "name": "stdout",
     "output_type": "stream",
     "text": [
      "004017945352081291941_SFO2_105_0012_patch_aligned_doseweighted_bin_2.mrc masked successfully!\n"
     ]
    },
    {
     "name": "stderr",
     "output_type": "stream",
     "text": [
      "\r",
      " 15%|██████                                  | 153/1020 [05:06<29:23,  2.03s/it]"
     ]
    },
    {
     "name": "stdout",
     "output_type": "stream",
     "text": [
      "015574016874175608718_SFO2_106_0011_patch_aligned_doseweighted_bin_2.mrc masked successfully!\n"
     ]
    },
    {
     "name": "stderr",
     "output_type": "stream",
     "text": [
      "\r",
      " 15%|██████                                  | 154/1020 [05:08<29:22,  2.04s/it]"
     ]
    },
    {
     "name": "stdout",
     "output_type": "stream",
     "text": [
      "002191081526392875026_SFO2_116_0022_patch_aligned_doseweighted_bin_2.mrc masked successfully!\n"
     ]
    },
    {
     "name": "stderr",
     "output_type": "stream",
     "text": [
      "\r",
      " 15%|██████                                  | 155/1020 [05:10<29:07,  2.02s/it]"
     ]
    },
    {
     "name": "stdout",
     "output_type": "stream",
     "text": [
      "005141319165275750966_SFO2_106_0018_patch_aligned_doseweighted_bin_2.mrc masked successfully!\n"
     ]
    },
    {
     "name": "stderr",
     "output_type": "stream",
     "text": [
      "\r",
      " 15%|██████                                  | 156/1020 [05:12<29:41,  2.06s/it]"
     ]
    },
    {
     "name": "stdout",
     "output_type": "stream",
     "text": [
      "012804017964620172969_SFO2_121_0022_patch_aligned_doseweighted_bin_2.mrc masked successfully!\n"
     ]
    },
    {
     "name": "stderr",
     "output_type": "stream",
     "text": [
      "\r",
      " 15%|██████▏                                 | 157/1020 [05:14<29:28,  2.05s/it]"
     ]
    },
    {
     "name": "stdout",
     "output_type": "stream",
     "text": [
      "005897481566529643165_SFO2_106_0024_patch_aligned_doseweighted_bin_2.mrc masked successfully!\n"
     ]
    },
    {
     "name": "stderr",
     "output_type": "stream",
     "text": [
      "\r",
      " 15%|██████▏                                 | 158/1020 [05:17<29:21,  2.04s/it]"
     ]
    },
    {
     "name": "stdout",
     "output_type": "stream",
     "text": [
      "014958656909601636847_SFO2_116_0033_patch_aligned_doseweighted_bin_2.mrc masked successfully!\n"
     ]
    },
    {
     "name": "stderr",
     "output_type": "stream",
     "text": [
      "\r",
      " 16%|██████▏                                 | 159/1020 [05:19<29:08,  2.03s/it]"
     ]
    },
    {
     "name": "stdout",
     "output_type": "stream",
     "text": [
      "018281227960111016067_SFO2_109_0027_patch_aligned_doseweighted_bin_2.mrc masked successfully!\n"
     ]
    },
    {
     "name": "stderr",
     "output_type": "stream",
     "text": [
      "\r",
      " 16%|██████▎                                 | 160/1020 [05:21<29:00,  2.02s/it]"
     ]
    },
    {
     "name": "stdout",
     "output_type": "stream",
     "text": [
      "016761924294979555479_SFO2_121_0023_patch_aligned_doseweighted_bin_2.mrc masked successfully!\n"
     ]
    },
    {
     "name": "stderr",
     "output_type": "stream",
     "text": [
      "\r",
      " 16%|██████▎                                 | 161/1020 [05:23<28:51,  2.02s/it]"
     ]
    },
    {
     "name": "stdout",
     "output_type": "stream",
     "text": [
      "007036034834293365043_SFO2_101_0033_patch_aligned_doseweighted_bin_2.mrc masked successfully!\n"
     ]
    },
    {
     "name": "stderr",
     "output_type": "stream",
     "text": [
      "\r",
      " 16%|██████▎                                 | 162/1020 [05:25<28:44,  2.01s/it]"
     ]
    },
    {
     "name": "stdout",
     "output_type": "stream",
     "text": [
      "012668599466164004869_SFO2_110_0025_patch_aligned_doseweighted_bin_2.mrc masked successfully!\n"
     ]
    },
    {
     "name": "stderr",
     "output_type": "stream",
     "text": [
      "\r",
      " 16%|██████▍                                 | 163/1020 [05:27<28:45,  2.01s/it]"
     ]
    },
    {
     "name": "stdout",
     "output_type": "stream",
     "text": [
      "005340812906647198950_SFO2_113_0002_patch_aligned_doseweighted_bin_2.mrc masked successfully!\n"
     ]
    },
    {
     "name": "stderr",
     "output_type": "stream",
     "text": [
      "\r",
      " 16%|██████▍                                 | 164/1020 [05:29<28:43,  2.01s/it]"
     ]
    },
    {
     "name": "stdout",
     "output_type": "stream",
     "text": [
      "017912518320511973440_SFO2_125_0001_patch_aligned_doseweighted_bin_2.mrc masked successfully!\n"
     ]
    },
    {
     "name": "stderr",
     "output_type": "stream",
     "text": [
      "\r",
      " 16%|██████▍                                 | 165/1020 [05:31<28:59,  2.03s/it]"
     ]
    },
    {
     "name": "stdout",
     "output_type": "stream",
     "text": [
      "006746571381842566539_SFO2_109_0029_patch_aligned_doseweighted_bin_2.mrc masked successfully!\n"
     ]
    },
    {
     "name": "stderr",
     "output_type": "stream",
     "text": [
      "\r",
      " 16%|██████▌                                 | 166/1020 [05:33<28:44,  2.02s/it]"
     ]
    },
    {
     "name": "stdout",
     "output_type": "stream",
     "text": [
      "012327359451479086895_SFO2_105_0026_patch_aligned_doseweighted_bin_2.mrc masked successfully!\n"
     ]
    },
    {
     "name": "stderr",
     "output_type": "stream",
     "text": [
      "\r",
      " 16%|██████▌                                 | 167/1020 [05:35<28:41,  2.02s/it]"
     ]
    },
    {
     "name": "stdout",
     "output_type": "stream",
     "text": [
      "003273662374359076151_SFO2_117_0028_patch_aligned_doseweighted_bin_2.mrc masked successfully!\n"
     ]
    },
    {
     "name": "stderr",
     "output_type": "stream",
     "text": [
      "\r",
      " 16%|██████▌                                 | 168/1020 [05:37<28:30,  2.01s/it]"
     ]
    },
    {
     "name": "stdout",
     "output_type": "stream",
     "text": [
      "005261273076485415899_SFO2_124_0033_patch_aligned_doseweighted_bin_2.mrc masked successfully!\n"
     ]
    },
    {
     "name": "stderr",
     "output_type": "stream",
     "text": [
      "\r",
      " 17%|██████▋                                 | 169/1020 [05:39<28:44,  2.03s/it]"
     ]
    },
    {
     "name": "stdout",
     "output_type": "stream",
     "text": [
      "001417208984996836062_SFO2_112_0026_patch_aligned_doseweighted_bin_2.mrc masked successfully!\n"
     ]
    },
    {
     "name": "stderr",
     "output_type": "stream",
     "text": [
      "\r",
      " 17%|██████▋                                 | 170/1020 [05:41<28:41,  2.03s/it]"
     ]
    },
    {
     "name": "stdout",
     "output_type": "stream",
     "text": [
      "018326232586217199432_SFO2_119_0011_patch_aligned_doseweighted_bin_2.mrc masked successfully!\n"
     ]
    },
    {
     "name": "stderr",
     "output_type": "stream",
     "text": [
      "\r",
      " 17%|██████▋                                 | 171/1020 [05:43<28:55,  2.04s/it]"
     ]
    },
    {
     "name": "stdout",
     "output_type": "stream",
     "text": [
      "015029176651619420457_SFO2_128_0009_patch_aligned_doseweighted_bin_2.mrc masked successfully!\n"
     ]
    },
    {
     "name": "stderr",
     "output_type": "stream",
     "text": [
      "\r",
      " 17%|██████▋                                 | 172/1020 [05:45<28:54,  2.05s/it]"
     ]
    },
    {
     "name": "stdout",
     "output_type": "stream",
     "text": [
      "013437683965485066577_SFO2_124_0020_patch_aligned_doseweighted_bin_2.mrc masked successfully!\n"
     ]
    },
    {
     "name": "stderr",
     "output_type": "stream",
     "text": [
      "\r",
      " 17%|██████▊                                 | 173/1020 [05:47<28:57,  2.05s/it]"
     ]
    },
    {
     "name": "stdout",
     "output_type": "stream",
     "text": [
      "010067010928797266953_SFO2_121_0012_patch_aligned_doseweighted_bin_2.mrc masked successfully!\n"
     ]
    },
    {
     "name": "stderr",
     "output_type": "stream",
     "text": [
      "\r",
      " 17%|██████▊                                 | 174/1020 [05:49<29:26,  2.09s/it]"
     ]
    },
    {
     "name": "stdout",
     "output_type": "stream",
     "text": [
      "010303142560088535757_SFO2_116_0031_patch_aligned_doseweighted_bin_2.mrc masked successfully!\n"
     ]
    },
    {
     "name": "stderr",
     "output_type": "stream",
     "text": [
      "\r",
      " 17%|██████▊                                 | 175/1020 [05:51<29:12,  2.07s/it]"
     ]
    },
    {
     "name": "stdout",
     "output_type": "stream",
     "text": [
      "014944098099912859494_SFO2_105_0031_patch_aligned_doseweighted_bin_2.mrc masked successfully!\n"
     ]
    },
    {
     "name": "stderr",
     "output_type": "stream",
     "text": [
      "\r",
      " 17%|██████▉                                 | 176/1020 [05:53<29:02,  2.07s/it]"
     ]
    },
    {
     "name": "stdout",
     "output_type": "stream",
     "text": [
      "011924579925396868793_SFO2_117_0026_patch_aligned_doseweighted_bin_2.mrc masked successfully!\n"
     ]
    },
    {
     "name": "stderr",
     "output_type": "stream",
     "text": [
      "\r",
      " 17%|██████▉                                 | 177/1020 [05:55<28:46,  2.05s/it]"
     ]
    },
    {
     "name": "stdout",
     "output_type": "stream",
     "text": [
      "016634001187679287492_SFO2_113_0029_patch_aligned_doseweighted_bin_2.mrc masked successfully!\n"
     ]
    },
    {
     "name": "stderr",
     "output_type": "stream",
     "text": [
      "\r",
      " 17%|██████▉                                 | 178/1020 [05:57<28:47,  2.05s/it]"
     ]
    },
    {
     "name": "stdout",
     "output_type": "stream",
     "text": [
      "010276301198300988469_SFO2_100_0010_patch_aligned_doseweighted_bin_2.mrc masked successfully!\n"
     ]
    },
    {
     "name": "stderr",
     "output_type": "stream",
     "text": [
      "\r",
      " 18%|███████                                 | 179/1020 [05:59<28:40,  2.05s/it]"
     ]
    },
    {
     "name": "stdout",
     "output_type": "stream",
     "text": [
      "010791965978758446838_SFO2_126_0027_patch_aligned_doseweighted_bin_2.mrc masked successfully!\n"
     ]
    },
    {
     "name": "stderr",
     "output_type": "stream",
     "text": [
      "\r",
      " 18%|███████                                 | 180/1020 [06:01<28:31,  2.04s/it]"
     ]
    },
    {
     "name": "stdout",
     "output_type": "stream",
     "text": [
      "008348168936721893659_SFO2_107_0003_patch_aligned_doseweighted_bin_2.mrc masked successfully!\n"
     ]
    },
    {
     "name": "stderr",
     "output_type": "stream",
     "text": [
      "\r",
      " 18%|███████                                 | 181/1020 [06:03<28:41,  2.05s/it]"
     ]
    },
    {
     "name": "stdout",
     "output_type": "stream",
     "text": [
      "010947969457489292792_SFO2_106_0023_patch_aligned_doseweighted_bin_2.mrc masked successfully!\n"
     ]
    },
    {
     "name": "stderr",
     "output_type": "stream",
     "text": [
      "\r",
      " 18%|███████▏                                | 182/1020 [06:05<28:46,  2.06s/it]"
     ]
    },
    {
     "name": "stdout",
     "output_type": "stream",
     "text": [
      "018040629199679011680_SFO2_111_0035_patch_aligned_doseweighted_bin_2.mrc masked successfully!\n"
     ]
    },
    {
     "name": "stderr",
     "output_type": "stream",
     "text": [
      "\r",
      " 18%|███████▏                                | 183/1020 [06:07<28:35,  2.05s/it]"
     ]
    },
    {
     "name": "stdout",
     "output_type": "stream",
     "text": [
      "004752165225361183315_SFO2_120_0029_patch_aligned_doseweighted_bin_2.mrc masked successfully!\n"
     ]
    },
    {
     "name": "stderr",
     "output_type": "stream",
     "text": [
      "\r",
      " 18%|███████▏                                | 184/1020 [06:10<28:26,  2.04s/it]"
     ]
    },
    {
     "name": "stdout",
     "output_type": "stream",
     "text": [
      "001980762877796140912_SFO2_124_0032_patch_aligned_doseweighted_bin_2.mrc masked successfully!\n"
     ]
    },
    {
     "name": "stderr",
     "output_type": "stream",
     "text": [
      "\r",
      " 18%|███████▎                                | 185/1020 [06:11<28:06,  2.02s/it]"
     ]
    },
    {
     "name": "stdout",
     "output_type": "stream",
     "text": [
      "014873494389479688771_SFO2_117_0002_patch_aligned_doseweighted_bin_2.mrc masked successfully!\n"
     ]
    },
    {
     "name": "stderr",
     "output_type": "stream",
     "text": [
      "\r",
      " 18%|███████▎                                | 186/1020 [06:14<28:14,  2.03s/it]"
     ]
    },
    {
     "name": "stdout",
     "output_type": "stream",
     "text": [
      "000939484523820083828_SFO2_100_0012_patch_aligned_doseweighted_bin_2.mrc masked successfully!\n"
     ]
    },
    {
     "name": "stderr",
     "output_type": "stream",
     "text": [
      "\r",
      " 18%|███████▎                                | 187/1020 [06:15<27:50,  2.01s/it]"
     ]
    },
    {
     "name": "stdout",
     "output_type": "stream",
     "text": [
      "010450213340139759019_SFO2_110_0013_patch_aligned_doseweighted_bin_2.mrc masked successfully!\n"
     ]
    },
    {
     "name": "stderr",
     "output_type": "stream",
     "text": [
      "\r",
      " 18%|███████▎                                | 188/1020 [06:17<27:52,  2.01s/it]"
     ]
    },
    {
     "name": "stdout",
     "output_type": "stream",
     "text": [
      "014770329813731381281_SFO2_100_0020_patch_aligned_doseweighted_bin_2.mrc masked successfully!\n"
     ]
    },
    {
     "name": "stderr",
     "output_type": "stream",
     "text": [
      "\r",
      " 19%|███████▍                                | 189/1020 [06:19<27:40,  2.00s/it]"
     ]
    },
    {
     "name": "stdout",
     "output_type": "stream",
     "text": [
      "017824497145249612960_SFO2_121_0002_patch_aligned_doseweighted_bin_2.mrc masked successfully!\n"
     ]
    },
    {
     "name": "stderr",
     "output_type": "stream",
     "text": [
      "\r",
      " 19%|███████▍                                | 190/1020 [06:21<27:26,  1.98s/it]"
     ]
    },
    {
     "name": "stdout",
     "output_type": "stream",
     "text": [
      "015012106786742430381_SFO2_106_0032_patch_aligned_doseweighted_bin_2.mrc masked successfully!\n"
     ]
    },
    {
     "name": "stderr",
     "output_type": "stream",
     "text": [
      "\r",
      " 19%|███████▍                                | 191/1020 [06:23<27:20,  1.98s/it]"
     ]
    },
    {
     "name": "stdout",
     "output_type": "stream",
     "text": [
      "015509651620949939596_SFO2_111_0010_patch_aligned_doseweighted_bin_2.mrc masked successfully!\n"
     ]
    },
    {
     "name": "stderr",
     "output_type": "stream",
     "text": [
      "\r",
      " 19%|███████▌                                | 192/1020 [06:25<27:28,  1.99s/it]"
     ]
    },
    {
     "name": "stdout",
     "output_type": "stream",
     "text": [
      "018390803706868763249_SFO2_102_0025_patch_aligned_doseweighted_bin_2.mrc masked successfully!\n"
     ]
    },
    {
     "name": "stderr",
     "output_type": "stream",
     "text": [
      "\r",
      " 19%|███████▌                                | 193/1020 [06:27<27:28,  1.99s/it]"
     ]
    },
    {
     "name": "stdout",
     "output_type": "stream",
     "text": [
      "007552652123329217295_SFO2_121_0016_patch_aligned_doseweighted_bin_2.mrc masked successfully!\n"
     ]
    },
    {
     "name": "stderr",
     "output_type": "stream",
     "text": [
      "\r",
      " 19%|███████▌                                | 194/1020 [06:29<27:30,  2.00s/it]"
     ]
    },
    {
     "name": "stdout",
     "output_type": "stream",
     "text": [
      "000352215210265039055_SFO2_113_0012_patch_aligned_doseweighted_bin_2.mrc masked successfully!\n"
     ]
    },
    {
     "name": "stderr",
     "output_type": "stream",
     "text": [
      "\r",
      " 19%|███████▋                                | 195/1020 [06:31<27:25,  2.00s/it]"
     ]
    },
    {
     "name": "stdout",
     "output_type": "stream",
     "text": [
      "000699838929394625141_SFO2_128_0001_patch_aligned_doseweighted_bin_2.mrc masked successfully!\n"
     ]
    },
    {
     "name": "stderr",
     "output_type": "stream",
     "text": [
      "\r",
      " 19%|███████▋                                | 196/1020 [06:33<27:45,  2.02s/it]"
     ]
    },
    {
     "name": "stdout",
     "output_type": "stream",
     "text": [
      "004518482099726391377_SFO2_123_0035_patch_aligned_doseweighted_bin_2.mrc masked successfully!\n"
     ]
    },
    {
     "name": "stderr",
     "output_type": "stream",
     "text": [
      "\r",
      " 19%|███████▋                                | 197/1020 [06:35<27:39,  2.02s/it]"
     ]
    },
    {
     "name": "stdout",
     "output_type": "stream",
     "text": [
      "013953168590628001171_SFO2_115_0022_patch_aligned_doseweighted_bin_2.mrc masked successfully!\n"
     ]
    },
    {
     "name": "stderr",
     "output_type": "stream",
     "text": [
      "\r",
      " 19%|███████▊                                | 198/1020 [06:38<27:49,  2.03s/it]"
     ]
    },
    {
     "name": "stdout",
     "output_type": "stream",
     "text": [
      "012602072571562912984_SFO2_122_0030_patch_aligned_doseweighted_bin_2.mrc masked successfully!\n"
     ]
    },
    {
     "name": "stderr",
     "output_type": "stream",
     "text": [
      "\r",
      " 20%|███████▊                                | 199/1020 [06:40<28:01,  2.05s/it]"
     ]
    },
    {
     "name": "stdout",
     "output_type": "stream",
     "text": [
      "004601932424291533003_SFO2_126_0003_patch_aligned_doseweighted_bin_2.mrc masked successfully!\n"
     ]
    },
    {
     "name": "stderr",
     "output_type": "stream",
     "text": [
      "\r",
      " 20%|███████▊                                | 200/1020 [06:42<28:21,  2.07s/it]"
     ]
    },
    {
     "name": "stdout",
     "output_type": "stream",
     "text": [
      "015563631814930675083_SFO2_120_0014_patch_aligned_doseweighted_bin_2.mrc masked successfully!\n"
     ]
    },
    {
     "name": "stderr",
     "output_type": "stream",
     "text": [
      "\r",
      " 20%|███████▉                                | 201/1020 [06:44<28:14,  2.07s/it]"
     ]
    },
    {
     "name": "stdout",
     "output_type": "stream",
     "text": [
      "000342803156932580290_SFO2_120_0008_patch_aligned_doseweighted_bin_2.mrc masked successfully!\n"
     ]
    },
    {
     "name": "stderr",
     "output_type": "stream",
     "text": [
      "\r",
      " 20%|███████▉                                | 202/1020 [06:46<28:03,  2.06s/it]"
     ]
    },
    {
     "name": "stdout",
     "output_type": "stream",
     "text": [
      "005117075020871718942_SFO2_120_0009_patch_aligned_doseweighted_bin_2.mrc masked successfully!\n"
     ]
    },
    {
     "name": "stderr",
     "output_type": "stream",
     "text": [
      "\r",
      " 20%|███████▉                                | 203/1020 [06:48<28:25,  2.09s/it]"
     ]
    },
    {
     "name": "stdout",
     "output_type": "stream",
     "text": [
      "008770851635502172814_SFO2_111_0002_patch_aligned_doseweighted_bin_2.mrc masked successfully!\n"
     ]
    },
    {
     "name": "stderr",
     "output_type": "stream",
     "text": [
      "\r",
      " 20%|████████                                | 204/1020 [06:50<28:10,  2.07s/it]"
     ]
    },
    {
     "name": "stdout",
     "output_type": "stream",
     "text": [
      "009156063608750230282_SFO2_104_0009_patch_aligned_doseweighted_bin_2.mrc masked successfully!\n"
     ]
    },
    {
     "name": "stderr",
     "output_type": "stream",
     "text": [
      "\r",
      " 20%|████████                                | 205/1020 [06:52<28:04,  2.07s/it]"
     ]
    },
    {
     "name": "stdout",
     "output_type": "stream",
     "text": [
      "012930645991296413165_SFO2_125_0016_patch_aligned_doseweighted_bin_2.mrc masked successfully!\n"
     ]
    },
    {
     "name": "stderr",
     "output_type": "stream",
     "text": [
      "\r",
      " 20%|████████                                | 206/1020 [06:54<27:59,  2.06s/it]"
     ]
    },
    {
     "name": "stdout",
     "output_type": "stream",
     "text": [
      "008272627294376928239_SFO2_109_0033_patch_aligned_doseweighted_bin_2.mrc masked successfully!\n"
     ]
    },
    {
     "name": "stderr",
     "output_type": "stream",
     "text": [
      "\r",
      " 20%|████████                                | 207/1020 [06:56<28:09,  2.08s/it]"
     ]
    },
    {
     "name": "stdout",
     "output_type": "stream",
     "text": [
      "017661858151282256633_SFO2_105_0017_patch_aligned_doseweighted_bin_2.mrc masked successfully!\n"
     ]
    },
    {
     "name": "stderr",
     "output_type": "stream",
     "text": [
      "\r",
      " 20%|████████▏                               | 208/1020 [06:58<27:58,  2.07s/it]"
     ]
    },
    {
     "name": "stdout",
     "output_type": "stream",
     "text": [
      "002042485721038485922_SFO2_117_0007_patch_aligned_doseweighted_bin_2.mrc masked successfully!\n"
     ]
    },
    {
     "name": "stderr",
     "output_type": "stream",
     "text": [
      "\r",
      " 20%|████████▏                               | 209/1020 [07:00<27:57,  2.07s/it]"
     ]
    },
    {
     "name": "stdout",
     "output_type": "stream",
     "text": [
      "013241770693784949576_SFO2_113_0014_patch_aligned_doseweighted_bin_2.mrc masked successfully!\n"
     ]
    },
    {
     "name": "stderr",
     "output_type": "stream",
     "text": [
      "\r",
      " 21%|████████▏                               | 210/1020 [07:02<27:48,  2.06s/it]"
     ]
    },
    {
     "name": "stdout",
     "output_type": "stream",
     "text": [
      "010113467350000815213_SFO2_102_0012_patch_aligned_doseweighted_bin_2.mrc masked successfully!\n"
     ]
    },
    {
     "name": "stderr",
     "output_type": "stream",
     "text": [
      "\r",
      " 21%|████████▎                               | 211/1020 [07:04<27:43,  2.06s/it]"
     ]
    },
    {
     "name": "stdout",
     "output_type": "stream",
     "text": [
      "009441615885790124711_SFO2_113_0035_patch_aligned_doseweighted_bin_2.mrc masked successfully!\n"
     ]
    },
    {
     "name": "stderr",
     "output_type": "stream",
     "text": [
      "\r",
      " 21%|████████▎                               | 212/1020 [07:07<27:54,  2.07s/it]"
     ]
    },
    {
     "name": "stdout",
     "output_type": "stream",
     "text": [
      "007132435100787115315_SFO2_124_0028_patch_aligned_doseweighted_bin_2.mrc masked successfully!\n"
     ]
    },
    {
     "name": "stderr",
     "output_type": "stream",
     "text": [
      "\r",
      " 21%|████████▎                               | 213/1020 [07:09<27:57,  2.08s/it]"
     ]
    },
    {
     "name": "stdout",
     "output_type": "stream",
     "text": [
      "009617669255283317691_SFO2_102_0024_patch_aligned_doseweighted_bin_2.mrc masked successfully!\n"
     ]
    },
    {
     "name": "stderr",
     "output_type": "stream",
     "text": [
      "\r",
      " 21%|████████▍                               | 214/1020 [07:11<27:48,  2.07s/it]"
     ]
    },
    {
     "name": "stdout",
     "output_type": "stream",
     "text": [
      "006994790400912068079_SFO2_102_0034_patch_aligned_doseweighted_bin_2.mrc masked successfully!\n"
     ]
    },
    {
     "name": "stderr",
     "output_type": "stream",
     "text": [
      "\r",
      " 21%|████████▍                               | 215/1020 [07:13<27:41,  2.06s/it]"
     ]
    },
    {
     "name": "stdout",
     "output_type": "stream",
     "text": [
      "004333192434912733207_SFO2_108_0024_patch_aligned_doseweighted_bin_2.mrc masked successfully!\n"
     ]
    },
    {
     "name": "stderr",
     "output_type": "stream",
     "text": [
      "\r",
      " 21%|████████▍                               | 216/1020 [07:15<27:23,  2.04s/it]"
     ]
    },
    {
     "name": "stdout",
     "output_type": "stream",
     "text": [
      "017013189469192334665_SFO2_114_0012_patch_aligned_doseweighted_bin_2.mrc masked successfully!\n"
     ]
    },
    {
     "name": "stderr",
     "output_type": "stream",
     "text": [
      "\r",
      " 21%|████████▌                               | 217/1020 [07:17<27:29,  2.05s/it]"
     ]
    },
    {
     "name": "stdout",
     "output_type": "stream",
     "text": [
      "003976147846808112713_SFO2_115_0030_patch_aligned_doseweighted_bin_2.mrc masked successfully!\n"
     ]
    },
    {
     "name": "stderr",
     "output_type": "stream",
     "text": [
      "\r",
      " 21%|████████▌                               | 218/1020 [07:19<27:24,  2.05s/it]"
     ]
    },
    {
     "name": "stdout",
     "output_type": "stream",
     "text": [
      "008782342220483655782_SFO2_104_0003_patch_aligned_doseweighted_bin_2.mrc masked successfully!\n"
     ]
    },
    {
     "name": "stderr",
     "output_type": "stream",
     "text": [
      "\r",
      " 21%|████████▌                               | 219/1020 [07:21<27:20,  2.05s/it]"
     ]
    },
    {
     "name": "stdout",
     "output_type": "stream",
     "text": [
      "000399300593043585320_SFO2_126_0034_patch_aligned_doseweighted_bin_2.mrc masked successfully!\n"
     ]
    },
    {
     "name": "stderr",
     "output_type": "stream",
     "text": [
      "\r",
      " 22%|████████▋                               | 220/1020 [07:23<27:21,  2.05s/it]"
     ]
    },
    {
     "name": "stdout",
     "output_type": "stream",
     "text": [
      "000932783459070266852_SFO2_122_0019_patch_aligned_doseweighted_bin_2.mrc masked successfully!\n"
     ]
    },
    {
     "name": "stderr",
     "output_type": "stream",
     "text": [
      "\r",
      " 22%|████████▋                               | 221/1020 [07:25<27:10,  2.04s/it]"
     ]
    },
    {
     "name": "stdout",
     "output_type": "stream",
     "text": [
      "009225146791084167247_SFO2_120_0002_patch_aligned_doseweighted_bin_2.mrc masked successfully!\n"
     ]
    },
    {
     "name": "stderr",
     "output_type": "stream",
     "text": [
      "\r",
      " 22%|████████▋                               | 222/1020 [07:27<27:08,  2.04s/it]"
     ]
    },
    {
     "name": "stdout",
     "output_type": "stream",
     "text": [
      "016604468106072870676_SFO2_110_0024_patch_aligned_doseweighted_bin_2.mrc masked successfully!\n"
     ]
    },
    {
     "name": "stderr",
     "output_type": "stream",
     "text": [
      "\r",
      " 22%|████████▋                               | 223/1020 [07:29<27:00,  2.03s/it]"
     ]
    },
    {
     "name": "stdout",
     "output_type": "stream",
     "text": [
      "016866055728421651203_SFO2_113_0032_patch_aligned_doseweighted_bin_2.mrc masked successfully!\n"
     ]
    },
    {
     "name": "stderr",
     "output_type": "stream",
     "text": [
      "\r",
      " 22%|████████▊                               | 224/1020 [07:31<26:49,  2.02s/it]"
     ]
    },
    {
     "name": "stdout",
     "output_type": "stream",
     "text": [
      "007726321406628571403_SFO2_118_0020_patch_aligned_doseweighted_bin_2.mrc masked successfully!\n"
     ]
    },
    {
     "name": "stderr",
     "output_type": "stream",
     "text": [
      "\r",
      " 22%|████████▊                               | 225/1020 [07:33<26:41,  2.01s/it]"
     ]
    },
    {
     "name": "stdout",
     "output_type": "stream",
     "text": [
      "004126593405430891547_SFO2_126_0017_patch_aligned_doseweighted_bin_2.mrc masked successfully!\n"
     ]
    },
    {
     "name": "stderr",
     "output_type": "stream",
     "text": [
      "\r",
      " 22%|████████▊                               | 226/1020 [07:35<26:30,  2.00s/it]"
     ]
    },
    {
     "name": "stdout",
     "output_type": "stream",
     "text": [
      "017540775945204641857_SFO2_102_0008_patch_aligned_doseweighted_bin_2.mrc masked successfully!\n"
     ]
    },
    {
     "name": "stderr",
     "output_type": "stream",
     "text": [
      "\r",
      " 22%|████████▉                               | 227/1020 [07:37<26:26,  2.00s/it]"
     ]
    },
    {
     "name": "stdout",
     "output_type": "stream",
     "text": [
      "007850118973799591666_SFO2_100_0006_patch_aligned_doseweighted_bin_2.mrc masked successfully!\n"
     ]
    },
    {
     "name": "stderr",
     "output_type": "stream",
     "text": [
      "\r",
      " 22%|████████▉                               | 228/1020 [07:39<26:45,  2.03s/it]"
     ]
    },
    {
     "name": "stdout",
     "output_type": "stream",
     "text": [
      "000838348938407823374_SFO2_106_0004_patch_aligned_doseweighted_bin_2.mrc masked successfully!\n"
     ]
    },
    {
     "name": "stderr",
     "output_type": "stream",
     "text": [
      "\r",
      " 22%|████████▉                               | 229/1020 [07:41<27:07,  2.06s/it]"
     ]
    },
    {
     "name": "stdout",
     "output_type": "stream",
     "text": [
      "015260516277654333431_SFO2_127_0035_patch_aligned_doseweighted_bin_2.mrc masked successfully!\n"
     ]
    },
    {
     "name": "stderr",
     "output_type": "stream",
     "text": [
      "\r",
      " 23%|█████████                               | 230/1020 [07:43<27:08,  2.06s/it]"
     ]
    },
    {
     "name": "stdout",
     "output_type": "stream",
     "text": [
      "014154835715852324824_SFO2_121_0036_patch_aligned_doseweighted_bin_2.mrc masked successfully!\n"
     ]
    },
    {
     "name": "stderr",
     "output_type": "stream",
     "text": [
      "\r",
      " 23%|█████████                               | 231/1020 [07:45<27:19,  2.08s/it]"
     ]
    },
    {
     "name": "stdout",
     "output_type": "stream",
     "text": [
      "005341647000704438043_SFO2_122_0007_patch_aligned_doseweighted_bin_2.mrc masked successfully!\n"
     ]
    },
    {
     "name": "stderr",
     "output_type": "stream",
     "text": [
      "\r",
      " 23%|█████████                               | 232/1020 [07:48<27:29,  2.09s/it]"
     ]
    },
    {
     "name": "stdout",
     "output_type": "stream",
     "text": [
      "004018308621704429301_SFO2_106_0013_patch_aligned_doseweighted_bin_2.mrc masked successfully!\n"
     ]
    },
    {
     "name": "stderr",
     "output_type": "stream",
     "text": [
      "\r",
      " 23%|█████████▏                              | 233/1020 [07:50<27:21,  2.09s/it]"
     ]
    },
    {
     "name": "stdout",
     "output_type": "stream",
     "text": [
      "017210288054249642239_SFO2_102_0017_patch_aligned_doseweighted_bin_2.mrc masked successfully!\n"
     ]
    },
    {
     "name": "stderr",
     "output_type": "stream",
     "text": [
      "\r",
      " 23%|█████████▏                              | 234/1020 [07:52<26:58,  2.06s/it]"
     ]
    },
    {
     "name": "stdout",
     "output_type": "stream",
     "text": [
      "013229236498548639636_SFO2_109_0036_patch_aligned_doseweighted_bin_2.mrc masked successfully!\n"
     ]
    },
    {
     "name": "stderr",
     "output_type": "stream",
     "text": [
      "\r",
      " 23%|█████████▏                              | 235/1020 [07:54<26:39,  2.04s/it]"
     ]
    },
    {
     "name": "stdout",
     "output_type": "stream",
     "text": [
      "002117740115873438739_SFO2_111_0013_patch_aligned_doseweighted_bin_2.mrc masked successfully!\n"
     ]
    },
    {
     "name": "stderr",
     "output_type": "stream",
     "text": [
      "\r",
      " 23%|█████████▎                              | 236/1020 [07:56<26:52,  2.06s/it]"
     ]
    },
    {
     "name": "stdout",
     "output_type": "stream",
     "text": [
      "003516928075930468348_SFO2_106_0014_patch_aligned_doseweighted_bin_2.mrc masked successfully!\n"
     ]
    },
    {
     "name": "stderr",
     "output_type": "stream",
     "text": [
      "\r",
      " 23%|█████████▎                              | 237/1020 [07:58<26:43,  2.05s/it]"
     ]
    },
    {
     "name": "stdout",
     "output_type": "stream",
     "text": [
      "014316814505515999664_SFO2_112_0020_patch_aligned_doseweighted_bin_2.mrc masked successfully!\n"
     ]
    },
    {
     "name": "stderr",
     "output_type": "stream",
     "text": [
      "\r",
      " 23%|█████████▎                              | 238/1020 [08:00<26:25,  2.03s/it]"
     ]
    },
    {
     "name": "stdout",
     "output_type": "stream",
     "text": [
      "008729152585660741814_SFO2_126_0025_patch_aligned_doseweighted_bin_2.mrc masked successfully!\n"
     ]
    },
    {
     "name": "stderr",
     "output_type": "stream",
     "text": [
      "\r",
      " 23%|█████████▎                              | 239/1020 [08:02<26:04,  2.00s/it]"
     ]
    },
    {
     "name": "stdout",
     "output_type": "stream",
     "text": [
      "000951522804461400286_SFO2_123_0036_patch_aligned_doseweighted_bin_2.mrc masked successfully!\n"
     ]
    },
    {
     "name": "stderr",
     "output_type": "stream",
     "text": [
      "\r",
      " 24%|█████████▍                              | 240/1020 [08:04<26:12,  2.02s/it]"
     ]
    },
    {
     "name": "stdout",
     "output_type": "stream",
     "text": [
      "015041664845909311329_SFO2_101_0016_patch_aligned_doseweighted_bin_2.mrc masked successfully!\n"
     ]
    },
    {
     "name": "stderr",
     "output_type": "stream",
     "text": [
      "\r",
      " 24%|█████████▍                              | 241/1020 [08:06<26:37,  2.05s/it]"
     ]
    },
    {
     "name": "stdout",
     "output_type": "stream",
     "text": [
      "017426981220024580415_SFO2_117_0013_patch_aligned_doseweighted_bin_2.mrc masked successfully!\n"
     ]
    },
    {
     "name": "stderr",
     "output_type": "stream",
     "text": [
      "\r",
      " 24%|█████████▍                              | 242/1020 [08:08<26:53,  2.07s/it]"
     ]
    },
    {
     "name": "stdout",
     "output_type": "stream",
     "text": [
      "006876303940426484348_SFO2_101_0010_patch_aligned_doseweighted_bin_2.mrc masked successfully!\n"
     ]
    },
    {
     "name": "stderr",
     "output_type": "stream",
     "text": [
      "\r",
      " 24%|█████████▌                              | 243/1020 [08:10<26:35,  2.05s/it]"
     ]
    },
    {
     "name": "stdout",
     "output_type": "stream",
     "text": [
      "009591532928513815226_SFO2_110_0011_patch_aligned_doseweighted_bin_2.mrc masked successfully!\n"
     ]
    },
    {
     "name": "stderr",
     "output_type": "stream",
     "text": [
      "\r",
      " 24%|█████████▌                              | 244/1020 [08:12<26:19,  2.04s/it]"
     ]
    },
    {
     "name": "stdout",
     "output_type": "stream",
     "text": [
      "003822532048393095236_SFO2_115_0031_patch_aligned_doseweighted_bin_2.mrc masked successfully!\n"
     ]
    },
    {
     "name": "stderr",
     "output_type": "stream",
     "text": [
      "\r",
      " 24%|█████████▌                              | 245/1020 [08:14<26:14,  2.03s/it]"
     ]
    },
    {
     "name": "stdout",
     "output_type": "stream",
     "text": [
      "017467307998706052570_SFO2_119_0005_patch_aligned_doseweighted_bin_2.mrc masked successfully!\n"
     ]
    },
    {
     "name": "stderr",
     "output_type": "stream",
     "text": [
      "\r",
      " 24%|█████████▋                              | 246/1020 [08:16<26:15,  2.04s/it]"
     ]
    },
    {
     "name": "stdout",
     "output_type": "stream",
     "text": [
      "010627108869136731423_SFO2_117_0027_patch_aligned_doseweighted_bin_2.mrc masked successfully!\n"
     ]
    },
    {
     "name": "stderr",
     "output_type": "stream",
     "text": [
      "\r",
      " 24%|█████████▋                              | 247/1020 [08:18<26:19,  2.04s/it]"
     ]
    },
    {
     "name": "stdout",
     "output_type": "stream",
     "text": [
      "014783544211680406460_SFO2_127_0001_patch_aligned_doseweighted_bin_2.mrc masked successfully!\n"
     ]
    },
    {
     "name": "stderr",
     "output_type": "stream",
     "text": [
      "\r",
      " 24%|█████████▋                              | 248/1020 [08:20<26:18,  2.04s/it]"
     ]
    },
    {
     "name": "stdout",
     "output_type": "stream",
     "text": [
      "004274472556673505299_SFO2_109_0009_patch_aligned_doseweighted_bin_2.mrc masked successfully!\n"
     ]
    },
    {
     "name": "stderr",
     "output_type": "stream",
     "text": [
      "\r",
      " 24%|█████████▊                              | 249/1020 [08:22<26:25,  2.06s/it]"
     ]
    },
    {
     "name": "stdout",
     "output_type": "stream",
     "text": [
      "005750936577768637700_SFO2_111_0034_patch_aligned_doseweighted_bin_2.mrc masked successfully!\n"
     ]
    },
    {
     "name": "stderr",
     "output_type": "stream",
     "text": [
      "\r",
      " 25%|█████████▊                              | 250/1020 [08:24<26:01,  2.03s/it]"
     ]
    },
    {
     "name": "stdout",
     "output_type": "stream",
     "text": [
      "015128195958414263999_SFO2_104_0002_patch_aligned_doseweighted_bin_2.mrc masked successfully!\n"
     ]
    },
    {
     "name": "stderr",
     "output_type": "stream",
     "text": [
      "\r",
      " 25%|█████████▊                              | 251/1020 [08:26<26:01,  2.03s/it]"
     ]
    },
    {
     "name": "stdout",
     "output_type": "stream",
     "text": [
      "006638075714822263259_SFO2_115_0017_patch_aligned_doseweighted_bin_2.mrc masked successfully!\n"
     ]
    },
    {
     "name": "stderr",
     "output_type": "stream",
     "text": [
      "\r",
      " 25%|█████████▉                              | 252/1020 [08:28<25:56,  2.03s/it]"
     ]
    },
    {
     "name": "stdout",
     "output_type": "stream",
     "text": [
      "017051471902205212029_SFO2_105_0016_patch_aligned_doseweighted_bin_2.mrc masked successfully!\n"
     ]
    },
    {
     "name": "stderr",
     "output_type": "stream",
     "text": [
      "\r",
      " 25%|█████████▉                              | 253/1020 [08:30<25:50,  2.02s/it]"
     ]
    },
    {
     "name": "stdout",
     "output_type": "stream",
     "text": [
      "000518896917154611172_SFO2_104_0008_patch_aligned_doseweighted_bin_2.mrc masked successfully!\n"
     ]
    },
    {
     "name": "stderr",
     "output_type": "stream",
     "text": [
      "\r",
      " 25%|█████████▉                              | 254/1020 [08:32<25:32,  2.00s/it]"
     ]
    },
    {
     "name": "stdout",
     "output_type": "stream",
     "text": [
      "012419488493553732544_SFO2_106_0010_patch_aligned_doseweighted_bin_2.mrc masked successfully!\n"
     ]
    },
    {
     "name": "stderr",
     "output_type": "stream",
     "text": [
      "\r",
      " 25%|██████████                              | 255/1020 [08:34<25:27,  2.00s/it]"
     ]
    },
    {
     "name": "stdout",
     "output_type": "stream",
     "text": [
      "004238920774563654206_SFO2_104_0033_patch_aligned_doseweighted_bin_2.mrc masked successfully!\n"
     ]
    },
    {
     "name": "stderr",
     "output_type": "stream",
     "text": [
      "\r",
      " 25%|██████████                              | 256/1020 [08:36<25:38,  2.01s/it]"
     ]
    },
    {
     "name": "stdout",
     "output_type": "stream",
     "text": [
      "015161816068787215776_SFO2_126_0015_patch_aligned_doseweighted_bin_2.mrc masked successfully!\n"
     ]
    },
    {
     "name": "stderr",
     "output_type": "stream",
     "text": [
      "\r",
      " 25%|██████████                              | 257/1020 [08:38<25:41,  2.02s/it]"
     ]
    },
    {
     "name": "stdout",
     "output_type": "stream",
     "text": [
      "016045628325813252254_SFO2_117_0029_patch_aligned_doseweighted_bin_2.mrc masked successfully!\n"
     ]
    },
    {
     "name": "stderr",
     "output_type": "stream",
     "text": [
      "\r",
      " 25%|██████████                              | 258/1020 [08:40<25:36,  2.02s/it]"
     ]
    },
    {
     "name": "stdout",
     "output_type": "stream",
     "text": [
      "000893426607179595746_SFO2_123_0016_patch_aligned_doseweighted_bin_2.mrc masked successfully!\n"
     ]
    },
    {
     "name": "stderr",
     "output_type": "stream",
     "text": [
      "\r",
      " 25%|██████████▏                             | 259/1020 [08:42<25:25,  2.01s/it]"
     ]
    },
    {
     "name": "stdout",
     "output_type": "stream",
     "text": [
      "002335058591208967189_SFO2_125_0021_patch_aligned_doseweighted_bin_2.mrc masked successfully!\n"
     ]
    },
    {
     "name": "stderr",
     "output_type": "stream",
     "text": [
      "\r",
      " 25%|██████████▏                             | 260/1020 [08:44<25:26,  2.01s/it]"
     ]
    },
    {
     "name": "stdout",
     "output_type": "stream",
     "text": [
      "006912819058487880833_SFO2_106_0036_patch_aligned_doseweighted_bin_2.mrc masked successfully!\n"
     ]
    },
    {
     "name": "stderr",
     "output_type": "stream",
     "text": [
      "\r",
      " 26%|██████████▏                             | 261/1020 [08:46<25:24,  2.01s/it]"
     ]
    },
    {
     "name": "stdout",
     "output_type": "stream",
     "text": [
      "015696116437949313805_SFO2_109_0022_patch_aligned_doseweighted_bin_2.mrc masked successfully!\n"
     ]
    },
    {
     "name": "stderr",
     "output_type": "stream",
     "text": [
      "\r",
      " 26%|██████████▎                             | 262/1020 [08:48<25:31,  2.02s/it]"
     ]
    },
    {
     "name": "stdout",
     "output_type": "stream",
     "text": [
      "006978572350751069693_SFO2_126_0001_patch_aligned_doseweighted_bin_2.mrc masked successfully!\n"
     ]
    },
    {
     "name": "stderr",
     "output_type": "stream",
     "text": [
      "\r",
      " 26%|██████████▎                             | 263/1020 [08:50<25:16,  2.00s/it]"
     ]
    },
    {
     "name": "stdout",
     "output_type": "stream",
     "text": [
      "006712970087833286238_SFO2_110_0028_patch_aligned_doseweighted_bin_2.mrc masked successfully!\n"
     ]
    },
    {
     "name": "stderr",
     "output_type": "stream",
     "text": [
      "\r",
      " 26%|██████████▎                             | 264/1020 [08:52<25:23,  2.02s/it]"
     ]
    },
    {
     "name": "stdout",
     "output_type": "stream",
     "text": [
      "011820936201925075864_SFO2_123_0003_patch_aligned_doseweighted_bin_2.mrc masked successfully!\n"
     ]
    },
    {
     "name": "stderr",
     "output_type": "stream",
     "text": [
      "\r",
      " 26%|██████████▍                             | 265/1020 [08:54<25:20,  2.01s/it]"
     ]
    },
    {
     "name": "stdout",
     "output_type": "stream",
     "text": [
      "000071663384153430717_SFO2_116_0015_patch_aligned_doseweighted_bin_2.mrc masked successfully!\n"
     ]
    },
    {
     "name": "stderr",
     "output_type": "stream",
     "text": [
      "\r",
      " 26%|██████████▍                             | 266/1020 [08:56<24:56,  1.98s/it]"
     ]
    },
    {
     "name": "stdout",
     "output_type": "stream",
     "text": [
      "006931930414525826788_SFO2_117_0019_patch_aligned_doseweighted_bin_2.mrc masked successfully!\n"
     ]
    },
    {
     "name": "stderr",
     "output_type": "stream",
     "text": [
      "\r",
      " 26%|██████████▍                             | 267/1020 [08:58<25:00,  1.99s/it]"
     ]
    },
    {
     "name": "stdout",
     "output_type": "stream",
     "text": [
      "004390001010496088307_SFO2_124_0004_patch_aligned_doseweighted_bin_2.mrc masked successfully!\n"
     ]
    },
    {
     "name": "stderr",
     "output_type": "stream",
     "text": [
      "\r",
      " 26%|██████████▌                             | 268/1020 [09:00<25:06,  2.00s/it]"
     ]
    },
    {
     "name": "stdout",
     "output_type": "stream",
     "text": [
      "017223731491089929147_SFO2_114_0027_patch_aligned_doseweighted_bin_2.mrc masked successfully!\n"
     ]
    },
    {
     "name": "stderr",
     "output_type": "stream",
     "text": [
      "\r",
      " 26%|██████████▌                             | 269/1020 [09:02<25:24,  2.03s/it]"
     ]
    },
    {
     "name": "stdout",
     "output_type": "stream",
     "text": [
      "002067852580541272125_SFO2_112_0027_patch_aligned_doseweighted_bin_2.mrc masked successfully!\n"
     ]
    },
    {
     "name": "stderr",
     "output_type": "stream",
     "text": [
      "\r",
      " 26%|██████████▌                             | 270/1020 [09:04<25:24,  2.03s/it]"
     ]
    },
    {
     "name": "stdout",
     "output_type": "stream",
     "text": [
      "016707352103897909728_SFO2_108_0013_patch_aligned_doseweighted_bin_2.mrc masked successfully!\n"
     ]
    },
    {
     "name": "stderr",
     "output_type": "stream",
     "text": [
      "\r",
      " 27%|██████████▋                             | 271/1020 [09:07<25:25,  2.04s/it]"
     ]
    },
    {
     "name": "stdout",
     "output_type": "stream",
     "text": [
      "008159594543112302253_SFO2_120_0018_patch_aligned_doseweighted_bin_2.mrc masked successfully!\n"
     ]
    },
    {
     "name": "stderr",
     "output_type": "stream",
     "text": [
      "\r",
      " 27%|██████████▋                             | 272/1020 [09:08<25:02,  2.01s/it]"
     ]
    },
    {
     "name": "stdout",
     "output_type": "stream",
     "text": [
      "007082764931172548732_SFO2_124_0036_patch_aligned_doseweighted_bin_2.mrc masked successfully!\n"
     ]
    },
    {
     "name": "stderr",
     "output_type": "stream",
     "text": [
      "\r",
      " 27%|██████████▋                             | 273/1020 [09:11<25:11,  2.02s/it]"
     ]
    },
    {
     "name": "stdout",
     "output_type": "stream",
     "text": [
      "015399459249155803903_SFO2_127_0019_patch_aligned_doseweighted_bin_2.mrc masked successfully!\n"
     ]
    },
    {
     "name": "stderr",
     "output_type": "stream",
     "text": [
      "\r",
      " 27%|██████████▋                             | 274/1020 [09:13<25:15,  2.03s/it]"
     ]
    },
    {
     "name": "stdout",
     "output_type": "stream",
     "text": [
      "017349948939081861833_SFO2_119_0010_patch_aligned_doseweighted_bin_2.mrc masked successfully!\n"
     ]
    },
    {
     "name": "stderr",
     "output_type": "stream",
     "text": [
      "\r",
      " 27%|██████████▊                             | 275/1020 [09:15<25:21,  2.04s/it]"
     ]
    },
    {
     "name": "stdout",
     "output_type": "stream",
     "text": [
      "013624508242392055839_SFO2_104_0020_patch_aligned_doseweighted_bin_2.mrc masked successfully!\n"
     ]
    },
    {
     "name": "stderr",
     "output_type": "stream",
     "text": [
      "\r",
      " 27%|██████████▊                             | 276/1020 [09:17<25:06,  2.02s/it]"
     ]
    },
    {
     "name": "stdout",
     "output_type": "stream",
     "text": [
      "003286785000103295230_SFO2_120_0020_patch_aligned_doseweighted_bin_2.mrc masked successfully!\n"
     ]
    },
    {
     "name": "stderr",
     "output_type": "stream",
     "text": [
      "\r",
      " 27%|██████████▊                             | 277/1020 [09:19<25:05,  2.03s/it]"
     ]
    },
    {
     "name": "stdout",
     "output_type": "stream",
     "text": [
      "001971776518653141859_SFO2_105_0007_patch_aligned_doseweighted_bin_2.mrc masked successfully!\n"
     ]
    },
    {
     "name": "stderr",
     "output_type": "stream",
     "text": [
      "\r",
      " 27%|██████████▉                             | 278/1020 [09:21<25:15,  2.04s/it]"
     ]
    },
    {
     "name": "stdout",
     "output_type": "stream",
     "text": [
      "013153548718369288784_SFO2_127_0017_patch_aligned_doseweighted_bin_2.mrc masked successfully!\n"
     ]
    },
    {
     "name": "stderr",
     "output_type": "stream",
     "text": [
      "\r",
      " 27%|██████████▉                             | 279/1020 [09:23<25:12,  2.04s/it]"
     ]
    },
    {
     "name": "stdout",
     "output_type": "stream",
     "text": [
      "015018068471700914591_SFO2_119_0021_patch_aligned_doseweighted_bin_2.mrc masked successfully!\n"
     ]
    },
    {
     "name": "stderr",
     "output_type": "stream",
     "text": [
      "\r",
      " 27%|██████████▉                             | 280/1020 [09:25<25:07,  2.04s/it]"
     ]
    },
    {
     "name": "stdout",
     "output_type": "stream",
     "text": [
      "000917170915973151589_SFO2_105_0025_patch_aligned_doseweighted_bin_2.mrc masked successfully!\n"
     ]
    },
    {
     "name": "stderr",
     "output_type": "stream",
     "text": [
      "\r",
      " 28%|███████████                             | 281/1020 [09:27<25:14,  2.05s/it]"
     ]
    },
    {
     "name": "stdout",
     "output_type": "stream",
     "text": [
      "010812969242461630529_SFO2_117_0031_patch_aligned_doseweighted_bin_2.mrc masked successfully!\n"
     ]
    },
    {
     "name": "stderr",
     "output_type": "stream",
     "text": [
      "\r",
      " 28%|███████████                             | 282/1020 [09:29<25:11,  2.05s/it]"
     ]
    },
    {
     "name": "stdout",
     "output_type": "stream",
     "text": [
      "012616328194536819261_SFO2_116_0023_patch_aligned_doseweighted_bin_2.mrc masked successfully!\n"
     ]
    },
    {
     "name": "stderr",
     "output_type": "stream",
     "text": [
      "\r",
      " 28%|███████████                             | 283/1020 [09:31<25:03,  2.04s/it]"
     ]
    },
    {
     "name": "stdout",
     "output_type": "stream",
     "text": [
      "000682838384981366848_SFO2_101_0032_patch_aligned_doseweighted_bin_2.mrc masked successfully!\n"
     ]
    },
    {
     "name": "stderr",
     "output_type": "stream",
     "text": [
      "\r",
      " 28%|███████████▏                            | 284/1020 [09:33<25:06,  2.05s/it]"
     ]
    },
    {
     "name": "stdout",
     "output_type": "stream",
     "text": [
      "011573816749348211023_SFO2_125_0019_patch_aligned_doseweighted_bin_2.mrc masked successfully!\n"
     ]
    },
    {
     "name": "stderr",
     "output_type": "stream",
     "text": [
      "\r",
      " 28%|███████████▏                            | 285/1020 [09:35<25:07,  2.05s/it]"
     ]
    },
    {
     "name": "stdout",
     "output_type": "stream",
     "text": [
      "016100868061490727507_SFO2_105_0002_patch_aligned_doseweighted_bin_2.mrc masked successfully!\n"
     ]
    },
    {
     "name": "stderr",
     "output_type": "stream",
     "text": [
      "\r",
      " 28%|███████████▏                            | 286/1020 [09:37<25:05,  2.05s/it]"
     ]
    },
    {
     "name": "stdout",
     "output_type": "stream",
     "text": [
      "002368216176928459864_SFO2_114_0006_patch_aligned_doseweighted_bin_2.mrc masked successfully!\n"
     ]
    },
    {
     "name": "stderr",
     "output_type": "stream",
     "text": [
      "\r",
      " 28%|███████████▎                            | 287/1020 [09:39<25:15,  2.07s/it]"
     ]
    },
    {
     "name": "stdout",
     "output_type": "stream",
     "text": [
      "000031220176720822115_SFO2_125_0011_patch_aligned_doseweighted_bin_2.mrc masked successfully!\n"
     ]
    },
    {
     "name": "stderr",
     "output_type": "stream",
     "text": [
      "\r",
      " 28%|███████████▎                            | 288/1020 [09:41<24:57,  2.05s/it]"
     ]
    },
    {
     "name": "stdout",
     "output_type": "stream",
     "text": [
      "000022735715047590394_SFO2_118_0019_patch_aligned_doseweighted_bin_2.mrc masked successfully!\n"
     ]
    },
    {
     "name": "stderr",
     "output_type": "stream",
     "text": [
      "\r",
      " 28%|███████████▎                            | 289/1020 [09:43<24:42,  2.03s/it]"
     ]
    },
    {
     "name": "stdout",
     "output_type": "stream",
     "text": [
      "010789709633765496509_SFO2_104_0015_patch_aligned_doseweighted_bin_2.mrc masked successfully!\n"
     ]
    },
    {
     "name": "stderr",
     "output_type": "stream",
     "text": [
      "\r",
      " 28%|███████████▎                            | 290/1020 [09:45<24:54,  2.05s/it]"
     ]
    },
    {
     "name": "stdout",
     "output_type": "stream",
     "text": [
      "012941955183629410819_SFO2_127_0030_patch_aligned_doseweighted_bin_2.mrc masked successfully!\n"
     ]
    },
    {
     "name": "stderr",
     "output_type": "stream",
     "text": [
      "\r",
      " 29%|███████████▍                            | 291/1020 [09:47<24:50,  2.04s/it]"
     ]
    },
    {
     "name": "stdout",
     "output_type": "stream",
     "text": [
      "000509031858530397646_SFO2_121_0019_patch_aligned_doseweighted_bin_2.mrc masked successfully!\n"
     ]
    },
    {
     "name": "stderr",
     "output_type": "stream",
     "text": [
      "\r",
      " 29%|███████████▍                            | 292/1020 [09:49<24:50,  2.05s/it]"
     ]
    },
    {
     "name": "stdout",
     "output_type": "stream",
     "text": [
      "014294139032541378407_SFO2_115_0011_patch_aligned_doseweighted_bin_2.mrc masked successfully!\n"
     ]
    },
    {
     "name": "stderr",
     "output_type": "stream",
     "text": [
      "\r",
      " 29%|███████████▍                            | 293/1020 [09:51<24:56,  2.06s/it]"
     ]
    },
    {
     "name": "stdout",
     "output_type": "stream",
     "text": [
      "014573166147874620417_SFO2_107_0017_patch_aligned_doseweighted_bin_2.mrc masked successfully!\n"
     ]
    },
    {
     "name": "stderr",
     "output_type": "stream",
     "text": [
      "\r",
      " 29%|███████████▌                            | 294/1020 [09:53<24:45,  2.05s/it]"
     ]
    },
    {
     "name": "stdout",
     "output_type": "stream",
     "text": [
      "009804784318947946016_SFO2_122_0015_patch_aligned_doseweighted_bin_2.mrc masked successfully!\n"
     ]
    },
    {
     "name": "stderr",
     "output_type": "stream",
     "text": [
      "\r",
      " 29%|███████████▌                            | 295/1020 [09:56<24:39,  2.04s/it]"
     ]
    },
    {
     "name": "stdout",
     "output_type": "stream",
     "text": [
      "009580407136494761479_SFO2_106_0016_patch_aligned_doseweighted_bin_2.mrc masked successfully!\n"
     ]
    },
    {
     "name": "stderr",
     "output_type": "stream",
     "text": [
      "\r",
      " 29%|███████████▌                            | 296/1020 [09:58<24:44,  2.05s/it]"
     ]
    },
    {
     "name": "stdout",
     "output_type": "stream",
     "text": [
      "003666486936263520586_SFO2_109_0021_patch_aligned_doseweighted_bin_2.mrc masked successfully!\n"
     ]
    },
    {
     "name": "stderr",
     "output_type": "stream",
     "text": [
      "\r",
      " 29%|███████████▋                            | 297/1020 [10:00<24:35,  2.04s/it]"
     ]
    },
    {
     "name": "stdout",
     "output_type": "stream",
     "text": [
      "002900071781182539734_SFO2_111_0007_patch_aligned_doseweighted_bin_2.mrc masked successfully!\n"
     ]
    },
    {
     "name": "stderr",
     "output_type": "stream",
     "text": [
      "\r",
      " 29%|███████████▋                            | 298/1020 [10:02<24:45,  2.06s/it]"
     ]
    },
    {
     "name": "stdout",
     "output_type": "stream",
     "text": [
      "010733345030936299593_SFO2_106_0034_patch_aligned_doseweighted_bin_2.mrc masked successfully!\n"
     ]
    },
    {
     "name": "stderr",
     "output_type": "stream",
     "text": [
      "\r",
      " 29%|███████████▋                            | 299/1020 [10:04<24:48,  2.06s/it]"
     ]
    },
    {
     "name": "stdout",
     "output_type": "stream",
     "text": [
      "004636834215900284188_SFO2_121_0013_patch_aligned_doseweighted_bin_2.mrc masked successfully!\n"
     ]
    },
    {
     "name": "stderr",
     "output_type": "stream",
     "text": [
      "\r",
      " 29%|███████████▊                            | 300/1020 [10:06<24:33,  2.05s/it]"
     ]
    },
    {
     "name": "stdout",
     "output_type": "stream",
     "text": [
      "003817862321367481589_SFO2_106_0019_patch_aligned_doseweighted_bin_2.mrc masked successfully!\n"
     ]
    },
    {
     "name": "stderr",
     "output_type": "stream",
     "text": [
      "\r",
      " 30%|███████████▊                            | 301/1020 [10:08<24:39,  2.06s/it]"
     ]
    },
    {
     "name": "stdout",
     "output_type": "stream",
     "text": [
      "008166707698515389991_SFO2_121_0011_patch_aligned_doseweighted_bin_2.mrc masked successfully!\n"
     ]
    },
    {
     "name": "stderr",
     "output_type": "stream",
     "text": [
      "\r",
      " 30%|███████████▊                            | 302/1020 [10:10<24:24,  2.04s/it]"
     ]
    },
    {
     "name": "stdout",
     "output_type": "stream",
     "text": [
      "016036520596157998908_SFO2_117_0032_patch_aligned_doseweighted_bin_2.mrc masked successfully!\n"
     ]
    },
    {
     "name": "stderr",
     "output_type": "stream",
     "text": [
      "\r",
      " 30%|███████████▉                            | 303/1020 [10:12<24:19,  2.04s/it]"
     ]
    },
    {
     "name": "stdout",
     "output_type": "stream",
     "text": [
      "011662165378027962852_SFO2_127_0015_patch_aligned_doseweighted_bin_2.mrc masked successfully!\n"
     ]
    },
    {
     "name": "stderr",
     "output_type": "stream",
     "text": [
      "\r",
      " 30%|███████████▉                            | 304/1020 [10:14<24:16,  2.03s/it]"
     ]
    },
    {
     "name": "stdout",
     "output_type": "stream",
     "text": [
      "017409593302563884707_SFO2_112_0023_patch_aligned_doseweighted_bin_2.mrc masked successfully!\n"
     ]
    },
    {
     "name": "stderr",
     "output_type": "stream",
     "text": [
      "\r",
      " 30%|███████████▉                            | 305/1020 [10:16<24:20,  2.04s/it]"
     ]
    },
    {
     "name": "stdout",
     "output_type": "stream",
     "text": [
      "003201894307293138198_SFO2_116_0027_patch_aligned_doseweighted_bin_2.mrc masked successfully!\n"
     ]
    },
    {
     "name": "stderr",
     "output_type": "stream",
     "text": [
      "\r",
      " 30%|████████████                            | 306/1020 [10:18<24:26,  2.05s/it]"
     ]
    },
    {
     "name": "stdout",
     "output_type": "stream",
     "text": [
      "009042762759060343123_SFO2_120_0033_patch_aligned_doseweighted_bin_2.mrc masked successfully!\n"
     ]
    },
    {
     "name": "stderr",
     "output_type": "stream",
     "text": [
      "\r",
      " 30%|████████████                            | 307/1020 [10:20<24:21,  2.05s/it]"
     ]
    },
    {
     "name": "stdout",
     "output_type": "stream",
     "text": [
      "012506187652201941306_SFO2_120_0001_patch_aligned_doseweighted_bin_2.mrc masked successfully!\n"
     ]
    },
    {
     "name": "stderr",
     "output_type": "stream",
     "text": [
      "\r",
      " 30%|████████████                            | 308/1020 [10:22<24:15,  2.04s/it]"
     ]
    },
    {
     "name": "stdout",
     "output_type": "stream",
     "text": [
      "013018576404142310158_SFO2_109_0005_patch_aligned_doseweighted_bin_2.mrc masked successfully!\n"
     ]
    },
    {
     "name": "stderr",
     "output_type": "stream",
     "text": [
      "\r",
      " 30%|████████████                            | 309/1020 [10:24<24:14,  2.05s/it]"
     ]
    },
    {
     "name": "stdout",
     "output_type": "stream",
     "text": [
      "014645881327793705543_SFO2_118_0029_patch_aligned_doseweighted_bin_2.mrc masked successfully!\n"
     ]
    },
    {
     "name": "stderr",
     "output_type": "stream",
     "text": [
      "\r",
      " 30%|████████████▏                           | 310/1020 [10:26<24:07,  2.04s/it]"
     ]
    },
    {
     "name": "stdout",
     "output_type": "stream",
     "text": [
      "011346176747017615542_SFO2_111_0001_patch_aligned_doseweighted_bin_2.mrc masked successfully!\n"
     ]
    },
    {
     "name": "stderr",
     "output_type": "stream",
     "text": [
      "\r",
      " 30%|████████████▏                           | 311/1020 [10:28<24:19,  2.06s/it]"
     ]
    },
    {
     "name": "stdout",
     "output_type": "stream",
     "text": [
      "004500911772174603244_SFO2_124_0024_patch_aligned_doseweighted_bin_2.mrc masked successfully!\n"
     ]
    },
    {
     "name": "stderr",
     "output_type": "stream",
     "text": [
      "\r",
      " 31%|████████████▏                           | 312/1020 [10:30<24:14,  2.05s/it]"
     ]
    },
    {
     "name": "stdout",
     "output_type": "stream",
     "text": [
      "001146668254578331844_SFO2_121_0018_patch_aligned_doseweighted_bin_2.mrc masked successfully!\n"
     ]
    },
    {
     "name": "stderr",
     "output_type": "stream",
     "text": [
      "\r",
      " 31%|████████████▎                           | 313/1020 [10:32<23:55,  2.03s/it]"
     ]
    },
    {
     "name": "stdout",
     "output_type": "stream",
     "text": [
      "002002896355733477234_SFO2_112_0036_patch_aligned_doseweighted_bin_2.mrc masked successfully!\n"
     ]
    },
    {
     "name": "stderr",
     "output_type": "stream",
     "text": [
      "\r",
      " 31%|████████████▎                           | 314/1020 [10:34<23:50,  2.03s/it]"
     ]
    },
    {
     "name": "stdout",
     "output_type": "stream",
     "text": [
      "014161906486489154063_SFO2_101_0028_patch_aligned_doseweighted_bin_2.mrc masked successfully!\n"
     ]
    },
    {
     "name": "stderr",
     "output_type": "stream",
     "text": [
      "\r",
      " 31%|████████████▎                           | 315/1020 [10:36<23:55,  2.04s/it]"
     ]
    },
    {
     "name": "stdout",
     "output_type": "stream",
     "text": [
      "004510849956448307638_SFO2_101_0012_patch_aligned_doseweighted_bin_2.mrc masked successfully!\n"
     ]
    },
    {
     "name": "stderr",
     "output_type": "stream",
     "text": [
      "\r",
      " 31%|████████████▍                           | 316/1020 [10:38<23:51,  2.03s/it]"
     ]
    },
    {
     "name": "stdout",
     "output_type": "stream",
     "text": [
      "016441165118305510754_SFO2_122_0033_patch_aligned_doseweighted_bin_2.mrc masked successfully!\n"
     ]
    },
    {
     "name": "stderr",
     "output_type": "stream",
     "text": [
      "\r",
      " 31%|████████████▍                           | 317/1020 [10:40<23:49,  2.03s/it]"
     ]
    },
    {
     "name": "stdout",
     "output_type": "stream",
     "text": [
      "003571328743360004284_SFO2_119_0014_patch_aligned_doseweighted_bin_2.mrc masked successfully!\n"
     ]
    },
    {
     "name": "stderr",
     "output_type": "stream",
     "text": [
      "\r",
      " 31%|████████████▍                           | 318/1020 [10:43<23:49,  2.04s/it]"
     ]
    },
    {
     "name": "stdout",
     "output_type": "stream",
     "text": [
      "014415476302846475200_SFO2_113_0034_patch_aligned_doseweighted_bin_2.mrc masked successfully!\n"
     ]
    },
    {
     "name": "stderr",
     "output_type": "stream",
     "text": [
      "\r",
      " 31%|████████████▌                           | 319/1020 [10:45<23:54,  2.05s/it]"
     ]
    },
    {
     "name": "stdout",
     "output_type": "stream",
     "text": [
      "003747128149766789131_SFO2_100_0003_patch_aligned_doseweighted_bin_2.mrc masked successfully!\n"
     ]
    },
    {
     "name": "stderr",
     "output_type": "stream",
     "text": [
      "\r",
      " 31%|████████████▌                           | 320/1020 [10:47<23:49,  2.04s/it]"
     ]
    },
    {
     "name": "stdout",
     "output_type": "stream",
     "text": [
      "005536464326489742894_SFO2_115_0019_patch_aligned_doseweighted_bin_2.mrc masked successfully!\n"
     ]
    },
    {
     "name": "stderr",
     "output_type": "stream",
     "text": [
      "\r",
      " 31%|████████████▌                           | 321/1020 [10:49<23:42,  2.03s/it]"
     ]
    },
    {
     "name": "stdout",
     "output_type": "stream",
     "text": [
      "007151707489315846714_SFO2_118_0010_patch_aligned_doseweighted_bin_2.mrc masked successfully!\n"
     ]
    },
    {
     "name": "stderr",
     "output_type": "stream",
     "text": [
      "\r",
      " 32%|████████████▋                           | 322/1020 [10:51<23:38,  2.03s/it]"
     ]
    },
    {
     "name": "stdout",
     "output_type": "stream",
     "text": [
      "008402034477369503099_SFO2_117_0035_patch_aligned_doseweighted_bin_2.mrc masked successfully!\n"
     ]
    },
    {
     "name": "stderr",
     "output_type": "stream",
     "text": [
      "\r",
      " 32%|████████████▋                           | 323/1020 [10:53<23:33,  2.03s/it]"
     ]
    },
    {
     "name": "stdout",
     "output_type": "stream",
     "text": [
      "008014517403546376496_SFO2_123_0024_patch_aligned_doseweighted_bin_2.mrc masked successfully!\n"
     ]
    },
    {
     "name": "stderr",
     "output_type": "stream",
     "text": [
      "\r",
      " 32%|████████████▋                           | 324/1020 [10:55<23:34,  2.03s/it]"
     ]
    },
    {
     "name": "stdout",
     "output_type": "stream",
     "text": [
      "011371810058992212146_SFO2_107_0035_patch_aligned_doseweighted_bin_2.mrc masked successfully!\n"
     ]
    },
    {
     "name": "stderr",
     "output_type": "stream",
     "text": [
      "\r",
      " 32%|████████████▋                           | 325/1020 [10:57<23:28,  2.03s/it]"
     ]
    },
    {
     "name": "stdout",
     "output_type": "stream",
     "text": [
      "005076464786744622140_SFO2_109_0010_patch_aligned_doseweighted_bin_2.mrc masked successfully!\n"
     ]
    },
    {
     "name": "stderr",
     "output_type": "stream",
     "text": [
      "\r",
      " 32%|████████████▊                           | 326/1020 [10:59<23:28,  2.03s/it]"
     ]
    },
    {
     "name": "stdout",
     "output_type": "stream",
     "text": [
      "013326249587715301435_SFO2_104_0004_patch_aligned_doseweighted_bin_2.mrc masked successfully!\n"
     ]
    },
    {
     "name": "stderr",
     "output_type": "stream",
     "text": [
      "\r",
      " 32%|████████████▊                           | 327/1020 [11:01<23:16,  2.02s/it]"
     ]
    },
    {
     "name": "stdout",
     "output_type": "stream",
     "text": [
      "013581070638266611915_SFO2_104_0017_patch_aligned_doseweighted_bin_2.mrc masked successfully!\n"
     ]
    },
    {
     "name": "stderr",
     "output_type": "stream",
     "text": [
      "\r",
      " 32%|████████████▊                           | 328/1020 [11:03<23:17,  2.02s/it]"
     ]
    },
    {
     "name": "stdout",
     "output_type": "stream",
     "text": [
      "004776834821122324612_SFO2_105_0022_patch_aligned_doseweighted_bin_2.mrc masked successfully!\n"
     ]
    },
    {
     "name": "stderr",
     "output_type": "stream",
     "text": [
      "\r",
      " 32%|████████████▉                           | 329/1020 [11:05<23:25,  2.03s/it]"
     ]
    },
    {
     "name": "stdout",
     "output_type": "stream",
     "text": [
      "005766040430308519682_SFO2_110_0004_patch_aligned_doseweighted_bin_2.mrc masked successfully!\n"
     ]
    },
    {
     "name": "stderr",
     "output_type": "stream",
     "text": [
      "\r",
      " 32%|████████████▉                           | 330/1020 [11:07<23:26,  2.04s/it]"
     ]
    },
    {
     "name": "stdout",
     "output_type": "stream",
     "text": [
      "003420749010384297723_SFO2_105_0006_patch_aligned_doseweighted_bin_2.mrc masked successfully!\n"
     ]
    },
    {
     "name": "stderr",
     "output_type": "stream",
     "text": [
      "\r",
      " 32%|████████████▉                           | 331/1020 [11:09<23:22,  2.04s/it]"
     ]
    },
    {
     "name": "stdout",
     "output_type": "stream",
     "text": [
      "015646231591870877918_SFO2_105_0020_patch_aligned_doseweighted_bin_2.mrc masked successfully!\n"
     ]
    },
    {
     "name": "stderr",
     "output_type": "stream",
     "text": [
      "\r",
      " 33%|█████████████                           | 332/1020 [11:11<23:44,  2.07s/it]"
     ]
    },
    {
     "name": "stdout",
     "output_type": "stream",
     "text": [
      "008175571251258524278_SFO2_116_0008_patch_aligned_doseweighted_bin_2.mrc masked successfully!\n"
     ]
    },
    {
     "name": "stderr",
     "output_type": "stream",
     "text": [
      "\r",
      " 33%|█████████████                           | 333/1020 [11:13<23:29,  2.05s/it]"
     ]
    },
    {
     "name": "stdout",
     "output_type": "stream",
     "text": [
      "013261829718474410174_SFO2_102_0020_patch_aligned_doseweighted_bin_2.mrc masked successfully!\n"
     ]
    },
    {
     "name": "stderr",
     "output_type": "stream",
     "text": [
      "\r",
      " 33%|█████████████                           | 334/1020 [11:15<23:12,  2.03s/it]"
     ]
    },
    {
     "name": "stdout",
     "output_type": "stream",
     "text": [
      "010215576105472586935_SFO2_122_0027_patch_aligned_doseweighted_bin_2.mrc masked successfully!\n"
     ]
    },
    {
     "name": "stderr",
     "output_type": "stream",
     "text": [
      "\r",
      " 33%|█████████████▏                          | 335/1020 [11:17<23:04,  2.02s/it]"
     ]
    },
    {
     "name": "stdout",
     "output_type": "stream",
     "text": [
      "009767593517230829526_SFO2_128_0005_patch_aligned_doseweighted_bin_2.mrc masked successfully!\n"
     ]
    },
    {
     "name": "stderr",
     "output_type": "stream",
     "text": [
      "\r",
      " 33%|█████████████▏                          | 336/1020 [11:19<23:08,  2.03s/it]"
     ]
    },
    {
     "name": "stdout",
     "output_type": "stream",
     "text": [
      "010305525141359141469_SFO2_100_0029_patch_aligned_doseweighted_bin_2.mrc masked successfully!\n"
     ]
    },
    {
     "name": "stderr",
     "output_type": "stream",
     "text": [
      "\r",
      " 33%|█████████████▏                          | 337/1020 [11:21<23:01,  2.02s/it]"
     ]
    },
    {
     "name": "stdout",
     "output_type": "stream",
     "text": [
      "009290896533179882367_SFO2_127_0018_patch_aligned_doseweighted_bin_2.mrc masked successfully!\n"
     ]
    },
    {
     "name": "stderr",
     "output_type": "stream",
     "text": [
      "\r",
      " 33%|█████████████▎                          | 338/1020 [11:23<22:58,  2.02s/it]"
     ]
    },
    {
     "name": "stdout",
     "output_type": "stream",
     "text": [
      "008425505761067933210_SFO2_103_0034_patch_aligned_doseweighted_bin_2.mrc masked successfully!\n"
     ]
    },
    {
     "name": "stderr",
     "output_type": "stream",
     "text": [
      "\r",
      " 33%|█████████████▎                          | 339/1020 [11:25<22:52,  2.02s/it]"
     ]
    },
    {
     "name": "stdout",
     "output_type": "stream",
     "text": [
      "017751995590274861993_SFO2_124_0031_patch_aligned_doseweighted_bin_2.mrc masked successfully!\n"
     ]
    },
    {
     "name": "stderr",
     "output_type": "stream",
     "text": [
      "\r",
      " 33%|█████████████▎                          | 340/1020 [11:27<22:50,  2.02s/it]"
     ]
    },
    {
     "name": "stdout",
     "output_type": "stream",
     "text": [
      "008569265836627883232_SFO2_122_0003_patch_aligned_doseweighted_bin_2.mrc masked successfully!\n"
     ]
    },
    {
     "name": "stderr",
     "output_type": "stream",
     "text": [
      "\r",
      " 33%|█████████████▎                          | 341/1020 [11:29<22:38,  2.00s/it]"
     ]
    },
    {
     "name": "stdout",
     "output_type": "stream",
     "text": [
      "008922440952728467162_SFO2_109_0031_patch_aligned_doseweighted_bin_2.mrc masked successfully!\n"
     ]
    },
    {
     "name": "stderr",
     "output_type": "stream",
     "text": [
      "\r",
      " 34%|█████████████▍                          | 342/1020 [11:31<22:48,  2.02s/it]"
     ]
    },
    {
     "name": "stdout",
     "output_type": "stream",
     "text": [
      "009637976676270111052_SFO2_100_0030_patch_aligned_doseweighted_bin_2.mrc masked successfully!\n"
     ]
    },
    {
     "name": "stderr",
     "output_type": "stream",
     "text": [
      "\r",
      " 34%|█████████████▍                          | 343/1020 [11:33<22:52,  2.03s/it]"
     ]
    },
    {
     "name": "stdout",
     "output_type": "stream",
     "text": [
      "003664047157196219023_SFO2_112_0019_patch_aligned_doseweighted_bin_2.mrc masked successfully!\n"
     ]
    },
    {
     "name": "stderr",
     "output_type": "stream",
     "text": [
      "\r",
      " 34%|█████████████▍                          | 344/1020 [11:35<23:02,  2.05s/it]"
     ]
    },
    {
     "name": "stdout",
     "output_type": "stream",
     "text": [
      "012113630602625643628_SFO2_106_0002_patch_aligned_doseweighted_bin_2.mrc masked successfully!\n"
     ]
    },
    {
     "name": "stderr",
     "output_type": "stream",
     "text": [
      "\r",
      " 34%|█████████████▌                          | 345/1020 [11:38<23:39,  2.10s/it]"
     ]
    },
    {
     "name": "stdout",
     "output_type": "stream",
     "text": [
      "007168410554005230529_SFO2_123_0028_patch_aligned_doseweighted_bin_2.mrc masked successfully!\n"
     ]
    },
    {
     "name": "stderr",
     "output_type": "stream",
     "text": [
      "\r",
      " 34%|█████████████▌                          | 346/1020 [11:40<23:34,  2.10s/it]"
     ]
    },
    {
     "name": "stdout",
     "output_type": "stream",
     "text": [
      "006819866515927774592_SFO2_119_0028_patch_aligned_doseweighted_bin_2.mrc masked successfully!\n"
     ]
    },
    {
     "name": "stderr",
     "output_type": "stream",
     "text": [
      "\r",
      " 34%|█████████████▌                          | 347/1020 [11:42<23:32,  2.10s/it]"
     ]
    },
    {
     "name": "stdout",
     "output_type": "stream",
     "text": [
      "008611362275684723002_SFO2_119_0001_patch_aligned_doseweighted_bin_2.mrc masked successfully!\n"
     ]
    },
    {
     "name": "stderr",
     "output_type": "stream",
     "text": [
      "\r",
      " 34%|█████████████▋                          | 348/1020 [11:44<23:07,  2.06s/it]"
     ]
    },
    {
     "name": "stdout",
     "output_type": "stream",
     "text": [
      "014208241724301928250_SFO2_102_0027_patch_aligned_doseweighted_bin_2.mrc masked successfully!\n"
     ]
    },
    {
     "name": "stderr",
     "output_type": "stream",
     "text": [
      "\r",
      " 34%|█████████████▋                          | 349/1020 [11:46<22:54,  2.05s/it]"
     ]
    },
    {
     "name": "stdout",
     "output_type": "stream",
     "text": [
      "006148582497962777127_SFO2_109_0001_patch_aligned_doseweighted_bin_2.mrc masked successfully!\n"
     ]
    },
    {
     "name": "stderr",
     "output_type": "stream",
     "text": [
      "\r",
      " 34%|█████████████▋                          | 350/1020 [11:48<22:30,  2.02s/it]"
     ]
    },
    {
     "name": "stdout",
     "output_type": "stream",
     "text": [
      "009114525032725609955_SFO2_118_0022_patch_aligned_doseweighted_bin_2.mrc masked successfully!\n"
     ]
    },
    {
     "name": "stderr",
     "output_type": "stream",
     "text": [
      "\r",
      " 34%|█████████████▊                          | 351/1020 [11:50<22:37,  2.03s/it]"
     ]
    },
    {
     "name": "stdout",
     "output_type": "stream",
     "text": [
      "003985633454600341471_SFO2_103_0001_patch_aligned_doseweighted_bin_2.mrc masked successfully!\n"
     ]
    },
    {
     "name": "stderr",
     "output_type": "stream",
     "text": [
      "\r",
      " 35%|█████████████▊                          | 352/1020 [11:52<22:29,  2.02s/it]"
     ]
    },
    {
     "name": "stdout",
     "output_type": "stream",
     "text": [
      "001792119804923109058_SFO2_117_0016_patch_aligned_doseweighted_bin_2.mrc masked successfully!\n"
     ]
    },
    {
     "name": "stderr",
     "output_type": "stream",
     "text": [
      "\r",
      " 35%|█████████████▊                          | 353/1020 [11:54<22:34,  2.03s/it]"
     ]
    },
    {
     "name": "stdout",
     "output_type": "stream",
     "text": [
      "000895381618257703133_SFO2_115_0034_patch_aligned_doseweighted_bin_2.mrc masked successfully!\n"
     ]
    },
    {
     "name": "stderr",
     "output_type": "stream",
     "text": [
      "\r",
      " 35%|█████████████▉                          | 354/1020 [11:56<22:48,  2.05s/it]"
     ]
    },
    {
     "name": "stdout",
     "output_type": "stream",
     "text": [
      "012953127192178384546_SFO2_117_0021_patch_aligned_doseweighted_bin_2.mrc masked successfully!\n"
     ]
    },
    {
     "name": "stderr",
     "output_type": "stream",
     "text": [
      "\r",
      " 35%|█████████████▉                          | 355/1020 [11:58<22:31,  2.03s/it]"
     ]
    },
    {
     "name": "stdout",
     "output_type": "stream",
     "text": [
      "017807780989271380447_SFO2_114_0016_patch_aligned_doseweighted_bin_2.mrc masked successfully!\n"
     ]
    },
    {
     "name": "stderr",
     "output_type": "stream",
     "text": [
      "\r",
      " 35%|█████████████▉                          | 356/1020 [12:00<22:33,  2.04s/it]"
     ]
    },
    {
     "name": "stdout",
     "output_type": "stream",
     "text": [
      "016416908214471745721_SFO2_101_0004_patch_aligned_doseweighted_bin_2.mrc masked successfully!\n"
     ]
    },
    {
     "name": "stderr",
     "output_type": "stream",
     "text": [
      "\r",
      " 35%|██████████████                          | 357/1020 [12:02<22:41,  2.05s/it]"
     ]
    },
    {
     "name": "stdout",
     "output_type": "stream",
     "text": [
      "001768987866148895779_SFO2_102_0015_patch_aligned_doseweighted_bin_2.mrc masked successfully!\n"
     ]
    },
    {
     "name": "stderr",
     "output_type": "stream",
     "text": [
      "\r",
      " 35%|██████████████                          | 358/1020 [12:04<22:32,  2.04s/it]"
     ]
    },
    {
     "name": "stdout",
     "output_type": "stream",
     "text": [
      "013021934302376605209_SFO2_110_0003_patch_aligned_doseweighted_bin_2.mrc masked successfully!\n"
     ]
    },
    {
     "name": "stderr",
     "output_type": "stream",
     "text": [
      "\r",
      " 35%|██████████████                          | 359/1020 [12:06<22:30,  2.04s/it]"
     ]
    },
    {
     "name": "stdout",
     "output_type": "stream",
     "text": [
      "006359787304868474172_SFO2_123_0023_patch_aligned_doseweighted_bin_2.mrc masked successfully!\n"
     ]
    },
    {
     "name": "stderr",
     "output_type": "stream",
     "text": [
      "\r",
      " 35%|██████████████                          | 360/1020 [12:08<22:27,  2.04s/it]"
     ]
    },
    {
     "name": "stdout",
     "output_type": "stream",
     "text": [
      "014769116451244681255_SFO2_118_0014_patch_aligned_doseweighted_bin_2.mrc masked successfully!\n"
     ]
    },
    {
     "name": "stderr",
     "output_type": "stream",
     "text": [
      "\r",
      " 35%|██████████████▏                         | 361/1020 [12:10<22:19,  2.03s/it]"
     ]
    },
    {
     "name": "stdout",
     "output_type": "stream",
     "text": [
      "015730488505477678221_SFO2_103_0008_patch_aligned_doseweighted_bin_2.mrc masked successfully!\n"
     ]
    },
    {
     "name": "stderr",
     "output_type": "stream",
     "text": [
      "\r",
      " 35%|██████████████▏                         | 362/1020 [12:12<22:22,  2.04s/it]"
     ]
    },
    {
     "name": "stdout",
     "output_type": "stream",
     "text": [
      "009719771447433858876_SFO2_118_0032_patch_aligned_doseweighted_bin_2.mrc masked successfully!\n"
     ]
    },
    {
     "name": "stderr",
     "output_type": "stream",
     "text": [
      "\r",
      " 36%|██████████████▏                         | 363/1020 [12:14<22:34,  2.06s/it]"
     ]
    },
    {
     "name": "stdout",
     "output_type": "stream",
     "text": [
      "017731916950506384285_SFO2_125_0032_patch_aligned_doseweighted_bin_2.mrc masked successfully!\n"
     ]
    },
    {
     "name": "stderr",
     "output_type": "stream",
     "text": [
      "\r",
      " 36%|██████████████▎                         | 364/1020 [12:16<22:22,  2.05s/it]"
     ]
    },
    {
     "name": "stdout",
     "output_type": "stream",
     "text": [
      "005325953835754063296_SFO2_114_0026_patch_aligned_doseweighted_bin_2.mrc masked successfully!\n"
     ]
    },
    {
     "name": "stderr",
     "output_type": "stream",
     "text": [
      "\r",
      " 36%|██████████████▎                         | 365/1020 [12:18<22:20,  2.05s/it]"
     ]
    },
    {
     "name": "stdout",
     "output_type": "stream",
     "text": [
      "016224276588581901479_SFO2_113_0013_patch_aligned_doseweighted_bin_2.mrc masked successfully!\n"
     ]
    },
    {
     "name": "stderr",
     "output_type": "stream",
     "text": [
      "\r",
      " 36%|██████████████▎                         | 366/1020 [12:20<22:02,  2.02s/it]"
     ]
    },
    {
     "name": "stdout",
     "output_type": "stream",
     "text": [
      "001826695297399951426_SFO2_104_0019_patch_aligned_doseweighted_bin_2.mrc masked successfully!\n"
     ]
    },
    {
     "name": "stderr",
     "output_type": "stream",
     "text": [
      "\r",
      " 36%|██████████████▍                         | 367/1020 [12:22<21:58,  2.02s/it]"
     ]
    },
    {
     "name": "stdout",
     "output_type": "stream",
     "text": [
      "018074461334145892892_SFO2_104_0028_patch_aligned_doseweighted_bin_2.mrc masked successfully!\n"
     ]
    },
    {
     "name": "stderr",
     "output_type": "stream",
     "text": [
      "\r",
      " 36%|██████████████▍                         | 368/1020 [12:24<21:52,  2.01s/it]"
     ]
    },
    {
     "name": "stdout",
     "output_type": "stream",
     "text": [
      "011486604668750308064_SFO2_116_0028_patch_aligned_doseweighted_bin_2.mrc masked successfully!\n"
     ]
    },
    {
     "name": "stderr",
     "output_type": "stream",
     "text": [
      "\r",
      " 36%|██████████████▍                         | 369/1020 [12:26<22:03,  2.03s/it]"
     ]
    },
    {
     "name": "stdout",
     "output_type": "stream",
     "text": [
      "012960501487808415037_SFO2_106_0030_patch_aligned_doseweighted_bin_2.mrc masked successfully!\n"
     ]
    },
    {
     "name": "stderr",
     "output_type": "stream",
     "text": [
      "\r",
      " 36%|██████████████▌                         | 370/1020 [12:28<21:47,  2.01s/it]"
     ]
    },
    {
     "name": "stdout",
     "output_type": "stream",
     "text": [
      "004574686197306458354_SFO2_115_0023_patch_aligned_doseweighted_bin_2.mrc masked successfully!\n"
     ]
    },
    {
     "name": "stderr",
     "output_type": "stream",
     "text": [
      "\r",
      " 36%|██████████████▌                         | 371/1020 [12:30<21:45,  2.01s/it]"
     ]
    },
    {
     "name": "stdout",
     "output_type": "stream",
     "text": [
      "010808661843638504293_SFO2_104_0036_patch_aligned_doseweighted_bin_2.mrc masked successfully!\n"
     ]
    },
    {
     "name": "stderr",
     "output_type": "stream",
     "text": [
      "\r",
      " 36%|██████████████▌                         | 372/1020 [12:32<21:44,  2.01s/it]"
     ]
    },
    {
     "name": "stdout",
     "output_type": "stream",
     "text": [
      "015427835434961465025_SFO2_109_0012_patch_aligned_doseweighted_bin_2.mrc masked successfully!\n"
     ]
    },
    {
     "name": "stderr",
     "output_type": "stream",
     "text": [
      "\r",
      " 37%|██████████████▋                         | 373/1020 [12:34<21:51,  2.03s/it]"
     ]
    },
    {
     "name": "stdout",
     "output_type": "stream",
     "text": [
      "014917292462303726366_SFO2_112_0022_patch_aligned_doseweighted_bin_2.mrc masked successfully!\n"
     ]
    },
    {
     "name": "stderr",
     "output_type": "stream",
     "text": [
      "\r",
      " 37%|██████████████▋                         | 374/1020 [12:36<21:46,  2.02s/it]"
     ]
    },
    {
     "name": "stdout",
     "output_type": "stream",
     "text": [
      "001645272264643947685_SFO2_126_0028_patch_aligned_doseweighted_bin_2.mrc masked successfully!\n"
     ]
    },
    {
     "name": "stderr",
     "output_type": "stream",
     "text": [
      "\r",
      " 37%|██████████████▋                         | 375/1020 [12:39<21:49,  2.03s/it]"
     ]
    },
    {
     "name": "stdout",
     "output_type": "stream",
     "text": [
      "000654719406677217288_SFO2_116_0001_patch_aligned_doseweighted_bin_2.mrc masked successfully!\n"
     ]
    },
    {
     "name": "stderr",
     "output_type": "stream",
     "text": [
      "\r",
      " 37%|██████████████▋                         | 376/1020 [12:41<22:05,  2.06s/it]"
     ]
    },
    {
     "name": "stdout",
     "output_type": "stream",
     "text": [
      "007681392430120822299_SFO2_103_0029_patch_aligned_doseweighted_bin_2.mrc masked successfully!\n"
     ]
    },
    {
     "name": "stderr",
     "output_type": "stream",
     "text": [
      "\r",
      " 37%|██████████████▊                         | 377/1020 [12:43<21:54,  2.04s/it]"
     ]
    },
    {
     "name": "stdout",
     "output_type": "stream",
     "text": [
      "017153648350878155526_SFO2_127_0033_patch_aligned_doseweighted_bin_2.mrc masked successfully!\n"
     ]
    },
    {
     "name": "stderr",
     "output_type": "stream",
     "text": [
      "\r",
      " 37%|██████████████▊                         | 378/1020 [12:45<21:47,  2.04s/it]"
     ]
    },
    {
     "name": "stdout",
     "output_type": "stream",
     "text": [
      "012298699212870185758_SFO2_107_0031_patch_aligned_doseweighted_bin_2.mrc masked successfully!\n"
     ]
    },
    {
     "name": "stderr",
     "output_type": "stream",
     "text": [
      "\r",
      " 37%|██████████████▊                         | 379/1020 [12:47<22:02,  2.06s/it]"
     ]
    },
    {
     "name": "stdout",
     "output_type": "stream",
     "text": [
      "001269622951859891820_SFO2_102_0006_patch_aligned_doseweighted_bin_2.mrc masked successfully!\n"
     ]
    },
    {
     "name": "stderr",
     "output_type": "stream",
     "text": [
      "\r",
      " 37%|██████████████▉                         | 380/1020 [12:49<21:56,  2.06s/it]"
     ]
    },
    {
     "name": "stdout",
     "output_type": "stream",
     "text": [
      "003232380420302404556_SFO2_103_0004_patch_aligned_doseweighted_bin_2.mrc masked successfully!\n"
     ]
    },
    {
     "name": "stderr",
     "output_type": "stream",
     "text": [
      "\r",
      " 37%|██████████████▉                         | 381/1020 [12:51<21:36,  2.03s/it]"
     ]
    },
    {
     "name": "stdout",
     "output_type": "stream",
     "text": [
      "009101645699240002928_SFO2_110_0016_patch_aligned_doseweighted_bin_2.mrc masked successfully!\n"
     ]
    },
    {
     "name": "stderr",
     "output_type": "stream",
     "text": [
      "\r",
      " 37%|██████████████▉                         | 382/1020 [12:53<21:42,  2.04s/it]"
     ]
    },
    {
     "name": "stdout",
     "output_type": "stream",
     "text": [
      "002115163328447961729_SFO2_114_0031_patch_aligned_doseweighted_bin_2.mrc masked successfully!\n"
     ]
    },
    {
     "name": "stderr",
     "output_type": "stream",
     "text": [
      "\r",
      " 38%|███████████████                         | 383/1020 [12:55<21:30,  2.03s/it]"
     ]
    },
    {
     "name": "stdout",
     "output_type": "stream",
     "text": [
      "013269690627146730155_SFO2_121_0009_patch_aligned_doseweighted_bin_2.mrc masked successfully!\n"
     ]
    },
    {
     "name": "stderr",
     "output_type": "stream",
     "text": [
      "\r",
      " 38%|███████████████                         | 384/1020 [12:57<21:38,  2.04s/it]"
     ]
    },
    {
     "name": "stdout",
     "output_type": "stream",
     "text": [
      "004051327428390762181_SFO2_109_0025_patch_aligned_doseweighted_bin_2.mrc masked successfully!\n"
     ]
    },
    {
     "name": "stderr",
     "output_type": "stream",
     "text": [
      "\r",
      " 38%|███████████████                         | 385/1020 [12:59<21:37,  2.04s/it]"
     ]
    },
    {
     "name": "stdout",
     "output_type": "stream",
     "text": [
      "005471349060349218177_SFO2_100_0014_patch_aligned_doseweighted_bin_2.mrc masked successfully!\n"
     ]
    },
    {
     "name": "stderr",
     "output_type": "stream",
     "text": [
      "\r",
      " 38%|███████████████▏                        | 386/1020 [13:01<21:26,  2.03s/it]"
     ]
    },
    {
     "name": "stdout",
     "output_type": "stream",
     "text": [
      "006465660488822750853_SFO2_123_0018_patch_aligned_doseweighted_bin_2.mrc masked successfully!\n"
     ]
    },
    {
     "name": "stderr",
     "output_type": "stream",
     "text": [
      "\r",
      " 38%|███████████████▏                        | 387/1020 [13:03<21:21,  2.02s/it]"
     ]
    },
    {
     "name": "stdout",
     "output_type": "stream",
     "text": [
      "006882452037082934349_SFO2_117_0009_patch_aligned_doseweighted_bin_2.mrc masked successfully!\n"
     ]
    },
    {
     "name": "stderr",
     "output_type": "stream",
     "text": [
      "\r",
      " 38%|███████████████▏                        | 388/1020 [13:05<21:13,  2.02s/it]"
     ]
    },
    {
     "name": "stdout",
     "output_type": "stream",
     "text": [
      "008351299350216647767_SFO2_111_0032_patch_aligned_doseweighted_bin_2.mrc masked successfully!\n"
     ]
    },
    {
     "name": "stderr",
     "output_type": "stream",
     "text": [
      "\r",
      " 38%|███████████████▎                        | 389/1020 [13:07<21:18,  2.03s/it]"
     ]
    },
    {
     "name": "stdout",
     "output_type": "stream",
     "text": [
      "004939735080482638437_SFO2_104_0011_patch_aligned_doseweighted_bin_2.mrc masked successfully!\n"
     ]
    },
    {
     "name": "stderr",
     "output_type": "stream",
     "text": [
      "\r",
      " 38%|███████████████▎                        | 390/1020 [13:09<21:08,  2.01s/it]"
     ]
    },
    {
     "name": "stdout",
     "output_type": "stream",
     "text": [
      "017036896917485862602_SFO2_121_0015_patch_aligned_doseweighted_bin_2.mrc masked successfully!\n"
     ]
    },
    {
     "name": "stderr",
     "output_type": "stream",
     "text": [
      "\r",
      " 38%|███████████████▎                        | 391/1020 [13:11<21:06,  2.01s/it]"
     ]
    },
    {
     "name": "stdout",
     "output_type": "stream",
     "text": [
      "004183432092877568936_SFO2_103_0032_patch_aligned_doseweighted_bin_2.mrc masked successfully!\n"
     ]
    },
    {
     "name": "stderr",
     "output_type": "stream",
     "text": [
      "\r",
      " 38%|███████████████▎                        | 392/1020 [13:13<21:05,  2.02s/it]"
     ]
    },
    {
     "name": "stdout",
     "output_type": "stream",
     "text": [
      "006602473472722117146_SFO2_123_0010_patch_aligned_doseweighted_bin_2.mrc masked successfully!\n"
     ]
    },
    {
     "name": "stderr",
     "output_type": "stream",
     "text": [
      "\r",
      " 39%|███████████████▍                        | 393/1020 [13:15<21:04,  2.02s/it]"
     ]
    },
    {
     "name": "stdout",
     "output_type": "stream",
     "text": [
      "013843413270888072693_SFO2_119_0025_patch_aligned_doseweighted_bin_2.mrc masked successfully!\n"
     ]
    },
    {
     "name": "stderr",
     "output_type": "stream",
     "text": [
      "\r",
      " 39%|███████████████▍                        | 394/1020 [13:17<21:07,  2.02s/it]"
     ]
    },
    {
     "name": "stdout",
     "output_type": "stream",
     "text": [
      "015780060661084289726_SFO2_113_0024_patch_aligned_doseweighted_bin_2.mrc masked successfully!\n"
     ]
    },
    {
     "name": "stderr",
     "output_type": "stream",
     "text": [
      "\r",
      " 39%|███████████████▍                        | 395/1020 [13:19<21:11,  2.03s/it]"
     ]
    },
    {
     "name": "stdout",
     "output_type": "stream",
     "text": [
      "017158629019519813929_SFO2_120_0019_patch_aligned_doseweighted_bin_2.mrc masked successfully!\n"
     ]
    },
    {
     "name": "stderr",
     "output_type": "stream",
     "text": [
      "\r",
      " 39%|███████████████▌                        | 396/1020 [13:21<21:12,  2.04s/it]"
     ]
    },
    {
     "name": "stdout",
     "output_type": "stream",
     "text": [
      "011776344873192893869_SFO2_113_0033_patch_aligned_doseweighted_bin_2.mrc masked successfully!\n"
     ]
    },
    {
     "name": "stderr",
     "output_type": "stream",
     "text": [
      "\r",
      " 39%|███████████████▌                        | 397/1020 [13:23<21:15,  2.05s/it]"
     ]
    },
    {
     "name": "stdout",
     "output_type": "stream",
     "text": [
      "017497937650329430493_SFO2_100_0031_patch_aligned_doseweighted_bin_2.mrc masked successfully!\n"
     ]
    },
    {
     "name": "stderr",
     "output_type": "stream",
     "text": [
      "\r",
      " 39%|███████████████▌                        | 398/1020 [13:25<21:04,  2.03s/it]"
     ]
    },
    {
     "name": "stdout",
     "output_type": "stream",
     "text": [
      "009528065276297067522_SFO2_107_0029_patch_aligned_doseweighted_bin_2.mrc masked successfully!\n"
     ]
    },
    {
     "name": "stderr",
     "output_type": "stream",
     "text": [
      "\r",
      " 39%|███████████████▋                        | 399/1020 [13:27<21:03,  2.03s/it]"
     ]
    },
    {
     "name": "stdout",
     "output_type": "stream",
     "text": [
      "001356809370003319885_SFO2_101_0021_patch_aligned_doseweighted_bin_2.mrc masked successfully!\n"
     ]
    },
    {
     "name": "stderr",
     "output_type": "stream",
     "text": [
      "\r",
      " 39%|███████████████▋                        | 400/1020 [13:29<20:54,  2.02s/it]"
     ]
    },
    {
     "name": "stdout",
     "output_type": "stream",
     "text": [
      "004701257699636211863_SFO2_121_0028_patch_aligned_doseweighted_bin_2.mrc masked successfully!\n"
     ]
    },
    {
     "name": "stderr",
     "output_type": "stream",
     "text": [
      "\r",
      " 39%|███████████████▋                        | 401/1020 [13:31<20:45,  2.01s/it]"
     ]
    },
    {
     "name": "stdout",
     "output_type": "stream",
     "text": [
      "008266294049065192967_SFO2_105_0029_patch_aligned_doseweighted_bin_2.mrc masked successfully!\n"
     ]
    },
    {
     "name": "stderr",
     "output_type": "stream",
     "text": [
      "\r",
      " 39%|███████████████▊                        | 402/1020 [13:33<20:45,  2.01s/it]"
     ]
    },
    {
     "name": "stdout",
     "output_type": "stream",
     "text": [
      "008105533518128429787_SFO2_116_0007_patch_aligned_doseweighted_bin_2.mrc masked successfully!\n"
     ]
    },
    {
     "name": "stderr",
     "output_type": "stream",
     "text": [
      "\r",
      " 40%|███████████████▊                        | 403/1020 [13:35<20:47,  2.02s/it]"
     ]
    },
    {
     "name": "stdout",
     "output_type": "stream",
     "text": [
      "008360315833657312257_SFO2_101_0023_patch_aligned_doseweighted_bin_2.mrc masked successfully!\n"
     ]
    },
    {
     "name": "stderr",
     "output_type": "stream",
     "text": [
      "\r",
      " 40%|███████████████▊                        | 404/1020 [13:37<20:45,  2.02s/it]"
     ]
    },
    {
     "name": "stdout",
     "output_type": "stream",
     "text": [
      "010412440549044491600_SFO2_112_0013_patch_aligned_doseweighted_bin_2.mrc masked successfully!\n"
     ]
    },
    {
     "name": "stderr",
     "output_type": "stream",
     "text": [
      "\r",
      " 40%|███████████████▉                        | 405/1020 [13:39<20:36,  2.01s/it]"
     ]
    },
    {
     "name": "stdout",
     "output_type": "stream",
     "text": [
      "005409080484871147710_SFO2_106_0001_patch_aligned_doseweighted_bin_2.mrc masked successfully!\n"
     ]
    },
    {
     "name": "stderr",
     "output_type": "stream",
     "text": [
      "\r",
      " 40%|███████████████▉                        | 406/1020 [13:41<20:44,  2.03s/it]"
     ]
    },
    {
     "name": "stdout",
     "output_type": "stream",
     "text": [
      "006478903300007597666_SFO2_121_0029_patch_aligned_doseweighted_bin_2.mrc masked successfully!\n"
     ]
    },
    {
     "name": "stderr",
     "output_type": "stream",
     "text": [
      "\r",
      " 40%|███████████████▉                        | 407/1020 [13:43<20:35,  2.02s/it]"
     ]
    },
    {
     "name": "stdout",
     "output_type": "stream",
     "text": [
      "005776961519830421921_SFO2_117_0010_patch_aligned_doseweighted_bin_2.mrc masked successfully!\n"
     ]
    },
    {
     "name": "stderr",
     "output_type": "stream",
     "text": [
      "\r",
      " 40%|████████████████                        | 408/1020 [13:46<20:45,  2.03s/it]"
     ]
    },
    {
     "name": "stdout",
     "output_type": "stream",
     "text": [
      "000637731527865635646_SFO2_110_0031_patch_aligned_doseweighted_bin_2.mrc masked successfully!\n"
     ]
    },
    {
     "name": "stderr",
     "output_type": "stream",
     "text": [
      "\r",
      " 40%|████████████████                        | 409/1020 [13:48<20:37,  2.03s/it]"
     ]
    },
    {
     "name": "stdout",
     "output_type": "stream",
     "text": [
      "006821068199708422387_SFO2_110_0002_patch_aligned_doseweighted_bin_2.mrc masked successfully!\n"
     ]
    },
    {
     "name": "stderr",
     "output_type": "stream",
     "text": [
      "\r",
      " 40%|████████████████                        | 410/1020 [13:50<20:44,  2.04s/it]"
     ]
    },
    {
     "name": "stdout",
     "output_type": "stream",
     "text": [
      "011316013395979872709_SFO2_110_0036_patch_aligned_doseweighted_bin_2.mrc masked successfully!\n"
     ]
    },
    {
     "name": "stderr",
     "output_type": "stream",
     "text": [
      "\r",
      " 40%|████████████████                        | 411/1020 [13:52<20:49,  2.05s/it]"
     ]
    },
    {
     "name": "stdout",
     "output_type": "stream",
     "text": [
      "014956111227999473658_SFO2_113_0025_patch_aligned_doseweighted_bin_2.mrc masked successfully!\n"
     ]
    },
    {
     "name": "stderr",
     "output_type": "stream",
     "text": [
      "\r",
      " 40%|████████████████▏                       | 412/1020 [13:54<20:39,  2.04s/it]"
     ]
    },
    {
     "name": "stdout",
     "output_type": "stream",
     "text": [
      "014874298316452706047_SFO2_107_0016_patch_aligned_doseweighted_bin_2.mrc masked successfully!\n"
     ]
    },
    {
     "name": "stderr",
     "output_type": "stream",
     "text": [
      "\r",
      " 40%|████████████████▏                       | 413/1020 [13:56<20:29,  2.03s/it]"
     ]
    },
    {
     "name": "stdout",
     "output_type": "stream",
     "text": [
      "010095606357282421020_SFO2_107_0024_patch_aligned_doseweighted_bin_2.mrc masked successfully!\n"
     ]
    },
    {
     "name": "stderr",
     "output_type": "stream",
     "text": [
      "\r",
      " 41%|████████████████▏                       | 414/1020 [13:58<20:35,  2.04s/it]"
     ]
    },
    {
     "name": "stdout",
     "output_type": "stream",
     "text": [
      "006025610043741855838_SFO2_111_0028_patch_aligned_doseweighted_bin_2.mrc masked successfully!\n"
     ]
    },
    {
     "name": "stderr",
     "output_type": "stream",
     "text": [
      "\r",
      " 41%|████████████████▎                       | 415/1020 [14:00<20:43,  2.06s/it]"
     ]
    },
    {
     "name": "stdout",
     "output_type": "stream",
     "text": [
      "016918932616621512433_SFO2_115_0012_patch_aligned_doseweighted_bin_2.mrc masked successfully!\n"
     ]
    },
    {
     "name": "stderr",
     "output_type": "stream",
     "text": [
      "\r",
      " 41%|████████████████▎                       | 416/1020 [14:02<20:36,  2.05s/it]"
     ]
    },
    {
     "name": "stdout",
     "output_type": "stream",
     "text": [
      "017714160989794307057_SFO2_119_0015_patch_aligned_doseweighted_bin_2.mrc masked successfully!\n"
     ]
    },
    {
     "name": "stderr",
     "output_type": "stream",
     "text": [
      "\r",
      " 41%|████████████████▎                       | 417/1020 [14:04<20:32,  2.04s/it]"
     ]
    },
    {
     "name": "stdout",
     "output_type": "stream",
     "text": [
      "001027749396648690658_SFO2_126_0026_patch_aligned_doseweighted_bin_2.mrc masked successfully!\n"
     ]
    },
    {
     "name": "stderr",
     "output_type": "stream",
     "text": [
      "\r",
      " 41%|████████████████▍                       | 418/1020 [14:06<20:15,  2.02s/it]"
     ]
    },
    {
     "name": "stdout",
     "output_type": "stream",
     "text": [
      "000448290283687020358_SFO2_118_0026_patch_aligned_doseweighted_bin_2.mrc masked successfully!\n"
     ]
    },
    {
     "name": "stderr",
     "output_type": "stream",
     "text": [
      "\r",
      " 41%|████████████████▍                       | 419/1020 [14:08<20:16,  2.02s/it]"
     ]
    },
    {
     "name": "stdout",
     "output_type": "stream",
     "text": [
      "014803539079761520555_SFO2_112_0005_patch_aligned_doseweighted_bin_2.mrc masked successfully!\n"
     ]
    },
    {
     "name": "stderr",
     "output_type": "stream",
     "text": [
      "\r",
      " 41%|████████████████▍                       | 420/1020 [14:10<20:07,  2.01s/it]"
     ]
    },
    {
     "name": "stdout",
     "output_type": "stream",
     "text": [
      "016058561660778524110_SFO2_111_0020_patch_aligned_doseweighted_bin_2.mrc masked successfully!\n"
     ]
    },
    {
     "name": "stderr",
     "output_type": "stream",
     "text": [
      "\r",
      " 41%|████████████████▌                       | 421/1020 [14:12<20:13,  2.03s/it]"
     ]
    },
    {
     "name": "stdout",
     "output_type": "stream",
     "text": [
      "006401895587348044477_SFO2_102_0011_patch_aligned_doseweighted_bin_2.mrc masked successfully!\n"
     ]
    },
    {
     "name": "stderr",
     "output_type": "stream",
     "text": [
      "\r",
      " 41%|████████████████▌                       | 422/1020 [14:14<20:19,  2.04s/it]"
     ]
    },
    {
     "name": "stdout",
     "output_type": "stream",
     "text": [
      "008823907458188534916_SFO2_128_0011_patch_aligned_doseweighted_bin_2.mrc masked successfully!\n"
     ]
    },
    {
     "name": "stderr",
     "output_type": "stream",
     "text": [
      "\r",
      " 41%|████████████████▌                       | 423/1020 [14:16<20:17,  2.04s/it]"
     ]
    },
    {
     "name": "stdout",
     "output_type": "stream",
     "text": [
      "011328598272610488909_SFO2_100_0032_patch_aligned_doseweighted_bin_2.mrc masked successfully!\n"
     ]
    },
    {
     "name": "stderr",
     "output_type": "stream",
     "text": [
      "\r",
      " 42%|████████████████▋                       | 424/1020 [14:18<20:06,  2.03s/it]"
     ]
    },
    {
     "name": "stdout",
     "output_type": "stream",
     "text": [
      "007388905027953129227_SFO2_118_0001_patch_aligned_doseweighted_bin_2.mrc masked successfully!\n"
     ]
    },
    {
     "name": "stderr",
     "output_type": "stream",
     "text": [
      "\r",
      " 42%|████████████████▋                       | 425/1020 [14:20<20:12,  2.04s/it]"
     ]
    },
    {
     "name": "stdout",
     "output_type": "stream",
     "text": [
      "016830902996956270936_SFO2_116_0032_patch_aligned_doseweighted_bin_2.mrc masked successfully!\n"
     ]
    },
    {
     "name": "stderr",
     "output_type": "stream",
     "text": [
      "\r",
      " 42%|████████████████▋                       | 426/1020 [14:22<20:19,  2.05s/it]"
     ]
    },
    {
     "name": "stdout",
     "output_type": "stream",
     "text": [
      "001649553337615816118_SFO2_117_0003_patch_aligned_doseweighted_bin_2.mrc masked successfully!\n"
     ]
    },
    {
     "name": "stderr",
     "output_type": "stream",
     "text": [
      "\r",
      " 42%|████████████████▋                       | 427/1020 [14:24<20:17,  2.05s/it]"
     ]
    },
    {
     "name": "stdout",
     "output_type": "stream",
     "text": [
      "009034012141957237285_SFO2_108_0018_patch_aligned_doseweighted_bin_2.mrc masked successfully!\n"
     ]
    },
    {
     "name": "stderr",
     "output_type": "stream",
     "text": [
      "\r",
      " 42%|████████████████▊                       | 428/1020 [14:26<20:14,  2.05s/it]"
     ]
    },
    {
     "name": "stdout",
     "output_type": "stream",
     "text": [
      "001970058412093641097_SFO2_110_0010_patch_aligned_doseweighted_bin_2.mrc masked successfully!\n"
     ]
    },
    {
     "name": "stderr",
     "output_type": "stream",
     "text": [
      "\r",
      " 42%|████████████████▊                       | 429/1020 [14:28<20:11,  2.05s/it]"
     ]
    },
    {
     "name": "stdout",
     "output_type": "stream",
     "text": [
      "015221760105580453638_SFO2_102_0013_patch_aligned_doseweighted_bin_2.mrc masked successfully!\n"
     ]
    },
    {
     "name": "stderr",
     "output_type": "stream",
     "text": [
      "\r",
      " 42%|████████████████▊                       | 430/1020 [14:30<19:51,  2.02s/it]"
     ]
    },
    {
     "name": "stdout",
     "output_type": "stream",
     "text": [
      "009977442980878904981_SFO2_120_0016_patch_aligned_doseweighted_bin_2.mrc masked successfully!\n"
     ]
    },
    {
     "name": "stderr",
     "output_type": "stream",
     "text": [
      "\r",
      " 42%|████████████████▉                       | 431/1020 [14:32<20:00,  2.04s/it]"
     ]
    },
    {
     "name": "stdout",
     "output_type": "stream",
     "text": [
      "014996087000305807946_SFO2_104_0021_patch_aligned_doseweighted_bin_2.mrc masked successfully!\n"
     ]
    },
    {
     "name": "stderr",
     "output_type": "stream",
     "text": [
      "\r",
      " 42%|████████████████▉                       | 432/1020 [14:34<20:00,  2.04s/it]"
     ]
    },
    {
     "name": "stdout",
     "output_type": "stream",
     "text": [
      "005084106952744652919_SFO2_108_0032_patch_aligned_doseweighted_bin_2.mrc masked successfully!\n"
     ]
    },
    {
     "name": "stderr",
     "output_type": "stream",
     "text": [
      "\r",
      " 42%|████████████████▉                       | 433/1020 [14:37<20:08,  2.06s/it]"
     ]
    },
    {
     "name": "stdout",
     "output_type": "stream",
     "text": [
      "001448565749862879850_SFO2_124_0013_patch_aligned_doseweighted_bin_2.mrc masked successfully!\n"
     ]
    },
    {
     "name": "stderr",
     "output_type": "stream",
     "text": [
      "\r",
      " 43%|█████████████████                       | 434/1020 [14:39<20:05,  2.06s/it]"
     ]
    },
    {
     "name": "stdout",
     "output_type": "stream",
     "text": [
      "001800465100820651912_SFO2_118_0012_patch_aligned_doseweighted_bin_2.mrc masked successfully!\n"
     ]
    },
    {
     "name": "stderr",
     "output_type": "stream",
     "text": [
      "\r",
      " 43%|█████████████████                       | 435/1020 [14:41<20:02,  2.06s/it]"
     ]
    },
    {
     "name": "stdout",
     "output_type": "stream",
     "text": [
      "001341451613897855081_SFO2_121_0034_patch_aligned_doseweighted_bin_2.mrc masked successfully!\n"
     ]
    },
    {
     "name": "stderr",
     "output_type": "stream",
     "text": [
      "\r",
      " 43%|█████████████████                       | 436/1020 [14:43<20:03,  2.06s/it]"
     ]
    },
    {
     "name": "stdout",
     "output_type": "stream",
     "text": [
      "003591798262755370595_SFO2_114_0005_patch_aligned_doseweighted_bin_2.mrc masked successfully!\n"
     ]
    },
    {
     "name": "stderr",
     "output_type": "stream",
     "text": [
      "\r",
      " 43%|█████████████████▏                      | 437/1020 [14:45<19:41,  2.03s/it]"
     ]
    },
    {
     "name": "stdout",
     "output_type": "stream",
     "text": [
      "004403300376085769840_SFO2_109_0018_patch_aligned_doseweighted_bin_2.mrc masked successfully!\n"
     ]
    },
    {
     "name": "stderr",
     "output_type": "stream",
     "text": [
      "\r",
      " 43%|█████████████████▏                      | 438/1020 [14:47<19:32,  2.02s/it]"
     ]
    },
    {
     "name": "stdout",
     "output_type": "stream",
     "text": [
      "012319941424582347200_SFO2_123_0020_patch_aligned_doseweighted_bin_2.mrc masked successfully!\n"
     ]
    },
    {
     "name": "stderr",
     "output_type": "stream",
     "text": [
      "\r",
      " 43%|█████████████████▏                      | 439/1020 [14:49<19:37,  2.03s/it]"
     ]
    },
    {
     "name": "stdout",
     "output_type": "stream",
     "text": [
      "007252164790435232471_SFO2_113_0027_patch_aligned_doseweighted_bin_2.mrc masked successfully!\n"
     ]
    },
    {
     "name": "stderr",
     "output_type": "stream",
     "text": [
      "\r",
      " 43%|█████████████████▎                      | 440/1020 [14:51<19:34,  2.02s/it]"
     ]
    },
    {
     "name": "stdout",
     "output_type": "stream",
     "text": [
      "009762340346202221359_SFO2_105_0014_patch_aligned_doseweighted_bin_2.mrc masked successfully!\n"
     ]
    },
    {
     "name": "stderr",
     "output_type": "stream",
     "text": [
      "\r",
      " 43%|█████████████████▎                      | 441/1020 [14:53<19:38,  2.03s/it]"
     ]
    },
    {
     "name": "stdout",
     "output_type": "stream",
     "text": [
      "003781980440422897158_SFO2_123_0025_patch_aligned_doseweighted_bin_2.mrc masked successfully!\n"
     ]
    },
    {
     "name": "stderr",
     "output_type": "stream",
     "text": [
      "\r",
      " 43%|█████████████████▎                      | 442/1020 [14:55<19:30,  2.03s/it]"
     ]
    },
    {
     "name": "stdout",
     "output_type": "stream",
     "text": [
      "005767132812309599775_SFO2_115_0033_patch_aligned_doseweighted_bin_2.mrc masked successfully!\n"
     ]
    },
    {
     "name": "stderr",
     "output_type": "stream",
     "text": [
      "\r",
      " 43%|█████████████████▎                      | 443/1020 [14:57<19:54,  2.07s/it]"
     ]
    },
    {
     "name": "stdout",
     "output_type": "stream",
     "text": [
      "002681856838669663622_SFO2_113_0017_patch_aligned_doseweighted_bin_2.mrc masked successfully!\n"
     ]
    },
    {
     "name": "stderr",
     "output_type": "stream",
     "text": [
      "\r",
      " 44%|█████████████████▍                      | 444/1020 [14:59<19:54,  2.07s/it]"
     ]
    },
    {
     "name": "stdout",
     "output_type": "stream",
     "text": [
      "015025059580258447112_SFO2_106_0017_patch_aligned_doseweighted_bin_2.mrc masked successfully!\n"
     ]
    },
    {
     "name": "stderr",
     "output_type": "stream",
     "text": [
      "\r",
      " 44%|█████████████████▍                      | 445/1020 [15:01<19:39,  2.05s/it]"
     ]
    },
    {
     "name": "stdout",
     "output_type": "stream",
     "text": [
      "014815939755438993181_SFO2_124_0014_patch_aligned_doseweighted_bin_2.mrc masked successfully!\n"
     ]
    },
    {
     "name": "stderr",
     "output_type": "stream",
     "text": [
      "\r",
      " 44%|█████████████████▍                      | 446/1020 [15:03<19:24,  2.03s/it]"
     ]
    },
    {
     "name": "stdout",
     "output_type": "stream",
     "text": [
      "003281666435817554850_SFO2_122_0012_patch_aligned_doseweighted_bin_2.mrc masked successfully!\n"
     ]
    },
    {
     "name": "stderr",
     "output_type": "stream",
     "text": [
      "\r",
      " 44%|█████████████████▌                      | 447/1020 [15:05<19:30,  2.04s/it]"
     ]
    },
    {
     "name": "stdout",
     "output_type": "stream",
     "text": [
      "016734706395379103798_SFO2_107_0015_patch_aligned_doseweighted_bin_2.mrc masked successfully!\n"
     ]
    },
    {
     "name": "stderr",
     "output_type": "stream",
     "text": [
      "\r",
      " 44%|█████████████████▌                      | 448/1020 [15:07<19:31,  2.05s/it]"
     ]
    },
    {
     "name": "stdout",
     "output_type": "stream",
     "text": [
      "007427872378498444814_SFO2_104_0010_patch_aligned_doseweighted_bin_2.mrc masked successfully!\n"
     ]
    },
    {
     "name": "stderr",
     "output_type": "stream",
     "text": [
      "\r",
      " 44%|█████████████████▌                      | 449/1020 [15:09<19:35,  2.06s/it]"
     ]
    },
    {
     "name": "stdout",
     "output_type": "stream",
     "text": [
      "013049781225482171303_SFO2_117_0022_patch_aligned_doseweighted_bin_2.mrc masked successfully!\n"
     ]
    },
    {
     "name": "stderr",
     "output_type": "stream",
     "text": [
      "\r",
      " 44%|█████████████████▋                      | 450/1020 [15:11<19:14,  2.03s/it]"
     ]
    },
    {
     "name": "stdout",
     "output_type": "stream",
     "text": [
      "008737120572446706211_SFO2_108_0009_patch_aligned_doseweighted_bin_2.mrc masked successfully!\n"
     ]
    },
    {
     "name": "stderr",
     "output_type": "stream",
     "text": [
      "\r",
      " 44%|█████████████████▋                      | 451/1020 [15:13<19:16,  2.03s/it]"
     ]
    },
    {
     "name": "stdout",
     "output_type": "stream",
     "text": [
      "008959877660848042554_SFO2_123_0005_patch_aligned_doseweighted_bin_2.mrc masked successfully!\n"
     ]
    },
    {
     "name": "stderr",
     "output_type": "stream",
     "text": [
      "\r",
      " 44%|█████████████████▋                      | 452/1020 [15:15<19:06,  2.02s/it]"
     ]
    },
    {
     "name": "stdout",
     "output_type": "stream",
     "text": [
      "010680293011380865569_SFO2_106_0033_patch_aligned_doseweighted_bin_2.mrc masked successfully!\n"
     ]
    },
    {
     "name": "stderr",
     "output_type": "stream",
     "text": [
      "\r",
      " 44%|█████████████████▊                      | 453/1020 [15:17<18:57,  2.01s/it]"
     ]
    },
    {
     "name": "stdout",
     "output_type": "stream",
     "text": [
      "015635704695141490504_SFO2_125_0018_patch_aligned_doseweighted_bin_2.mrc masked successfully!\n"
     ]
    },
    {
     "name": "stderr",
     "output_type": "stream",
     "text": [
      "\r",
      " 45%|█████████████████▊                      | 454/1020 [15:19<18:57,  2.01s/it]"
     ]
    },
    {
     "name": "stdout",
     "output_type": "stream",
     "text": [
      "015407875976816528130_SFO2_121_0035_patch_aligned_doseweighted_bin_2.mrc masked successfully!\n"
     ]
    },
    {
     "name": "stderr",
     "output_type": "stream",
     "text": [
      "\r",
      " 45%|█████████████████▊                      | 455/1020 [15:21<18:59,  2.02s/it]"
     ]
    },
    {
     "name": "stdout",
     "output_type": "stream",
     "text": [
      "007812876396419223087_SFO2_110_0007_patch_aligned_doseweighted_bin_2.mrc masked successfully!\n"
     ]
    },
    {
     "name": "stderr",
     "output_type": "stream",
     "text": [
      "\r",
      " 45%|█████████████████▉                      | 456/1020 [15:23<18:48,  2.00s/it]"
     ]
    },
    {
     "name": "stdout",
     "output_type": "stream",
     "text": [
      "010202699704594568550_SFO2_108_0031_patch_aligned_doseweighted_bin_2.mrc masked successfully!\n"
     ]
    },
    {
     "name": "stderr",
     "output_type": "stream",
     "text": [
      "\r",
      " 45%|█████████████████▉                      | 457/1020 [15:25<18:51,  2.01s/it]"
     ]
    },
    {
     "name": "stdout",
     "output_type": "stream",
     "text": [
      "008688973177923323660_SFO2_111_0011_patch_aligned_doseweighted_bin_2.mrc masked successfully!\n"
     ]
    },
    {
     "name": "stderr",
     "output_type": "stream",
     "text": [
      "\r",
      " 45%|█████████████████▉                      | 458/1020 [15:27<18:51,  2.01s/it]"
     ]
    },
    {
     "name": "stdout",
     "output_type": "stream",
     "text": [
      "004117549587167375511_SFO2_114_0017_patch_aligned_doseweighted_bin_2.mrc masked successfully!\n"
     ]
    },
    {
     "name": "stderr",
     "output_type": "stream",
     "text": [
      "\r",
      " 45%|██████████████████                      | 459/1020 [15:29<18:53,  2.02s/it]"
     ]
    },
    {
     "name": "stdout",
     "output_type": "stream",
     "text": [
      "016922063931235175933_SFO2_127_0034_patch_aligned_doseweighted_bin_2.mrc masked successfully!\n"
     ]
    },
    {
     "name": "stderr",
     "output_type": "stream",
     "text": [
      "\r",
      " 45%|██████████████████                      | 460/1020 [15:31<18:57,  2.03s/it]"
     ]
    },
    {
     "name": "stdout",
     "output_type": "stream",
     "text": [
      "017331442371195096701_SFO2_101_0031_patch_aligned_doseweighted_bin_2.mrc masked successfully!\n"
     ]
    },
    {
     "name": "stderr",
     "output_type": "stream",
     "text": [
      "\r",
      " 45%|██████████████████                      | 461/1020 [15:33<18:53,  2.03s/it]"
     ]
    },
    {
     "name": "stdout",
     "output_type": "stream",
     "text": [
      "005913549424390427791_SFO2_100_0033_patch_aligned_doseweighted_bin_2.mrc masked successfully!\n"
     ]
    },
    {
     "name": "stderr",
     "output_type": "stream",
     "text": [
      "\r",
      " 45%|██████████████████                      | 462/1020 [15:35<18:54,  2.03s/it]"
     ]
    },
    {
     "name": "stdout",
     "output_type": "stream",
     "text": [
      "008984647353701636200_SFO2_107_0010_patch_aligned_doseweighted_bin_2.mrc masked successfully!\n"
     ]
    },
    {
     "name": "stderr",
     "output_type": "stream",
     "text": [
      "\r",
      " 45%|██████████████████▏                     | 463/1020 [15:37<18:58,  2.04s/it]"
     ]
    },
    {
     "name": "stdout",
     "output_type": "stream",
     "text": [
      "003809004795557436519_SFO2_111_0008_patch_aligned_doseweighted_bin_2.mrc masked successfully!\n"
     ]
    },
    {
     "name": "stderr",
     "output_type": "stream",
     "text": [
      "\r",
      " 45%|██████████████████▏                     | 464/1020 [15:40<18:50,  2.03s/it]"
     ]
    },
    {
     "name": "stdout",
     "output_type": "stream",
     "text": [
      "010340756555899041034_SFO2_118_0003_patch_aligned_doseweighted_bin_2.mrc masked successfully!\n"
     ]
    },
    {
     "name": "stderr",
     "output_type": "stream",
     "text": [
      "\r",
      " 46%|██████████████████▏                     | 465/1020 [15:42<18:57,  2.05s/it]"
     ]
    },
    {
     "name": "stdout",
     "output_type": "stream",
     "text": [
      "005280459758654686428_SFO2_127_0013_patch_aligned_doseweighted_bin_2.mrc masked successfully!\n"
     ]
    },
    {
     "name": "stderr",
     "output_type": "stream",
     "text": [
      "\r",
      " 46%|██████████████████▎                     | 466/1020 [15:44<18:56,  2.05s/it]"
     ]
    },
    {
     "name": "stdout",
     "output_type": "stream",
     "text": [
      "002874983088700608688_SFO2_100_0023_patch_aligned_doseweighted_bin_2.mrc masked successfully!\n"
     ]
    },
    {
     "name": "stderr",
     "output_type": "stream",
     "text": [
      "\r",
      " 46%|██████████████████▎                     | 467/1020 [15:46<18:37,  2.02s/it]"
     ]
    },
    {
     "name": "stdout",
     "output_type": "stream",
     "text": [
      "002797355091305301863_SFO2_110_0027_patch_aligned_doseweighted_bin_2.mrc masked successfully!\n"
     ]
    },
    {
     "name": "stderr",
     "output_type": "stream",
     "text": [
      "\r",
      " 46%|██████████████████▎                     | 468/1020 [15:48<18:39,  2.03s/it]"
     ]
    },
    {
     "name": "stdout",
     "output_type": "stream",
     "text": [
      "016348387980854939728_SFO2_107_0023_patch_aligned_doseweighted_bin_2.mrc masked successfully!\n"
     ]
    },
    {
     "name": "stderr",
     "output_type": "stream",
     "text": [
      "\r",
      " 46%|██████████████████▍                     | 469/1020 [15:50<18:33,  2.02s/it]"
     ]
    },
    {
     "name": "stdout",
     "output_type": "stream",
     "text": [
      "014209238505093902787_SFO2_110_0015_patch_aligned_doseweighted_bin_2.mrc masked successfully!\n"
     ]
    },
    {
     "name": "stderr",
     "output_type": "stream",
     "text": [
      "\r",
      " 46%|██████████████████▍                     | 470/1020 [15:52<18:31,  2.02s/it]"
     ]
    },
    {
     "name": "stdout",
     "output_type": "stream",
     "text": [
      "004833791782622086512_SFO2_115_0014_patch_aligned_doseweighted_bin_2.mrc masked successfully!\n"
     ]
    },
    {
     "name": "stderr",
     "output_type": "stream",
     "text": [
      "\r",
      " 46%|██████████████████▍                     | 471/1020 [15:54<18:28,  2.02s/it]"
     ]
    },
    {
     "name": "stdout",
     "output_type": "stream",
     "text": [
      "012563206886530693074_SFO2_121_0032_patch_aligned_doseweighted_bin_2.mrc masked successfully!\n"
     ]
    },
    {
     "name": "stderr",
     "output_type": "stream",
     "text": [
      "\r",
      " 46%|██████████████████▌                     | 472/1020 [15:56<18:20,  2.01s/it]"
     ]
    },
    {
     "name": "stdout",
     "output_type": "stream",
     "text": [
      "006484138239116921392_SFO2_107_0020_patch_aligned_doseweighted_bin_2.mrc masked successfully!\n"
     ]
    },
    {
     "name": "stderr",
     "output_type": "stream",
     "text": [
      "\r",
      " 46%|██████████████████▌                     | 473/1020 [15:58<18:24,  2.02s/it]"
     ]
    },
    {
     "name": "stdout",
     "output_type": "stream",
     "text": [
      "015844529780298773570_SFO2_117_0034_patch_aligned_doseweighted_bin_2.mrc masked successfully!\n"
     ]
    },
    {
     "name": "stderr",
     "output_type": "stream",
     "text": [
      "\r",
      " 46%|██████████████████▌                     | 474/1020 [16:00<18:22,  2.02s/it]"
     ]
    },
    {
     "name": "stdout",
     "output_type": "stream",
     "text": [
      "007776807369531625329_SFO2_117_0001_patch_aligned_doseweighted_bin_2.mrc masked successfully!\n"
     ]
    },
    {
     "name": "stderr",
     "output_type": "stream",
     "text": [
      "\r",
      " 47%|██████████████████▋                     | 475/1020 [16:02<18:23,  2.03s/it]"
     ]
    },
    {
     "name": "stdout",
     "output_type": "stream",
     "text": [
      "012168098101146369563_SFO2_100_0026_patch_aligned_doseweighted_bin_2.mrc masked successfully!\n"
     ]
    },
    {
     "name": "stderr",
     "output_type": "stream",
     "text": [
      "\r",
      " 47%|██████████████████▋                     | 476/1020 [16:04<18:17,  2.02s/it]"
     ]
    },
    {
     "name": "stdout",
     "output_type": "stream",
     "text": [
      "012981108027510234003_SFO2_122_0016_patch_aligned_doseweighted_bin_2.mrc masked successfully!\n"
     ]
    },
    {
     "name": "stderr",
     "output_type": "stream",
     "text": [
      "\r",
      " 47%|██████████████████▋                     | 477/1020 [16:06<18:18,  2.02s/it]"
     ]
    },
    {
     "name": "stdout",
     "output_type": "stream",
     "text": [
      "008135362367223553303_SFO2_107_0033_patch_aligned_doseweighted_bin_2.mrc masked successfully!\n"
     ]
    },
    {
     "name": "stderr",
     "output_type": "stream",
     "text": [
      "\r",
      " 47%|██████████████████▋                     | 478/1020 [16:08<18:12,  2.02s/it]"
     ]
    },
    {
     "name": "stdout",
     "output_type": "stream",
     "text": [
      "017075523098097117708_SFO2_112_0007_patch_aligned_doseweighted_bin_2.mrc masked successfully!\n"
     ]
    },
    {
     "name": "stderr",
     "output_type": "stream",
     "text": [
      "\r",
      " 47%|██████████████████▊                     | 479/1020 [16:10<18:07,  2.01s/it]"
     ]
    },
    {
     "name": "stdout",
     "output_type": "stream",
     "text": [
      "006248562251260868370_SFO2_127_0036_patch_aligned_doseweighted_bin_2.mrc masked successfully!\n"
     ]
    },
    {
     "name": "stderr",
     "output_type": "stream",
     "text": [
      "\r",
      " 47%|██████████████████▊                     | 480/1020 [16:12<18:10,  2.02s/it]"
     ]
    },
    {
     "name": "stdout",
     "output_type": "stream",
     "text": [
      "001111587785521798212_SFO2_112_0015_patch_aligned_doseweighted_bin_2.mrc masked successfully!\n"
     ]
    },
    {
     "name": "stderr",
     "output_type": "stream",
     "text": [
      "\r",
      " 47%|██████████████████▊                     | 481/1020 [16:14<18:05,  2.01s/it]"
     ]
    },
    {
     "name": "stdout",
     "output_type": "stream",
     "text": [
      "015897118569838352265_SFO2_109_0003_patch_aligned_doseweighted_bin_2.mrc masked successfully!\n"
     ]
    },
    {
     "name": "stderr",
     "output_type": "stream",
     "text": [
      "\r",
      " 47%|██████████████████▉                     | 482/1020 [16:16<18:04,  2.02s/it]"
     ]
    },
    {
     "name": "stdout",
     "output_type": "stream",
     "text": [
      "009254130818960327956_SFO2_120_0021_patch_aligned_doseweighted_bin_2.mrc masked successfully!\n"
     ]
    },
    {
     "name": "stderr",
     "output_type": "stream",
     "text": [
      "\r",
      " 47%|██████████████████▉                     | 483/1020 [16:18<18:05,  2.02s/it]"
     ]
    },
    {
     "name": "stdout",
     "output_type": "stream",
     "text": [
      "015473398904496656882_SFO2_105_0009_patch_aligned_doseweighted_bin_2.mrc masked successfully!\n"
     ]
    },
    {
     "name": "stderr",
     "output_type": "stream",
     "text": [
      "\r",
      " 47%|██████████████████▉                     | 484/1020 [16:20<17:57,  2.01s/it]"
     ]
    },
    {
     "name": "stdout",
     "output_type": "stream",
     "text": [
      "008573263794060493254_SFO2_106_0025_patch_aligned_doseweighted_bin_2.mrc masked successfully!\n"
     ]
    },
    {
     "name": "stderr",
     "output_type": "stream",
     "text": [
      "\r",
      " 48%|███████████████████                     | 485/1020 [16:22<17:58,  2.02s/it]"
     ]
    },
    {
     "name": "stdout",
     "output_type": "stream",
     "text": [
      "007476772109587512759_SFO2_126_0013_patch_aligned_doseweighted_bin_2.mrc masked successfully!\n"
     ]
    },
    {
     "name": "stderr",
     "output_type": "stream",
     "text": [
      "\r",
      " 48%|███████████████████                     | 486/1020 [16:24<18:07,  2.04s/it]"
     ]
    },
    {
     "name": "stdout",
     "output_type": "stream",
     "text": [
      "015574406311451406186_SFO2_124_0002_patch_aligned_doseweighted_bin_2.mrc masked successfully!\n"
     ]
    },
    {
     "name": "stderr",
     "output_type": "stream",
     "text": [
      "\r",
      " 48%|███████████████████                     | 487/1020 [16:26<18:14,  2.05s/it]"
     ]
    },
    {
     "name": "stdout",
     "output_type": "stream",
     "text": [
      "009635698979875667653_SFO2_110_0001_patch_aligned_doseweighted_bin_2.mrc masked successfully!\n"
     ]
    },
    {
     "name": "stderr",
     "output_type": "stream",
     "text": [
      "\r",
      " 48%|███████████████████▏                    | 488/1020 [16:28<18:04,  2.04s/it]"
     ]
    },
    {
     "name": "stdout",
     "output_type": "stream",
     "text": [
      "006753578458597172063_SFO2_111_0004_patch_aligned_doseweighted_bin_2.mrc masked successfully!\n"
     ]
    },
    {
     "name": "stderr",
     "output_type": "stream",
     "text": [
      "\r",
      " 48%|███████████████████▏                    | 489/1020 [16:30<17:57,  2.03s/it]"
     ]
    },
    {
     "name": "stdout",
     "output_type": "stream",
     "text": [
      "011792953180774510176_SFO2_110_0026_patch_aligned_doseweighted_bin_2.mrc masked successfully!\n"
     ]
    },
    {
     "name": "stderr",
     "output_type": "stream",
     "text": [
      "\r",
      " 48%|███████████████████▏                    | 490/1020 [16:32<17:51,  2.02s/it]"
     ]
    },
    {
     "name": "stdout",
     "output_type": "stream",
     "text": [
      "003816674161609491608_SFO2_119_0006_patch_aligned_doseweighted_bin_2.mrc masked successfully!\n"
     ]
    },
    {
     "name": "stderr",
     "output_type": "stream",
     "text": [
      "\r",
      " 48%|███████████████████▎                    | 491/1020 [16:34<17:35,  1.99s/it]"
     ]
    },
    {
     "name": "stdout",
     "output_type": "stream",
     "text": [
      "003386584694726214528_SFO2_100_0017_patch_aligned_doseweighted_bin_2.mrc masked successfully!\n"
     ]
    },
    {
     "name": "stderr",
     "output_type": "stream",
     "text": [
      "\r",
      " 48%|███████████████████▎                    | 492/1020 [16:36<17:41,  2.01s/it]"
     ]
    },
    {
     "name": "stdout",
     "output_type": "stream",
     "text": [
      "008761276059270695779_SFO2_107_0034_patch_aligned_doseweighted_bin_2.mrc masked successfully!\n"
     ]
    },
    {
     "name": "stderr",
     "output_type": "stream",
     "text": [
      "\r",
      " 48%|███████████████████▎                    | 493/1020 [16:38<17:45,  2.02s/it]"
     ]
    },
    {
     "name": "stdout",
     "output_type": "stream",
     "text": [
      "009386038512931590686_SFO2_118_0004_patch_aligned_doseweighted_bin_2.mrc masked successfully!\n"
     ]
    },
    {
     "name": "stderr",
     "output_type": "stream",
     "text": [
      "\r",
      " 48%|███████████████████▎                    | 494/1020 [16:40<17:39,  2.01s/it]"
     ]
    },
    {
     "name": "stdout",
     "output_type": "stream",
     "text": [
      "010823329684145391468_SFO2_101_0013_patch_aligned_doseweighted_bin_2.mrc masked successfully!\n"
     ]
    },
    {
     "name": "stderr",
     "output_type": "stream",
     "text": [
      "\r",
      " 49%|███████████████████▍                    | 495/1020 [16:42<17:46,  2.03s/it]"
     ]
    },
    {
     "name": "stdout",
     "output_type": "stream",
     "text": [
      "013349472350685447842_SFO2_108_0035_patch_aligned_doseweighted_bin_2.mrc masked successfully!\n"
     ]
    },
    {
     "name": "stderr",
     "output_type": "stream",
     "text": [
      "\r",
      " 49%|███████████████████▍                    | 496/1020 [16:44<17:49,  2.04s/it]"
     ]
    },
    {
     "name": "stdout",
     "output_type": "stream",
     "text": [
      "004767825944163676418_SFO2_103_0021_patch_aligned_doseweighted_bin_2.mrc masked successfully!\n"
     ]
    },
    {
     "name": "stderr",
     "output_type": "stream",
     "text": [
      "\r",
      " 49%|███████████████████▍                    | 497/1020 [16:46<17:37,  2.02s/it]"
     ]
    },
    {
     "name": "stdout",
     "output_type": "stream",
     "text": [
      "009921416681878326992_SFO2_112_0014_patch_aligned_doseweighted_bin_2.mrc masked successfully!\n"
     ]
    },
    {
     "name": "stderr",
     "output_type": "stream",
     "text": [
      "\r",
      " 49%|███████████████████▌                    | 498/1020 [16:48<17:31,  2.02s/it]"
     ]
    },
    {
     "name": "stdout",
     "output_type": "stream",
     "text": [
      "015500755719002276158_SFO2_111_0025_patch_aligned_doseweighted_bin_2.mrc masked successfully!\n"
     ]
    },
    {
     "name": "stderr",
     "output_type": "stream",
     "text": [
      "\r",
      " 49%|███████████████████▌                    | 499/1020 [16:50<17:35,  2.03s/it]"
     ]
    },
    {
     "name": "stdout",
     "output_type": "stream",
     "text": [
      "009837823277148893674_SFO2_123_0030_patch_aligned_doseweighted_bin_2.mrc masked successfully!\n"
     ]
    },
    {
     "name": "stderr",
     "output_type": "stream",
     "text": [
      "\r",
      " 49%|███████████████████▌                    | 500/1020 [16:52<17:22,  2.00s/it]"
     ]
    },
    {
     "name": "stdout",
     "output_type": "stream",
     "text": [
      "007105680449123266973_SFO2_107_0008_patch_aligned_doseweighted_bin_2.mrc masked successfully!\n"
     ]
    },
    {
     "name": "stderr",
     "output_type": "stream",
     "text": [
      "\r",
      " 49%|███████████████████▋                    | 501/1020 [16:54<17:15,  2.00s/it]"
     ]
    },
    {
     "name": "stdout",
     "output_type": "stream",
     "text": [
      "008124138402417123860_SFO2_119_0003_patch_aligned_doseweighted_bin_2.mrc masked successfully!\n"
     ]
    },
    {
     "name": "stderr",
     "output_type": "stream",
     "text": [
      "\r",
      " 49%|███████████████████▋                    | 502/1020 [16:56<17:13,  2.00s/it]"
     ]
    },
    {
     "name": "stdout",
     "output_type": "stream",
     "text": [
      "016994889070707289848_SFO2_128_0008_patch_aligned_doseweighted_bin_2.mrc masked successfully!\n"
     ]
    },
    {
     "name": "stderr",
     "output_type": "stream",
     "text": [
      "\r",
      " 49%|███████████████████▋                    | 503/1020 [16:58<17:28,  2.03s/it]"
     ]
    },
    {
     "name": "stdout",
     "output_type": "stream",
     "text": [
      "009893337797314860469_SFO2_103_0007_patch_aligned_doseweighted_bin_2.mrc masked successfully!\n"
     ]
    },
    {
     "name": "stderr",
     "output_type": "stream",
     "text": [
      "\r",
      " 49%|███████████████████▊                    | 504/1020 [17:00<17:18,  2.01s/it]"
     ]
    },
    {
     "name": "stdout",
     "output_type": "stream",
     "text": [
      "013336510939183909956_SFO2_116_0018_patch_aligned_doseweighted_bin_2.mrc masked successfully!\n"
     ]
    },
    {
     "name": "stderr",
     "output_type": "stream",
     "text": [
      "\r",
      " 50%|███████████████████▊                    | 505/1020 [17:02<17:08,  2.00s/it]"
     ]
    },
    {
     "name": "stdout",
     "output_type": "stream",
     "text": [
      "012133293903814190298_SFO2_117_0036_patch_aligned_doseweighted_bin_2.mrc masked successfully!\n"
     ]
    },
    {
     "name": "stderr",
     "output_type": "stream",
     "text": [
      "\r",
      " 50%|███████████████████▊                    | 506/1020 [17:04<17:24,  2.03s/it]"
     ]
    },
    {
     "name": "stdout",
     "output_type": "stream",
     "text": [
      "017435156855381063025_SFO2_104_0014_patch_aligned_doseweighted_bin_2.mrc masked successfully!\n"
     ]
    },
    {
     "name": "stderr",
     "output_type": "stream",
     "text": [
      "\r",
      " 50%|███████████████████▉                    | 507/1020 [17:06<17:17,  2.02s/it]"
     ]
    },
    {
     "name": "stdout",
     "output_type": "stream",
     "text": [
      "009531969956094975926_SFO2_109_0015_patch_aligned_doseweighted_bin_2.mrc masked successfully!\n"
     ]
    },
    {
     "name": "stderr",
     "output_type": "stream",
     "text": [
      "\r",
      " 50%|███████████████████▉                    | 508/1020 [17:08<17:28,  2.05s/it]"
     ]
    },
    {
     "name": "stdout",
     "output_type": "stream",
     "text": [
      "000914728628110619715_SFO2_117_0025_patch_aligned_doseweighted_bin_2.mrc masked successfully!\n"
     ]
    },
    {
     "name": "stderr",
     "output_type": "stream",
     "text": [
      "\r",
      " 50%|███████████████████▉                    | 509/1020 [17:11<17:23,  2.04s/it]"
     ]
    },
    {
     "name": "stdout",
     "output_type": "stream",
     "text": [
      "014393772919353528742_SFO2_113_0015_patch_aligned_doseweighted_bin_2.mrc masked successfully!\n"
     ]
    },
    {
     "name": "stderr",
     "output_type": "stream",
     "text": [
      "\r",
      " 50%|████████████████████                    | 510/1020 [17:12<17:13,  2.03s/it]"
     ]
    },
    {
     "name": "stdout",
     "output_type": "stream",
     "text": [
      "004687131611659025372_SFO2_100_0034_patch_aligned_doseweighted_bin_2.mrc masked successfully!\n"
     ]
    },
    {
     "name": "stderr",
     "output_type": "stream",
     "text": [
      "\r",
      " 50%|████████████████████                    | 511/1020 [17:14<17:07,  2.02s/it]"
     ]
    },
    {
     "name": "stdout",
     "output_type": "stream",
     "text": [
      "017286335825112425888_SFO2_115_0001_patch_aligned_doseweighted_bin_2.mrc masked successfully!\n"
     ]
    },
    {
     "name": "stderr",
     "output_type": "stream",
     "text": [
      "\r",
      " 50%|████████████████████                    | 512/1020 [17:17<17:05,  2.02s/it]"
     ]
    },
    {
     "name": "stdout",
     "output_type": "stream",
     "text": [
      "014453962700495121104_SFO2_122_0005_patch_aligned_doseweighted_bin_2.mrc masked successfully!\n"
     ]
    },
    {
     "name": "stderr",
     "output_type": "stream",
     "text": [
      "\r",
      " 50%|████████████████████                    | 513/1020 [17:19<17:13,  2.04s/it]"
     ]
    },
    {
     "name": "stdout",
     "output_type": "stream",
     "text": [
      "004328231333242245741_SFO2_103_0031_patch_aligned_doseweighted_bin_2.mrc masked successfully!\n"
     ]
    },
    {
     "name": "stderr",
     "output_type": "stream",
     "text": [
      "\r",
      " 50%|████████████████████▏                   | 514/1020 [17:21<17:17,  2.05s/it]"
     ]
    },
    {
     "name": "stdout",
     "output_type": "stream",
     "text": [
      "010823348435535844583_SFO2_123_0029_patch_aligned_doseweighted_bin_2.mrc masked successfully!\n"
     ]
    },
    {
     "name": "stderr",
     "output_type": "stream",
     "text": [
      "\r",
      " 50%|████████████████████▏                   | 515/1020 [17:23<17:08,  2.04s/it]"
     ]
    },
    {
     "name": "stdout",
     "output_type": "stream",
     "text": [
      "000475410576534988243_SFO2_114_0004_patch_aligned_doseweighted_bin_2.mrc masked successfully!\n"
     ]
    },
    {
     "name": "stderr",
     "output_type": "stream",
     "text": [
      "\r",
      " 51%|████████████████████▏                   | 516/1020 [17:25<17:09,  2.04s/it]"
     ]
    },
    {
     "name": "stdout",
     "output_type": "stream",
     "text": [
      "005467170687941886387_SFO2_120_0006_patch_aligned_doseweighted_bin_2.mrc masked successfully!\n"
     ]
    },
    {
     "name": "stderr",
     "output_type": "stream",
     "text": [
      "\r",
      " 51%|████████████████████▎                   | 517/1020 [17:27<17:09,  2.05s/it]"
     ]
    },
    {
     "name": "stdout",
     "output_type": "stream",
     "text": [
      "004893888338070226028_SFO2_105_0030_patch_aligned_doseweighted_bin_2.mrc masked successfully!\n"
     ]
    },
    {
     "name": "stderr",
     "output_type": "stream",
     "text": [
      "\r",
      " 51%|████████████████████▎                   | 518/1020 [17:29<17:00,  2.03s/it]"
     ]
    },
    {
     "name": "stdout",
     "output_type": "stream",
     "text": [
      "007940198131460103138_SFO2_113_0018_patch_aligned_doseweighted_bin_2.mrc masked successfully!\n"
     ]
    },
    {
     "name": "stderr",
     "output_type": "stream",
     "text": [
      "\r",
      " 51%|████████████████████▎                   | 519/1020 [17:31<16:52,  2.02s/it]"
     ]
    },
    {
     "name": "stdout",
     "output_type": "stream",
     "text": [
      "000711328050708532876_SFO2_112_0031_patch_aligned_doseweighted_bin_2.mrc masked successfully!\n"
     ]
    },
    {
     "name": "stderr",
     "output_type": "stream",
     "text": [
      "\r",
      " 51%|████████████████████▍                   | 520/1020 [17:33<16:51,  2.02s/it]"
     ]
    },
    {
     "name": "stdout",
     "output_type": "stream",
     "text": [
      "017823728367030259636_SFO2_104_0013_patch_aligned_doseweighted_bin_2.mrc masked successfully!\n"
     ]
    },
    {
     "name": "stderr",
     "output_type": "stream",
     "text": [
      "\r",
      " 51%|████████████████████▍                   | 521/1020 [17:35<16:48,  2.02s/it]"
     ]
    },
    {
     "name": "stdout",
     "output_type": "stream",
     "text": [
      "002574007966710120604_SFO2_126_0022_patch_aligned_doseweighted_bin_2.mrc masked successfully!\n"
     ]
    },
    {
     "name": "stderr",
     "output_type": "stream",
     "text": [
      "\r",
      " 51%|████████████████████▍                   | 522/1020 [17:37<17:00,  2.05s/it]"
     ]
    },
    {
     "name": "stdout",
     "output_type": "stream",
     "text": [
      "015106716723322353101_SFO2_116_0020_patch_aligned_doseweighted_bin_2.mrc masked successfully!\n"
     ]
    },
    {
     "name": "stderr",
     "output_type": "stream",
     "text": [
      "\r",
      " 51%|████████████████████▌                   | 523/1020 [17:39<17:00,  2.05s/it]"
     ]
    },
    {
     "name": "stdout",
     "output_type": "stream",
     "text": [
      "010926689421787650088_SFO2_111_0030_patch_aligned_doseweighted_bin_2.mrc masked successfully!\n"
     ]
    },
    {
     "name": "stderr",
     "output_type": "stream",
     "text": [
      "\r",
      " 51%|████████████████████▌                   | 524/1020 [17:41<16:37,  2.01s/it]"
     ]
    },
    {
     "name": "stdout",
     "output_type": "stream",
     "text": [
      "000394219343577745745_SFO2_120_0035_patch_aligned_doseweighted_bin_2.mrc masked successfully!\n"
     ]
    },
    {
     "name": "stderr",
     "output_type": "stream",
     "text": [
      "\r",
      " 51%|████████████████████▌                   | 525/1020 [17:43<16:38,  2.02s/it]"
     ]
    },
    {
     "name": "stdout",
     "output_type": "stream",
     "text": [
      "012177909895256868080_SFO2_121_0005_patch_aligned_doseweighted_bin_2.mrc masked successfully!\n"
     ]
    },
    {
     "name": "stderr",
     "output_type": "stream",
     "text": [
      "\r",
      " 52%|████████████████████▋                   | 526/1020 [17:45<16:35,  2.02s/it]"
     ]
    },
    {
     "name": "stdout",
     "output_type": "stream",
     "text": [
      "015181658520812283397_SFO2_115_0006_patch_aligned_doseweighted_bin_2.mrc masked successfully!\n"
     ]
    },
    {
     "name": "stderr",
     "output_type": "stream",
     "text": [
      "\r",
      " 52%|████████████████████▋                   | 527/1020 [17:47<16:45,  2.04s/it]"
     ]
    },
    {
     "name": "stdout",
     "output_type": "stream",
     "text": [
      "009730223750851230877_SFO2_118_0018_patch_aligned_doseweighted_bin_2.mrc masked successfully!\n"
     ]
    },
    {
     "name": "stderr",
     "output_type": "stream",
     "text": [
      "\r",
      " 52%|████████████████████▋                   | 528/1020 [17:49<16:40,  2.03s/it]"
     ]
    },
    {
     "name": "stdout",
     "output_type": "stream",
     "text": [
      "005135709810173371886_SFO2_123_0026_patch_aligned_doseweighted_bin_2.mrc masked successfully!\n"
     ]
    },
    {
     "name": "stderr",
     "output_type": "stream",
     "text": [
      "\r",
      " 52%|████████████████████▋                   | 529/1020 [17:51<16:28,  2.01s/it]"
     ]
    },
    {
     "name": "stdout",
     "output_type": "stream",
     "text": [
      "010741948650249604857_SFO2_108_0033_patch_aligned_doseweighted_bin_2.mrc masked successfully!\n"
     ]
    },
    {
     "name": "stderr",
     "output_type": "stream",
     "text": [
      "\r",
      " 52%|████████████████████▊                   | 530/1020 [17:53<16:24,  2.01s/it]"
     ]
    },
    {
     "name": "stdout",
     "output_type": "stream",
     "text": [
      "012743951831840245559_SFO2_121_0031_patch_aligned_doseweighted_bin_2.mrc masked successfully!\n"
     ]
    },
    {
     "name": "stderr",
     "output_type": "stream",
     "text": [
      "\r",
      " 52%|████████████████████▊                   | 531/1020 [17:55<16:30,  2.03s/it]"
     ]
    },
    {
     "name": "stdout",
     "output_type": "stream",
     "text": [
      "010307910497349149595_SFO2_125_0017_patch_aligned_doseweighted_bin_2.mrc masked successfully!\n"
     ]
    },
    {
     "name": "stderr",
     "output_type": "stream",
     "text": [
      "\r",
      " 52%|████████████████████▊                   | 532/1020 [17:57<16:32,  2.03s/it]"
     ]
    },
    {
     "name": "stdout",
     "output_type": "stream",
     "text": [
      "005485709168876261129_SFO2_121_0007_patch_aligned_doseweighted_bin_2.mrc masked successfully!\n"
     ]
    },
    {
     "name": "stderr",
     "output_type": "stream",
     "text": [
      "\r",
      " 52%|████████████████████▉                   | 533/1020 [17:59<16:34,  2.04s/it]"
     ]
    },
    {
     "name": "stdout",
     "output_type": "stream",
     "text": [
      "011506818922020168980_SFO2_122_0032_patch_aligned_doseweighted_bin_2.mrc masked successfully!\n"
     ]
    },
    {
     "name": "stderr",
     "output_type": "stream",
     "text": [
      "\r",
      " 52%|████████████████████▉                   | 534/1020 [18:01<16:26,  2.03s/it]"
     ]
    },
    {
     "name": "stdout",
     "output_type": "stream",
     "text": [
      "005521411127162520326_SFO2_109_0017_patch_aligned_doseweighted_bin_2.mrc masked successfully!\n"
     ]
    },
    {
     "name": "stderr",
     "output_type": "stream",
     "text": [
      "\r",
      " 52%|████████████████████▉                   | 535/1020 [18:03<16:20,  2.02s/it]"
     ]
    },
    {
     "name": "stdout",
     "output_type": "stream",
     "text": [
      "007524894955538392514_SFO2_120_0036_patch_aligned_doseweighted_bin_2.mrc masked successfully!\n"
     ]
    },
    {
     "name": "stderr",
     "output_type": "stream",
     "text": [
      "\r",
      " 53%|█████████████████████                   | 536/1020 [18:05<16:18,  2.02s/it]"
     ]
    },
    {
     "name": "stdout",
     "output_type": "stream",
     "text": [
      "003603017727500398686_SFO2_119_0023_patch_aligned_doseweighted_bin_2.mrc masked successfully!\n"
     ]
    },
    {
     "name": "stderr",
     "output_type": "stream",
     "text": [
      "\r",
      " 53%|█████████████████████                   | 537/1020 [18:07<16:10,  2.01s/it]"
     ]
    },
    {
     "name": "stdout",
     "output_type": "stream",
     "text": [
      "009473159400580635205_SFO2_104_0027_patch_aligned_doseweighted_bin_2.mrc masked successfully!\n"
     ]
    },
    {
     "name": "stderr",
     "output_type": "stream",
     "text": [
      "\r",
      " 53%|█████████████████████                   | 538/1020 [18:09<16:02,  2.00s/it]"
     ]
    },
    {
     "name": "stdout",
     "output_type": "stream",
     "text": [
      "007286955680202022263_SFO2_119_0018_patch_aligned_doseweighted_bin_2.mrc masked successfully!\n"
     ]
    },
    {
     "name": "stderr",
     "output_type": "stream",
     "text": [
      "\r",
      " 53%|█████████████████████▏                  | 539/1020 [18:11<16:17,  2.03s/it]"
     ]
    },
    {
     "name": "stdout",
     "output_type": "stream",
     "text": [
      "015357011310007505983_SFO2_118_0016_patch_aligned_doseweighted_bin_2.mrc masked successfully!\n"
     ]
    },
    {
     "name": "stderr",
     "output_type": "stream",
     "text": [
      "\r",
      " 53%|█████████████████████▏                  | 540/1020 [18:13<16:18,  2.04s/it]"
     ]
    },
    {
     "name": "stdout",
     "output_type": "stream",
     "text": [
      "011661273743554719795_SFO2_128_0010_patch_aligned_doseweighted_bin_2.mrc masked successfully!\n"
     ]
    },
    {
     "name": "stderr",
     "output_type": "stream",
     "text": [
      "\r",
      " 53%|█████████████████████▏                  | 541/1020 [18:15<16:20,  2.05s/it]"
     ]
    },
    {
     "name": "stdout",
     "output_type": "stream",
     "text": [
      "007166109598080477784_SFO2_107_0005_patch_aligned_doseweighted_bin_2.mrc masked successfully!\n"
     ]
    },
    {
     "name": "stderr",
     "output_type": "stream",
     "text": [
      "\r",
      " 53%|█████████████████████▎                  | 542/1020 [18:17<16:20,  2.05s/it]"
     ]
    },
    {
     "name": "stdout",
     "output_type": "stream",
     "text": [
      "013606167334637164457_SFO2_109_0030_patch_aligned_doseweighted_bin_2.mrc masked successfully!\n"
     ]
    },
    {
     "name": "stderr",
     "output_type": "stream",
     "text": [
      "\r",
      " 53%|█████████████████████▎                  | 543/1020 [18:20<16:11,  2.04s/it]"
     ]
    },
    {
     "name": "stdout",
     "output_type": "stream",
     "text": [
      "013369593766197614582_SFO2_117_0030_patch_aligned_doseweighted_bin_2.mrc masked successfully!\n"
     ]
    },
    {
     "name": "stderr",
     "output_type": "stream",
     "text": [
      "\r",
      " 53%|█████████████████████▎                  | 544/1020 [18:22<16:09,  2.04s/it]"
     ]
    },
    {
     "name": "stdout",
     "output_type": "stream",
     "text": [
      "007733455101500898551_SFO2_104_0035_patch_aligned_doseweighted_bin_2.mrc masked successfully!\n"
     ]
    },
    {
     "name": "stderr",
     "output_type": "stream",
     "text": [
      "\r",
      " 53%|█████████████████████▎                  | 545/1020 [18:24<16:10,  2.04s/it]"
     ]
    },
    {
     "name": "stdout",
     "output_type": "stream",
     "text": [
      "002591038786666894365_SFO2_125_0007_patch_aligned_doseweighted_bin_2.mrc masked successfully!\n"
     ]
    },
    {
     "name": "stderr",
     "output_type": "stream",
     "text": [
      "\r",
      " 54%|█████████████████████▍                  | 546/1020 [18:26<16:00,  2.03s/it]"
     ]
    },
    {
     "name": "stdout",
     "output_type": "stream",
     "text": [
      "000869982287491151209_SFO2_113_0020_patch_aligned_doseweighted_bin_2.mrc masked successfully!\n"
     ]
    },
    {
     "name": "stderr",
     "output_type": "stream",
     "text": [
      "\r",
      " 54%|█████████████████████▍                  | 547/1020 [18:28<16:01,  2.03s/it]"
     ]
    },
    {
     "name": "stdout",
     "output_type": "stream",
     "text": [
      "013950777288249974253_SFO2_123_0022_patch_aligned_doseweighted_bin_2.mrc masked successfully!\n"
     ]
    },
    {
     "name": "stderr",
     "output_type": "stream",
     "text": [
      "\r",
      " 54%|█████████████████████▍                  | 548/1020 [18:30<16:00,  2.04s/it]"
     ]
    },
    {
     "name": "stdout",
     "output_type": "stream",
     "text": [
      "003354785996279015411_SFO2_125_0036_patch_aligned_doseweighted_bin_2.mrc masked successfully!\n"
     ]
    },
    {
     "name": "stderr",
     "output_type": "stream",
     "text": [
      "\r",
      " 54%|█████████████████████▌                  | 549/1020 [18:32<15:48,  2.01s/it]"
     ]
    },
    {
     "name": "stdout",
     "output_type": "stream",
     "text": [
      "010428495821028088791_SFO2_122_0018_patch_aligned_doseweighted_bin_2.mrc masked successfully!\n"
     ]
    },
    {
     "name": "stderr",
     "output_type": "stream",
     "text": [
      "\r",
      " 54%|█████████████████████▌                  | 550/1020 [18:34<15:45,  2.01s/it]"
     ]
    },
    {
     "name": "stdout",
     "output_type": "stream",
     "text": [
      "009201341599891081902_SFO2_109_0011_patch_aligned_doseweighted_bin_2.mrc masked successfully!\n"
     ]
    },
    {
     "name": "stderr",
     "output_type": "stream",
     "text": [
      "\r",
      " 54%|█████████████████████▌                  | 551/1020 [18:36<15:44,  2.01s/it]"
     ]
    },
    {
     "name": "stdout",
     "output_type": "stream",
     "text": [
      "017005489208366159894_SFO2_124_0022_patch_aligned_doseweighted_bin_2.mrc masked successfully!\n"
     ]
    },
    {
     "name": "stderr",
     "output_type": "stream",
     "text": [
      "\r",
      " 54%|█████████████████████▋                  | 552/1020 [18:38<15:56,  2.04s/it]"
     ]
    },
    {
     "name": "stdout",
     "output_type": "stream",
     "text": [
      "008097068004741011118_SFO2_116_0005_patch_aligned_doseweighted_bin_2.mrc masked successfully!\n"
     ]
    },
    {
     "name": "stderr",
     "output_type": "stream",
     "text": [
      "\r",
      " 54%|█████████████████████▋                  | 553/1020 [18:40<16:03,  2.06s/it]"
     ]
    },
    {
     "name": "stdout",
     "output_type": "stream",
     "text": [
      "005070916940371293930_SFO2_118_0002_patch_aligned_doseweighted_bin_2.mrc masked successfully!\n"
     ]
    },
    {
     "name": "stderr",
     "output_type": "stream",
     "text": [
      "\r",
      " 54%|█████████████████████▋                  | 554/1020 [18:42<16:03,  2.07s/it]"
     ]
    },
    {
     "name": "stdout",
     "output_type": "stream",
     "text": [
      "006783464533613398935_SFO2_127_0032_patch_aligned_doseweighted_bin_2.mrc masked successfully!\n"
     ]
    },
    {
     "name": "stderr",
     "output_type": "stream",
     "text": [
      "\r",
      " 54%|█████████████████████▊                  | 555/1020 [18:44<16:00,  2.07s/it]"
     ]
    },
    {
     "name": "stdout",
     "output_type": "stream",
     "text": [
      "018170320330215381627_SFO2_126_0018_patch_aligned_doseweighted_bin_2.mrc masked successfully!\n"
     ]
    },
    {
     "name": "stderr",
     "output_type": "stream",
     "text": [
      "\r",
      " 55%|█████████████████████▊                  | 556/1020 [18:46<15:45,  2.04s/it]"
     ]
    },
    {
     "name": "stdout",
     "output_type": "stream",
     "text": [
      "006377789588218343651_SFO2_115_0032_patch_aligned_doseweighted_bin_2.mrc masked successfully!\n"
     ]
    },
    {
     "name": "stderr",
     "output_type": "stream",
     "text": [
      "\r",
      " 55%|█████████████████████▊                  | 557/1020 [18:48<15:37,  2.03s/it]"
     ]
    },
    {
     "name": "stdout",
     "output_type": "stream",
     "text": [
      "010805337428375042544_SFO2_127_0029_patch_aligned_doseweighted_bin_2.mrc masked successfully!\n"
     ]
    },
    {
     "name": "stderr",
     "output_type": "stream",
     "text": [
      "\r",
      " 55%|█████████████████████▉                  | 558/1020 [18:50<15:37,  2.03s/it]"
     ]
    },
    {
     "name": "stdout",
     "output_type": "stream",
     "text": [
      "009975095883447695455_SFO2_103_0020_patch_aligned_doseweighted_bin_2.mrc masked successfully!\n"
     ]
    },
    {
     "name": "stderr",
     "output_type": "stream",
     "text": [
      "\r",
      " 55%|█████████████████████▉                  | 559/1020 [18:52<15:30,  2.02s/it]"
     ]
    },
    {
     "name": "stdout",
     "output_type": "stream",
     "text": [
      "001779805434012583980_SFO2_113_0019_patch_aligned_doseweighted_bin_2.mrc masked successfully!\n"
     ]
    },
    {
     "name": "stderr",
     "output_type": "stream",
     "text": [
      "\r",
      " 55%|█████████████████████▉                  | 560/1020 [18:54<15:36,  2.04s/it]"
     ]
    },
    {
     "name": "stdout",
     "output_type": "stream",
     "text": [
      "009413851591557737805_SFO2_107_0014_patch_aligned_doseweighted_bin_2.mrc masked successfully!\n"
     ]
    },
    {
     "name": "stderr",
     "output_type": "stream",
     "text": [
      "\r",
      " 55%|██████████████████████                  | 561/1020 [18:56<15:40,  2.05s/it]"
     ]
    },
    {
     "name": "stdout",
     "output_type": "stream",
     "text": [
      "018390999509382564510_SFO2_119_0020_patch_aligned_doseweighted_bin_2.mrc masked successfully!\n"
     ]
    },
    {
     "name": "stderr",
     "output_type": "stream",
     "text": [
      "\r",
      " 55%|██████████████████████                  | 562/1020 [18:58<15:36,  2.05s/it]"
     ]
    },
    {
     "name": "stdout",
     "output_type": "stream",
     "text": [
      "015439418610618832993_SFO2_120_0003_patch_aligned_doseweighted_bin_2.mrc masked successfully!\n"
     ]
    },
    {
     "name": "stderr",
     "output_type": "stream",
     "text": [
      "\r",
      " 55%|██████████████████████                  | 563/1020 [19:00<15:38,  2.05s/it]"
     ]
    },
    {
     "name": "stdout",
     "output_type": "stream",
     "text": [
      "007901282421337941731_SFO2_102_0004_patch_aligned_doseweighted_bin_2.mrc masked successfully!\n"
     ]
    },
    {
     "name": "stderr",
     "output_type": "stream",
     "text": [
      "\r",
      " 55%|██████████████████████                  | 564/1020 [19:02<15:38,  2.06s/it]"
     ]
    },
    {
     "name": "stdout",
     "output_type": "stream",
     "text": [
      "009835944786982656529_SFO2_110_0009_patch_aligned_doseweighted_bin_2.mrc masked successfully!\n"
     ]
    },
    {
     "name": "stderr",
     "output_type": "stream",
     "text": [
      "\r",
      " 55%|██████████████████████▏                 | 565/1020 [19:04<15:37,  2.06s/it]"
     ]
    },
    {
     "name": "stdout",
     "output_type": "stream",
     "text": [
      "004723735724122726427_SFO2_118_0006_patch_aligned_doseweighted_bin_2.mrc masked successfully!\n"
     ]
    },
    {
     "name": "stderr",
     "output_type": "stream",
     "text": [
      "\r",
      " 55%|██████████████████████▏                 | 566/1020 [19:06<15:22,  2.03s/it]"
     ]
    },
    {
     "name": "stdout",
     "output_type": "stream",
     "text": [
      "006885373707556024859_SFO2_113_0003_patch_aligned_doseweighted_bin_2.mrc masked successfully!\n"
     ]
    },
    {
     "name": "stderr",
     "output_type": "stream",
     "text": [
      "\r",
      " 56%|██████████████████████▏                 | 567/1020 [19:08<15:13,  2.02s/it]"
     ]
    },
    {
     "name": "stdout",
     "output_type": "stream",
     "text": [
      "010733966923042182062_SFO2_109_0002_patch_aligned_doseweighted_bin_2.mrc masked successfully!\n"
     ]
    },
    {
     "name": "stderr",
     "output_type": "stream",
     "text": [
      "\r",
      " 56%|██████████████████████▎                 | 568/1020 [19:10<15:14,  2.02s/it]"
     ]
    },
    {
     "name": "stdout",
     "output_type": "stream",
     "text": [
      "001983178680247552290_SFO2_105_0032_patch_aligned_doseweighted_bin_2.mrc masked successfully!\n"
     ]
    },
    {
     "name": "stderr",
     "output_type": "stream",
     "text": [
      "\r",
      " 56%|██████████████████████▎                 | 569/1020 [19:12<15:21,  2.04s/it]"
     ]
    },
    {
     "name": "stdout",
     "output_type": "stream",
     "text": [
      "003772273820912574741_SFO2_126_0006_patch_aligned_doseweighted_bin_2.mrc masked successfully!\n"
     ]
    },
    {
     "name": "stderr",
     "output_type": "stream",
     "text": [
      "\r",
      " 56%|██████████████████████▎                 | 570/1020 [19:15<15:17,  2.04s/it]"
     ]
    },
    {
     "name": "stdout",
     "output_type": "stream",
     "text": [
      "005338621291987877612_SFO2_127_0020_patch_aligned_doseweighted_bin_2.mrc masked successfully!\n"
     ]
    },
    {
     "name": "stderr",
     "output_type": "stream",
     "text": [
      "\r",
      " 56%|██████████████████████▍                 | 571/1020 [19:17<15:10,  2.03s/it]"
     ]
    },
    {
     "name": "stdout",
     "output_type": "stream",
     "text": [
      "015136508333213785020_SFO2_126_0023_patch_aligned_doseweighted_bin_2.mrc masked successfully!\n"
     ]
    },
    {
     "name": "stderr",
     "output_type": "stream",
     "text": [
      "\r",
      " 56%|██████████████████████▍                 | 572/1020 [19:19<15:14,  2.04s/it]"
     ]
    },
    {
     "name": "stdout",
     "output_type": "stream",
     "text": [
      "017450251930770548497_SFO2_110_0035_patch_aligned_doseweighted_bin_2.mrc masked successfully!\n"
     ]
    },
    {
     "name": "stderr",
     "output_type": "stream",
     "text": [
      "\r",
      " 56%|██████████████████████▍                 | 573/1020 [19:21<15:09,  2.04s/it]"
     ]
    },
    {
     "name": "stdout",
     "output_type": "stream",
     "text": [
      "001456103212995921475_SFO2_115_0002_patch_aligned_doseweighted_bin_2.mrc masked successfully!\n"
     ]
    },
    {
     "name": "stderr",
     "output_type": "stream",
     "text": [
      "\r",
      " 56%|██████████████████████▌                 | 574/1020 [19:23<15:10,  2.04s/it]"
     ]
    },
    {
     "name": "stdout",
     "output_type": "stream",
     "text": [
      "016622014662442164823_SFO2_106_0020_patch_aligned_doseweighted_bin_2.mrc masked successfully!\n"
     ]
    },
    {
     "name": "stderr",
     "output_type": "stream",
     "text": [
      "\r",
      " 56%|██████████████████████▌                 | 575/1020 [19:25<14:59,  2.02s/it]"
     ]
    },
    {
     "name": "stdout",
     "output_type": "stream",
     "text": [
      "008032913392249379210_SFO2_105_0036_patch_aligned_doseweighted_bin_2.mrc masked successfully!\n"
     ]
    },
    {
     "name": "stderr",
     "output_type": "stream",
     "text": [
      "\r",
      " 56%|██████████████████████▌                 | 576/1020 [19:27<14:50,  2.00s/it]"
     ]
    },
    {
     "name": "stdout",
     "output_type": "stream",
     "text": [
      "010750412985376940696_SFO2_125_0004_patch_aligned_doseweighted_bin_2.mrc masked successfully!\n"
     ]
    },
    {
     "name": "stderr",
     "output_type": "stream",
     "text": [
      "\r",
      " 57%|██████████████████████▋                 | 577/1020 [19:29<14:43,  1.99s/it]"
     ]
    },
    {
     "name": "stdout",
     "output_type": "stream",
     "text": [
      "008168505044337335455_SFO2_109_0032_patch_aligned_doseweighted_bin_2.mrc masked successfully!\n"
     ]
    },
    {
     "name": "stderr",
     "output_type": "stream",
     "text": [
      "\r",
      " 57%|██████████████████████▋                 | 578/1020 [19:31<14:52,  2.02s/it]"
     ]
    },
    {
     "name": "stdout",
     "output_type": "stream",
     "text": [
      "004813616767423803164_SFO2_125_0003_patch_aligned_doseweighted_bin_2.mrc masked successfully!\n"
     ]
    },
    {
     "name": "stderr",
     "output_type": "stream",
     "text": [
      "\r",
      " 57%|██████████████████████▋                 | 579/1020 [19:33<14:47,  2.01s/it]"
     ]
    },
    {
     "name": "stdout",
     "output_type": "stream",
     "text": [
      "000898844523060433282_SFO2_111_0024_patch_aligned_doseweighted_bin_2.mrc masked successfully!\n"
     ]
    },
    {
     "name": "stderr",
     "output_type": "stream",
     "text": [
      "\r",
      " 57%|██████████████████████▋                 | 580/1020 [19:35<14:30,  1.98s/it]"
     ]
    },
    {
     "name": "stdout",
     "output_type": "stream",
     "text": [
      "014686603872451363555_SFO2_118_0011_patch_aligned_doseweighted_bin_2.mrc masked successfully!\n"
     ]
    },
    {
     "name": "stderr",
     "output_type": "stream",
     "text": [
      "\r",
      " 57%|██████████████████████▊                 | 581/1020 [19:37<14:36,  2.00s/it]"
     ]
    },
    {
     "name": "stdout",
     "output_type": "stream",
     "text": [
      "015101126443337538692_SFO2_103_0010_patch_aligned_doseweighted_bin_2.mrc masked successfully!\n"
     ]
    },
    {
     "name": "stderr",
     "output_type": "stream",
     "text": [
      "\r",
      " 57%|██████████████████████▊                 | 582/1020 [19:39<14:40,  2.01s/it]"
     ]
    },
    {
     "name": "stdout",
     "output_type": "stream",
     "text": [
      "014319058269854610287_SFO2_127_0008_patch_aligned_doseweighted_bin_2.mrc masked successfully!\n"
     ]
    },
    {
     "name": "stderr",
     "output_type": "stream",
     "text": [
      "\r",
      " 57%|██████████████████████▊                 | 583/1020 [19:41<14:41,  2.02s/it]"
     ]
    },
    {
     "name": "stdout",
     "output_type": "stream",
     "text": [
      "016070719403691799288_SFO2_115_0029_patch_aligned_doseweighted_bin_2.mrc masked successfully!\n"
     ]
    },
    {
     "name": "stderr",
     "output_type": "stream",
     "text": [
      "\r",
      " 57%|██████████████████████▉                 | 584/1020 [19:43<14:36,  2.01s/it]"
     ]
    },
    {
     "name": "stdout",
     "output_type": "stream",
     "text": [
      "012712924049531970431_SFO2_127_0011_patch_aligned_doseweighted_bin_2.mrc masked successfully!\n"
     ]
    },
    {
     "name": "stderr",
     "output_type": "stream",
     "text": [
      "\r",
      " 57%|██████████████████████▉                 | 585/1020 [19:45<14:38,  2.02s/it]"
     ]
    },
    {
     "name": "stdout",
     "output_type": "stream",
     "text": [
      "018005282159156262484_SFO2_107_0032_patch_aligned_doseweighted_bin_2.mrc masked successfully!\n"
     ]
    },
    {
     "name": "stderr",
     "output_type": "stream",
     "text": [
      "\r",
      " 57%|██████████████████████▉                 | 586/1020 [19:47<14:43,  2.04s/it]"
     ]
    },
    {
     "name": "stdout",
     "output_type": "stream",
     "text": [
      "001517265920337264405_SFO2_116_0036_patch_aligned_doseweighted_bin_2.mrc masked successfully!\n"
     ]
    },
    {
     "name": "stderr",
     "output_type": "stream",
     "text": [
      "\r",
      " 58%|███████████████████████                 | 587/1020 [19:49<14:42,  2.04s/it]"
     ]
    },
    {
     "name": "stdout",
     "output_type": "stream",
     "text": [
      "014918438190055862223_SFO2_108_0007_patch_aligned_doseweighted_bin_2.mrc masked successfully!\n"
     ]
    },
    {
     "name": "stderr",
     "output_type": "stream",
     "text": [
      "\r",
      " 58%|███████████████████████                 | 588/1020 [19:51<14:36,  2.03s/it]"
     ]
    },
    {
     "name": "stdout",
     "output_type": "stream",
     "text": [
      "016355855553748985800_SFO2_124_0009_patch_aligned_doseweighted_bin_2.mrc masked successfully!\n"
     ]
    },
    {
     "name": "stderr",
     "output_type": "stream",
     "text": [
      "\r",
      " 58%|███████████████████████                 | 589/1020 [19:53<14:38,  2.04s/it]"
     ]
    },
    {
     "name": "stdout",
     "output_type": "stream",
     "text": [
      "004457078566709714100_SFO2_123_0034_patch_aligned_doseweighted_bin_2.mrc masked successfully!\n"
     ]
    },
    {
     "name": "stderr",
     "output_type": "stream",
     "text": [
      "\r",
      " 58%|███████████████████████▏                | 590/1020 [19:55<14:35,  2.04s/it]"
     ]
    },
    {
     "name": "stdout",
     "output_type": "stream",
     "text": [
      "010045119661498644275_SFO2_112_0024_patch_aligned_doseweighted_bin_2.mrc masked successfully!\n"
     ]
    },
    {
     "name": "stderr",
     "output_type": "stream",
     "text": [
      "\r",
      " 58%|███████████████████████▏                | 591/1020 [19:57<14:36,  2.04s/it]"
     ]
    },
    {
     "name": "stdout",
     "output_type": "stream",
     "text": [
      "008971883297063172995_SFO2_118_0030_patch_aligned_doseweighted_bin_2.mrc masked successfully!\n"
     ]
    },
    {
     "name": "stderr",
     "output_type": "stream",
     "text": [
      "\r",
      " 58%|███████████████████████▏                | 592/1020 [19:59<14:24,  2.02s/it]"
     ]
    },
    {
     "name": "stdout",
     "output_type": "stream",
     "text": [
      "016778429256427063323_SFO2_110_0023_patch_aligned_doseweighted_bin_2.mrc masked successfully!\n"
     ]
    },
    {
     "name": "stderr",
     "output_type": "stream",
     "text": [
      "\r",
      " 58%|███████████████████████▎                | 593/1020 [20:01<14:22,  2.02s/it]"
     ]
    },
    {
     "name": "stdout",
     "output_type": "stream",
     "text": [
      "015246524950862646843_SFO2_112_0028_patch_aligned_doseweighted_bin_2.mrc masked successfully!\n"
     ]
    },
    {
     "name": "stderr",
     "output_type": "stream",
     "text": [
      "\r",
      " 58%|███████████████████████▎                | 594/1020 [20:03<14:08,  1.99s/it]"
     ]
    },
    {
     "name": "stdout",
     "output_type": "stream",
     "text": [
      "012059033335964328760_SFO2_110_0020_patch_aligned_doseweighted_bin_2.mrc masked successfully!\n"
     ]
    },
    {
     "name": "stderr",
     "output_type": "stream",
     "text": [
      "\r",
      " 58%|███████████████████████▎                | 595/1020 [20:05<14:18,  2.02s/it]"
     ]
    },
    {
     "name": "stdout",
     "output_type": "stream",
     "text": [
      "017321561299622325760_SFO2_108_0015_patch_aligned_doseweighted_bin_2.mrc masked successfully!\n"
     ]
    },
    {
     "name": "stderr",
     "output_type": "stream",
     "text": [
      "\r",
      " 58%|███████████████████████▎                | 596/1020 [20:07<14:26,  2.04s/it]"
     ]
    },
    {
     "name": "stdout",
     "output_type": "stream",
     "text": [
      "005093833824554236392_SFO2_110_0012_patch_aligned_doseweighted_bin_2.mrc masked successfully!\n"
     ]
    },
    {
     "name": "stderr",
     "output_type": "stream",
     "text": [
      "\r",
      " 59%|███████████████████████▍                | 597/1020 [20:09<14:21,  2.04s/it]"
     ]
    },
    {
     "name": "stdout",
     "output_type": "stream",
     "text": [
      "018216854475027949678_SFO2_126_0016_patch_aligned_doseweighted_bin_2.mrc masked successfully!\n"
     ]
    },
    {
     "name": "stderr",
     "output_type": "stream",
     "text": [
      "\r",
      " 59%|███████████████████████▍                | 598/1020 [20:11<14:15,  2.03s/it]"
     ]
    },
    {
     "name": "stdout",
     "output_type": "stream",
     "text": [
      "015563405319125564763_SFO2_103_0028_patch_aligned_doseweighted_bin_2.mrc masked successfully!\n"
     ]
    },
    {
     "name": "stderr",
     "output_type": "stream",
     "text": [
      "\r",
      " 59%|███████████████████████▍                | 599/1020 [20:13<14:12,  2.02s/it]"
     ]
    },
    {
     "name": "stdout",
     "output_type": "stream",
     "text": [
      "005227520579263750210_SFO2_116_0006_patch_aligned_doseweighted_bin_2.mrc masked successfully!\n"
     ]
    },
    {
     "name": "stderr",
     "output_type": "stream",
     "text": [
      "\r",
      " 59%|███████████████████████▌                | 600/1020 [20:15<14:05,  2.01s/it]"
     ]
    },
    {
     "name": "stdout",
     "output_type": "stream",
     "text": [
      "015732366369787180468_SFO2_102_0026_patch_aligned_doseweighted_bin_2.mrc masked successfully!\n"
     ]
    },
    {
     "name": "stderr",
     "output_type": "stream",
     "text": [
      "\r",
      " 59%|███████████████████████▌                | 601/1020 [20:17<14:05,  2.02s/it]"
     ]
    },
    {
     "name": "stdout",
     "output_type": "stream",
     "text": [
      "017958697191663392304_SFO2_121_0008_patch_aligned_doseweighted_bin_2.mrc masked successfully!\n"
     ]
    },
    {
     "name": "stderr",
     "output_type": "stream",
     "text": [
      "\r",
      " 59%|███████████████████████▌                | 602/1020 [20:19<14:04,  2.02s/it]"
     ]
    },
    {
     "name": "stdout",
     "output_type": "stream",
     "text": [
      "014719897378267442372_SFO2_120_0023_patch_aligned_doseweighted_bin_2.mrc masked successfully!\n"
     ]
    },
    {
     "name": "stderr",
     "output_type": "stream",
     "text": [
      "\r",
      " 59%|███████████████████████▋                | 603/1020 [20:21<14:06,  2.03s/it]"
     ]
    },
    {
     "name": "stdout",
     "output_type": "stream",
     "text": [
      "000465889183564370767_SFO2_117_0005_patch_aligned_doseweighted_bin_2.mrc masked successfully!\n"
     ]
    },
    {
     "name": "stderr",
     "output_type": "stream",
     "text": [
      "\r",
      " 59%|███████████████████████▋                | 604/1020 [20:23<14:08,  2.04s/it]"
     ]
    },
    {
     "name": "stdout",
     "output_type": "stream",
     "text": [
      "017222578053786275157_SFO2_126_0024_patch_aligned_doseweighted_bin_2.mrc masked successfully!\n"
     ]
    },
    {
     "name": "stderr",
     "output_type": "stream",
     "text": [
      "\r",
      " 59%|███████████████████████▋                | 605/1020 [20:25<14:08,  2.05s/it]"
     ]
    },
    {
     "name": "stdout",
     "output_type": "stream",
     "text": [
      "016203586837914755152_SFO2_111_0012_patch_aligned_doseweighted_bin_2.mrc masked successfully!\n"
     ]
    },
    {
     "name": "stderr",
     "output_type": "stream",
     "text": [
      "\r",
      " 59%|███████████████████████▊                | 606/1020 [20:27<14:03,  2.04s/it]"
     ]
    },
    {
     "name": "stdout",
     "output_type": "stream",
     "text": [
      "002386251407929762804_SFO2_108_0002_patch_aligned_doseweighted_bin_2.mrc masked successfully!\n"
     ]
    },
    {
     "name": "stderr",
     "output_type": "stream",
     "text": [
      "\r",
      " 60%|███████████████████████▊                | 607/1020 [20:29<13:50,  2.01s/it]"
     ]
    },
    {
     "name": "stdout",
     "output_type": "stream",
     "text": [
      "005209730665399769140_SFO2_115_0009_patch_aligned_doseweighted_bin_2.mrc masked successfully!\n"
     ]
    },
    {
     "name": "stderr",
     "output_type": "stream",
     "text": [
      "\r",
      " 60%|███████████████████████▊                | 608/1020 [20:31<13:53,  2.02s/it]"
     ]
    },
    {
     "name": "stdout",
     "output_type": "stream",
     "text": [
      "007273180118050191681_SFO2_124_0023_patch_aligned_doseweighted_bin_2.mrc masked successfully!\n"
     ]
    },
    {
     "name": "stderr",
     "output_type": "stream",
     "text": [
      "\r",
      " 60%|███████████████████████▉                | 609/1020 [20:34<14:16,  2.08s/it]"
     ]
    },
    {
     "name": "stdout",
     "output_type": "stream",
     "text": [
      "003910490933013776763_SFO2_110_0018_patch_aligned_doseweighted_bin_2.mrc masked successfully!\n"
     ]
    },
    {
     "name": "stderr",
     "output_type": "stream",
     "text": [
      "\r",
      " 60%|███████████████████████▉                | 610/1020 [20:36<14:08,  2.07s/it]"
     ]
    },
    {
     "name": "stdout",
     "output_type": "stream",
     "text": [
      "012469259075598920469_SFO2_117_0004_patch_aligned_doseweighted_bin_2.mrc masked successfully!\n"
     ]
    },
    {
     "name": "stderr",
     "output_type": "stream",
     "text": [
      "\r",
      " 60%|███████████████████████▉                | 611/1020 [20:38<14:04,  2.06s/it]"
     ]
    },
    {
     "name": "stdout",
     "output_type": "stream",
     "text": [
      "013626098029150685988_SFO2_114_0033_patch_aligned_doseweighted_bin_2.mrc masked successfully!\n"
     ]
    },
    {
     "name": "stderr",
     "output_type": "stream",
     "text": [
      "\r",
      " 60%|████████████████████████                | 612/1020 [20:40<14:02,  2.07s/it]"
     ]
    },
    {
     "name": "stdout",
     "output_type": "stream",
     "text": [
      "006950887587427999561_SFO2_111_0026_patch_aligned_doseweighted_bin_2.mrc masked successfully!\n"
     ]
    },
    {
     "name": "stderr",
     "output_type": "stream",
     "text": [
      "\r",
      " 60%|████████████████████████                | 613/1020 [20:42<13:50,  2.04s/it]"
     ]
    },
    {
     "name": "stdout",
     "output_type": "stream",
     "text": [
      "014258870540256198103_SFO2_113_0016_patch_aligned_doseweighted_bin_2.mrc masked successfully!\n"
     ]
    },
    {
     "name": "stderr",
     "output_type": "stream",
     "text": [
      "\r",
      " 60%|████████████████████████                | 614/1020 [20:44<13:39,  2.02s/it]"
     ]
    },
    {
     "name": "stdout",
     "output_type": "stream",
     "text": [
      "014697874716328560174_SFO2_101_0009_patch_aligned_doseweighted_bin_2.mrc masked successfully!\n"
     ]
    },
    {
     "name": "stderr",
     "output_type": "stream",
     "text": [
      "\r",
      " 60%|████████████████████████                | 615/1020 [20:46<13:46,  2.04s/it]"
     ]
    },
    {
     "name": "stdout",
     "output_type": "stream",
     "text": [
      "000983714764982000382_SFO2_127_0012_patch_aligned_doseweighted_bin_2.mrc masked successfully!\n"
     ]
    },
    {
     "name": "stderr",
     "output_type": "stream",
     "text": [
      "\r",
      " 60%|████████████████████████▏               | 616/1020 [20:48<13:45,  2.04s/it]"
     ]
    },
    {
     "name": "stdout",
     "output_type": "stream",
     "text": [
      "014270379730409719493_SFO2_100_0018_patch_aligned_doseweighted_bin_2.mrc masked successfully!\n"
     ]
    },
    {
     "name": "stderr",
     "output_type": "stream",
     "text": [
      "\r",
      " 60%|████████████████████████▏               | 617/1020 [20:50<13:44,  2.05s/it]"
     ]
    },
    {
     "name": "stdout",
     "output_type": "stream",
     "text": [
      "006375233856447652911_SFO2_102_0007_patch_aligned_doseweighted_bin_2.mrc masked successfully!\n"
     ]
    },
    {
     "name": "stderr",
     "output_type": "stream",
     "text": [
      "\r",
      " 61%|████████████████████████▏               | 618/1020 [20:52<13:43,  2.05s/it]"
     ]
    },
    {
     "name": "stdout",
     "output_type": "stream",
     "text": [
      "004193461390774368357_SFO2_126_0030_patch_aligned_doseweighted_bin_2.mrc masked successfully!\n"
     ]
    },
    {
     "name": "stderr",
     "output_type": "stream",
     "text": [
      "\r",
      " 61%|████████████████████████▎               | 619/1020 [20:54<13:46,  2.06s/it]"
     ]
    },
    {
     "name": "stdout",
     "output_type": "stream",
     "text": [
      "017388222407996471645_SFO2_128_0004_patch_aligned_doseweighted_bin_2.mrc masked successfully!\n"
     ]
    },
    {
     "name": "stderr",
     "output_type": "stream",
     "text": [
      "\r",
      " 61%|████████████████████████▎               | 620/1020 [20:56<13:42,  2.06s/it]"
     ]
    },
    {
     "name": "stdout",
     "output_type": "stream",
     "text": [
      "014525324882936418859_SFO2_119_0019_patch_aligned_doseweighted_bin_2.mrc masked successfully!\n"
     ]
    },
    {
     "name": "stderr",
     "output_type": "stream",
     "text": [
      "\r",
      " 61%|████████████████████████▎               | 621/1020 [20:58<13:41,  2.06s/it]"
     ]
    },
    {
     "name": "stdout",
     "output_type": "stream",
     "text": [
      "004941759449187501500_SFO2_123_0012_patch_aligned_doseweighted_bin_2.mrc masked successfully!\n"
     ]
    },
    {
     "name": "stderr",
     "output_type": "stream",
     "text": [
      "\r",
      " 61%|████████████████████████▍               | 622/1020 [21:00<13:35,  2.05s/it]"
     ]
    },
    {
     "name": "stdout",
     "output_type": "stream",
     "text": [
      "016083704937278997124_SFO2_124_0007_patch_aligned_doseweighted_bin_2.mrc masked successfully!\n"
     ]
    },
    {
     "name": "stderr",
     "output_type": "stream",
     "text": [
      "\r",
      " 61%|████████████████████████▍               | 623/1020 [21:02<13:23,  2.02s/it]"
     ]
    },
    {
     "name": "stdout",
     "output_type": "stream",
     "text": [
      "016150599822560215339_SFO2_108_0014_patch_aligned_doseweighted_bin_2.mrc masked successfully!\n"
     ]
    },
    {
     "name": "stderr",
     "output_type": "stream",
     "text": [
      "\r",
      " 61%|████████████████████████▍               | 624/1020 [21:04<13:28,  2.04s/it]"
     ]
    },
    {
     "name": "stdout",
     "output_type": "stream",
     "text": [
      "016495432888174523593_SFO2_115_0036_patch_aligned_doseweighted_bin_2.mrc masked successfully!\n"
     ]
    },
    {
     "name": "stderr",
     "output_type": "stream",
     "text": [
      "\r",
      " 61%|████████████████████████▌               | 625/1020 [21:06<13:28,  2.05s/it]"
     ]
    },
    {
     "name": "stdout",
     "output_type": "stream",
     "text": [
      "008104721280295635295_SFO2_126_0031_patch_aligned_doseweighted_bin_2.mrc masked successfully!\n"
     ]
    },
    {
     "name": "stderr",
     "output_type": "stream",
     "text": [
      "\r",
      " 61%|████████████████████████▌               | 626/1020 [21:08<13:35,  2.07s/it]"
     ]
    },
    {
     "name": "stdout",
     "output_type": "stream",
     "text": [
      "011762799803662119951_SFO2_108_0029_patch_aligned_doseweighted_bin_2.mrc masked successfully!\n"
     ]
    },
    {
     "name": "stderr",
     "output_type": "stream",
     "text": [
      "\r",
      " 61%|████████████████████████▌               | 627/1020 [21:10<13:31,  2.07s/it]"
     ]
    },
    {
     "name": "stdout",
     "output_type": "stream",
     "text": [
      "016023134690000750435_SFO2_105_0004_patch_aligned_doseweighted_bin_2.mrc masked successfully!\n"
     ]
    },
    {
     "name": "stderr",
     "output_type": "stream",
     "text": [
      "\r",
      " 62%|████████████████████████▋               | 628/1020 [21:12<13:27,  2.06s/it]"
     ]
    },
    {
     "name": "stdout",
     "output_type": "stream",
     "text": [
      "011798681168127027562_SFO2_103_0030_patch_aligned_doseweighted_bin_2.mrc masked successfully!\n"
     ]
    },
    {
     "name": "stderr",
     "output_type": "stream",
     "text": [
      "\r",
      " 62%|████████████████████████▋               | 629/1020 [21:14<13:16,  2.04s/it]"
     ]
    },
    {
     "name": "stdout",
     "output_type": "stream",
     "text": [
      "001307330494060111220_SFO2_122_0029_patch_aligned_doseweighted_bin_2.mrc masked successfully!\n"
     ]
    },
    {
     "name": "stderr",
     "output_type": "stream",
     "text": [
      "\r",
      " 62%|████████████████████████▋               | 630/1020 [21:16<13:11,  2.03s/it]"
     ]
    },
    {
     "name": "stdout",
     "output_type": "stream",
     "text": [
      "016994773409600928651_SFO2_126_0032_patch_aligned_doseweighted_bin_2.mrc masked successfully!\n"
     ]
    },
    {
     "name": "stderr",
     "output_type": "stream",
     "text": [
      "\r",
      " 62%|████████████████████████▋               | 631/1020 [21:19<13:11,  2.03s/it]"
     ]
    },
    {
     "name": "stdout",
     "output_type": "stream",
     "text": [
      "017502794574205007828_SFO2_101_0008_patch_aligned_doseweighted_bin_2.mrc masked successfully!\n"
     ]
    },
    {
     "name": "stderr",
     "output_type": "stream",
     "text": [
      "\r",
      " 62%|████████████████████████▊               | 632/1020 [21:21<13:09,  2.04s/it]"
     ]
    },
    {
     "name": "stdout",
     "output_type": "stream",
     "text": [
      "014935902713106741848_SFO2_127_0007_patch_aligned_doseweighted_bin_2.mrc masked successfully!\n"
     ]
    },
    {
     "name": "stderr",
     "output_type": "stream",
     "text": [
      "\r",
      " 62%|████████████████████████▊               | 633/1020 [21:23<13:08,  2.04s/it]"
     ]
    },
    {
     "name": "stdout",
     "output_type": "stream",
     "text": [
      "004917034554625057844_SFO2_103_0012_patch_aligned_doseweighted_bin_2.mrc masked successfully!\n"
     ]
    },
    {
     "name": "stderr",
     "output_type": "stream",
     "text": [
      "\r",
      " 62%|████████████████████████▊               | 634/1020 [21:25<13:05,  2.03s/it]"
     ]
    },
    {
     "name": "stdout",
     "output_type": "stream",
     "text": [
      "015465969094600175034_SFO2_119_0008_patch_aligned_doseweighted_bin_2.mrc masked successfully!\n"
     ]
    },
    {
     "name": "stderr",
     "output_type": "stream",
     "text": [
      "\r",
      " 62%|████████████████████████▉               | 635/1020 [21:27<13:03,  2.03s/it]"
     ]
    },
    {
     "name": "stdout",
     "output_type": "stream",
     "text": [
      "011701834764838628830_SFO2_112_0017_patch_aligned_doseweighted_bin_2.mrc masked successfully!\n"
     ]
    },
    {
     "name": "stderr",
     "output_type": "stream",
     "text": [
      "\r",
      " 62%|████████████████████████▉               | 636/1020 [21:29<13:01,  2.04s/it]"
     ]
    },
    {
     "name": "stdout",
     "output_type": "stream",
     "text": [
      "009853401311364621529_SFO2_119_0024_patch_aligned_doseweighted_bin_2.mrc masked successfully!\n"
     ]
    },
    {
     "name": "stderr",
     "output_type": "stream",
     "text": [
      "\r",
      " 62%|████████████████████████▉               | 637/1020 [21:31<12:52,  2.02s/it]"
     ]
    },
    {
     "name": "stdout",
     "output_type": "stream",
     "text": [
      "011503456930779477772_SFO2_100_0021_patch_aligned_doseweighted_bin_2.mrc masked successfully!\n"
     ]
    },
    {
     "name": "stderr",
     "output_type": "stream",
     "text": [
      "\r",
      " 63%|█████████████████████████               | 638/1020 [21:33<12:45,  2.00s/it]"
     ]
    },
    {
     "name": "stdout",
     "output_type": "stream",
     "text": [
      "000813139794186149541_SFO2_103_0005_patch_aligned_doseweighted_bin_2.mrc masked successfully!\n"
     ]
    },
    {
     "name": "stderr",
     "output_type": "stream",
     "text": [
      "\r",
      " 63%|█████████████████████████               | 639/1020 [21:35<12:49,  2.02s/it]"
     ]
    },
    {
     "name": "stdout",
     "output_type": "stream",
     "text": [
      "003124342932191617830_SFO2_100_0028_patch_aligned_doseweighted_bin_2.mrc masked successfully!\n"
     ]
    },
    {
     "name": "stderr",
     "output_type": "stream",
     "text": [
      "\r",
      " 63%|█████████████████████████               | 640/1020 [21:37<12:40,  2.00s/it]"
     ]
    },
    {
     "name": "stdout",
     "output_type": "stream",
     "text": [
      "009931349040705206093_SFO2_125_0009_patch_aligned_doseweighted_bin_2.mrc masked successfully!\n"
     ]
    },
    {
     "name": "stderr",
     "output_type": "stream",
     "text": [
      "\r",
      " 63%|█████████████████████████▏              | 641/1020 [21:39<12:34,  1.99s/it]"
     ]
    },
    {
     "name": "stdout",
     "output_type": "stream",
     "text": [
      "014323302291944175523_SFO2_126_0004_patch_aligned_doseweighted_bin_2.mrc masked successfully!\n"
     ]
    },
    {
     "name": "stderr",
     "output_type": "stream",
     "text": [
      "\r",
      " 63%|█████████████████████████▏              | 642/1020 [21:41<12:41,  2.01s/it]"
     ]
    },
    {
     "name": "stdout",
     "output_type": "stream",
     "text": [
      "001642773277019735905_SFO2_113_0031_patch_aligned_doseweighted_bin_2.mrc masked successfully!\n"
     ]
    },
    {
     "name": "stderr",
     "output_type": "stream",
     "text": [
      "\r",
      " 63%|█████████████████████████▏              | 643/1020 [21:43<12:46,  2.03s/it]"
     ]
    },
    {
     "name": "stdout",
     "output_type": "stream",
     "text": [
      "011410161826660201875_SFO2_110_0006_patch_aligned_doseweighted_bin_2.mrc masked successfully!\n"
     ]
    },
    {
     "name": "stderr",
     "output_type": "stream",
     "text": [
      "\r",
      " 63%|█████████████████████████▎              | 644/1020 [21:45<12:38,  2.02s/it]"
     ]
    },
    {
     "name": "stdout",
     "output_type": "stream",
     "text": [
      "017720757358332468443_SFO2_122_0035_patch_aligned_doseweighted_bin_2.mrc masked successfully!\n"
     ]
    },
    {
     "name": "stderr",
     "output_type": "stream",
     "text": [
      "\r",
      " 63%|█████████████████████████▎              | 645/1020 [21:47<12:33,  2.01s/it]"
     ]
    },
    {
     "name": "stdout",
     "output_type": "stream",
     "text": [
      "000323868758437934598_SFO2_112_0035_patch_aligned_doseweighted_bin_2.mrc masked successfully!\n"
     ]
    },
    {
     "name": "stderr",
     "output_type": "stream",
     "text": [
      "\r",
      " 63%|█████████████████████████▎              | 646/1020 [21:49<12:34,  2.02s/it]"
     ]
    },
    {
     "name": "stdout",
     "output_type": "stream",
     "text": [
      "008278699758922761218_SFO2_122_0031_patch_aligned_doseweighted_bin_2.mrc masked successfully!\n"
     ]
    },
    {
     "name": "stderr",
     "output_type": "stream",
     "text": [
      "\r",
      " 63%|█████████████████████████▎              | 647/1020 [21:51<12:31,  2.02s/it]"
     ]
    },
    {
     "name": "stdout",
     "output_type": "stream",
     "text": [
      "005094819426174714766_SFO2_106_0003_patch_aligned_doseweighted_bin_2.mrc masked successfully!\n"
     ]
    },
    {
     "name": "stderr",
     "output_type": "stream",
     "text": [
      "\r",
      " 64%|█████████████████████████▍              | 648/1020 [21:53<12:38,  2.04s/it]"
     ]
    },
    {
     "name": "stdout",
     "output_type": "stream",
     "text": [
      "012813400477542681471_SFO2_125_0023_patch_aligned_doseweighted_bin_2.mrc masked successfully!\n"
     ]
    },
    {
     "name": "stderr",
     "output_type": "stream",
     "text": [
      "\r",
      " 64%|█████████████████████████▍              | 649/1020 [21:55<12:34,  2.03s/it]"
     ]
    },
    {
     "name": "stdout",
     "output_type": "stream",
     "text": [
      "011713347605121077360_SFO2_115_0024_patch_aligned_doseweighted_bin_2.mrc masked successfully!\n"
     ]
    },
    {
     "name": "stderr",
     "output_type": "stream",
     "text": [
      "\r",
      " 64%|█████████████████████████▍              | 650/1020 [21:57<12:28,  2.02s/it]"
     ]
    },
    {
     "name": "stdout",
     "output_type": "stream",
     "text": [
      "011552912699256112962_SFO2_103_0026_patch_aligned_doseweighted_bin_2.mrc masked successfully!\n"
     ]
    },
    {
     "name": "stderr",
     "output_type": "stream",
     "text": [
      "\r",
      " 64%|█████████████████████████▌              | 651/1020 [21:59<12:21,  2.01s/it]"
     ]
    },
    {
     "name": "stdout",
     "output_type": "stream",
     "text": [
      "009239138776383043122_SFO2_108_0026_patch_aligned_doseweighted_bin_2.mrc masked successfully!\n"
     ]
    },
    {
     "name": "stderr",
     "output_type": "stream",
     "text": [
      "\r",
      " 64%|█████████████████████████▌              | 652/1020 [22:01<12:19,  2.01s/it]"
     ]
    },
    {
     "name": "stdout",
     "output_type": "stream",
     "text": [
      "014368595083043044055_SFO2_109_0035_patch_aligned_doseweighted_bin_2.mrc masked successfully!\n"
     ]
    },
    {
     "name": "stderr",
     "output_type": "stream",
     "text": [
      "\r",
      " 64%|█████████████████████████▌              | 653/1020 [22:03<12:21,  2.02s/it]"
     ]
    },
    {
     "name": "stdout",
     "output_type": "stream",
     "text": [
      "016888464902668513271_SFO2_110_0017_patch_aligned_doseweighted_bin_2.mrc masked successfully!\n"
     ]
    },
    {
     "name": "stderr",
     "output_type": "stream",
     "text": [
      "\r",
      " 64%|█████████████████████████▋              | 654/1020 [22:05<12:19,  2.02s/it]"
     ]
    },
    {
     "name": "stdout",
     "output_type": "stream",
     "text": [
      "006106432947769115533_SFO2_122_0034_patch_aligned_doseweighted_bin_2.mrc masked successfully!\n"
     ]
    },
    {
     "name": "stderr",
     "output_type": "stream",
     "text": [
      "\r",
      " 64%|█████████████████████████▋              | 655/1020 [22:07<12:13,  2.01s/it]"
     ]
    },
    {
     "name": "stdout",
     "output_type": "stream",
     "text": [
      "008112053684277197727_SFO2_113_0001_patch_aligned_doseweighted_bin_2.mrc masked successfully!\n"
     ]
    },
    {
     "name": "stderr",
     "output_type": "stream",
     "text": [
      "\r",
      " 64%|█████████████████████████▋              | 656/1020 [22:09<12:11,  2.01s/it]"
     ]
    },
    {
     "name": "stdout",
     "output_type": "stream",
     "text": [
      "011301073894969805852_SFO2_124_0018_patch_aligned_doseweighted_bin_2.mrc masked successfully!\n"
     ]
    },
    {
     "name": "stderr",
     "output_type": "stream",
     "text": [
      "\r",
      " 64%|█████████████████████████▊              | 657/1020 [22:11<12:12,  2.02s/it]"
     ]
    },
    {
     "name": "stdout",
     "output_type": "stream",
     "text": [
      "009376653063452943515_SFO2_122_0001_patch_aligned_doseweighted_bin_2.mrc masked successfully!\n"
     ]
    },
    {
     "name": "stderr",
     "output_type": "stream",
     "text": [
      "\r",
      " 65%|█████████████████████████▊              | 658/1020 [22:13<12:09,  2.02s/it]"
     ]
    },
    {
     "name": "stdout",
     "output_type": "stream",
     "text": [
      "005532185844859145908_SFO2_112_0016_patch_aligned_doseweighted_bin_2.mrc masked successfully!\n"
     ]
    },
    {
     "name": "stderr",
     "output_type": "stream",
     "text": [
      "\r",
      " 65%|█████████████████████████▊              | 659/1020 [22:15<12:06,  2.01s/it]"
     ]
    },
    {
     "name": "stdout",
     "output_type": "stream",
     "text": [
      "016087512800324247399_SFO2_126_0029_patch_aligned_doseweighted_bin_2.mrc masked successfully!\n"
     ]
    },
    {
     "name": "stderr",
     "output_type": "stream",
     "text": [
      "\r",
      " 65%|█████████████████████████▉              | 660/1020 [22:17<12:13,  2.04s/it]"
     ]
    },
    {
     "name": "stdout",
     "output_type": "stream",
     "text": [
      "006261186022874316376_SFO2_107_0001_patch_aligned_doseweighted_bin_2.mrc masked successfully!\n"
     ]
    },
    {
     "name": "stderr",
     "output_type": "stream",
     "text": [
      "\r",
      " 65%|█████████████████████████▉              | 661/1020 [22:19<12:12,  2.04s/it]"
     ]
    },
    {
     "name": "stdout",
     "output_type": "stream",
     "text": [
      "015707873933269676494_SFO2_104_0016_patch_aligned_doseweighted_bin_2.mrc masked successfully!\n"
     ]
    },
    {
     "name": "stderr",
     "output_type": "stream",
     "text": [
      "\r",
      " 65%|█████████████████████████▉              | 662/1020 [22:21<12:05,  2.03s/it]"
     ]
    },
    {
     "name": "stdout",
     "output_type": "stream",
     "text": [
      "002770858040510968709_SFO2_127_0023_patch_aligned_doseweighted_bin_2.mrc masked successfully!\n"
     ]
    },
    {
     "name": "stderr",
     "output_type": "stream",
     "text": [
      "\r",
      " 65%|██████████████████████████              | 663/1020 [22:23<12:02,  2.02s/it]"
     ]
    },
    {
     "name": "stdout",
     "output_type": "stream",
     "text": [
      "016404470720915245040_SFO2_109_0019_patch_aligned_doseweighted_bin_2.mrc masked successfully!\n"
     ]
    },
    {
     "name": "stderr",
     "output_type": "stream",
     "text": [
      "\r",
      " 65%|██████████████████████████              | 664/1020 [22:25<12:00,  2.02s/it]"
     ]
    },
    {
     "name": "stdout",
     "output_type": "stream",
     "text": [
      "013156016781268969941_SFO2_121_0033_patch_aligned_doseweighted_bin_2.mrc masked successfully!\n"
     ]
    },
    {
     "name": "stderr",
     "output_type": "stream",
     "text": [
      "\r",
      " 65%|██████████████████████████              | 665/1020 [22:27<11:50,  2.00s/it]"
     ]
    },
    {
     "name": "stdout",
     "output_type": "stream",
     "text": [
      "015984376907563670131_SFO2_116_0019_patch_aligned_doseweighted_bin_2.mrc masked successfully!\n"
     ]
    },
    {
     "name": "stderr",
     "output_type": "stream",
     "text": [
      "\r",
      " 65%|██████████████████████████              | 666/1020 [22:29<11:46,  1.99s/it]"
     ]
    },
    {
     "name": "stdout",
     "output_type": "stream",
     "text": [
      "002798357548471965216_SFO2_117_0033_patch_aligned_doseweighted_bin_2.mrc masked successfully!\n"
     ]
    },
    {
     "name": "stderr",
     "output_type": "stream",
     "text": [
      "\r",
      " 65%|██████████████████████████▏             | 667/1020 [22:31<11:43,  1.99s/it]"
     ]
    },
    {
     "name": "stdout",
     "output_type": "stream",
     "text": [
      "005576469785994510094_SFO2_108_0001_patch_aligned_doseweighted_bin_2.mrc masked successfully!\n"
     ]
    },
    {
     "name": "stderr",
     "output_type": "stream",
     "text": [
      "\r",
      " 65%|██████████████████████████▏             | 668/1020 [22:33<11:42,  2.00s/it]"
     ]
    },
    {
     "name": "stdout",
     "output_type": "stream",
     "text": [
      "013131843494249248867_SFO2_111_0021_patch_aligned_doseweighted_bin_2.mrc masked successfully!\n"
     ]
    },
    {
     "name": "stderr",
     "output_type": "stream",
     "text": [
      "\r",
      " 66%|██████████████████████████▎             | 670/1020 [22:35<09:06,  1.56s/it]"
     ]
    },
    {
     "name": "stdout",
     "output_type": "stream",
     "text": [
      "009529511519207116788_SFO2_127_0005_patch_aligned_doseweighted_bin_2.mrc masked successfully!\n"
     ]
    },
    {
     "name": "stderr",
     "output_type": "stream",
     "text": [
      "\r",
      " 66%|██████████████████████████▎             | 671/1020 [22:37<09:36,  1.65s/it]"
     ]
    },
    {
     "name": "stdout",
     "output_type": "stream",
     "text": [
      "012141540559593786691_SFO2_114_0022_patch_aligned_doseweighted_bin_2.mrc masked successfully!\n"
     ]
    },
    {
     "name": "stderr",
     "output_type": "stream",
     "text": [
      "\r",
      " 66%|██████████████████████████▎             | 672/1020 [22:39<10:10,  1.76s/it]"
     ]
    },
    {
     "name": "stdout",
     "output_type": "stream",
     "text": [
      "017918080379275030389_SFO2_125_0027_patch_aligned_doseweighted_bin_2.mrc masked successfully!\n"
     ]
    },
    {
     "name": "stderr",
     "output_type": "stream",
     "text": [
      "\r",
      " 66%|██████████████████████████▍             | 673/1020 [22:41<10:32,  1.82s/it]"
     ]
    },
    {
     "name": "stdout",
     "output_type": "stream",
     "text": [
      "006541254630248857844_SFO2_115_0028_patch_aligned_doseweighted_bin_2.mrc masked successfully!\n"
     ]
    },
    {
     "name": "stderr",
     "output_type": "stream",
     "text": [
      "\r",
      " 66%|██████████████████████████▍             | 674/1020 [22:43<10:53,  1.89s/it]"
     ]
    },
    {
     "name": "stdout",
     "output_type": "stream",
     "text": [
      "017106353780899641714_SFO2_109_0006_patch_aligned_doseweighted_bin_2.mrc masked successfully!\n"
     ]
    },
    {
     "name": "stderr",
     "output_type": "stream",
     "text": [
      "\r",
      " 66%|██████████████████████████▍             | 675/1020 [22:45<11:19,  1.97s/it]"
     ]
    },
    {
     "name": "stdout",
     "output_type": "stream",
     "text": [
      "007230760696462463057_SFO2_123_0017_patch_aligned_doseweighted_bin_2.mrc masked successfully!\n"
     ]
    },
    {
     "name": "stderr",
     "output_type": "stream",
     "text": [
      "\r",
      " 66%|██████████████████████████▌             | 676/1020 [22:47<11:26,  1.99s/it]"
     ]
    },
    {
     "name": "stdout",
     "output_type": "stream",
     "text": [
      "007009651005895220900_SFO2_125_0005_patch_aligned_doseweighted_bin_2.mrc masked successfully!\n"
     ]
    },
    {
     "name": "stderr",
     "output_type": "stream",
     "text": [
      "\r",
      " 66%|██████████████████████████▌             | 677/1020 [22:50<11:28,  2.01s/it]"
     ]
    },
    {
     "name": "stdout",
     "output_type": "stream",
     "text": [
      "005536189448265172272_SFO2_114_0010_patch_aligned_doseweighted_bin_2.mrc masked successfully!\n"
     ]
    },
    {
     "name": "stderr",
     "output_type": "stream",
     "text": [
      "\r",
      " 66%|██████████████████████████▌             | 678/1020 [22:52<11:31,  2.02s/it]"
     ]
    },
    {
     "name": "stdout",
     "output_type": "stream",
     "text": [
      "017931662884977120749_SFO2_102_0002_patch_aligned_doseweighted_bin_2.mrc masked successfully!\n"
     ]
    },
    {
     "name": "stderr",
     "output_type": "stream",
     "text": [
      "\r",
      " 67%|██████████████████████████▋             | 679/1020 [22:54<11:26,  2.01s/it]"
     ]
    },
    {
     "name": "stdout",
     "output_type": "stream",
     "text": [
      "014035567454210442645_SFO2_105_0010_patch_aligned_doseweighted_bin_2.mrc masked successfully!\n"
     ]
    },
    {
     "name": "stderr",
     "output_type": "stream",
     "text": [
      "\r",
      " 67%|██████████████████████████▋             | 680/1020 [22:56<11:18,  2.00s/it]"
     ]
    },
    {
     "name": "stdout",
     "output_type": "stream",
     "text": [
      "000444376152122763527_SFO2_108_0012_patch_aligned_doseweighted_bin_2.mrc masked successfully!\n"
     ]
    },
    {
     "name": "stderr",
     "output_type": "stream",
     "text": [
      "\r",
      " 67%|██████████████████████████▋             | 681/1020 [22:58<11:19,  2.01s/it]"
     ]
    },
    {
     "name": "stdout",
     "output_type": "stream",
     "text": [
      "016356642029201412641_SFO2_102_0019_patch_aligned_doseweighted_bin_2.mrc masked successfully!\n"
     ]
    },
    {
     "name": "stderr",
     "output_type": "stream",
     "text": [
      "\r",
      " 67%|██████████████████████████▋             | 682/1020 [23:00<11:15,  2.00s/it]"
     ]
    },
    {
     "name": "stdout",
     "output_type": "stream",
     "text": [
      "005592708300857830231_SFO2_115_0021_patch_aligned_doseweighted_bin_2.mrc masked successfully!\n"
     ]
    },
    {
     "name": "stderr",
     "output_type": "stream",
     "text": [
      "\r",
      " 67%|██████████████████████████▊             | 683/1020 [23:02<11:11,  1.99s/it]"
     ]
    },
    {
     "name": "stdout",
     "output_type": "stream",
     "text": [
      "008566285724269653793_SFO2_106_0007_patch_aligned_doseweighted_bin_2.mrc masked successfully!\n"
     ]
    },
    {
     "name": "stderr",
     "output_type": "stream",
     "text": [
      "\r",
      " 67%|██████████████████████████▊             | 684/1020 [23:04<11:16,  2.01s/it]"
     ]
    },
    {
     "name": "stdout",
     "output_type": "stream",
     "text": [
      "013536582098825153207_SFO2_119_0017_patch_aligned_doseweighted_bin_2.mrc masked successfully!\n"
     ]
    },
    {
     "name": "stderr",
     "output_type": "stream",
     "text": [
      "\r",
      " 67%|██████████████████████████▊             | 685/1020 [23:06<11:17,  2.02s/it]"
     ]
    },
    {
     "name": "stdout",
     "output_type": "stream",
     "text": [
      "011401608427547484513_SFO2_102_0035_patch_aligned_doseweighted_bin_2.mrc masked successfully!\n"
     ]
    },
    {
     "name": "stderr",
     "output_type": "stream",
     "text": [
      "\r",
      " 67%|██████████████████████████▉             | 686/1020 [23:08<11:18,  2.03s/it]"
     ]
    },
    {
     "name": "stdout",
     "output_type": "stream",
     "text": [
      "002340781323244716774_SFO2_105_0011_patch_aligned_doseweighted_bin_2.mrc masked successfully!\n"
     ]
    },
    {
     "name": "stderr",
     "output_type": "stream",
     "text": [
      "\r",
      " 67%|██████████████████████████▉             | 687/1020 [23:10<11:15,  2.03s/it]"
     ]
    },
    {
     "name": "stdout",
     "output_type": "stream",
     "text": [
      "017999610047494998249_SFO2_123_0008_patch_aligned_doseweighted_bin_2.mrc masked successfully!\n"
     ]
    },
    {
     "name": "stderr",
     "output_type": "stream",
     "text": [
      "\r",
      " 67%|██████████████████████████▉             | 688/1020 [23:12<11:11,  2.02s/it]"
     ]
    },
    {
     "name": "stdout",
     "output_type": "stream",
     "text": [
      "013763869976058302142_SFO2_122_0020_patch_aligned_doseweighted_bin_2.mrc masked successfully!\n"
     ]
    },
    {
     "name": "stderr",
     "output_type": "stream",
     "text": [
      "\r",
      " 68%|███████████████████████████             | 689/1020 [23:14<11:13,  2.03s/it]"
     ]
    },
    {
     "name": "stdout",
     "output_type": "stream",
     "text": [
      "011067009899130729102_SFO2_127_0002_patch_aligned_doseweighted_bin_2.mrc masked successfully!\n"
     ]
    },
    {
     "name": "stderr",
     "output_type": "stream",
     "text": [
      "\r",
      " 68%|███████████████████████████             | 690/1020 [23:16<11:09,  2.03s/it]"
     ]
    },
    {
     "name": "stdout",
     "output_type": "stream",
     "text": [
      "000213107150992867328_SFO2_126_0009_patch_aligned_doseweighted_bin_2.mrc masked successfully!\n"
     ]
    },
    {
     "name": "stderr",
     "output_type": "stream",
     "text": [
      "\r",
      " 68%|███████████████████████████             | 691/1020 [23:18<11:11,  2.04s/it]"
     ]
    },
    {
     "name": "stdout",
     "output_type": "stream",
     "text": [
      "006629136260244479813_SFO2_110_0014_patch_aligned_doseweighted_bin_2.mrc masked successfully!\n"
     ]
    },
    {
     "name": "stderr",
     "output_type": "stream",
     "text": [
      "\r",
      " 68%|███████████████████████████▏            | 692/1020 [23:20<11:08,  2.04s/it]"
     ]
    },
    {
     "name": "stdout",
     "output_type": "stream",
     "text": [
      "016937511277092200826_SFO2_110_0005_patch_aligned_doseweighted_bin_2.mrc masked successfully!\n"
     ]
    },
    {
     "name": "stderr",
     "output_type": "stream",
     "text": [
      "\r",
      " 68%|███████████████████████████▏            | 693/1020 [23:22<11:03,  2.03s/it]"
     ]
    },
    {
     "name": "stdout",
     "output_type": "stream",
     "text": [
      "002985542069368993292_SFO2_119_0036_patch_aligned_doseweighted_bin_2.mrc masked successfully!\n"
     ]
    },
    {
     "name": "stderr",
     "output_type": "stream",
     "text": [
      "\r",
      " 68%|███████████████████████████▏            | 694/1020 [23:24<10:57,  2.02s/it]"
     ]
    },
    {
     "name": "stdout",
     "output_type": "stream",
     "text": [
      "003058401934696115704_SFO2_101_0015_patch_aligned_doseweighted_bin_2.mrc masked successfully!\n"
     ]
    },
    {
     "name": "stderr",
     "output_type": "stream",
     "text": [
      "\r",
      " 68%|███████████████████████████▎            | 695/1020 [23:26<10:55,  2.02s/it]"
     ]
    },
    {
     "name": "stdout",
     "output_type": "stream",
     "text": [
      "006348796943512432495_SFO2_119_0022_patch_aligned_doseweighted_bin_2.mrc masked successfully!\n"
     ]
    },
    {
     "name": "stderr",
     "output_type": "stream",
     "text": [
      "\r",
      " 68%|███████████████████████████▎            | 696/1020 [23:28<10:58,  2.03s/it]"
     ]
    },
    {
     "name": "stdout",
     "output_type": "stream",
     "text": [
      "013394251234323967804_SFO2_126_0033_patch_aligned_doseweighted_bin_2.mrc masked successfully!\n"
     ]
    },
    {
     "name": "stderr",
     "output_type": "stream",
     "text": [
      "\r",
      " 68%|███████████████████████████▎            | 697/1020 [23:30<10:55,  2.03s/it]"
     ]
    },
    {
     "name": "stdout",
     "output_type": "stream",
     "text": [
      "013287935579400511093_SFO2_124_0016_patch_aligned_doseweighted_bin_2.mrc masked successfully!\n"
     ]
    },
    {
     "name": "stderr",
     "output_type": "stream",
     "text": [
      "\r",
      " 68%|███████████████████████████▎            | 698/1020 [23:32<10:48,  2.01s/it]"
     ]
    },
    {
     "name": "stdout",
     "output_type": "stream",
     "text": [
      "016629046178639361465_SFO2_110_0019_patch_aligned_doseweighted_bin_2.mrc masked successfully!\n"
     ]
    },
    {
     "name": "stderr",
     "output_type": "stream",
     "text": [
      "\r",
      " 69%|███████████████████████████▍            | 699/1020 [23:34<10:48,  2.02s/it]"
     ]
    },
    {
     "name": "stdout",
     "output_type": "stream",
     "text": [
      "011274528306095140893_SFO2_106_0027_patch_aligned_doseweighted_bin_2.mrc masked successfully!\n"
     ]
    },
    {
     "name": "stderr",
     "output_type": "stream",
     "text": [
      "\r",
      " 69%|███████████████████████████▍            | 700/1020 [23:36<10:45,  2.02s/it]"
     ]
    },
    {
     "name": "stdout",
     "output_type": "stream",
     "text": [
      "002916313821409621043_SFO2_116_0021_patch_aligned_doseweighted_bin_2.mrc masked successfully!\n"
     ]
    },
    {
     "name": "stderr",
     "output_type": "stream",
     "text": [
      "\r",
      " 69%|███████████████████████████▍            | 701/1020 [23:38<10:50,  2.04s/it]"
     ]
    },
    {
     "name": "stdout",
     "output_type": "stream",
     "text": [
      "002814013295566399932_SFO2_103_0027_patch_aligned_doseweighted_bin_2.mrc masked successfully!\n"
     ]
    },
    {
     "name": "stderr",
     "output_type": "stream",
     "text": [
      "\r",
      " 69%|███████████████████████████▌            | 702/1020 [23:40<10:50,  2.05s/it]"
     ]
    },
    {
     "name": "stdout",
     "output_type": "stream",
     "text": [
      "010387823283031477593_SFO2_119_0033_patch_aligned_doseweighted_bin_2.mrc masked successfully!\n"
     ]
    },
    {
     "name": "stderr",
     "output_type": "stream",
     "text": [
      "\r",
      " 69%|███████████████████████████▌            | 703/1020 [23:42<10:42,  2.03s/it]"
     ]
    },
    {
     "name": "stdout",
     "output_type": "stream",
     "text": [
      "000469371401874095080_SFO2_115_0035_patch_aligned_doseweighted_bin_2.mrc masked successfully!\n"
     ]
    },
    {
     "name": "stderr",
     "output_type": "stream",
     "text": [
      "\r",
      " 69%|███████████████████████████▌            | 704/1020 [23:44<10:41,  2.03s/it]"
     ]
    },
    {
     "name": "stdout",
     "output_type": "stream",
     "text": [
      "001148472792523919787_SFO2_126_0005_patch_aligned_doseweighted_bin_2.mrc masked successfully!\n"
     ]
    },
    {
     "name": "stderr",
     "output_type": "stream",
     "text": [
      "\r",
      " 69%|███████████████████████████▋            | 705/1020 [23:46<10:42,  2.04s/it]"
     ]
    },
    {
     "name": "stdout",
     "output_type": "stream",
     "text": [
      "018348405080563772123_SFO2_100_0035_patch_aligned_doseweighted_bin_2.mrc masked successfully!\n"
     ]
    },
    {
     "name": "stderr",
     "output_type": "stream",
     "text": [
      "\r",
      " 69%|███████████████████████████▋            | 706/1020 [23:48<10:34,  2.02s/it]"
     ]
    },
    {
     "name": "stdout",
     "output_type": "stream",
     "text": [
      "002415496896625585635_SFO2_105_0003_patch_aligned_doseweighted_bin_2.mrc masked successfully!\n"
     ]
    },
    {
     "name": "stderr",
     "output_type": "stream",
     "text": [
      "\r",
      " 69%|███████████████████████████▋            | 707/1020 [23:50<10:37,  2.04s/it]"
     ]
    },
    {
     "name": "stdout",
     "output_type": "stream",
     "text": [
      "008211987635264330113_SFO2_114_0024_patch_aligned_doseweighted_bin_2.mrc masked successfully!\n"
     ]
    },
    {
     "name": "stderr",
     "output_type": "stream",
     "text": [
      "\r",
      " 69%|███████████████████████████▊            | 708/1020 [23:52<10:30,  2.02s/it]"
     ]
    },
    {
     "name": "stdout",
     "output_type": "stream",
     "text": [
      "014882713711175763600_SFO2_114_0019_patch_aligned_doseweighted_bin_2.mrc masked successfully!\n"
     ]
    },
    {
     "name": "stderr",
     "output_type": "stream",
     "text": [
      "\r",
      " 70%|███████████████████████████▊            | 709/1020 [23:54<10:25,  2.01s/it]"
     ]
    },
    {
     "name": "stdout",
     "output_type": "stream",
     "text": [
      "001998551575814115608_SFO2_114_0034_patch_aligned_doseweighted_bin_2.mrc masked successfully!\n"
     ]
    },
    {
     "name": "stderr",
     "output_type": "stream",
     "text": [
      "\r",
      " 70%|███████████████████████████▊            | 710/1020 [23:56<10:28,  2.03s/it]"
     ]
    },
    {
     "name": "stdout",
     "output_type": "stream",
     "text": [
      "014047438392126954755_SFO2_108_0004_patch_aligned_doseweighted_bin_2.mrc masked successfully!\n"
     ]
    },
    {
     "name": "stderr",
     "output_type": "stream",
     "text": [
      "\r",
      " 70%|███████████████████████████▉            | 711/1020 [23:58<10:26,  2.03s/it]"
     ]
    },
    {
     "name": "stdout",
     "output_type": "stream",
     "text": [
      "010280968065087289298_SFO2_119_0002_patch_aligned_doseweighted_bin_2.mrc masked successfully!\n"
     ]
    },
    {
     "name": "stderr",
     "output_type": "stream",
     "text": [
      "\r",
      " 70%|███████████████████████████▉            | 712/1020 [24:00<10:19,  2.01s/it]"
     ]
    },
    {
     "name": "stdout",
     "output_type": "stream",
     "text": [
      "014817404708411307536_SFO2_115_0003_patch_aligned_doseweighted_bin_2.mrc masked successfully!\n"
     ]
    },
    {
     "name": "stderr",
     "output_type": "stream",
     "text": [
      "\r",
      " 70%|███████████████████████████▉            | 713/1020 [24:02<10:17,  2.01s/it]"
     ]
    },
    {
     "name": "stdout",
     "output_type": "stream",
     "text": [
      "014077590166194748580_SFO2_121_0026_patch_aligned_doseweighted_bin_2.mrc masked successfully!\n"
     ]
    },
    {
     "name": "stderr",
     "output_type": "stream",
     "text": [
      "\r",
      " 70%|████████████████████████████            | 714/1020 [24:04<10:10,  2.00s/it]"
     ]
    },
    {
     "name": "stdout",
     "output_type": "stream",
     "text": [
      "004228404196272791584_SFO2_112_0002_patch_aligned_doseweighted_bin_2.mrc masked successfully!\n"
     ]
    },
    {
     "name": "stderr",
     "output_type": "stream",
     "text": [
      "\r",
      " 70%|████████████████████████████            | 715/1020 [24:06<10:13,  2.01s/it]"
     ]
    },
    {
     "name": "stdout",
     "output_type": "stream",
     "text": [
      "017184948238952753545_SFO2_122_0017_patch_aligned_doseweighted_bin_2.mrc masked successfully!\n"
     ]
    },
    {
     "name": "stderr",
     "output_type": "stream",
     "text": [
      "\r",
      " 70%|████████████████████████████            | 716/1020 [24:08<10:12,  2.02s/it]"
     ]
    },
    {
     "name": "stdout",
     "output_type": "stream",
     "text": [
      "014942076513211578372_SFO2_128_0006_patch_aligned_doseweighted_bin_2.mrc masked successfully!\n"
     ]
    },
    {
     "name": "stderr",
     "output_type": "stream",
     "text": [
      "\r",
      " 70%|████████████████████████████            | 717/1020 [24:10<10:06,  2.00s/it]"
     ]
    },
    {
     "name": "stdout",
     "output_type": "stream",
     "text": [
      "003297402262871543461_SFO2_117_0018_patch_aligned_doseweighted_bin_2.mrc masked successfully!\n"
     ]
    },
    {
     "name": "stderr",
     "output_type": "stream",
     "text": [
      "\r",
      " 70%|████████████████████████████▏           | 718/1020 [24:12<10:09,  2.02s/it]"
     ]
    },
    {
     "name": "stdout",
     "output_type": "stream",
     "text": [
      "000148718584583120161_SFO2_126_0035_patch_aligned_doseweighted_bin_2.mrc masked successfully!\n"
     ]
    },
    {
     "name": "stderr",
     "output_type": "stream",
     "text": [
      "\r",
      " 70%|████████████████████████████▏           | 719/1020 [24:15<10:13,  2.04s/it]"
     ]
    },
    {
     "name": "stdout",
     "output_type": "stream",
     "text": [
      "011992281202158247823_SFO2_124_0010_patch_aligned_doseweighted_bin_2.mrc masked successfully!\n"
     ]
    },
    {
     "name": "stderr",
     "output_type": "stream",
     "text": [
      "\r",
      " 71%|████████████████████████████▏           | 720/1020 [24:17<10:19,  2.07s/it]"
     ]
    },
    {
     "name": "stdout",
     "output_type": "stream",
     "text": [
      "009839107650414954267_SFO2_105_0035_patch_aligned_doseweighted_bin_2.mrc masked successfully!\n"
     ]
    },
    {
     "name": "stderr",
     "output_type": "stream",
     "text": [
      "\r",
      " 71%|████████████████████████████▎           | 721/1020 [24:19<10:14,  2.06s/it]"
     ]
    },
    {
     "name": "stdout",
     "output_type": "stream",
     "text": [
      "008733806478125089061_SFO2_104_0018_patch_aligned_doseweighted_bin_2.mrc masked successfully!\n"
     ]
    },
    {
     "name": "stderr",
     "output_type": "stream",
     "text": [
      "\r",
      " 71%|████████████████████████████▎           | 722/1020 [24:21<10:04,  2.03s/it]"
     ]
    },
    {
     "name": "stdout",
     "output_type": "stream",
     "text": [
      "014587154786379278556_SFO2_125_0008_patch_aligned_doseweighted_bin_2.mrc masked successfully!\n"
     ]
    },
    {
     "name": "stderr",
     "output_type": "stream",
     "text": [
      "\r",
      " 71%|████████████████████████████▎           | 723/1020 [24:23<10:05,  2.04s/it]"
     ]
    },
    {
     "name": "stdout",
     "output_type": "stream",
     "text": [
      "001038883538315388666_SFO2_124_0019_patch_aligned_doseweighted_bin_2.mrc masked successfully!\n"
     ]
    },
    {
     "name": "stderr",
     "output_type": "stream",
     "text": [
      "\r",
      " 71%|████████████████████████████▍           | 724/1020 [24:25<10:06,  2.05s/it]"
     ]
    },
    {
     "name": "stdout",
     "output_type": "stream",
     "text": [
      "013812496689946264630_SFO2_119_0012_patch_aligned_doseweighted_bin_2.mrc masked successfully!\n"
     ]
    },
    {
     "name": "stderr",
     "output_type": "stream",
     "text": [
      "\r",
      " 71%|████████████████████████████▍           | 725/1020 [24:27<10:02,  2.04s/it]"
     ]
    },
    {
     "name": "stdout",
     "output_type": "stream",
     "text": [
      "001975277175537520956_SFO2_123_0009_patch_aligned_doseweighted_bin_2.mrc masked successfully!\n"
     ]
    },
    {
     "name": "stderr",
     "output_type": "stream",
     "text": [
      "\r",
      " 71%|████████████████████████████▍           | 726/1020 [24:29<09:56,  2.03s/it]"
     ]
    },
    {
     "name": "stdout",
     "output_type": "stream",
     "text": [
      "010822480159925882304_SFO2_127_0024_patch_aligned_doseweighted_bin_2.mrc masked successfully!\n"
     ]
    },
    {
     "name": "stderr",
     "output_type": "stream",
     "text": [
      "\r",
      " 71%|████████████████████████████▌           | 727/1020 [24:31<09:52,  2.02s/it]"
     ]
    },
    {
     "name": "stdout",
     "output_type": "stream",
     "text": [
      "016234877713333870578_SFO2_114_0025_patch_aligned_doseweighted_bin_2.mrc masked successfully!\n"
     ]
    },
    {
     "name": "stderr",
     "output_type": "stream",
     "text": [
      "\r",
      " 71%|████████████████████████████▌           | 728/1020 [24:33<09:50,  2.02s/it]"
     ]
    },
    {
     "name": "stdout",
     "output_type": "stream",
     "text": [
      "015288350403207742215_SFO2_100_0036_patch_aligned_doseweighted_bin_2.mrc masked successfully!\n"
     ]
    },
    {
     "name": "stderr",
     "output_type": "stream",
     "text": [
      "\r",
      " 71%|████████████████████████████▌           | 729/1020 [24:35<09:44,  2.01s/it]"
     ]
    },
    {
     "name": "stdout",
     "output_type": "stream",
     "text": [
      "012711800213035084143_SFO2_107_0013_patch_aligned_doseweighted_bin_2.mrc masked successfully!\n"
     ]
    },
    {
     "name": "stderr",
     "output_type": "stream",
     "text": [
      "\r",
      " 72%|████████████████████████████▋           | 730/1020 [24:37<09:43,  2.01s/it]"
     ]
    },
    {
     "name": "stdout",
     "output_type": "stream",
     "text": [
      "003432003693380544288_SFO2_106_0008_patch_aligned_doseweighted_bin_2.mrc masked successfully!\n"
     ]
    },
    {
     "name": "stderr",
     "output_type": "stream",
     "text": [
      "\r",
      " 72%|████████████████████████████▋           | 731/1020 [24:39<09:35,  1.99s/it]"
     ]
    },
    {
     "name": "stdout",
     "output_type": "stream",
     "text": [
      "001690955729450825207_SFO2_103_0011_patch_aligned_doseweighted_bin_2.mrc masked successfully!\n"
     ]
    },
    {
     "name": "stderr",
     "output_type": "stream",
     "text": [
      "\r",
      " 72%|████████████████████████████▋           | 732/1020 [24:41<09:33,  1.99s/it]"
     ]
    },
    {
     "name": "stdout",
     "output_type": "stream",
     "text": [
      "016787667820547995783_SFO2_124_0012_patch_aligned_doseweighted_bin_2.mrc masked successfully!\n"
     ]
    },
    {
     "name": "stderr",
     "output_type": "stream",
     "text": [
      "\r",
      " 72%|████████████████████████████▋           | 733/1020 [24:43<09:27,  1.98s/it]"
     ]
    },
    {
     "name": "stdout",
     "output_type": "stream",
     "text": [
      "010827859945497142641_SFO2_112_0008_patch_aligned_doseweighted_bin_2.mrc masked successfully!\n"
     ]
    },
    {
     "name": "stderr",
     "output_type": "stream",
     "text": [
      "\r",
      " 72%|████████████████████████████▊           | 734/1020 [24:45<09:33,  2.00s/it]"
     ]
    },
    {
     "name": "stdout",
     "output_type": "stream",
     "text": [
      "009136967515506366103_SFO2_113_0005_patch_aligned_doseweighted_bin_2.mrc masked successfully!\n"
     ]
    },
    {
     "name": "stderr",
     "output_type": "stream",
     "text": [
      "\r",
      " 72%|████████████████████████████▊           | 735/1020 [24:47<09:30,  2.00s/it]"
     ]
    },
    {
     "name": "stdout",
     "output_type": "stream",
     "text": [
      "004460480828272673083_SFO2_111_0009_patch_aligned_doseweighted_bin_2.mrc masked successfully!\n"
     ]
    },
    {
     "name": "stderr",
     "output_type": "stream",
     "text": [
      "\r",
      " 72%|████████████████████████████▊           | 736/1020 [24:49<09:24,  1.99s/it]"
     ]
    },
    {
     "name": "stdout",
     "output_type": "stream",
     "text": [
      "017250193346311015529_SFO2_127_0026_patch_aligned_doseweighted_bin_2.mrc masked successfully!\n"
     ]
    },
    {
     "name": "stderr",
     "output_type": "stream",
     "text": [
      "\r",
      " 72%|████████████████████████████▉           | 737/1020 [24:51<09:28,  2.01s/it]"
     ]
    },
    {
     "name": "stdout",
     "output_type": "stream",
     "text": [
      "010137437593291148896_SFO2_120_0010_patch_aligned_doseweighted_bin_2.mrc masked successfully!\n"
     ]
    },
    {
     "name": "stderr",
     "output_type": "stream",
     "text": [
      "\r",
      " 72%|████████████████████████████▉           | 738/1020 [24:53<09:27,  2.01s/it]"
     ]
    },
    {
     "name": "stdout",
     "output_type": "stream",
     "text": [
      "003072913135303852766_SFO2_108_0016_patch_aligned_doseweighted_bin_2.mrc masked successfully!\n"
     ]
    },
    {
     "name": "stderr",
     "output_type": "stream",
     "text": [
      "\r",
      " 72%|████████████████████████████▉           | 739/1020 [24:55<09:29,  2.03s/it]"
     ]
    },
    {
     "name": "stdout",
     "output_type": "stream",
     "text": [
      "011033857579410474306_SFO2_101_0029_patch_aligned_doseweighted_bin_2.mrc masked successfully!\n"
     ]
    },
    {
     "name": "stderr",
     "output_type": "stream",
     "text": [
      "\r",
      " 73%|█████████████████████████████           | 740/1020 [24:57<09:21,  2.01s/it]"
     ]
    },
    {
     "name": "stdout",
     "output_type": "stream",
     "text": [
      "018188190593741781711_SFO2_103_0013_patch_aligned_doseweighted_bin_2.mrc masked successfully!\n"
     ]
    },
    {
     "name": "stderr",
     "output_type": "stream",
     "text": [
      "\r",
      " 73%|█████████████████████████████           | 741/1020 [24:59<09:19,  2.00s/it]"
     ]
    },
    {
     "name": "stdout",
     "output_type": "stream",
     "text": [
      "006598513933199466293_SFO2_116_0010_patch_aligned_doseweighted_bin_2.mrc masked successfully!\n"
     ]
    },
    {
     "name": "stderr",
     "output_type": "stream",
     "text": [
      "\r",
      " 73%|█████████████████████████████           | 742/1020 [25:01<09:17,  2.00s/it]"
     ]
    },
    {
     "name": "stdout",
     "output_type": "stream",
     "text": [
      "015868199746471709518_SFO2_101_0030_patch_aligned_doseweighted_bin_2.mrc masked successfully!\n"
     ]
    },
    {
     "name": "stderr",
     "output_type": "stream",
     "text": [
      "\r",
      " 73%|█████████████████████████████▏          | 743/1020 [25:03<09:19,  2.02s/it]"
     ]
    },
    {
     "name": "stdout",
     "output_type": "stream",
     "text": [
      "008757280617821003050_SFO2_102_0031_patch_aligned_doseweighted_bin_2.mrc masked successfully!\n"
     ]
    },
    {
     "name": "stderr",
     "output_type": "stream",
     "text": [
      "\r",
      " 73%|█████████████████████████████▏          | 744/1020 [25:05<09:11,  2.00s/it]"
     ]
    },
    {
     "name": "stdout",
     "output_type": "stream",
     "text": [
      "016860689638955604674_SFO2_120_0015_patch_aligned_doseweighted_bin_2.mrc masked successfully!\n"
     ]
    },
    {
     "name": "stderr",
     "output_type": "stream",
     "text": [
      "\r",
      " 73%|█████████████████████████████▏          | 745/1020 [25:07<09:14,  2.02s/it]"
     ]
    },
    {
     "name": "stdout",
     "output_type": "stream",
     "text": [
      "000237174938399454521_SFO2_125_0024_patch_aligned_doseweighted_bin_2.mrc masked successfully!\n"
     ]
    },
    {
     "name": "stderr",
     "output_type": "stream",
     "text": [
      "\r",
      " 73%|█████████████████████████████▎          | 746/1020 [25:09<09:13,  2.02s/it]"
     ]
    },
    {
     "name": "stdout",
     "output_type": "stream",
     "text": [
      "000546892570097581762_SFO2_124_0003_patch_aligned_doseweighted_bin_2.mrc masked successfully!\n"
     ]
    },
    {
     "name": "stderr",
     "output_type": "stream",
     "text": [
      "\r",
      " 73%|█████████████████████████████▎          | 747/1020 [25:11<09:12,  2.02s/it]"
     ]
    },
    {
     "name": "stdout",
     "output_type": "stream",
     "text": [
      "012809486530718338256_SFO2_124_0027_patch_aligned_doseweighted_bin_2.mrc masked successfully!\n"
     ]
    },
    {
     "name": "stderr",
     "output_type": "stream",
     "text": [
      "\r",
      " 73%|█████████████████████████████▎          | 748/1020 [25:13<09:08,  2.02s/it]"
     ]
    },
    {
     "name": "stdout",
     "output_type": "stream",
     "text": [
      "005415304015647945431_SFO2_125_0006_patch_aligned_doseweighted_bin_2.mrc masked successfully!\n"
     ]
    },
    {
     "name": "stderr",
     "output_type": "stream",
     "text": [
      "\r",
      " 73%|█████████████████████████████▎          | 749/1020 [25:15<09:02,  2.00s/it]"
     ]
    },
    {
     "name": "stdout",
     "output_type": "stream",
     "text": [
      "005313863495020884101_SFO2_116_0030_patch_aligned_doseweighted_bin_2.mrc masked successfully!\n"
     ]
    },
    {
     "name": "stderr",
     "output_type": "stream",
     "text": [
      "\r",
      " 74%|█████████████████████████████▍          | 750/1020 [25:17<09:07,  2.03s/it]"
     ]
    },
    {
     "name": "stdout",
     "output_type": "stream",
     "text": [
      "002554850434797786114_SFO2_114_0015_patch_aligned_doseweighted_bin_2.mrc masked successfully!\n"
     ]
    },
    {
     "name": "stderr",
     "output_type": "stream",
     "text": [
      "\r",
      " 74%|█████████████████████████████▍          | 751/1020 [25:19<09:02,  2.02s/it]"
     ]
    },
    {
     "name": "stdout",
     "output_type": "stream",
     "text": [
      "005554136290043433088_SFO2_126_0014_patch_aligned_doseweighted_bin_2.mrc masked successfully!\n"
     ]
    },
    {
     "name": "stderr",
     "output_type": "stream",
     "text": [
      "\r",
      " 74%|█████████████████████████████▍          | 752/1020 [25:21<09:00,  2.02s/it]"
     ]
    },
    {
     "name": "stdout",
     "output_type": "stream",
     "text": [
      "017397506549996954858_SFO2_109_0013_patch_aligned_doseweighted_bin_2.mrc masked successfully!\n"
     ]
    },
    {
     "name": "stderr",
     "output_type": "stream",
     "text": [
      "\r",
      " 74%|█████████████████████████████▌          | 753/1020 [25:23<08:58,  2.02s/it]"
     ]
    },
    {
     "name": "stdout",
     "output_type": "stream",
     "text": [
      "014236056270771857148_SFO2_121_0001_patch_aligned_doseweighted_bin_2.mrc masked successfully!\n"
     ]
    },
    {
     "name": "stderr",
     "output_type": "stream",
     "text": [
      "\r",
      " 74%|█████████████████████████████▌          | 754/1020 [25:25<08:58,  2.02s/it]"
     ]
    },
    {
     "name": "stdout",
     "output_type": "stream",
     "text": [
      "017239940374891345787_SFO2_122_0014_patch_aligned_doseweighted_bin_2.mrc masked successfully!\n"
     ]
    },
    {
     "name": "stderr",
     "output_type": "stream",
     "text": [
      "\r",
      " 74%|█████████████████████████████▌          | 755/1020 [25:27<08:56,  2.02s/it]"
     ]
    },
    {
     "name": "stdout",
     "output_type": "stream",
     "text": [
      "011929375000733618440_SFO2_111_0031_patch_aligned_doseweighted_bin_2.mrc masked successfully!\n"
     ]
    },
    {
     "name": "stderr",
     "output_type": "stream",
     "text": [
      "\r",
      " 74%|█████████████████████████████▋          | 756/1020 [25:29<08:59,  2.05s/it]"
     ]
    },
    {
     "name": "stdout",
     "output_type": "stream",
     "text": [
      "009335557306050657364_SFO2_125_0010_patch_aligned_doseweighted_bin_2.mrc masked successfully!\n"
     ]
    },
    {
     "name": "stderr",
     "output_type": "stream",
     "text": [
      "\r",
      " 74%|█████████████████████████████▋          | 757/1020 [25:31<08:55,  2.04s/it]"
     ]
    },
    {
     "name": "stdout",
     "output_type": "stream",
     "text": [
      "008105353291580560876_SFO2_103_0014_patch_aligned_doseweighted_bin_2.mrc masked successfully!\n"
     ]
    },
    {
     "name": "stderr",
     "output_type": "stream",
     "text": [
      "\r",
      " 74%|█████████████████████████████▋          | 758/1020 [25:33<08:55,  2.04s/it]"
     ]
    },
    {
     "name": "stdout",
     "output_type": "stream",
     "text": [
      "017663030736645592865_SFO2_123_0033_patch_aligned_doseweighted_bin_2.mrc masked successfully!\n"
     ]
    },
    {
     "name": "stderr",
     "output_type": "stream",
     "text": [
      "\r",
      " 74%|█████████████████████████████▊          | 759/1020 [25:35<08:47,  2.02s/it]"
     ]
    },
    {
     "name": "stdout",
     "output_type": "stream",
     "text": [
      "004754606691541436334_SFO2_106_0006_patch_aligned_doseweighted_bin_2.mrc masked successfully!\n"
     ]
    },
    {
     "name": "stderr",
     "output_type": "stream",
     "text": [
      "\r",
      " 75%|█████████████████████████████▊          | 760/1020 [25:37<08:48,  2.03s/it]"
     ]
    },
    {
     "name": "stdout",
     "output_type": "stream",
     "text": [
      "010363024889680014864_SFO2_119_0032_patch_aligned_doseweighted_bin_2.mrc masked successfully!\n"
     ]
    },
    {
     "name": "stderr",
     "output_type": "stream",
     "text": [
      "\r",
      " 75%|█████████████████████████████▊          | 761/1020 [25:39<08:47,  2.04s/it]"
     ]
    },
    {
     "name": "stdout",
     "output_type": "stream",
     "text": [
      "015502350679342100770_SFO2_122_0022_patch_aligned_doseweighted_bin_2.mrc masked successfully!\n"
     ]
    },
    {
     "name": "stderr",
     "output_type": "stream",
     "text": [
      "\r",
      " 75%|█████████████████████████████▉          | 762/1020 [25:41<08:43,  2.03s/it]"
     ]
    },
    {
     "name": "stdout",
     "output_type": "stream",
     "text": [
      "001386879482577897299_SFO2_114_0020_patch_aligned_doseweighted_bin_2.mrc masked successfully!\n"
     ]
    },
    {
     "name": "stderr",
     "output_type": "stream",
     "text": [
      "\r",
      " 75%|█████████████████████████████▉          | 763/1020 [25:43<08:36,  2.01s/it]"
     ]
    },
    {
     "name": "stdout",
     "output_type": "stream",
     "text": [
      "008419139804009950768_SFO2_110_0008_patch_aligned_doseweighted_bin_2.mrc masked successfully!\n"
     ]
    },
    {
     "name": "stderr",
     "output_type": "stream",
     "text": [
      "\r",
      " 75%|█████████████████████████████▉          | 764/1020 [25:45<08:33,  2.01s/it]"
     ]
    },
    {
     "name": "stdout",
     "output_type": "stream",
     "text": [
      "007362876408827041950_SFO2_110_0029_patch_aligned_doseweighted_bin_2.mrc masked successfully!\n"
     ]
    },
    {
     "name": "stderr",
     "output_type": "stream",
     "text": [
      "\r",
      " 75%|██████████████████████████████          | 765/1020 [25:47<08:28,  1.99s/it]"
     ]
    },
    {
     "name": "stdout",
     "output_type": "stream",
     "text": [
      "007992132544356250408_SFO2_107_0021_patch_aligned_doseweighted_bin_2.mrc masked successfully!\n"
     ]
    },
    {
     "name": "stderr",
     "output_type": "stream",
     "text": [
      "\r",
      " 75%|██████████████████████████████          | 766/1020 [25:49<08:22,  1.98s/it]"
     ]
    },
    {
     "name": "stdout",
     "output_type": "stream",
     "text": [
      "013784782252097577084_SFO2_127_0009_patch_aligned_doseweighted_bin_2.mrc masked successfully!\n"
     ]
    },
    {
     "name": "stderr",
     "output_type": "stream",
     "text": [
      "\r",
      " 75%|██████████████████████████████          | 767/1020 [25:51<08:25,  2.00s/it]"
     ]
    },
    {
     "name": "stdout",
     "output_type": "stream",
     "text": [
      "008477557919426696788_SFO2_101_0017_patch_aligned_doseweighted_bin_2.mrc masked successfully!\n"
     ]
    },
    {
     "name": "stderr",
     "output_type": "stream",
     "text": [
      "\r",
      " 75%|██████████████████████████████          | 768/1020 [25:53<08:28,  2.02s/it]"
     ]
    },
    {
     "name": "stdout",
     "output_type": "stream",
     "text": [
      "003985187195351481772_SFO2_127_0006_patch_aligned_doseweighted_bin_2.mrc masked successfully!\n"
     ]
    },
    {
     "name": "stderr",
     "output_type": "stream",
     "text": [
      "\r",
      " 75%|██████████████████████████████▏         | 769/1020 [25:55<08:22,  2.00s/it]"
     ]
    },
    {
     "name": "stdout",
     "output_type": "stream",
     "text": [
      "006417432845829738912_SFO2_121_0021_patch_aligned_doseweighted_bin_2.mrc masked successfully!\n"
     ]
    },
    {
     "name": "stderr",
     "output_type": "stream",
     "text": [
      "\r",
      " 75%|██████████████████████████████▏         | 770/1020 [25:57<08:18,  1.99s/it]"
     ]
    },
    {
     "name": "stdout",
     "output_type": "stream",
     "text": [
      "008045998846219839052_SFO2_122_0021_patch_aligned_doseweighted_bin_2.mrc masked successfully!\n"
     ]
    },
    {
     "name": "stderr",
     "output_type": "stream",
     "text": [
      "\r",
      " 76%|██████████████████████████████▏         | 771/1020 [25:59<08:19,  2.00s/it]"
     ]
    },
    {
     "name": "stdout",
     "output_type": "stream",
     "text": [
      "014234414181139944761_SFO2_101_0027_patch_aligned_doseweighted_bin_2.mrc masked successfully!\n"
     ]
    },
    {
     "name": "stderr",
     "output_type": "stream",
     "text": [
      "\r",
      " 76%|██████████████████████████████▎         | 772/1020 [26:01<08:18,  2.01s/it]"
     ]
    },
    {
     "name": "stdout",
     "output_type": "stream",
     "text": [
      "017148645328152246961_SFO2_125_0035_patch_aligned_doseweighted_bin_2.mrc masked successfully!\n"
     ]
    },
    {
     "name": "stderr",
     "output_type": "stream",
     "text": [
      "\r",
      " 76%|██████████████████████████████▎         | 773/1020 [26:03<08:19,  2.02s/it]"
     ]
    },
    {
     "name": "stdout",
     "output_type": "stream",
     "text": [
      "018354215904533567232_SFO2_118_0005_patch_aligned_doseweighted_bin_2.mrc masked successfully!\n"
     ]
    },
    {
     "name": "stderr",
     "output_type": "stream",
     "text": [
      "\r",
      " 76%|██████████████████████████████▎         | 774/1020 [26:05<08:17,  2.02s/it]"
     ]
    },
    {
     "name": "stdout",
     "output_type": "stream",
     "text": [
      "008478124879575630838_SFO2_111_0036_patch_aligned_doseweighted_bin_2.mrc masked successfully!\n"
     ]
    },
    {
     "name": "stderr",
     "output_type": "stream",
     "text": [
      "\r",
      " 76%|██████████████████████████████▍         | 775/1020 [26:07<08:15,  2.02s/it]"
     ]
    },
    {
     "name": "stdout",
     "output_type": "stream",
     "text": [
      "015144220745779970185_SFO2_112_0034_patch_aligned_doseweighted_bin_2.mrc masked successfully!\n"
     ]
    },
    {
     "name": "stderr",
     "output_type": "stream",
     "text": [
      "\r",
      " 76%|██████████████████████████████▍         | 776/1020 [26:09<08:17,  2.04s/it]"
     ]
    },
    {
     "name": "stdout",
     "output_type": "stream",
     "text": [
      "006480127776997980416_SFO2_123_0031_patch_aligned_doseweighted_bin_2.mrc masked successfully!\n"
     ]
    },
    {
     "name": "stderr",
     "output_type": "stream",
     "text": [
      "\r",
      " 76%|██████████████████████████████▍         | 777/1020 [26:11<08:10,  2.02s/it]"
     ]
    },
    {
     "name": "stdout",
     "output_type": "stream",
     "text": [
      "003938070690470324303_SFO2_105_0033_patch_aligned_doseweighted_bin_2.mrc masked successfully!\n"
     ]
    },
    {
     "name": "stderr",
     "output_type": "stream",
     "text": [
      "\r",
      " 76%|██████████████████████████████▌         | 778/1020 [26:13<08:09,  2.02s/it]"
     ]
    },
    {
     "name": "stdout",
     "output_type": "stream",
     "text": [
      "000328618166060607887_SFO2_117_0017_patch_aligned_doseweighted_bin_2.mrc masked successfully!\n"
     ]
    },
    {
     "name": "stderr",
     "output_type": "stream",
     "text": [
      "\r",
      " 76%|██████████████████████████████▌         | 779/1020 [26:16<08:13,  2.05s/it]"
     ]
    },
    {
     "name": "stdout",
     "output_type": "stream",
     "text": [
      "008407062222538707039_SFO2_109_0020_patch_aligned_doseweighted_bin_2.mrc masked successfully!\n"
     ]
    },
    {
     "name": "stderr",
     "output_type": "stream",
     "text": [
      "\r",
      " 76%|██████████████████████████████▌         | 780/1020 [26:18<08:07,  2.03s/it]"
     ]
    },
    {
     "name": "stdout",
     "output_type": "stream",
     "text": [
      "000963928694514351578_SFO2_113_0022_patch_aligned_doseweighted_bin_2.mrc masked successfully!\n"
     ]
    },
    {
     "name": "stderr",
     "output_type": "stream",
     "text": [
      "\r",
      " 77%|██████████████████████████████▋         | 781/1020 [26:20<08:02,  2.02s/it]"
     ]
    },
    {
     "name": "stdout",
     "output_type": "stream",
     "text": [
      "003260554993571777556_SFO2_106_0021_patch_aligned_doseweighted_bin_2.mrc masked successfully!\n"
     ]
    },
    {
     "name": "stderr",
     "output_type": "stream",
     "text": [
      "\r",
      " 77%|██████████████████████████████▋         | 782/1020 [26:22<07:58,  2.01s/it]"
     ]
    },
    {
     "name": "stdout",
     "output_type": "stream",
     "text": [
      "006201066448764549740_SFO2_100_0007_patch_aligned_doseweighted_bin_2.mrc masked successfully!\n"
     ]
    },
    {
     "name": "stderr",
     "output_type": "stream",
     "text": [
      "\r",
      " 77%|██████████████████████████████▋         | 783/1020 [26:24<07:55,  2.01s/it]"
     ]
    },
    {
     "name": "stdout",
     "output_type": "stream",
     "text": [
      "012563903681881518387_SFO2_105_0013_patch_aligned_doseweighted_bin_2.mrc masked successfully!\n"
     ]
    },
    {
     "name": "stderr",
     "output_type": "stream",
     "text": [
      "\r",
      " 77%|██████████████████████████████▋         | 784/1020 [26:26<07:56,  2.02s/it]"
     ]
    },
    {
     "name": "stdout",
     "output_type": "stream",
     "text": [
      "016655488915739968993_SFO2_108_0022_patch_aligned_doseweighted_bin_2.mrc masked successfully!\n"
     ]
    },
    {
     "name": "stderr",
     "output_type": "stream",
     "text": [
      "\r",
      " 77%|██████████████████████████████▊         | 785/1020 [26:28<07:59,  2.04s/it]"
     ]
    },
    {
     "name": "stdout",
     "output_type": "stream",
     "text": [
      "010540108970674114611_SFO2_105_0028_patch_aligned_doseweighted_bin_2.mrc masked successfully!\n"
     ]
    },
    {
     "name": "stderr",
     "output_type": "stream",
     "text": [
      "\r",
      " 77%|██████████████████████████████▊         | 786/1020 [26:30<07:58,  2.04s/it]"
     ]
    },
    {
     "name": "stdout",
     "output_type": "stream",
     "text": [
      "000032013626975798832_SFO2_127_0028_patch_aligned_doseweighted_bin_2.mrc masked successfully!\n"
     ]
    },
    {
     "name": "stderr",
     "output_type": "stream",
     "text": [
      "\r",
      " 77%|██████████████████████████████▊         | 787/1020 [26:32<07:55,  2.04s/it]"
     ]
    },
    {
     "name": "stdout",
     "output_type": "stream",
     "text": [
      "010418969161755723479_SFO2_116_0011_patch_aligned_doseweighted_bin_2.mrc masked successfully!\n"
     ]
    },
    {
     "name": "stderr",
     "output_type": "stream",
     "text": [
      "\r",
      " 77%|██████████████████████████████▉         | 788/1020 [26:34<07:51,  2.03s/it]"
     ]
    },
    {
     "name": "stdout",
     "output_type": "stream",
     "text": [
      "014285928783701245292_SFO2_110_0022_patch_aligned_doseweighted_bin_2.mrc masked successfully!\n"
     ]
    },
    {
     "name": "stderr",
     "output_type": "stream",
     "text": [
      "\r",
      " 77%|██████████████████████████████▉         | 789/1020 [26:36<07:50,  2.04s/it]"
     ]
    },
    {
     "name": "stdout",
     "output_type": "stream",
     "text": [
      "009246381192553913948_SFO2_120_0011_patch_aligned_doseweighted_bin_2.mrc masked successfully!\n"
     ]
    },
    {
     "name": "stderr",
     "output_type": "stream",
     "text": [
      "\r",
      " 77%|██████████████████████████████▉         | 790/1020 [26:38<07:46,  2.03s/it]"
     ]
    },
    {
     "name": "stdout",
     "output_type": "stream",
     "text": [
      "004674658528356947569_SFO2_108_0010_patch_aligned_doseweighted_bin_2.mrc masked successfully!\n"
     ]
    },
    {
     "name": "stderr",
     "output_type": "stream",
     "text": [
      "\r",
      " 78%|███████████████████████████████         | 791/1020 [26:40<07:44,  2.03s/it]"
     ]
    },
    {
     "name": "stdout",
     "output_type": "stream",
     "text": [
      "004354753264423707914_SFO2_123_0001_patch_aligned_doseweighted_bin_2.mrc masked successfully!\n"
     ]
    },
    {
     "name": "stderr",
     "output_type": "stream",
     "text": [
      "\r",
      " 78%|███████████████████████████████         | 792/1020 [26:42<07:43,  2.03s/it]"
     ]
    },
    {
     "name": "stdout",
     "output_type": "stream",
     "text": [
      "010073735328736038420_SFO2_123_0007_patch_aligned_doseweighted_bin_2.mrc masked successfully!\n"
     ]
    },
    {
     "name": "stderr",
     "output_type": "stream",
     "text": [
      "\r",
      " 78%|███████████████████████████████         | 793/1020 [26:44<07:37,  2.02s/it]"
     ]
    },
    {
     "name": "stdout",
     "output_type": "stream",
     "text": [
      "009373146128661784185_SFO2_101_0005_patch_aligned_doseweighted_bin_2.mrc masked successfully!\n"
     ]
    },
    {
     "name": "stderr",
     "output_type": "stream",
     "text": [
      "\r",
      " 78%|███████████████████████████████▏        | 794/1020 [26:46<07:29,  1.99s/it]"
     ]
    },
    {
     "name": "stdout",
     "output_type": "stream",
     "text": [
      "011479443689728121148_SFO2_127_0014_patch_aligned_doseweighted_bin_2.mrc masked successfully!\n"
     ]
    },
    {
     "name": "stderr",
     "output_type": "stream",
     "text": [
      "\r",
      " 78%|███████████████████████████████▏        | 795/1020 [26:48<07:30,  2.00s/it]"
     ]
    },
    {
     "name": "stdout",
     "output_type": "stream",
     "text": [
      "003007159618575977070_SFO2_124_0001_patch_aligned_doseweighted_bin_2.mrc masked successfully!\n"
     ]
    },
    {
     "name": "stderr",
     "output_type": "stream",
     "text": [
      "\r",
      " 78%|███████████████████████████████▏        | 796/1020 [26:50<07:30,  2.01s/it]"
     ]
    },
    {
     "name": "stdout",
     "output_type": "stream",
     "text": [
      "015639970200089484248_SFO2_111_0014_patch_aligned_doseweighted_bin_2.mrc masked successfully!\n"
     ]
    },
    {
     "name": "stderr",
     "output_type": "stream",
     "text": [
      "\r",
      " 78%|███████████████████████████████▎        | 797/1020 [26:52<07:21,  1.98s/it]"
     ]
    },
    {
     "name": "stdout",
     "output_type": "stream",
     "text": [
      "012563096889950470006_SFO2_126_0020_patch_aligned_doseweighted_bin_2.mrc masked successfully!\n"
     ]
    },
    {
     "name": "stderr",
     "output_type": "stream",
     "text": [
      "\r",
      " 78%|███████████████████████████████▎        | 798/1020 [26:54<07:18,  1.98s/it]"
     ]
    },
    {
     "name": "stdout",
     "output_type": "stream",
     "text": [
      "014337305968024229286_SFO2_125_0014_patch_aligned_doseweighted_bin_2.mrc masked successfully!\n"
     ]
    },
    {
     "name": "stderr",
     "output_type": "stream",
     "text": [
      "\r",
      " 78%|███████████████████████████████▎        | 799/1020 [26:56<07:17,  1.98s/it]"
     ]
    },
    {
     "name": "stdout",
     "output_type": "stream",
     "text": [
      "007592381562266506980_SFO2_114_0021_patch_aligned_doseweighted_bin_2.mrc masked successfully!\n"
     ]
    },
    {
     "name": "stderr",
     "output_type": "stream",
     "text": [
      "\r",
      " 78%|███████████████████████████████▎        | 800/1020 [26:58<07:14,  1.98s/it]"
     ]
    },
    {
     "name": "stdout",
     "output_type": "stream",
     "text": [
      "013094123060063044623_SFO2_111_0006_patch_aligned_doseweighted_bin_2.mrc masked successfully!\n"
     ]
    },
    {
     "name": "stderr",
     "output_type": "stream",
     "text": [
      "\r",
      " 79%|███████████████████████████████▍        | 801/1020 [27:00<07:11,  1.97s/it]"
     ]
    },
    {
     "name": "stdout",
     "output_type": "stream",
     "text": [
      "011309108421777421659_SFO2_103_0016_patch_aligned_doseweighted_bin_2.mrc masked successfully!\n"
     ]
    },
    {
     "name": "stderr",
     "output_type": "stream",
     "text": [
      "\r",
      " 79%|███████████████████████████████▍        | 802/1020 [27:02<07:15,  2.00s/it]"
     ]
    },
    {
     "name": "stdout",
     "output_type": "stream",
     "text": [
      "000242463208077318765_SFO2_116_0014_patch_aligned_doseweighted_bin_2.mrc masked successfully!\n"
     ]
    },
    {
     "name": "stderr",
     "output_type": "stream",
     "text": [
      "\r",
      " 79%|███████████████████████████████▍        | 803/1020 [27:04<07:14,  2.00s/it]"
     ]
    },
    {
     "name": "stdout",
     "output_type": "stream",
     "text": [
      "003249740179974210228_SFO2_116_0024_patch_aligned_doseweighted_bin_2.mrc masked successfully!\n"
     ]
    },
    {
     "name": "stderr",
     "output_type": "stream",
     "text": [
      "\r",
      " 79%|███████████████████████████████▌        | 804/1020 [27:06<07:12,  2.00s/it]"
     ]
    },
    {
     "name": "stdout",
     "output_type": "stream",
     "text": [
      "000539279853992057642_SFO2_111_0015_patch_aligned_doseweighted_bin_2.mrc masked successfully!\n"
     ]
    },
    {
     "name": "stderr",
     "output_type": "stream",
     "text": [
      "\r",
      " 79%|███████████████████████████████▌        | 805/1020 [27:08<07:13,  2.02s/it]"
     ]
    },
    {
     "name": "stdout",
     "output_type": "stream",
     "text": [
      "002544665626723190504_SFO2_104_0031_patch_aligned_doseweighted_bin_2.mrc masked successfully!\n"
     ]
    },
    {
     "name": "stderr",
     "output_type": "stream",
     "text": [
      "\r",
      " 79%|███████████████████████████████▌        | 806/1020 [27:10<07:09,  2.01s/it]"
     ]
    },
    {
     "name": "stdout",
     "output_type": "stream",
     "text": [
      "015727490211159888106_SFO2_118_0013_patch_aligned_doseweighted_bin_2.mrc masked successfully!\n"
     ]
    },
    {
     "name": "stderr",
     "output_type": "stream",
     "text": [
      "\r",
      " 79%|███████████████████████████████▋        | 807/1020 [27:12<07:09,  2.02s/it]"
     ]
    },
    {
     "name": "stdout",
     "output_type": "stream",
     "text": [
      "011473501852178840719_SFO2_126_0011_patch_aligned_doseweighted_bin_2.mrc masked successfully!\n"
     ]
    },
    {
     "name": "stderr",
     "output_type": "stream",
     "text": [
      "\r",
      " 79%|███████████████████████████████▋        | 808/1020 [27:14<07:06,  2.01s/it]"
     ]
    },
    {
     "name": "stdout",
     "output_type": "stream",
     "text": [
      "016894565864279147554_SFO2_111_0027_patch_aligned_doseweighted_bin_2.mrc masked successfully!\n"
     ]
    },
    {
     "name": "stderr",
     "output_type": "stream",
     "text": [
      "\r",
      " 79%|███████████████████████████████▋        | 809/1020 [27:16<07:05,  2.01s/it]"
     ]
    },
    {
     "name": "stdout",
     "output_type": "stream",
     "text": [
      "017922698029447445861_SFO2_110_0021_patch_aligned_doseweighted_bin_2.mrc masked successfully!\n"
     ]
    },
    {
     "name": "stderr",
     "output_type": "stream",
     "text": [
      "\r",
      " 79%|███████████████████████████████▊        | 810/1020 [27:18<06:59,  2.00s/it]"
     ]
    },
    {
     "name": "stdout",
     "output_type": "stream",
     "text": [
      "001761825166809879195_SFO2_119_0027_patch_aligned_doseweighted_bin_2.mrc masked successfully!\n"
     ]
    },
    {
     "name": "stderr",
     "output_type": "stream",
     "text": [
      "\r",
      " 80%|███████████████████████████████▊        | 811/1020 [27:20<07:06,  2.04s/it]"
     ]
    },
    {
     "name": "stdout",
     "output_type": "stream",
     "text": [
      "005944230978981016229_SFO2_108_0021_patch_aligned_doseweighted_bin_2.mrc masked successfully!\n"
     ]
    },
    {
     "name": "stderr",
     "output_type": "stream",
     "text": [
      "\r",
      " 80%|███████████████████████████████▊        | 812/1020 [27:22<07:02,  2.03s/it]"
     ]
    },
    {
     "name": "stdout",
     "output_type": "stream",
     "text": [
      "006152809378394865189_SFO2_107_0030_patch_aligned_doseweighted_bin_2.mrc masked successfully!\n"
     ]
    },
    {
     "name": "stderr",
     "output_type": "stream",
     "text": [
      "\r",
      " 80%|███████████████████████████████▉        | 813/1020 [27:24<06:58,  2.02s/it]"
     ]
    },
    {
     "name": "stdout",
     "output_type": "stream",
     "text": [
      "001637517496580604942_SFO2_127_0025_patch_aligned_doseweighted_bin_2.mrc masked successfully!\n"
     ]
    },
    {
     "name": "stderr",
     "output_type": "stream",
     "text": [
      "\r",
      " 80%|███████████████████████████████▉        | 814/1020 [27:26<06:56,  2.02s/it]"
     ]
    },
    {
     "name": "stdout",
     "output_type": "stream",
     "text": [
      "014460943430316322471_SFO2_115_0025_patch_aligned_doseweighted_bin_2.mrc masked successfully!\n"
     ]
    },
    {
     "name": "stderr",
     "output_type": "stream",
     "text": [
      "\r",
      " 80%|███████████████████████████████▉        | 815/1020 [27:28<06:53,  2.02s/it]"
     ]
    },
    {
     "name": "stdout",
     "output_type": "stream",
     "text": [
      "003586659125708771317_SFO2_120_0026_patch_aligned_doseweighted_bin_2.mrc masked successfully!\n"
     ]
    },
    {
     "name": "stderr",
     "output_type": "stream",
     "text": [
      "\r",
      " 80%|████████████████████████████████        | 816/1020 [27:30<06:54,  2.03s/it]"
     ]
    },
    {
     "name": "stdout",
     "output_type": "stream",
     "text": [
      "007171499837743827911_SFO2_125_0020_patch_aligned_doseweighted_bin_2.mrc masked successfully!\n"
     ]
    },
    {
     "name": "stderr",
     "output_type": "stream",
     "text": [
      "\r",
      " 80%|████████████████████████████████        | 817/1020 [27:32<06:52,  2.03s/it]"
     ]
    },
    {
     "name": "stdout",
     "output_type": "stream",
     "text": [
      "007841109236504163199_SFO2_118_0024_patch_aligned_doseweighted_bin_2.mrc masked successfully!\n"
     ]
    },
    {
     "name": "stderr",
     "output_type": "stream",
     "text": [
      "\r",
      " 80%|████████████████████████████████        | 818/1020 [27:34<06:45,  2.01s/it]"
     ]
    },
    {
     "name": "stdout",
     "output_type": "stream",
     "text": [
      "001203983249027116211_SFO2_118_0028_patch_aligned_doseweighted_bin_2.mrc masked successfully!\n"
     ]
    },
    {
     "name": "stderr",
     "output_type": "stream",
     "text": [
      "\r",
      " 80%|████████████████████████████████        | 819/1020 [27:36<06:45,  2.02s/it]"
     ]
    },
    {
     "name": "stdout",
     "output_type": "stream",
     "text": [
      "003484977828697033348_SFO2_108_0017_patch_aligned_doseweighted_bin_2.mrc masked successfully!\n"
     ]
    },
    {
     "name": "stderr",
     "output_type": "stream",
     "text": [
      "\r",
      " 80%|████████████████████████████████▏       | 820/1020 [27:38<06:41,  2.01s/it]"
     ]
    },
    {
     "name": "stdout",
     "output_type": "stream",
     "text": [
      "000538711352713044930_SFO2_119_0035_patch_aligned_doseweighted_bin_2.mrc masked successfully!\n"
     ]
    },
    {
     "name": "stderr",
     "output_type": "stream",
     "text": [
      "\r",
      " 80%|████████████████████████████████▏       | 821/1020 [27:40<06:39,  2.01s/it]"
     ]
    },
    {
     "name": "stdout",
     "output_type": "stream",
     "text": [
      "012334293721869786063_SFO2_119_0034_patch_aligned_doseweighted_bin_2.mrc masked successfully!\n"
     ]
    },
    {
     "name": "stderr",
     "output_type": "stream",
     "text": [
      "\r",
      " 81%|████████████████████████████████▏       | 822/1020 [27:42<06:35,  2.00s/it]"
     ]
    },
    {
     "name": "stdout",
     "output_type": "stream",
     "text": [
      "011377407677839451079_SFO2_107_0027_patch_aligned_doseweighted_bin_2.mrc masked successfully!\n"
     ]
    },
    {
     "name": "stderr",
     "output_type": "stream",
     "text": [
      "\r",
      " 81%|████████████████████████████████▎       | 823/1020 [27:44<06:29,  1.98s/it]"
     ]
    },
    {
     "name": "stdout",
     "output_type": "stream",
     "text": [
      "004627668776443052917_SFO2_102_0021_patch_aligned_doseweighted_bin_2.mrc masked successfully!\n"
     ]
    },
    {
     "name": "stderr",
     "output_type": "stream",
     "text": [
      "\r",
      " 81%|████████████████████████████████▎       | 824/1020 [27:46<06:29,  1.99s/it]"
     ]
    },
    {
     "name": "stdout",
     "output_type": "stream",
     "text": [
      "009025160157489734337_SFO2_112_0021_patch_aligned_doseweighted_bin_2.mrc masked successfully!\n"
     ]
    },
    {
     "name": "stderr",
     "output_type": "stream",
     "text": [
      "\r",
      " 81%|████████████████████████████████▎       | 825/1020 [27:48<06:26,  1.98s/it]"
     ]
    },
    {
     "name": "stdout",
     "output_type": "stream",
     "text": [
      "008844818155101353126_SFO2_114_0009_patch_aligned_doseweighted_bin_2.mrc masked successfully!\n"
     ]
    },
    {
     "name": "stderr",
     "output_type": "stream",
     "text": [
      "\r",
      " 81%|████████████████████████████████▍       | 826/1020 [27:50<06:24,  1.98s/it]"
     ]
    },
    {
     "name": "stdout",
     "output_type": "stream",
     "text": [
      "001545346916352200291_SFO2_122_0010_patch_aligned_doseweighted_bin_2.mrc masked successfully!\n"
     ]
    },
    {
     "name": "stderr",
     "output_type": "stream",
     "text": [
      "\r",
      " 81%|████████████████████████████████▍       | 827/1020 [27:52<06:23,  1.99s/it]"
     ]
    },
    {
     "name": "stdout",
     "output_type": "stream",
     "text": [
      "007060643729586065264_SFO2_126_0002_patch_aligned_doseweighted_bin_2.mrc masked successfully!\n"
     ]
    },
    {
     "name": "stderr",
     "output_type": "stream",
     "text": [
      "\r",
      " 81%|████████████████████████████████▍       | 828/1020 [27:54<06:24,  2.00s/it]"
     ]
    },
    {
     "name": "stdout",
     "output_type": "stream",
     "text": [
      "011482101653430033103_SFO2_127_0027_patch_aligned_doseweighted_bin_2.mrc masked successfully!\n"
     ]
    },
    {
     "name": "stderr",
     "output_type": "stream",
     "text": [
      "\r",
      " 81%|████████████████████████████████▌       | 829/1020 [27:56<06:19,  1.99s/it]"
     ]
    },
    {
     "name": "stdout",
     "output_type": "stream",
     "text": [
      "018301980035767450584_SFO2_125_0031_patch_aligned_doseweighted_bin_2.mrc masked successfully!\n"
     ]
    },
    {
     "name": "stderr",
     "output_type": "stream",
     "text": [
      "\r",
      " 81%|████████████████████████████████▌       | 830/1020 [27:58<06:21,  2.01s/it]"
     ]
    },
    {
     "name": "stdout",
     "output_type": "stream",
     "text": [
      "015938214948793090734_SFO2_124_0030_patch_aligned_doseweighted_bin_2.mrc masked successfully!\n"
     ]
    },
    {
     "name": "stderr",
     "output_type": "stream",
     "text": [
      "\r",
      " 81%|████████████████████████████████▌       | 831/1020 [28:00<06:14,  1.98s/it]"
     ]
    },
    {
     "name": "stdout",
     "output_type": "stream",
     "text": [
      "013101841998239978929_SFO2_101_0003_patch_aligned_doseweighted_bin_2.mrc masked successfully!\n"
     ]
    },
    {
     "name": "stderr",
     "output_type": "stream",
     "text": [
      "\r",
      " 82%|████████████████████████████████▋       | 832/1020 [28:02<06:24,  2.05s/it]"
     ]
    },
    {
     "name": "stdout",
     "output_type": "stream",
     "text": [
      "002034686479426005710_SFO2_117_0014_patch_aligned_doseweighted_bin_2.mrc masked successfully!\n"
     ]
    },
    {
     "name": "stderr",
     "output_type": "stream",
     "text": [
      "\r",
      " 82%|████████████████████████████████▋       | 833/1020 [28:04<06:17,  2.02s/it]"
     ]
    },
    {
     "name": "stdout",
     "output_type": "stream",
     "text": [
      "010290258767539814791_SFO2_124_0005_patch_aligned_doseweighted_bin_2.mrc masked successfully!\n"
     ]
    },
    {
     "name": "stderr",
     "output_type": "stream",
     "text": [
      "\r",
      " 82%|████████████████████████████████▋       | 834/1020 [28:06<06:16,  2.02s/it]"
     ]
    },
    {
     "name": "stdout",
     "output_type": "stream",
     "text": [
      "006535555230794440202_SFO2_109_0034_patch_aligned_doseweighted_bin_2.mrc masked successfully!\n"
     ]
    },
    {
     "name": "stderr",
     "output_type": "stream",
     "text": [
      "\r",
      " 82%|████████████████████████████████▋       | 835/1020 [28:08<06:15,  2.03s/it]"
     ]
    },
    {
     "name": "stdout",
     "output_type": "stream",
     "text": [
      "007117363069279710432_SFO2_111_0023_patch_aligned_doseweighted_bin_2.mrc masked successfully!\n"
     ]
    },
    {
     "name": "stderr",
     "output_type": "stream",
     "text": [
      "\r",
      " 82%|████████████████████████████████▊       | 836/1020 [28:10<06:09,  2.01s/it]"
     ]
    },
    {
     "name": "stdout",
     "output_type": "stream",
     "text": [
      "015518361419561393617_SFO2_103_0017_patch_aligned_doseweighted_bin_2.mrc masked successfully!\n"
     ]
    },
    {
     "name": "stderr",
     "output_type": "stream",
     "text": [
      "\r",
      " 82%|████████████████████████████████▊       | 837/1020 [28:12<06:09,  2.02s/it]"
     ]
    },
    {
     "name": "stdout",
     "output_type": "stream",
     "text": [
      "015359777133740693564_SFO2_126_0021_patch_aligned_doseweighted_bin_2.mrc masked successfully!\n"
     ]
    },
    {
     "name": "stderr",
     "output_type": "stream",
     "text": [
      "\r",
      " 82%|████████████████████████████████▊       | 838/1020 [28:14<06:05,  2.01s/it]"
     ]
    },
    {
     "name": "stdout",
     "output_type": "stream",
     "text": [
      "015674115228210481112_SFO2_103_0019_patch_aligned_doseweighted_bin_2.mrc masked successfully!\n"
     ]
    },
    {
     "name": "stderr",
     "output_type": "stream",
     "text": [
      "\r",
      " 82%|████████████████████████████████▉       | 839/1020 [28:16<06:05,  2.02s/it]"
     ]
    },
    {
     "name": "stdout",
     "output_type": "stream",
     "text": [
      "001573422293613920243_SFO2_107_0022_patch_aligned_doseweighted_bin_2.mrc masked successfully!\n"
     ]
    },
    {
     "name": "stderr",
     "output_type": "stream",
     "text": [
      "\r",
      " 82%|████████████████████████████████▉       | 840/1020 [28:18<06:02,  2.02s/it]"
     ]
    },
    {
     "name": "stdout",
     "output_type": "stream",
     "text": [
      "017978379709619489528_SFO2_104_0022_patch_aligned_doseweighted_bin_2.mrc masked successfully!\n"
     ]
    },
    {
     "name": "stderr",
     "output_type": "stream",
     "text": [
      "\r",
      " 82%|████████████████████████████████▉       | 841/1020 [28:20<06:03,  2.03s/it]"
     ]
    },
    {
     "name": "stdout",
     "output_type": "stream",
     "text": [
      "004826851951506005419_SFO2_100_0022_patch_aligned_doseweighted_bin_2.mrc masked successfully!\n"
     ]
    },
    {
     "name": "stderr",
     "output_type": "stream",
     "text": [
      "\r",
      " 83%|█████████████████████████████████       | 842/1020 [28:22<05:59,  2.02s/it]"
     ]
    },
    {
     "name": "stdout",
     "output_type": "stream",
     "text": [
      "013820315127262129878_SFO2_120_0017_patch_aligned_doseweighted_bin_2.mrc masked successfully!\n"
     ]
    },
    {
     "name": "stderr",
     "output_type": "stream",
     "text": [
      "\r",
      " 83%|█████████████████████████████████       | 843/1020 [28:24<06:00,  2.04s/it]"
     ]
    },
    {
     "name": "stdout",
     "output_type": "stream",
     "text": [
      "008952784902890110450_SFO2_115_0016_patch_aligned_doseweighted_bin_2.mrc masked successfully!\n"
     ]
    },
    {
     "name": "stderr",
     "output_type": "stream",
     "text": [
      "\r",
      " 83%|█████████████████████████████████       | 844/1020 [28:26<05:57,  2.03s/it]"
     ]
    },
    {
     "name": "stdout",
     "output_type": "stream",
     "text": [
      "003722705629430357000_SFO2_100_0001_patch_aligned_doseweighted_bin_2.mrc masked successfully!\n"
     ]
    },
    {
     "name": "stderr",
     "output_type": "stream",
     "text": [
      "\r",
      " 83%|█████████████████████████████████▏      | 845/1020 [28:28<06:01,  2.07s/it]"
     ]
    },
    {
     "name": "stdout",
     "output_type": "stream",
     "text": [
      "004700483080795542852_SFO2_121_0025_patch_aligned_doseweighted_bin_2.mrc masked successfully!\n"
     ]
    },
    {
     "name": "stderr",
     "output_type": "stream",
     "text": [
      "\r",
      " 83%|█████████████████████████████████▏      | 846/1020 [28:31<05:57,  2.06s/it]"
     ]
    },
    {
     "name": "stdout",
     "output_type": "stream",
     "text": [
      "004135872693332097794_SFO2_127_0004_patch_aligned_doseweighted_bin_2.mrc masked successfully!\n"
     ]
    },
    {
     "name": "stderr",
     "output_type": "stream",
     "text": [
      "\r",
      " 83%|█████████████████████████████████▏      | 847/1020 [28:33<05:54,  2.05s/it]"
     ]
    },
    {
     "name": "stdout",
     "output_type": "stream",
     "text": [
      "000714312130312108038_SFO2_125_0028_patch_aligned_doseweighted_bin_2.mrc masked successfully!\n"
     ]
    },
    {
     "name": "stderr",
     "output_type": "stream",
     "text": [
      "\r",
      " 83%|█████████████████████████████████▎      | 848/1020 [28:35<05:52,  2.05s/it]"
     ]
    },
    {
     "name": "stdout",
     "output_type": "stream",
     "text": [
      "013242401061829194697_SFO2_102_0032_patch_aligned_doseweighted_bin_2.mrc masked successfully!\n"
     ]
    },
    {
     "name": "stderr",
     "output_type": "stream",
     "text": [
      "\r",
      " 83%|█████████████████████████████████▎      | 849/1020 [28:37<05:46,  2.03s/it]"
     ]
    },
    {
     "name": "stdout",
     "output_type": "stream",
     "text": [
      "002981877430243120408_SFO2_109_0028_patch_aligned_doseweighted_bin_2.mrc masked successfully!\n"
     ]
    },
    {
     "name": "stderr",
     "output_type": "stream",
     "text": [
      "\r",
      " 83%|█████████████████████████████████▎      | 850/1020 [28:39<05:43,  2.02s/it]"
     ]
    },
    {
     "name": "stdout",
     "output_type": "stream",
     "text": [
      "018205087029306146874_SFO2_104_0007_patch_aligned_doseweighted_bin_2.mrc masked successfully!\n"
     ]
    },
    {
     "name": "stderr",
     "output_type": "stream",
     "text": [
      "\r",
      " 83%|█████████████████████████████████▎      | 851/1020 [28:41<05:41,  2.02s/it]"
     ]
    },
    {
     "name": "stdout",
     "output_type": "stream",
     "text": [
      "003021780414264976823_SFO2_108_0003_patch_aligned_doseweighted_bin_2.mrc masked successfully!\n"
     ]
    },
    {
     "name": "stderr",
     "output_type": "stream",
     "text": [
      "\r",
      " 84%|█████████████████████████████████▍      | 852/1020 [28:43<05:37,  2.01s/it]"
     ]
    },
    {
     "name": "stdout",
     "output_type": "stream",
     "text": [
      "008914586726615261043_SFO2_113_0011_patch_aligned_doseweighted_bin_2.mrc masked successfully!\n"
     ]
    },
    {
     "name": "stderr",
     "output_type": "stream",
     "text": [
      "\r",
      " 84%|█████████████████████████████████▍      | 853/1020 [28:45<05:38,  2.03s/it]"
     ]
    },
    {
     "name": "stdout",
     "output_type": "stream",
     "text": [
      "005021168954901360343_SFO2_114_0001_patch_aligned_doseweighted_bin_2.mrc masked successfully!\n"
     ]
    },
    {
     "name": "stderr",
     "output_type": "stream",
     "text": [
      "\r",
      " 84%|█████████████████████████████████▍      | 854/1020 [28:47<05:37,  2.04s/it]"
     ]
    },
    {
     "name": "stdout",
     "output_type": "stream",
     "text": [
      "006291953658740097292_SFO2_116_0017_patch_aligned_doseweighted_bin_2.mrc masked successfully!\n"
     ]
    },
    {
     "name": "stderr",
     "output_type": "stream",
     "text": [
      "\r",
      " 84%|█████████████████████████████████▌      | 855/1020 [28:49<05:36,  2.04s/it]"
     ]
    },
    {
     "name": "stdout",
     "output_type": "stream",
     "text": [
      "014732534776608390140_SFO2_112_0025_patch_aligned_doseweighted_bin_2.mrc masked successfully!\n"
     ]
    },
    {
     "name": "stderr",
     "output_type": "stream",
     "text": [
      "\r",
      " 84%|█████████████████████████████████▌      | 856/1020 [28:51<05:32,  2.03s/it]"
     ]
    },
    {
     "name": "stdout",
     "output_type": "stream",
     "text": [
      "014704074112600098739_SFO2_107_0018_patch_aligned_doseweighted_bin_2.mrc masked successfully!\n"
     ]
    },
    {
     "name": "stderr",
     "output_type": "stream",
     "text": [
      "\r",
      " 84%|█████████████████████████████████▌      | 857/1020 [28:53<05:29,  2.02s/it]"
     ]
    },
    {
     "name": "stdout",
     "output_type": "stream",
     "text": [
      "010560607082156906862_SFO2_125_0026_patch_aligned_doseweighted_bin_2.mrc masked successfully!\n"
     ]
    },
    {
     "name": "stderr",
     "output_type": "stream",
     "text": [
      "\r",
      " 84%|█████████████████████████████████▋      | 858/1020 [28:55<05:26,  2.02s/it]"
     ]
    },
    {
     "name": "stdout",
     "output_type": "stream",
     "text": [
      "012550762747986034129_SFO2_108_0025_patch_aligned_doseweighted_bin_2.mrc masked successfully!\n"
     ]
    },
    {
     "name": "stderr",
     "output_type": "stream",
     "text": [
      "\r",
      " 84%|█████████████████████████████████▋      | 859/1020 [28:57<05:26,  2.03s/it]"
     ]
    },
    {
     "name": "stdout",
     "output_type": "stream",
     "text": [
      "011233917727597363392_SFO2_123_0014_patch_aligned_doseweighted_bin_2.mrc masked successfully!\n"
     ]
    },
    {
     "name": "stderr",
     "output_type": "stream",
     "text": [
      "\r",
      " 84%|█████████████████████████████████▋      | 860/1020 [28:59<05:23,  2.02s/it]"
     ]
    },
    {
     "name": "stdout",
     "output_type": "stream",
     "text": [
      "003990117025603377247_SFO2_101_0014_patch_aligned_doseweighted_bin_2.mrc masked successfully!\n"
     ]
    },
    {
     "name": "stderr",
     "output_type": "stream",
     "text": [
      "\r",
      " 84%|█████████████████████████████████▊      | 861/1020 [29:01<05:20,  2.01s/it]"
     ]
    },
    {
     "name": "stdout",
     "output_type": "stream",
     "text": [
      "006530774288274465960_SFO2_108_0020_patch_aligned_doseweighted_bin_2.mrc masked successfully!\n"
     ]
    },
    {
     "name": "stderr",
     "output_type": "stream",
     "text": [
      "\r",
      " 85%|█████████████████████████████████▊      | 862/1020 [29:03<05:15,  2.00s/it]"
     ]
    },
    {
     "name": "stdout",
     "output_type": "stream",
     "text": [
      "014317373030305060890_SFO2_119_0026_patch_aligned_doseweighted_bin_2.mrc masked successfully!\n"
     ]
    },
    {
     "name": "stderr",
     "output_type": "stream",
     "text": [
      "\r",
      " 85%|█████████████████████████████████▊      | 863/1020 [29:05<05:11,  1.99s/it]"
     ]
    },
    {
     "name": "stdout",
     "output_type": "stream",
     "text": [
      "007906565804531782905_SFO2_113_0023_patch_aligned_doseweighted_bin_2.mrc masked successfully!\n"
     ]
    },
    {
     "name": "stderr",
     "output_type": "stream",
     "text": [
      "\r",
      " 85%|█████████████████████████████████▉      | 864/1020 [29:07<05:07,  1.97s/it]"
     ]
    },
    {
     "name": "stdout",
     "output_type": "stream",
     "text": [
      "013833742517413700406_SFO2_120_0025_patch_aligned_doseweighted_bin_2.mrc masked successfully!\n"
     ]
    },
    {
     "name": "stderr",
     "output_type": "stream",
     "text": [
      "\r",
      " 85%|█████████████████████████████████▉      | 865/1020 [29:09<05:06,  1.98s/it]"
     ]
    },
    {
     "name": "stdout",
     "output_type": "stream",
     "text": [
      "017817388687064412253_SFO2_122_0024_patch_aligned_doseweighted_bin_2.mrc masked successfully!\n"
     ]
    },
    {
     "name": "stderr",
     "output_type": "stream",
     "text": [
      "\r",
      " 85%|█████████████████████████████████▉      | 866/1020 [29:11<05:08,  2.00s/it]"
     ]
    },
    {
     "name": "stdout",
     "output_type": "stream",
     "text": [
      "002001864542601700944_SFO2_119_0031_patch_aligned_doseweighted_bin_2.mrc masked successfully!\n"
     ]
    },
    {
     "name": "stderr",
     "output_type": "stream",
     "text": [
      "\r",
      " 85%|██████████████████████████████████      | 867/1020 [29:13<05:05,  2.00s/it]"
     ]
    },
    {
     "name": "stdout",
     "output_type": "stream",
     "text": [
      "014572395492741010979_SFO2_104_0006_patch_aligned_doseweighted_bin_2.mrc masked successfully!\n"
     ]
    },
    {
     "name": "stderr",
     "output_type": "stream",
     "text": [
      "\r",
      " 85%|██████████████████████████████████      | 868/1020 [29:15<05:02,  1.99s/it]"
     ]
    },
    {
     "name": "stdout",
     "output_type": "stream",
     "text": [
      "017331467633956902228_SFO2_117_0024_patch_aligned_doseweighted_bin_2.mrc masked successfully!\n"
     ]
    },
    {
     "name": "stderr",
     "output_type": "stream",
     "text": [
      "\r",
      " 85%|██████████████████████████████████      | 869/1020 [29:17<05:02,  2.00s/it]"
     ]
    },
    {
     "name": "stdout",
     "output_type": "stream",
     "text": [
      "012524432192786920911_SFO2_125_0022_patch_aligned_doseweighted_bin_2.mrc masked successfully!\n"
     ]
    },
    {
     "name": "stderr",
     "output_type": "stream",
     "text": [
      "\r",
      " 85%|██████████████████████████████████      | 870/1020 [29:19<05:01,  2.01s/it]"
     ]
    },
    {
     "name": "stdout",
     "output_type": "stream",
     "text": [
      "009866707305319053243_SFO2_103_0006_patch_aligned_doseweighted_bin_2.mrc masked successfully!\n"
     ]
    },
    {
     "name": "stderr",
     "output_type": "stream",
     "text": [
      "\r",
      " 85%|██████████████████████████████████▏     | 871/1020 [29:21<04:59,  2.01s/it]"
     ]
    },
    {
     "name": "stdout",
     "output_type": "stream",
     "text": [
      "000136625893114740467_SFO2_102_0033_patch_aligned_doseweighted_bin_2.mrc masked successfully!\n"
     ]
    },
    {
     "name": "stderr",
     "output_type": "stream",
     "text": [
      "\r",
      " 85%|██████████████████████████████████▏     | 872/1020 [29:23<04:55,  2.00s/it]"
     ]
    },
    {
     "name": "stdout",
     "output_type": "stream",
     "text": [
      "015263166335980036234_SFO2_109_0008_patch_aligned_doseweighted_bin_2.mrc masked successfully!\n"
     ]
    },
    {
     "name": "stderr",
     "output_type": "stream",
     "text": [
      "\r",
      " 86%|██████████████████████████████████▏     | 873/1020 [29:25<04:57,  2.02s/it]"
     ]
    },
    {
     "name": "stdout",
     "output_type": "stream",
     "text": [
      "016149580405141836367_SFO2_116_0035_patch_aligned_doseweighted_bin_2.mrc masked successfully!\n"
     ]
    },
    {
     "name": "stderr",
     "output_type": "stream",
     "text": [
      "\r",
      " 86%|██████████████████████████████████▎     | 874/1020 [29:27<04:55,  2.03s/it]"
     ]
    },
    {
     "name": "stdout",
     "output_type": "stream",
     "text": [
      "008625446539888811040_SFO2_108_0005_patch_aligned_doseweighted_bin_2.mrc masked successfully!\n"
     ]
    },
    {
     "name": "stderr",
     "output_type": "stream",
     "text": [
      "\r",
      " 86%|██████████████████████████████████▎     | 875/1020 [29:29<04:52,  2.02s/it]"
     ]
    },
    {
     "name": "stdout",
     "output_type": "stream",
     "text": [
      "003416909374335503841_SFO2_112_0033_patch_aligned_doseweighted_bin_2.mrc masked successfully!\n"
     ]
    },
    {
     "name": "stderr",
     "output_type": "stream",
     "text": [
      "\r",
      " 86%|██████████████████████████████████▎     | 876/1020 [29:31<04:52,  2.03s/it]"
     ]
    },
    {
     "name": "stdout",
     "output_type": "stream",
     "text": [
      "012513712753604557912_SFO2_110_0034_patch_aligned_doseweighted_bin_2.mrc masked successfully!\n"
     ]
    },
    {
     "name": "stderr",
     "output_type": "stream",
     "text": [
      "\r",
      " 86%|██████████████████████████████████▍     | 877/1020 [29:33<04:51,  2.04s/it]"
     ]
    },
    {
     "name": "stdout",
     "output_type": "stream",
     "text": [
      "016064686733998570652_SFO2_125_0025_patch_aligned_doseweighted_bin_2.mrc masked successfully!\n"
     ]
    },
    {
     "name": "stderr",
     "output_type": "stream",
     "text": [
      "\r",
      " 86%|██████████████████████████████████▍     | 878/1020 [29:35<04:44,  2.01s/it]"
     ]
    },
    {
     "name": "stdout",
     "output_type": "stream",
     "text": [
      "008059310154974288229_SFO2_102_0009_patch_aligned_doseweighted_bin_2.mrc masked successfully!\n"
     ]
    },
    {
     "name": "stderr",
     "output_type": "stream",
     "text": [
      "\r",
      " 86%|██████████████████████████████████▍     | 879/1020 [29:37<04:46,  2.03s/it]"
     ]
    },
    {
     "name": "stdout",
     "output_type": "stream",
     "text": [
      "013339289855722112294_SFO2_105_0034_patch_aligned_doseweighted_bin_2.mrc masked successfully!\n"
     ]
    },
    {
     "name": "stderr",
     "output_type": "stream",
     "text": [
      "\r",
      " 86%|██████████████████████████████████▌     | 880/1020 [29:39<04:43,  2.02s/it]"
     ]
    },
    {
     "name": "stdout",
     "output_type": "stream",
     "text": [
      "001721171615209553778_SFO2_107_0011_patch_aligned_doseweighted_bin_2.mrc masked successfully!\n"
     ]
    },
    {
     "name": "stderr",
     "output_type": "stream",
     "text": [
      "\r",
      " 86%|██████████████████████████████████▌     | 881/1020 [29:41<04:41,  2.03s/it]"
     ]
    },
    {
     "name": "stdout",
     "output_type": "stream",
     "text": [
      "012144142062101432280_SFO2_113_0006_patch_aligned_doseweighted_bin_2.mrc masked successfully!\n"
     ]
    },
    {
     "name": "stderr",
     "output_type": "stream",
     "text": [
      "\r",
      " 86%|██████████████████████████████████▌     | 882/1020 [29:43<04:39,  2.03s/it]"
     ]
    },
    {
     "name": "stdout",
     "output_type": "stream",
     "text": [
      "002879022757242112091_SFO2_113_0009_patch_aligned_doseweighted_bin_2.mrc masked successfully!\n"
     ]
    },
    {
     "name": "stderr",
     "output_type": "stream",
     "text": [
      "\r",
      " 87%|██████████████████████████████████▋     | 883/1020 [29:45<04:39,  2.04s/it]"
     ]
    },
    {
     "name": "stdout",
     "output_type": "stream",
     "text": [
      "012293687408161983290_SFO2_122_0009_patch_aligned_doseweighted_bin_2.mrc masked successfully!\n"
     ]
    },
    {
     "name": "stderr",
     "output_type": "stream",
     "text": [
      "\r",
      " 87%|██████████████████████████████████▋     | 884/1020 [29:47<04:36,  2.03s/it]"
     ]
    },
    {
     "name": "stdout",
     "output_type": "stream",
     "text": [
      "012682505837710330682_SFO2_113_0004_patch_aligned_doseweighted_bin_2.mrc masked successfully!\n"
     ]
    },
    {
     "name": "stderr",
     "output_type": "stream",
     "text": [
      "\r",
      " 87%|██████████████████████████████████▋     | 885/1020 [29:49<04:30,  2.00s/it]"
     ]
    },
    {
     "name": "stdout",
     "output_type": "stream",
     "text": [
      "005441940503195279507_SFO2_108_0030_patch_aligned_doseweighted_bin_2.mrc masked successfully!\n"
     ]
    },
    {
     "name": "stderr",
     "output_type": "stream",
     "text": [
      "\r",
      " 87%|██████████████████████████████████▋     | 886/1020 [29:51<04:31,  2.02s/it]"
     ]
    },
    {
     "name": "stdout",
     "output_type": "stream",
     "text": [
      "014266619785420343271_SFO2_121_0006_patch_aligned_doseweighted_bin_2.mrc masked successfully!\n"
     ]
    },
    {
     "name": "stderr",
     "output_type": "stream",
     "text": [
      "\r",
      " 87%|██████████████████████████████████▊     | 887/1020 [29:53<04:26,  2.01s/it]"
     ]
    },
    {
     "name": "stdout",
     "output_type": "stream",
     "text": [
      "013483985087153951525_SFO2_108_0028_patch_aligned_doseweighted_bin_2.mrc masked successfully!\n"
     ]
    },
    {
     "name": "stderr",
     "output_type": "stream",
     "text": [
      "\r",
      " 87%|██████████████████████████████████▊     | 888/1020 [29:55<04:23,  2.00s/it]"
     ]
    },
    {
     "name": "stdout",
     "output_type": "stream",
     "text": [
      "008463266572895499136_SFO2_103_0033_patch_aligned_doseweighted_bin_2.mrc masked successfully!\n"
     ]
    },
    {
     "name": "stderr",
     "output_type": "stream",
     "text": [
      "\r",
      " 87%|██████████████████████████████████▊     | 889/1020 [29:57<04:20,  1.99s/it]"
     ]
    },
    {
     "name": "stdout",
     "output_type": "stream",
     "text": [
      "001655406402934596803_SFO2_107_0028_patch_aligned_doseweighted_bin_2.mrc masked successfully!\n"
     ]
    },
    {
     "name": "stderr",
     "output_type": "stream",
     "text": [
      "\r",
      " 87%|██████████████████████████████████▉     | 890/1020 [29:59<04:20,  2.00s/it]"
     ]
    },
    {
     "name": "stdout",
     "output_type": "stream",
     "text": [
      "010453124756174790183_SFO2_122_0023_patch_aligned_doseweighted_bin_2.mrc masked successfully!\n"
     ]
    },
    {
     "name": "stderr",
     "output_type": "stream",
     "text": [
      "\r",
      " 87%|██████████████████████████████████▉     | 891/1020 [30:01<04:19,  2.01s/it]"
     ]
    },
    {
     "name": "stdout",
     "output_type": "stream",
     "text": [
      "004320131427268740239_SFO2_114_0002_patch_aligned_doseweighted_bin_2.mrc masked successfully!\n"
     ]
    },
    {
     "name": "stderr",
     "output_type": "stream",
     "text": [
      "\r",
      " 87%|██████████████████████████████████▉     | 892/1020 [30:03<04:17,  2.01s/it]"
     ]
    },
    {
     "name": "stdout",
     "output_type": "stream",
     "text": [
      "007437099165113664323_SFO2_113_0036_patch_aligned_doseweighted_bin_2.mrc masked successfully!\n"
     ]
    },
    {
     "name": "stderr",
     "output_type": "stream",
     "text": [
      "\r",
      " 88%|███████████████████████████████████     | 893/1020 [30:05<04:13,  2.00s/it]"
     ]
    },
    {
     "name": "stdout",
     "output_type": "stream",
     "text": [
      "010259217473096876186_SFO2_127_0003_patch_aligned_doseweighted_bin_2.mrc masked successfully!\n"
     ]
    },
    {
     "name": "stderr",
     "output_type": "stream",
     "text": [
      "\r",
      " 88%|███████████████████████████████████     | 894/1020 [30:07<04:13,  2.01s/it]"
     ]
    },
    {
     "name": "stdout",
     "output_type": "stream",
     "text": [
      "013423915434851390661_SFO2_127_0031_patch_aligned_doseweighted_bin_2.mrc masked successfully!\n"
     ]
    },
    {
     "name": "stderr",
     "output_type": "stream",
     "text": [
      "\r",
      " 88%|███████████████████████████████████     | 895/1020 [30:09<04:09,  2.00s/it]"
     ]
    },
    {
     "name": "stdout",
     "output_type": "stream",
     "text": [
      "002204521389403173765_SFO2_100_0024_patch_aligned_doseweighted_bin_2.mrc masked successfully!\n"
     ]
    },
    {
     "name": "stderr",
     "output_type": "stream",
     "text": [
      "\r",
      " 88%|███████████████████████████████████▏    | 896/1020 [30:11<04:07,  1.99s/it]"
     ]
    },
    {
     "name": "stdout",
     "output_type": "stream",
     "text": [
      "010398587332962283384_SFO2_102_0003_patch_aligned_doseweighted_bin_2.mrc masked successfully!\n"
     ]
    },
    {
     "name": "stderr",
     "output_type": "stream",
     "text": [
      "\r",
      " 88%|███████████████████████████████████▏    | 897/1020 [30:13<04:03,  1.98s/it]"
     ]
    },
    {
     "name": "stdout",
     "output_type": "stream",
     "text": [
      "007092185232483611685_SFO2_108_0036_patch_aligned_doseweighted_bin_2.mrc masked successfully!\n"
     ]
    },
    {
     "name": "stderr",
     "output_type": "stream",
     "text": [
      "\r",
      " 88%|███████████████████████████████████▏    | 898/1020 [30:15<03:58,  1.96s/it]"
     ]
    },
    {
     "name": "stdout",
     "output_type": "stream",
     "text": [
      "003532509438626016854_SFO2_107_0004_patch_aligned_doseweighted_bin_2.mrc masked successfully!\n"
     ]
    },
    {
     "name": "stderr",
     "output_type": "stream",
     "text": [
      "\r",
      " 88%|███████████████████████████████████▎    | 899/1020 [30:17<04:00,  1.99s/it]"
     ]
    },
    {
     "name": "stdout",
     "output_type": "stream",
     "text": [
      "009698585478961539514_SFO2_118_0035_patch_aligned_doseweighted_bin_2.mrc masked successfully!\n"
     ]
    },
    {
     "name": "stderr",
     "output_type": "stream",
     "text": [
      "\r",
      " 88%|███████████████████████████████████▎    | 900/1020 [30:19<03:56,  1.97s/it]"
     ]
    },
    {
     "name": "stdout",
     "output_type": "stream",
     "text": [
      "001153239437013624171_SFO2_111_0003_patch_aligned_doseweighted_bin_2.mrc masked successfully!\n"
     ]
    },
    {
     "name": "stderr",
     "output_type": "stream",
     "text": [
      "\r",
      " 88%|███████████████████████████████████▎    | 901/1020 [30:21<03:56,  1.98s/it]"
     ]
    },
    {
     "name": "stdout",
     "output_type": "stream",
     "text": [
      "013081993497231756674_SFO2_105_0005_patch_aligned_doseweighted_bin_2.mrc masked successfully!\n"
     ]
    },
    {
     "name": "stderr",
     "output_type": "stream",
     "text": [
      "\r",
      " 88%|███████████████████████████████████▎    | 902/1020 [30:23<03:55,  2.00s/it]"
     ]
    },
    {
     "name": "stdout",
     "output_type": "stream",
     "text": [
      "011248539280123743053_SFO2_117_0008_patch_aligned_doseweighted_bin_2.mrc masked successfully!\n"
     ]
    },
    {
     "name": "stderr",
     "output_type": "stream",
     "text": [
      "\r",
      " 89%|███████████████████████████████████▍    | 903/1020 [30:25<03:55,  2.01s/it]"
     ]
    },
    {
     "name": "stdout",
     "output_type": "stream",
     "text": [
      "003126778701348101268_SFO2_114_0032_patch_aligned_doseweighted_bin_2.mrc masked successfully!\n"
     ]
    },
    {
     "name": "stderr",
     "output_type": "stream",
     "text": [
      "\r",
      " 89%|███████████████████████████████████▍    | 904/1020 [30:27<03:52,  2.00s/it]"
     ]
    },
    {
     "name": "stdout",
     "output_type": "stream",
     "text": [
      "006193699270726589002_SFO2_116_0026_patch_aligned_doseweighted_bin_2.mrc masked successfully!\n"
     ]
    },
    {
     "name": "stderr",
     "output_type": "stream",
     "text": [
      "\r",
      " 89%|███████████████████████████████████▍    | 905/1020 [30:29<03:49,  2.00s/it]"
     ]
    },
    {
     "name": "stdout",
     "output_type": "stream",
     "text": [
      "013576196471052928343_SFO2_109_0004_patch_aligned_doseweighted_bin_2.mrc masked successfully!\n"
     ]
    },
    {
     "name": "stderr",
     "output_type": "stream",
     "text": [
      "\r",
      " 89%|███████████████████████████████████▌    | 906/1020 [30:31<03:44,  1.97s/it]"
     ]
    },
    {
     "name": "stdout",
     "output_type": "stream",
     "text": [
      "009263748473367567920_SFO2_127_0021_patch_aligned_doseweighted_bin_2.mrc masked successfully!\n"
     ]
    },
    {
     "name": "stderr",
     "output_type": "stream",
     "text": [
      "\r",
      " 89%|███████████████████████████████████▌    | 907/1020 [30:33<03:44,  1.99s/it]"
     ]
    },
    {
     "name": "stdout",
     "output_type": "stream",
     "text": [
      "013499177596982671391_SFO2_121_0010_patch_aligned_doseweighted_bin_2.mrc masked successfully!\n"
     ]
    },
    {
     "name": "stderr",
     "output_type": "stream",
     "text": [
      "\r",
      " 89%|███████████████████████████████████▌    | 908/1020 [30:35<03:41,  1.98s/it]"
     ]
    },
    {
     "name": "stdout",
     "output_type": "stream",
     "text": [
      "015472208103815508038_SFO2_122_0011_patch_aligned_doseweighted_bin_2.mrc masked successfully!\n"
     ]
    },
    {
     "name": "stderr",
     "output_type": "stream",
     "text": [
      "\r",
      " 89%|███████████████████████████████████▋    | 909/1020 [30:37<03:40,  1.98s/it]"
     ]
    },
    {
     "name": "stdout",
     "output_type": "stream",
     "text": [
      "009027567454827707837_SFO2_112_0003_patch_aligned_doseweighted_bin_2.mrc masked successfully!\n"
     ]
    },
    {
     "name": "stderr",
     "output_type": "stream",
     "text": [
      "\r",
      " 89%|███████████████████████████████████▋    | 910/1020 [30:39<03:38,  1.99s/it]"
     ]
    },
    {
     "name": "stdout",
     "output_type": "stream",
     "text": [
      "015350384067402558767_SFO2_105_0008_patch_aligned_doseweighted_bin_2.mrc masked successfully!\n"
     ]
    },
    {
     "name": "stderr",
     "output_type": "stream",
     "text": [
      "\r",
      " 89%|███████████████████████████████████▋    | 911/1020 [30:41<03:38,  2.01s/it]"
     ]
    },
    {
     "name": "stdout",
     "output_type": "stream",
     "text": [
      "003598181546689390366_SFO2_120_0032_patch_aligned_doseweighted_bin_2.mrc masked successfully!\n"
     ]
    },
    {
     "name": "stderr",
     "output_type": "stream",
     "text": [
      "\r",
      " 89%|███████████████████████████████████▊    | 912/1020 [30:43<03:36,  2.00s/it]"
     ]
    },
    {
     "name": "stdout",
     "output_type": "stream",
     "text": [
      "013091111518980176934_SFO2_118_0025_patch_aligned_doseweighted_bin_2.mrc masked successfully!\n"
     ]
    },
    {
     "name": "stderr",
     "output_type": "stream",
     "text": [
      "\r",
      " 90%|███████████████████████████████████▊    | 913/1020 [30:45<03:33,  2.00s/it]"
     ]
    },
    {
     "name": "stdout",
     "output_type": "stream",
     "text": [
      "003975090518030915791_SFO2_116_0012_patch_aligned_doseweighted_bin_2.mrc masked successfully!\n"
     ]
    },
    {
     "name": "stderr",
     "output_type": "stream",
     "text": [
      "\r",
      " 90%|███████████████████████████████████▊    | 914/1020 [30:47<03:30,  1.98s/it]"
     ]
    },
    {
     "name": "stdout",
     "output_type": "stream",
     "text": [
      "002834853006045905048_SFO2_119_0030_patch_aligned_doseweighted_bin_2.mrc masked successfully!\n"
     ]
    },
    {
     "name": "stderr",
     "output_type": "stream",
     "text": [
      "\r",
      " 90%|███████████████████████████████████▉    | 915/1020 [30:49<03:25,  1.96s/it]"
     ]
    },
    {
     "name": "stdout",
     "output_type": "stream",
     "text": [
      "005164096918820000947_SFO2_116_0025_patch_aligned_doseweighted_bin_2.mrc masked successfully!\n"
     ]
    },
    {
     "name": "stderr",
     "output_type": "stream",
     "text": [
      "\r",
      " 90%|███████████████████████████████████▉    | 916/1020 [30:51<03:25,  1.97s/it]"
     ]
    },
    {
     "name": "stdout",
     "output_type": "stream",
     "text": [
      "004720503609354512379_SFO2_119_0007_patch_aligned_doseweighted_bin_2.mrc masked successfully!\n"
     ]
    },
    {
     "name": "stderr",
     "output_type": "stream",
     "text": [
      "\r",
      " 90%|███████████████████████████████████▉    | 917/1020 [30:53<03:22,  1.97s/it]"
     ]
    },
    {
     "name": "stdout",
     "output_type": "stream",
     "text": [
      "007845430484883305917_SFO2_109_0024_patch_aligned_doseweighted_bin_2.mrc masked successfully!\n"
     ]
    },
    {
     "name": "stderr",
     "output_type": "stream",
     "text": [
      "\r",
      " 90%|████████████████████████████████████    | 918/1020 [30:55<03:20,  1.96s/it]"
     ]
    },
    {
     "name": "stdout",
     "output_type": "stream",
     "text": [
      "008304094649613596218_SFO2_124_0029_patch_aligned_doseweighted_bin_2.mrc masked successfully!\n"
     ]
    },
    {
     "name": "stderr",
     "output_type": "stream",
     "text": [
      "\r",
      " 90%|████████████████████████████████████    | 919/1020 [30:57<03:21,  1.99s/it]"
     ]
    },
    {
     "name": "stdout",
     "output_type": "stream",
     "text": [
      "018152788202262748203_SFO2_103_0002_patch_aligned_doseweighted_bin_2.mrc masked successfully!\n"
     ]
    },
    {
     "name": "stderr",
     "output_type": "stream",
     "text": [
      "\r",
      " 90%|████████████████████████████████████    | 920/1020 [30:59<03:20,  2.01s/it]"
     ]
    },
    {
     "name": "stdout",
     "output_type": "stream",
     "text": [
      "013825173852395277050_SFO2_114_0011_patch_aligned_doseweighted_bin_2.mrc masked successfully!\n"
     ]
    },
    {
     "name": "stderr",
     "output_type": "stream",
     "text": [
      "\r",
      " 90%|████████████████████████████████████    | 921/1020 [31:01<03:20,  2.03s/it]"
     ]
    },
    {
     "name": "stdout",
     "output_type": "stream",
     "text": [
      "016053837494357740303_SFO2_111_0022_patch_aligned_doseweighted_bin_2.mrc masked successfully!\n"
     ]
    },
    {
     "name": "stderr",
     "output_type": "stream",
     "text": [
      "\r",
      " 90%|████████████████████████████████████▏   | 922/1020 [31:03<03:16,  2.00s/it]"
     ]
    },
    {
     "name": "stdout",
     "output_type": "stream",
     "text": [
      "003661120594435927883_SFO2_101_0001_patch_aligned_doseweighted_bin_2.mrc masked successfully!\n"
     ]
    },
    {
     "name": "stderr",
     "output_type": "stream",
     "text": [
      "\r",
      " 90%|████████████████████████████████████▏   | 923/1020 [31:05<03:13,  1.99s/it]"
     ]
    },
    {
     "name": "stdout",
     "output_type": "stream",
     "text": [
      "002069722983594679674_SFO2_126_0012_patch_aligned_doseweighted_bin_2.mrc masked successfully!\n"
     ]
    },
    {
     "name": "stderr",
     "output_type": "stream",
     "text": [
      "\r",
      " 91%|████████████████████████████████████▏   | 924/1020 [31:07<03:12,  2.00s/it]"
     ]
    },
    {
     "name": "stdout",
     "output_type": "stream",
     "text": [
      "001537004221411233986_SFO2_104_0032_patch_aligned_doseweighted_bin_2.mrc masked successfully!\n"
     ]
    },
    {
     "name": "stderr",
     "output_type": "stream",
     "text": [
      "\r",
      " 91%|████████████████████████████████████▎   | 925/1020 [31:09<03:09,  1.99s/it]"
     ]
    },
    {
     "name": "stdout",
     "output_type": "stream",
     "text": [
      "011111178352902628019_SFO2_109_0007_patch_aligned_doseweighted_bin_2.mrc masked successfully!\n"
     ]
    },
    {
     "name": "stderr",
     "output_type": "stream",
     "text": [
      "\r",
      " 91%|████████████████████████████████████▎   | 926/1020 [31:11<03:06,  1.99s/it]"
     ]
    },
    {
     "name": "stdout",
     "output_type": "stream",
     "text": [
      "009002553376713959684_SFO2_127_0010_patch_aligned_doseweighted_bin_2.mrc masked successfully!\n"
     ]
    },
    {
     "name": "stderr",
     "output_type": "stream",
     "text": [
      "\r",
      " 91%|████████████████████████████████████▎   | 927/1020 [31:13<03:06,  2.00s/it]"
     ]
    },
    {
     "name": "stdout",
     "output_type": "stream",
     "text": [
      "009207725345878036972_SFO2_101_0035_patch_aligned_doseweighted_bin_2.mrc masked successfully!\n"
     ]
    },
    {
     "name": "stderr",
     "output_type": "stream",
     "text": [
      "\r",
      " 91%|████████████████████████████████████▍   | 928/1020 [31:15<03:04,  2.01s/it]"
     ]
    },
    {
     "name": "stdout",
     "output_type": "stream",
     "text": [
      "011561554868106458041_SFO2_115_0013_patch_aligned_doseweighted_bin_2.mrc masked successfully!\n"
     ]
    },
    {
     "name": "stderr",
     "output_type": "stream",
     "text": [
      "\r",
      " 91%|████████████████████████████████████▍   | 929/1020 [31:17<03:00,  1.98s/it]"
     ]
    },
    {
     "name": "stdout",
     "output_type": "stream",
     "text": [
      "002828727138707740938_SFO2_114_0007_patch_aligned_doseweighted_bin_2.mrc masked successfully!\n"
     ]
    },
    {
     "name": "stderr",
     "output_type": "stream",
     "text": [
      "\r",
      " 91%|████████████████████████████████████▍   | 930/1020 [31:19<02:58,  1.99s/it]"
     ]
    },
    {
     "name": "stdout",
     "output_type": "stream",
     "text": [
      "012056590527045059851_SFO2_114_0035_patch_aligned_doseweighted_bin_2.mrc masked successfully!\n"
     ]
    },
    {
     "name": "stderr",
     "output_type": "stream",
     "text": [
      "\r",
      " 91%|████████████████████████████████████▌   | 931/1020 [31:21<02:57,  2.00s/it]"
     ]
    },
    {
     "name": "stdout",
     "output_type": "stream",
     "text": [
      "014903395081983561690_SFO2_121_0004_patch_aligned_doseweighted_bin_2.mrc masked successfully!\n"
     ]
    },
    {
     "name": "stderr",
     "output_type": "stream",
     "text": [
      "\r",
      " 91%|████████████████████████████████████▌   | 932/1020 [31:23<02:57,  2.02s/it]"
     ]
    },
    {
     "name": "stdout",
     "output_type": "stream",
     "text": [
      "003563244435837844404_SFO2_124_0035_patch_aligned_doseweighted_bin_2.mrc masked successfully!\n"
     ]
    },
    {
     "name": "stderr",
     "output_type": "stream",
     "text": [
      "\r",
      " 91%|████████████████████████████████████▌   | 933/1020 [31:25<02:55,  2.02s/it]"
     ]
    },
    {
     "name": "stdout",
     "output_type": "stream",
     "text": [
      "006492188846904335030_SFO2_100_0016_patch_aligned_doseweighted_bin_2.mrc masked successfully!\n"
     ]
    },
    {
     "name": "stderr",
     "output_type": "stream",
     "text": [
      "\r",
      " 92%|████████████████████████████████████▋   | 934/1020 [31:27<02:52,  2.00s/it]"
     ]
    },
    {
     "name": "stdout",
     "output_type": "stream",
     "text": [
      "009107753350145039057_SFO2_107_0006_patch_aligned_doseweighted_bin_2.mrc masked successfully!\n"
     ]
    },
    {
     "name": "stderr",
     "output_type": "stream",
     "text": [
      "\r",
      " 92%|████████████████████████████████████▋   | 935/1020 [31:29<02:50,  2.00s/it]"
     ]
    },
    {
     "name": "stdout",
     "output_type": "stream",
     "text": [
      "002406449065259431306_SFO2_112_0012_patch_aligned_doseweighted_bin_2.mrc masked successfully!\n"
     ]
    },
    {
     "name": "stderr",
     "output_type": "stream",
     "text": [
      "\r",
      " 92%|████████████████████████████████████▋   | 936/1020 [31:31<02:48,  2.01s/it]"
     ]
    },
    {
     "name": "stdout",
     "output_type": "stream",
     "text": [
      "002516088932980988784_SFO2_124_0011_patch_aligned_doseweighted_bin_2.mrc masked successfully!\n"
     ]
    },
    {
     "name": "stderr",
     "output_type": "stream",
     "text": [
      "\r",
      " 92%|████████████████████████████████████▋   | 937/1020 [31:33<02:46,  2.00s/it]"
     ]
    },
    {
     "name": "stdout",
     "output_type": "stream",
     "text": [
      "013805611153937202905_SFO2_107_0002_patch_aligned_doseweighted_bin_2.mrc masked successfully!\n"
     ]
    },
    {
     "name": "stderr",
     "output_type": "stream",
     "text": [
      "\r",
      " 92%|████████████████████████████████████▊   | 938/1020 [31:35<02:44,  2.01s/it]"
     ]
    },
    {
     "name": "stdout",
     "output_type": "stream",
     "text": [
      "005933343865790998834_SFO2_104_0034_patch_aligned_doseweighted_bin_2.mrc masked successfully!\n"
     ]
    },
    {
     "name": "stderr",
     "output_type": "stream",
     "text": [
      "\r",
      " 92%|████████████████████████████████████▊   | 939/1020 [31:37<02:41,  2.00s/it]"
     ]
    },
    {
     "name": "stdout",
     "output_type": "stream",
     "text": [
      "004955506263586396009_SFO2_123_0004_patch_aligned_doseweighted_bin_2.mrc masked successfully!\n"
     ]
    },
    {
     "name": "stderr",
     "output_type": "stream",
     "text": [
      "\r",
      " 92%|████████████████████████████████████▊   | 940/1020 [31:39<02:40,  2.00s/it]"
     ]
    },
    {
     "name": "stdout",
     "output_type": "stream",
     "text": [
      "010422212940542957829_SFO2_103_0003_patch_aligned_doseweighted_bin_2.mrc masked successfully!\n"
     ]
    },
    {
     "name": "stderr",
     "output_type": "stream",
     "text": [
      "\r",
      " 92%|████████████████████████████████████▉   | 941/1020 [31:41<02:39,  2.02s/it]"
     ]
    },
    {
     "name": "stdout",
     "output_type": "stream",
     "text": [
      "005593755958813615836_SFO2_100_0013_patch_aligned_doseweighted_bin_2.mrc masked successfully!\n"
     ]
    },
    {
     "name": "stderr",
     "output_type": "stream",
     "text": [
      "\r",
      " 92%|████████████████████████████████████▉   | 942/1020 [31:43<02:38,  2.03s/it]"
     ]
    },
    {
     "name": "stdout",
     "output_type": "stream",
     "text": [
      "000085379250142240070_SFO2_105_0024_patch_aligned_doseweighted_bin_2.mrc masked successfully!\n"
     ]
    },
    {
     "name": "stderr",
     "output_type": "stream",
     "text": [
      "\r",
      " 92%|████████████████████████████████████▉   | 943/1020 [31:45<02:36,  2.03s/it]"
     ]
    },
    {
     "name": "stdout",
     "output_type": "stream",
     "text": [
      "013631180285551895132_SFO2_121_0017_patch_aligned_doseweighted_bin_2.mrc masked successfully!\n"
     ]
    },
    {
     "name": "stderr",
     "output_type": "stream",
     "text": [
      "\r",
      " 93%|█████████████████████████████████████   | 944/1020 [31:47<02:34,  2.03s/it]"
     ]
    },
    {
     "name": "stdout",
     "output_type": "stream",
     "text": [
      "014987423820948729425_SFO2_115_0005_patch_aligned_doseweighted_bin_2.mrc masked successfully!\n"
     ]
    },
    {
     "name": "stderr",
     "output_type": "stream",
     "text": [
      "\r",
      " 93%|█████████████████████████████████████   | 945/1020 [31:49<02:31,  2.02s/it]"
     ]
    },
    {
     "name": "stdout",
     "output_type": "stream",
     "text": [
      "007929494053148923816_SFO2_111_0029_patch_aligned_doseweighted_bin_2.mrc masked successfully!\n"
     ]
    },
    {
     "name": "stderr",
     "output_type": "stream",
     "text": [
      "\r",
      " 93%|█████████████████████████████████████   | 946/1020 [31:51<02:29,  2.02s/it]"
     ]
    },
    {
     "name": "stdout",
     "output_type": "stream",
     "text": [
      "002070290469747909277_SFO2_104_0023_patch_aligned_doseweighted_bin_2.mrc masked successfully!\n"
     ]
    },
    {
     "name": "stderr",
     "output_type": "stream",
     "text": [
      "\r",
      " 93%|█████████████████████████████████████▏  | 947/1020 [31:53<02:27,  2.02s/it]"
     ]
    },
    {
     "name": "stdout",
     "output_type": "stream",
     "text": [
      "000211474824603781635_SFO2_118_0034_patch_aligned_doseweighted_bin_2.mrc masked successfully!\n"
     ]
    },
    {
     "name": "stderr",
     "output_type": "stream",
     "text": [
      "\r",
      " 93%|█████████████████████████████████████▏  | 948/1020 [31:55<02:25,  2.02s/it]"
     ]
    },
    {
     "name": "stdout",
     "output_type": "stream",
     "text": [
      "011348249205906085820_SFO2_109_0016_patch_aligned_doseweighted_bin_2.mrc masked successfully!\n"
     ]
    },
    {
     "name": "stderr",
     "output_type": "stream",
     "text": [
      "\r",
      " 93%|█████████████████████████████████████▏  | 949/1020 [31:57<02:22,  2.01s/it]"
     ]
    },
    {
     "name": "stdout",
     "output_type": "stream",
     "text": [
      "009122145905424403755_SFO2_110_0033_patch_aligned_doseweighted_bin_2.mrc masked successfully!\n"
     ]
    },
    {
     "name": "stderr",
     "output_type": "stream",
     "text": [
      "\r",
      " 93%|█████████████████████████████████████▎  | 950/1020 [31:59<02:20,  2.00s/it]"
     ]
    },
    {
     "name": "stdout",
     "output_type": "stream",
     "text": [
      "017175356273967973545_SFO2_107_0019_patch_aligned_doseweighted_bin_2.mrc masked successfully!\n"
     ]
    },
    {
     "name": "stderr",
     "output_type": "stream",
     "text": [
      "\r",
      " 93%|█████████████████████████████████████▎  | 951/1020 [32:01<02:17,  2.00s/it]"
     ]
    },
    {
     "name": "stdout",
     "output_type": "stream",
     "text": [
      "008144540099808022187_SFO2_106_0028_patch_aligned_doseweighted_bin_2.mrc masked successfully!\n"
     ]
    },
    {
     "name": "stderr",
     "output_type": "stream",
     "text": [
      "\r",
      " 93%|█████████████████████████████████████▎  | 952/1020 [32:03<02:15,  1.99s/it]"
     ]
    },
    {
     "name": "stdout",
     "output_type": "stream",
     "text": [
      "013968059195892348957_SFO2_112_0029_patch_aligned_doseweighted_bin_2.mrc masked successfully!\n"
     ]
    },
    {
     "name": "stderr",
     "output_type": "stream",
     "text": [
      "\r",
      " 93%|█████████████████████████████████████▎  | 953/1020 [32:05<02:13,  2.00s/it]"
     ]
    },
    {
     "name": "stdout",
     "output_type": "stream",
     "text": [
      "015485705239686913584_SFO2_114_0030_patch_aligned_doseweighted_bin_2.mrc masked successfully!\n"
     ]
    },
    {
     "name": "stderr",
     "output_type": "stream",
     "text": [
      "\r",
      " 94%|█████████████████████████████████████▍  | 954/1020 [32:07<02:10,  1.98s/it]"
     ]
    },
    {
     "name": "stdout",
     "output_type": "stream",
     "text": [
      "009464362166464717802_SFO2_115_0015_patch_aligned_doseweighted_bin_2.mrc masked successfully!\n"
     ]
    },
    {
     "name": "stderr",
     "output_type": "stream",
     "text": [
      "\r",
      " 94%|█████████████████████████████████████▍  | 955/1020 [32:09<02:08,  1.97s/it]"
     ]
    },
    {
     "name": "stdout",
     "output_type": "stream",
     "text": [
      "001832936019015171783_SFO2_115_0010_patch_aligned_doseweighted_bin_2.mrc masked successfully!\n"
     ]
    },
    {
     "name": "stderr",
     "output_type": "stream",
     "text": [
      "\r",
      " 94%|█████████████████████████████████████▍  | 956/1020 [32:11<02:06,  1.97s/it]"
     ]
    },
    {
     "name": "stdout",
     "output_type": "stream",
     "text": [
      "017361791073048378951_SFO2_106_0035_patch_aligned_doseweighted_bin_2.mrc masked successfully!\n"
     ]
    },
    {
     "name": "stderr",
     "output_type": "stream",
     "text": [
      "\r",
      " 94%|█████████████████████████████████████▌  | 957/1020 [32:13<02:04,  1.98s/it]"
     ]
    },
    {
     "name": "stdout",
     "output_type": "stream",
     "text": [
      "008749001883033393206_SFO2_115_0026_patch_aligned_doseweighted_bin_2.mrc masked successfully!\n"
     ]
    },
    {
     "name": "stderr",
     "output_type": "stream",
     "text": [
      "\r",
      " 94%|█████████████████████████████████████▌  | 958/1020 [32:15<02:02,  1.98s/it]"
     ]
    },
    {
     "name": "stdout",
     "output_type": "stream",
     "text": [
      "004649823823734563778_SFO2_102_0028_patch_aligned_doseweighted_bin_2.mrc masked successfully!\n"
     ]
    },
    {
     "name": "stderr",
     "output_type": "stream",
     "text": [
      "\r",
      " 94%|█████████████████████████████████████▌  | 959/1020 [32:17<02:00,  1.98s/it]"
     ]
    },
    {
     "name": "stdout",
     "output_type": "stream",
     "text": [
      "008086285401012543066_SFO2_125_0012_patch_aligned_doseweighted_bin_2.mrc masked successfully!\n"
     ]
    },
    {
     "name": "stderr",
     "output_type": "stream",
     "text": [
      "\r",
      " 94%|█████████████████████████████████████▋  | 960/1020 [32:19<02:00,  2.00s/it]"
     ]
    },
    {
     "name": "stdout",
     "output_type": "stream",
     "text": [
      "000140150066428407266_SFO2_104_0025_patch_aligned_doseweighted_bin_2.mrc masked successfully!\n"
     ]
    },
    {
     "name": "stderr",
     "output_type": "stream",
     "text": [
      "\r",
      " 94%|█████████████████████████████████████▋  | 961/1020 [32:21<01:58,  2.01s/it]"
     ]
    },
    {
     "name": "stdout",
     "output_type": "stream",
     "text": [
      "018295567424496541892_SFO2_107_0007_patch_aligned_doseweighted_bin_2.mrc masked successfully!\n"
     ]
    },
    {
     "name": "stderr",
     "output_type": "stream",
     "text": [
      "\r",
      " 94%|█████████████████████████████████████▋  | 962/1020 [32:23<01:55,  2.00s/it]"
     ]
    },
    {
     "name": "stdout",
     "output_type": "stream",
     "text": [
      "014209097830749573119_SFO2_111_0017_patch_aligned_doseweighted_bin_2.mrc masked successfully!\n"
     ]
    },
    {
     "name": "stderr",
     "output_type": "stream",
     "text": [
      "\r",
      " 94%|█████████████████████████████████████▊  | 963/1020 [32:25<01:54,  2.00s/it]"
     ]
    },
    {
     "name": "stdout",
     "output_type": "stream",
     "text": [
      "001505060646324280046_SFO2_125_0029_patch_aligned_doseweighted_bin_2.mrc masked successfully!\n"
     ]
    },
    {
     "name": "stderr",
     "output_type": "stream",
     "text": [
      "\r",
      " 95%|█████████████████████████████████████▊  | 964/1020 [32:27<01:51,  1.98s/it]"
     ]
    },
    {
     "name": "stdout",
     "output_type": "stream",
     "text": [
      "016168027383600345656_SFO2_109_0023_patch_aligned_doseweighted_bin_2.mrc masked successfully!\n"
     ]
    },
    {
     "name": "stderr",
     "output_type": "stream",
     "text": [
      "\r",
      " 95%|█████████████████████████████████████▊  | 965/1020 [32:29<01:49,  1.99s/it]"
     ]
    },
    {
     "name": "stdout",
     "output_type": "stream",
     "text": [
      "014044528430623294861_SFO2_123_0019_patch_aligned_doseweighted_bin_2.mrc masked successfully!\n"
     ]
    },
    {
     "name": "stderr",
     "output_type": "stream",
     "text": [
      "\r",
      " 95%|█████████████████████████████████████▉  | 966/1020 [32:31<01:47,  1.99s/it]"
     ]
    },
    {
     "name": "stdout",
     "output_type": "stream",
     "text": [
      "016579744321780039576_SFO2_108_0011_patch_aligned_doseweighted_bin_2.mrc masked successfully!\n"
     ]
    },
    {
     "name": "stderr",
     "output_type": "stream",
     "text": [
      "\r",
      " 95%|█████████████████████████████████████▉  | 967/1020 [32:33<01:45,  1.99s/it]"
     ]
    },
    {
     "name": "stdout",
     "output_type": "stream",
     "text": [
      "013646039207676547248_SFO2_112_0030_patch_aligned_doseweighted_bin_2.mrc masked successfully!\n"
     ]
    },
    {
     "name": "stderr",
     "output_type": "stream",
     "text": [
      "\r",
      " 95%|█████████████████████████████████████▉  | 968/1020 [32:35<01:44,  2.00s/it]"
     ]
    },
    {
     "name": "stdout",
     "output_type": "stream",
     "text": [
      "011354696058194973284_SFO2_116_0029_patch_aligned_doseweighted_bin_2.mrc masked successfully!\n"
     ]
    },
    {
     "name": "stderr",
     "output_type": "stream",
     "text": [
      "\r",
      " 95%|██████████████████████████████████████  | 969/1020 [32:37<01:42,  2.01s/it]"
     ]
    },
    {
     "name": "stdout",
     "output_type": "stream",
     "text": [
      "011510017136053030521_SFO2_101_0007_patch_aligned_doseweighted_bin_2.mrc masked successfully!\n"
     ]
    },
    {
     "name": "stderr",
     "output_type": "stream",
     "text": [
      "\r",
      " 95%|██████████████████████████████████████  | 970/1020 [32:39<01:39,  1.98s/it]"
     ]
    },
    {
     "name": "stdout",
     "output_type": "stream",
     "text": [
      "015584876746693989735_SFO2_122_0025_patch_aligned_doseweighted_bin_2.mrc masked successfully!\n"
     ]
    },
    {
     "name": "stderr",
     "output_type": "stream",
     "text": [
      "\r",
      " 95%|██████████████████████████████████████  | 971/1020 [32:41<01:36,  1.97s/it]"
     ]
    },
    {
     "name": "stdout",
     "output_type": "stream",
     "text": [
      "003094387878910830284_SFO2_102_0005_patch_aligned_doseweighted_bin_2.mrc masked successfully!\n"
     ]
    },
    {
     "name": "stderr",
     "output_type": "stream",
     "text": [
      "\r",
      " 95%|██████████████████████████████████████  | 972/1020 [32:43<01:35,  1.99s/it]"
     ]
    },
    {
     "name": "stdout",
     "output_type": "stream",
     "text": [
      "012392559316914613033_SFO2_102_0030_patch_aligned_doseweighted_bin_2.mrc masked successfully!\n"
     ]
    },
    {
     "name": "stderr",
     "output_type": "stream",
     "text": [
      "\r",
      " 95%|██████████████████████████████████████▏ | 973/1020 [32:45<01:33,  1.99s/it]"
     ]
    },
    {
     "name": "stdout",
     "output_type": "stream",
     "text": [
      "011020933777146051550_SFO2_114_0014_patch_aligned_doseweighted_bin_2.mrc masked successfully!\n"
     ]
    },
    {
     "name": "stderr",
     "output_type": "stream",
     "text": [
      "\r",
      " 95%|██████████████████████████████████████▏ | 974/1020 [32:47<01:31,  1.98s/it]"
     ]
    },
    {
     "name": "stdout",
     "output_type": "stream",
     "text": [
      "013717053569896758206_SFO2_103_0018_patch_aligned_doseweighted_bin_2.mrc masked successfully!\n"
     ]
    },
    {
     "name": "stderr",
     "output_type": "stream",
     "text": [
      "\r",
      " 96%|██████████████████████████████████████▏ | 975/1020 [32:49<01:28,  1.96s/it]"
     ]
    },
    {
     "name": "stdout",
     "output_type": "stream",
     "text": [
      "008385506072801405133_SFO2_115_0007_patch_aligned_doseweighted_bin_2.mrc masked successfully!\n"
     ]
    },
    {
     "name": "stderr",
     "output_type": "stream",
     "text": [
      "\r",
      " 96%|██████████████████████████████████████▎ | 976/1020 [32:51<01:26,  1.96s/it]"
     ]
    },
    {
     "name": "stdout",
     "output_type": "stream",
     "text": [
      "007204173577838853911_SFO2_105_0023_patch_aligned_doseweighted_bin_2.mrc masked successfully!\n"
     ]
    },
    {
     "name": "stderr",
     "output_type": "stream",
     "text": [
      "\r",
      " 96%|██████████████████████████████████████▎ | 977/1020 [32:53<01:24,  1.97s/it]"
     ]
    },
    {
     "name": "stdout",
     "output_type": "stream",
     "text": [
      "004157772819481184293_SFO2_101_0026_patch_aligned_doseweighted_bin_2.mrc masked successfully!\n"
     ]
    },
    {
     "name": "stderr",
     "output_type": "stream",
     "text": [
      "\r",
      " 96%|██████████████████████████████████████▎ | 978/1020 [32:55<01:22,  1.97s/it]"
     ]
    },
    {
     "name": "stdout",
     "output_type": "stream",
     "text": [
      "015364705076757180790_SFO2_121_0030_patch_aligned_doseweighted_bin_2.mrc masked successfully!\n"
     ]
    },
    {
     "name": "stderr",
     "output_type": "stream",
     "text": [
      "\r",
      " 96%|██████████████████████████████████████▍ | 979/1020 [32:57<01:21,  1.98s/it]"
     ]
    },
    {
     "name": "stdout",
     "output_type": "stream",
     "text": [
      "004882191142650243446_SFO2_101_0036_patch_aligned_doseweighted_bin_2.mrc masked successfully!\n"
     ]
    },
    {
     "name": "stderr",
     "output_type": "stream",
     "text": [
      "\r",
      " 96%|██████████████████████████████████████▍ | 980/1020 [32:59<01:19,  1.99s/it]"
     ]
    },
    {
     "name": "stdout",
     "output_type": "stream",
     "text": [
      "016840350107917296067_SFO2_107_0026_patch_aligned_doseweighted_bin_2.mrc masked successfully!\n"
     ]
    },
    {
     "name": "stderr",
     "output_type": "stream",
     "text": [
      "\r",
      " 96%|██████████████████████████████████████▍ | 981/1020 [33:01<01:18,  2.02s/it]"
     ]
    },
    {
     "name": "stdout",
     "output_type": "stream",
     "text": [
      "005447408066724260843_SFO2_105_0015_patch_aligned_doseweighted_bin_2.mrc masked successfully!\n"
     ]
    },
    {
     "name": "stderr",
     "output_type": "stream",
     "text": [
      "\r",
      " 96%|██████████████████████████████████████▌ | 982/1020 [33:03<01:16,  2.02s/it]"
     ]
    },
    {
     "name": "stdout",
     "output_type": "stream",
     "text": [
      "010581462999482171930_SFO2_101_0020_patch_aligned_doseweighted_bin_2.mrc masked successfully!\n"
     ]
    },
    {
     "name": "stderr",
     "output_type": "stream",
     "text": [
      "\r",
      " 96%|██████████████████████████████████████▌ | 983/1020 [33:05<01:14,  2.02s/it]"
     ]
    },
    {
     "name": "stdout",
     "output_type": "stream",
     "text": [
      "003255759804837438619_SFO2_119_0016_patch_aligned_doseweighted_bin_2.mrc masked successfully!\n"
     ]
    },
    {
     "name": "stderr",
     "output_type": "stream",
     "text": [
      "\r",
      " 96%|██████████████████████████████████████▌ | 984/1020 [33:07<01:12,  2.01s/it]"
     ]
    },
    {
     "name": "stdout",
     "output_type": "stream",
     "text": [
      "014490356970325684062_SFO2_101_0011_patch_aligned_doseweighted_bin_2.mrc masked successfully!\n"
     ]
    },
    {
     "name": "stderr",
     "output_type": "stream",
     "text": [
      "\r",
      " 97%|██████████████████████████████████████▋ | 985/1020 [33:09<01:10,  2.02s/it]"
     ]
    },
    {
     "name": "stdout",
     "output_type": "stream",
     "text": [
      "017904324478628410955_SFO2_104_0001_patch_aligned_doseweighted_bin_2.mrc masked successfully!\n"
     ]
    },
    {
     "name": "stderr",
     "output_type": "stream",
     "text": [
      "\r",
      " 97%|██████████████████████████████████████▋ | 986/1020 [33:11<01:08,  2.02s/it]"
     ]
    },
    {
     "name": "stdout",
     "output_type": "stream",
     "text": [
      "009382188551512976686_SFO2_122_0026_patch_aligned_doseweighted_bin_2.mrc masked successfully!\n"
     ]
    },
    {
     "name": "stderr",
     "output_type": "stream",
     "text": [
      "\r",
      " 97%|██████████████████████████████████████▋ | 987/1020 [33:13<01:06,  2.02s/it]"
     ]
    },
    {
     "name": "stdout",
     "output_type": "stream",
     "text": [
      "008566432581664210527_SFO2_113_0007_patch_aligned_doseweighted_bin_2.mrc masked successfully!\n"
     ]
    },
    {
     "name": "stderr",
     "output_type": "stream",
     "text": [
      "\r",
      " 97%|██████████████████████████████████████▋ | 988/1020 [33:15<01:04,  2.01s/it]"
     ]
    },
    {
     "name": "stdout",
     "output_type": "stream",
     "text": [
      "000762295041477766704_SFO2_113_0026_patch_aligned_doseweighted_bin_2.mrc masked successfully!\n"
     ]
    },
    {
     "name": "stderr",
     "output_type": "stream",
     "text": [
      "\r",
      " 97%|██████████████████████████████████████▊ | 989/1020 [33:17<01:02,  2.01s/it]"
     ]
    },
    {
     "name": "stdout",
     "output_type": "stream",
     "text": [
      "000348554891960002005_SFO2_112_0011_patch_aligned_doseweighted_bin_2.mrc masked successfully!\n"
     ]
    },
    {
     "name": "stderr",
     "output_type": "stream",
     "text": [
      "\r",
      " 97%|██████████████████████████████████████▊ | 990/1020 [33:19<00:59,  2.00s/it]"
     ]
    },
    {
     "name": "stdout",
     "output_type": "stream",
     "text": [
      "008207409256486685809_SFO2_100_0015_patch_aligned_doseweighted_bin_2.mrc masked successfully!\n"
     ]
    },
    {
     "name": "stderr",
     "output_type": "stream",
     "text": [
      "\r",
      " 97%|██████████████████████████████████████▊ | 991/1020 [33:21<00:58,  2.01s/it]"
     ]
    },
    {
     "name": "stdout",
     "output_type": "stream",
     "text": [
      "003806149333619511535_SFO2_103_0015_patch_aligned_doseweighted_bin_2.mrc masked successfully!\n"
     ]
    },
    {
     "name": "stderr",
     "output_type": "stream",
     "text": [
      "\r",
      " 97%|██████████████████████████████████████▉ | 992/1020 [33:23<00:56,  2.01s/it]"
     ]
    },
    {
     "name": "stdout",
     "output_type": "stream",
     "text": [
      "012708739252750874845_SFO2_122_0036_patch_aligned_doseweighted_bin_2.mrc masked successfully!\n"
     ]
    },
    {
     "name": "stderr",
     "output_type": "stream",
     "text": [
      "\r",
      " 97%|██████████████████████████████████████▉ | 993/1020 [33:25<00:54,  2.03s/it]"
     ]
    },
    {
     "name": "stdout",
     "output_type": "stream",
     "text": [
      "010680222688702515415_SFO2_114_0013_patch_aligned_doseweighted_bin_2.mrc masked successfully!\n"
     ]
    },
    {
     "name": "stderr",
     "output_type": "stream",
     "text": [
      "\r",
      " 97%|██████████████████████████████████████▉ | 994/1020 [33:27<00:52,  2.02s/it]"
     ]
    },
    {
     "name": "stdout",
     "output_type": "stream",
     "text": [
      "007272585965880042196_SFO2_114_0029_patch_aligned_doseweighted_bin_2.mrc masked successfully!\n"
     ]
    },
    {
     "name": "stderr",
     "output_type": "stream",
     "text": [
      "\r",
      " 98%|███████████████████████████████████████ | 995/1020 [33:29<00:51,  2.05s/it]"
     ]
    },
    {
     "name": "stdout",
     "output_type": "stream",
     "text": [
      "009152390396847005223_SFO2_106_0029_patch_aligned_doseweighted_bin_2.mrc masked successfully!\n"
     ]
    },
    {
     "name": "stderr",
     "output_type": "stream",
     "text": [
      "\r",
      " 98%|███████████████████████████████████████ | 996/1020 [33:31<00:48,  2.03s/it]"
     ]
    },
    {
     "name": "stdout",
     "output_type": "stream",
     "text": [
      "017600946290425130404_SFO2_118_0007_patch_aligned_doseweighted_bin_2.mrc masked successfully!\n"
     ]
    },
    {
     "name": "stderr",
     "output_type": "stream",
     "text": [
      "\r",
      " 98%|███████████████████████████████████████ | 997/1020 [33:33<00:46,  2.02s/it]"
     ]
    },
    {
     "name": "stdout",
     "output_type": "stream",
     "text": [
      "014005892278437499765_SFO2_103_0025_patch_aligned_doseweighted_bin_2.mrc masked successfully!\n"
     ]
    },
    {
     "name": "stderr",
     "output_type": "stream",
     "text": [
      "\r",
      " 98%|███████████████████████████████████████▏| 998/1020 [33:35<00:44,  2.01s/it]"
     ]
    },
    {
     "name": "stdout",
     "output_type": "stream",
     "text": [
      "009269818052903692983_SFO2_100_0019_patch_aligned_doseweighted_bin_2.mrc masked successfully!\n"
     ]
    },
    {
     "name": "stderr",
     "output_type": "stream",
     "text": [
      "\r",
      " 98%|███████████████████████████████████████▏| 999/1020 [33:37<00:42,  2.01s/it]"
     ]
    },
    {
     "name": "stdout",
     "output_type": "stream",
     "text": [
      "007620456938656390901_SFO2_113_0010_patch_aligned_doseweighted_bin_2.mrc masked successfully!\n"
     ]
    },
    {
     "name": "stderr",
     "output_type": "stream",
     "text": [
      "\r",
      " 98%|██████████████████████████████████████▏| 1000/1020 [33:39<00:40,  2.01s/it]"
     ]
    },
    {
     "name": "stdout",
     "output_type": "stream",
     "text": [
      "015215333305426134961_SFO2_105_0018_patch_aligned_doseweighted_bin_2.mrc masked successfully!\n"
     ]
    },
    {
     "name": "stderr",
     "output_type": "stream",
     "text": [
      "\r",
      " 98%|██████████████████████████████████████▎| 1001/1020 [33:41<00:38,  2.01s/it]"
     ]
    },
    {
     "name": "stdout",
     "output_type": "stream",
     "text": [
      "007306982884799251737_SFO2_112_0010_patch_aligned_doseweighted_bin_2.mrc masked successfully!\n"
     ]
    },
    {
     "name": "stderr",
     "output_type": "stream",
     "text": [
      "\r",
      " 98%|██████████████████████████████████████▎| 1002/1020 [33:43<00:36,  2.01s/it]"
     ]
    },
    {
     "name": "stdout",
     "output_type": "stream",
     "text": [
      "011102660523920462192_SFO2_120_0007_patch_aligned_doseweighted_bin_2.mrc masked successfully!\n"
     ]
    },
    {
     "name": "stderr",
     "output_type": "stream",
     "text": [
      "\r",
      " 98%|██████████████████████████████████████▎| 1003/1020 [33:45<00:34,  2.00s/it]"
     ]
    },
    {
     "name": "stdout",
     "output_type": "stream",
     "text": [
      "013939985548191715662_SFO2_108_0034_patch_aligned_doseweighted_bin_2.mrc masked successfully!\n"
     ]
    },
    {
     "name": "stderr",
     "output_type": "stream",
     "text": [
      "\r",
      " 98%|██████████████████████████████████████▍| 1004/1020 [33:47<00:32,  2.01s/it]"
     ]
    },
    {
     "name": "stdout",
     "output_type": "stream",
     "text": [
      "014641263776143182347_SFO2_114_0008_patch_aligned_doseweighted_bin_2.mrc masked successfully!\n"
     ]
    },
    {
     "name": "stderr",
     "output_type": "stream",
     "text": [
      "\r",
      " 99%|██████████████████████████████████████▍| 1005/1020 [33:49<00:29,  1.99s/it]"
     ]
    },
    {
     "name": "stdout",
     "output_type": "stream",
     "text": [
      "002914307972971297934_SFO2_110_0030_patch_aligned_doseweighted_bin_2.mrc masked successfully!\n"
     ]
    },
    {
     "name": "stderr",
     "output_type": "stream",
     "text": [
      "\r",
      " 99%|██████████████████████████████████████▍| 1006/1020 [33:51<00:27,  1.97s/it]"
     ]
    },
    {
     "name": "stdout",
     "output_type": "stream",
     "text": [
      "016260553941442969226_SFO2_114_0003_patch_aligned_doseweighted_bin_2.mrc masked successfully!\n"
     ]
    },
    {
     "name": "stderr",
     "output_type": "stream",
     "text": [
      "\r",
      " 99%|██████████████████████████████████████▌| 1007/1020 [33:53<00:25,  1.97s/it]"
     ]
    },
    {
     "name": "stdout",
     "output_type": "stream",
     "text": [
      "001329208930415612121_SFO2_117_0012_patch_aligned_doseweighted_bin_2.mrc masked successfully!\n"
     ]
    },
    {
     "name": "stderr",
     "output_type": "stream",
     "text": [
      "\r",
      " 99%|██████████████████████████████████████▌| 1008/1020 [33:55<00:23,  1.98s/it]"
     ]
    },
    {
     "name": "stdout",
     "output_type": "stream",
     "text": [
      "010153900396331843266_SFO2_111_0033_patch_aligned_doseweighted_bin_2.mrc masked successfully!\n"
     ]
    },
    {
     "name": "stderr",
     "output_type": "stream",
     "text": [
      "\r",
      " 99%|██████████████████████████████████████▌| 1009/1020 [33:57<00:22,  2.00s/it]"
     ]
    },
    {
     "name": "stdout",
     "output_type": "stream",
     "text": [
      "012188862538707182316_SFO2_124_0006_patch_aligned_doseweighted_bin_2.mrc masked successfully!\n"
     ]
    },
    {
     "name": "stderr",
     "output_type": "stream",
     "text": [
      "\r",
      " 99%|██████████████████████████████████████▌| 1010/1020 [33:59<00:20,  2.01s/it]"
     ]
    },
    {
     "name": "stdout",
     "output_type": "stream",
     "text": [
      "006799483852030880692_SFO2_108_0027_patch_aligned_doseweighted_bin_2.mrc masked successfully!\n"
     ]
    },
    {
     "name": "stderr",
     "output_type": "stream",
     "text": [
      "\r",
      " 99%|██████████████████████████████████████▋| 1011/1020 [34:01<00:18,  2.03s/it]"
     ]
    },
    {
     "name": "stdout",
     "output_type": "stream",
     "text": [
      "007262605790315061595_SFO2_127_0022_patch_aligned_doseweighted_bin_2.mrc masked successfully!\n"
     ]
    },
    {
     "name": "stderr",
     "output_type": "stream",
     "text": [
      "\r",
      " 99%|██████████████████████████████████████▋| 1012/1020 [34:03<00:16,  2.02s/it]"
     ]
    },
    {
     "name": "stdout",
     "output_type": "stream",
     "text": [
      "007090446570967527547_SFO2_108_0019_patch_aligned_doseweighted_bin_2.mrc masked successfully!\n"
     ]
    },
    {
     "name": "stderr",
     "output_type": "stream",
     "text": [
      "\r",
      " 99%|██████████████████████████████████████▋| 1013/1020 [34:05<00:14,  2.03s/it]"
     ]
    },
    {
     "name": "stdout",
     "output_type": "stream",
     "text": [
      "006427525572667858520_SFO2_119_0013_patch_aligned_doseweighted_bin_2.mrc masked successfully!\n"
     ]
    },
    {
     "name": "stderr",
     "output_type": "stream",
     "text": [
      "\r",
      " 99%|██████████████████████████████████████▊| 1014/1020 [34:07<00:12,  2.01s/it]"
     ]
    },
    {
     "name": "stdout",
     "output_type": "stream",
     "text": [
      "018119012256269210266_SFO2_107_0025_patch_aligned_doseweighted_bin_2.mrc masked successfully!\n"
     ]
    },
    {
     "name": "stderr",
     "output_type": "stream",
     "text": [
      "\r",
      "100%|██████████████████████████████████████▊| 1015/1020 [34:09<00:10,  2.01s/it]"
     ]
    },
    {
     "name": "stdout",
     "output_type": "stream",
     "text": [
      "003775106741744639467_SFO2_124_0015_patch_aligned_doseweighted_bin_2.mrc masked successfully!\n"
     ]
    },
    {
     "name": "stderr",
     "output_type": "stream",
     "text": [
      "\r",
      "100%|██████████████████████████████████████▊| 1016/1020 [34:11<00:08,  2.00s/it]"
     ]
    },
    {
     "name": "stdout",
     "output_type": "stream",
     "text": [
      "000802137075599465578_SFO2_123_0013_patch_aligned_doseweighted_bin_2.mrc masked successfully!\n"
     ]
    },
    {
     "name": "stderr",
     "output_type": "stream",
     "text": [
      "\r",
      "100%|██████████████████████████████████████▉| 1017/1020 [34:13<00:05,  2.00s/it]"
     ]
    },
    {
     "name": "stdout",
     "output_type": "stream",
     "text": [
      "016477291955647412460_SFO2_118_0033_patch_aligned_doseweighted_bin_2.mrc masked successfully!\n"
     ]
    },
    {
     "name": "stderr",
     "output_type": "stream",
     "text": [
      "\r",
      "100%|██████████████████████████████████████▉| 1018/1020 [34:15<00:04,  2.02s/it]"
     ]
    },
    {
     "name": "stdout",
     "output_type": "stream",
     "text": [
      "009876141435355160213_SFO2_102_0029_patch_aligned_doseweighted_bin_2.mrc masked successfully!\n"
     ]
    },
    {
     "name": "stderr",
     "output_type": "stream",
     "text": [
      "\r",
      "100%|██████████████████████████████████████▉| 1019/1020 [34:17<00:02,  2.01s/it]"
     ]
    },
    {
     "name": "stdout",
     "output_type": "stream",
     "text": [
      "014714805443551938676_SFO2_120_0030_patch_aligned_doseweighted_bin_2.mrc masked successfully!\n"
     ]
    },
    {
     "name": "stderr",
     "output_type": "stream",
     "text": [
      "100%|███████████████████████████████████████| 1020/1020 [34:19<00:00,  2.02s/it]"
     ]
    },
    {
     "name": "stdout",
     "output_type": "stream",
     "text": [
      "004502516048395429311_SFO2_107_0036_patch_aligned_doseweighted_bin_2.mrc masked successfully!\n"
     ]
    },
    {
     "name": "stderr",
     "output_type": "stream",
     "text": [
      "\n"
     ]
    }
   ],
   "source": [
    "# Create a list of all files in the current working directory\n",
    "os.chdir('/home/rkarimi/saxtal/pbs-apo_motioncorrected/rebin_output')\n",
    "# Run the loop to rebin all the pbs-apo motion corrected images\n",
    "for i in tqdm(os.listdir()):\n",
    "    if i != \"masked_output\":\n",
    "        mask_image(i, \n",
    "                   print_timestamps=False, \n",
    "                   sigma=9,\n",
    "                   quantile=0.99,\n",
    "                   x_window_percent=(0, 0.7),\n",
    "                   y_window_percent=(0, 1),\n",
    "                   replace_distance_percent=0.05)"
   ]
  },
  {
   "cell_type": "code",
   "execution_count": null,
   "id": "f0991ea7",
   "metadata": {},
   "outputs": [],
   "source": [
    "filename = \"000031220176720822115_SFO2_125_0011_patch_aligned_doseweighted_bin_2.mrc\"\n",
    "print_timestamps=True\n",
    "sigma=9\n",
    "quantile=0.975\n",
    "x_window_percent=(0, 0.7)\n",
    "y_window_percent=(0, 1)\n",
    "replace_distance_percent=0.05"
   ]
  },
  {
   "cell_type": "code",
   "execution_count": null,
   "id": "ca39de4d",
   "metadata": {},
   "outputs": [],
   "source": [
    "image, header = import_mrc(filename)\n",
    "padded_image = pad_image(image, header)\n",
    "padded_fft = scipy_fft(padded_image, print_timestamps)\n",
    "diff_spectrum, smoothed_spectrum = generate_diff_spectrum(padded_fft, sigma)\n",
    "diffraction_spots = find_diffraction_spots(diff_spectrum, quantile, x_window_percent, y_window_percent)\n",
    "masked_fft = replace_diffraction_spots(padded_fft, diffraction_spots, replace_distance_percent)\n",
    "padded_masked_image = scipy_inverse_fft(masked_fft, print_timestamps)\n",
    "masked_image = unpad_image(padded_masked_image, image.shape)"
   ]
  },
  {
   "cell_type": "code",
   "execution_count": null,
   "id": "58744751",
   "metadata": {},
   "outputs": [],
   "source": [
    "plt.matshow(rescale_intensity(image, in_range=(-1,1)),\n",
    "          cmap = \"Greys_r\",\n",
    "          )"
   ]
  },
  {
   "cell_type": "code",
   "execution_count": null,
   "id": "604bb5a1",
   "metadata": {},
   "outputs": [],
   "source": [
    "plt.matshow(np.log10(np.abs(padded_fft))[10:1000,10:1000],\n",
    "           cmap=\"Greys_r\")"
   ]
  },
  {
   "cell_type": "code",
   "execution_count": null,
   "id": "141d6f01",
   "metadata": {},
   "outputs": [],
   "source": [
    "plt.matshow(np.log10(np.abs(masked_fft)[10:1000,10:1000]),\n",
    "           cmap=\"Greys_r\")"
   ]
  },
  {
   "cell_type": "code",
   "execution_count": null,
   "id": "ea4eacd2",
   "metadata": {},
   "outputs": [],
   "source": [
    "plt.matshow(rescale_intensity(masked_image, in_range=(-1,1)),\n",
    "          cmap = \"Greys_r\",\n",
    "          )"
   ]
  },
  {
   "cell_type": "code",
   "execution_count": null,
   "id": "d0f74b9a",
   "metadata": {},
   "outputs": [],
   "source": []
  },
  {
   "cell_type": "code",
   "execution_count": null,
   "id": "14a8f38a",
   "metadata": {},
   "outputs": [],
   "source": []
  }
 ],
 "metadata": {
  "kernelspec": {
   "display_name": "Python 3 (ipykernel)",
   "language": "python",
   "name": "python3"
  },
  "language_info": {
   "codemirror_mode": {
    "name": "ipython",
    "version": 3
   },
   "file_extension": ".py",
   "mimetype": "text/x-python",
   "name": "python",
   "nbconvert_exporter": "python",
   "pygments_lexer": "ipython3",
   "version": "3.10.8"
  }
 },
 "nbformat": 4,
 "nbformat_minor": 5
}
