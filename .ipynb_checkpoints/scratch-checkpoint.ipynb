{
 "cells": [
  {
   "cell_type": "code",
   "execution_count": 1,
   "id": "b3922773",
   "metadata": {},
   "outputs": [],
   "source": [
    "import saxtal_functions as sax"
   ]
  },
  {
   "cell_type": "code",
   "execution_count": 7,
   "id": "8b44c65f",
   "metadata": {},
   "outputs": [],
   "source": [
    "filename = 'test_image_bin_2.mrc'\n",
    "threshold_method = 'sd'\n",
    "verbose = True\n",
    "threads = 12\n",
    "sigma = 9\n",
    "sd = 3.0\n",
    "x_window_percent=(0, 0.7)\n",
    "y_window_percent=(0, 0.7)\n",
    "replace_distance_percent=0.05"
   ]
  },
  {
   "cell_type": "code",
   "execution_count": 3,
   "id": "d0858e24",
   "metadata": {},
   "outputs": [
    {
     "name": "stdout",
     "output_type": "stream",
     "text": [
      "def scipy_fft(image, print_timestamps=False, threads=1):\n",
      "    \"\"\"Take padded image from pad_image() and return the FFT\"\"\"\n",
      "    \n",
      "    # Record the time it takes to do the FFT\n",
      "    # for later comparison with multi-threaded FFTW\n",
      "    \n",
      "    # Start the timer\n",
      "    start_time = time.time()\n",
      "    \n",
      "    # Perform the FFT\n",
      "    padded_fft = sfft.rfft2(image,\n",
      "                            s=(np.max(image.shape), np.max(image.shape)),\n",
      "                            workers=threads)\n",
      "    \n",
      "    # Stop the timer\n",
      "    end_time = time.time()\n",
      "    \n",
      "    if print_timestamps:\n",
      "        # Print the elapsed time to the nearest hundreth of a millisecond\n",
      "        print(\"scipy_fft(): FFT performed in\", np.round((end_time-start_time)*1000, 2), \"milliseconds.\")\n",
      "    \n",
      "    # Return FFT of padded image\n",
      "    return padded_fft\n",
      "\n"
     ]
    }
   ],
   "source": [
    "# Handy utility to inspect source of a function.\n",
    "\n",
    "import inspect\n",
    "lines = inspect.getsource(sax.scipy_fft)\n",
    "print(lines)"
   ]
  },
  {
   "cell_type": "code",
   "execution_count": 8,
   "id": "7015bc28",
   "metadata": {
    "scrolled": true
   },
   "outputs": [
    {
     "name": "stdout",
     "output_type": "stream",
     "text": [
      "scipy_fft(): FFT performed in 162.59 milliseconds.\n"
     ]
    },
    {
     "ename": "TypeError",
     "evalue": "'float' object is not subscriptable",
     "output_type": "error",
     "traceback": [
      "\u001b[0;31m---------------------------------------------------------------------------\u001b[0m",
      "\u001b[0;31mTypeError\u001b[0m                                 Traceback (most recent call last)",
      "Cell \u001b[0;32mIn [8], line 1\u001b[0m\n\u001b[0;32m----> 1\u001b[0m \u001b[43msax\u001b[49m\u001b[38;5;241;43m.\u001b[39;49m\u001b[43mmask_image\u001b[49m\u001b[43m(\u001b[49m\u001b[43mfilename\u001b[49m\u001b[43m,\u001b[49m\u001b[43m \u001b[49m\u001b[43mthreshold_method\u001b[49m\u001b[43m,\u001b[49m\u001b[43m \u001b[49m\u001b[43mverbose\u001b[49m\u001b[43m,\u001b[49m\u001b[43m \u001b[49m\u001b[43mthreads\u001b[49m\u001b[43m,\u001b[49m\u001b[43m \u001b[49m\u001b[43msigma\u001b[49m\u001b[43m,\u001b[49m\u001b[43m \u001b[49m\u001b[43msd\u001b[49m\u001b[43m,\u001b[49m\u001b[43m \u001b[49m\u001b[43mx_window_percent\u001b[49m\u001b[43m,\u001b[49m\u001b[43m \u001b[49m\u001b[43my_window_percent\u001b[49m\u001b[43m,\u001b[49m\u001b[43m \u001b[49m\u001b[43mreplace_distance_percent\u001b[49m\u001b[43m)\u001b[49m\n",
      "File \u001b[0;32m~/saxtal/saxtal_functions.py:322\u001b[0m, in \u001b[0;36mmask_image\u001b[0;34m(filename, threshold_method, verbose, threads, sigma, quantile, sd, x_window_percent, y_window_percent, replace_distance_percent)\u001b[0m\n\u001b[1;32m    320\u001b[0m     diffraction_spots \u001b[38;5;241m=\u001b[39m find_diffraction_spots_quantile(diff_spectrum, quantile, x_window_percent, y_window_percent)\n\u001b[1;32m    321\u001b[0m \u001b[38;5;28;01mif\u001b[39;00m threshold_method \u001b[38;5;241m==\u001b[39m \u001b[38;5;124m\"\u001b[39m\u001b[38;5;124msd\u001b[39m\u001b[38;5;124m\"\u001b[39m:\n\u001b[0;32m--> 322\u001b[0m     diffraction_spots \u001b[38;5;241m=\u001b[39m \u001b[43mfind_diffraction_spots_sd\u001b[49m\u001b[43m(\u001b[49m\u001b[43mdiff_spectrum\u001b[49m\u001b[43m,\u001b[49m\u001b[43m \u001b[49m\u001b[43msd\u001b[49m\u001b[43m,\u001b[49m\u001b[43m \u001b[49m\u001b[43mx_window_percent\u001b[49m\u001b[43m,\u001b[49m\u001b[43m \u001b[49m\u001b[43my_window_percent\u001b[49m\u001b[43m)\u001b[49m\n\u001b[1;32m    323\u001b[0m \u001b[38;5;28;01melse\u001b[39;00m:\n\u001b[1;32m    324\u001b[0m     \u001b[38;5;28mprint\u001b[39m(\u001b[38;5;124m\"\u001b[39m\u001b[38;5;124mNo thresholding method specificed. Please specify a method using the threshold_method parameter.\u001b[39m\u001b[38;5;124m\"\u001b[39m)\n",
      "File \u001b[0;32m~/saxtal/saxtal_functions.py:166\u001b[0m, in \u001b[0;36mfind_diffraction_spots_sd\u001b[0;34m(diff_spectrum, sd, x_window_percent, y_window_percent)\u001b[0m\n\u001b[1;32m    159\u001b[0m \u001b[38;5;124;03m\"\"\"\u001b[39;00m\n\u001b[1;32m    160\u001b[0m \u001b[38;5;124;03mTake a difference spectrum and find outliers past a certain number of SDs from the mean,\u001b[39;00m\n\u001b[1;32m    161\u001b[0m \u001b[38;5;124;03mtaking a user-defined window of the FFT.\u001b[39;00m\n\u001b[1;32m    162\u001b[0m \u001b[38;5;124;03m\"\"\"\u001b[39;00m\n\u001b[1;32m    164\u001b[0m \u001b[38;5;66;03m# Define minimum and maximum indices of the window\u001b[39;00m\n\u001b[0;32m--> 166\u001b[0m y_min \u001b[38;5;241m=\u001b[39m \u001b[38;5;28mint\u001b[39m(diff_spectrum\u001b[38;5;241m.\u001b[39mshape[\u001b[38;5;241m0\u001b[39m]\u001b[38;5;241m*\u001b[39m\u001b[43my_window_percent\u001b[49m\u001b[43m[\u001b[49m\u001b[38;5;241;43m0\u001b[39;49m\u001b[43m]\u001b[49m)\n\u001b[1;32m    167\u001b[0m y_max \u001b[38;5;241m=\u001b[39m \u001b[38;5;28mint\u001b[39m(diff_spectrum\u001b[38;5;241m.\u001b[39mshape[\u001b[38;5;241m0\u001b[39m]\u001b[38;5;241m*\u001b[39my_window_percent[\u001b[38;5;241m1\u001b[39m])\n\u001b[1;32m    168\u001b[0m x_min \u001b[38;5;241m=\u001b[39m \u001b[38;5;28mint\u001b[39m(diff_spectrum\u001b[38;5;241m.\u001b[39mshape[\u001b[38;5;241m1\u001b[39m]\u001b[38;5;241m*\u001b[39mx_window_percent[\u001b[38;5;241m0\u001b[39m])\n",
      "\u001b[0;31mTypeError\u001b[0m: 'float' object is not subscriptable"
     ]
    }
   ],
   "source": [
    "sax.mask_image(filename, threshold_method, verbose, threads, sigma, sd, x_window_percent, y_window_percent, replace_distance_percent)"
   ]
  },
  {
   "cell_type": "code",
   "execution_count": 9,
   "id": "aceffd7f",
   "metadata": {},
   "outputs": [],
   "source": [
    "image, header = sax.import_mrc(filename)"
   ]
  },
  {
   "cell_type": "code",
   "execution_count": 10,
   "id": "4ba5fda9",
   "metadata": {},
   "outputs": [
    {
     "name": "stdout",
     "output_type": "stream",
     "text": [
      "scipy_fft(): FFT performed in 186.52 milliseconds.\n"
     ]
    }
   ],
   "source": [
    "padded_fft = sax.scipy_fft(image, verbose, 12)"
   ]
  }
 ],
 "metadata": {
  "kernelspec": {
   "display_name": "Python 3 (ipykernel)",
   "language": "python",
   "name": "python3"
  },
  "language_info": {
   "codemirror_mode": {
    "name": "ipython",
    "version": 3
   },
   "file_extension": ".py",
   "mimetype": "text/x-python",
   "name": "python",
   "nbconvert_exporter": "python",
   "pygments_lexer": "ipython3",
   "version": "3.10.8"
  }
 },
 "nbformat": 4,
 "nbformat_minor": 5
}
