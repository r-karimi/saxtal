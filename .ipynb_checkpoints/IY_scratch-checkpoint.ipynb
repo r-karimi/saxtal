{
 "cells": [
  {
   "cell_type": "code",
   "execution_count": 1,
   "id": "41ffbea1",
   "metadata": {},
   "outputs": [],
   "source": [
    "import saxtal_functions as sax\n",
    "import matplotlib.pyplot as plt\n",
    "import numpy as np\n",
    "from tqdm import tqdm"
   ]
  },
  {
   "cell_type": "code",
   "execution_count": 5,
   "id": "19801d6f",
   "metadata": {},
   "outputs": [],
   "source": [
    "filename = 'SFO2_118_0019_bin_2.mrc'\n",
    "threshold_method = 'sd'\n",
    "verbose = True\n",
    "threads = 12\n",
    "sigma = 9\n",
    "quantile=0.9999\n",
    "num_sd = 3.0\n",
    "x_window_percent=(0.005, 0.7)\n",
    "y_window_percent=(0.005, 0.7)\n",
    "\n",
    "# spare the ice ring\n",
    "# x_window_percent=(0.005, 0.4)\n",
    "# y_window_percent=(0.005, 0.2)\n",
    "\n",
    "replace_distance_percent=0.05"
   ]
  },
  {
   "cell_type": "code",
   "execution_count": null,
   "id": "2dd7ac3d",
   "metadata": {},
   "outputs": [],
   "source": [
    "image, header = sax.import_mrc(filename)"
   ]
  },
  {
   "cell_type": "code",
   "execution_count": null,
   "id": "f52cba56",
   "metadata": {},
   "outputs": [],
   "source": [
    "padded_fft = sax.scipy_fft(image, verbose, 12)"
   ]
  },
  {
   "cell_type": "code",
   "execution_count": null,
   "id": "6b6f99aa",
   "metadata": {},
   "outputs": [],
   "source": []
  }
 ],
 "metadata": {
  "kernelspec": {
   "display_name": "Python 3 (ipykernel)",
   "language": "python",
   "name": "python3"
  },
  "language_info": {
   "codemirror_mode": {
    "name": "ipython",
    "version": 3
   },
   "file_extension": ".py",
   "mimetype": "text/x-python",
   "name": "python",
   "nbconvert_exporter": "python",
   "pygments_lexer": "ipython3",
   "version": "3.10.8"
  }
 },
 "nbformat": 4,
 "nbformat_minor": 5
}
