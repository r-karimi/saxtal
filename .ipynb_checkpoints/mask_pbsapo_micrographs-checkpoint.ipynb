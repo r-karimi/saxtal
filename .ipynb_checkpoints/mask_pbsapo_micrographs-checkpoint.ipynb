{
 "cells": [
  {
   "cell_type": "code",
   "execution_count": 1,
   "id": "e7654400",
   "metadata": {},
   "outputs": [],
   "source": [
    "import saxtal_functions as sax\n",
    "import matplotlib.pyplot as plt\n",
    "import numpy as np\n",
    "from tqdm import tqdm, trange\n",
    "import os\n",
    "from funcs_mrcio import iwrhdr_opened, irdhdr_opened, iwrsec_opened, irdsec_opened"
   ]
  },
  {
   "cell_type": "code",
   "execution_count": 2,
   "id": "8f6a30ae",
   "metadata": {},
   "outputs": [],
   "source": [
    "threshold_method='sd' \n",
    "pixel_size = 1.048\n",
    "threads=16\n",
    "sigma=15 \n",
    "num_sd=3.0\n",
    "num_sd_secondpass=2.0\n",
    "x_window_percent=(0.005, 0.7)\n",
    "y_window_percent=(0, 0.995)\n",
    "miller_index_buffer=0\n",
    "box_radius=10\n",
    "min_lattice_size=8\n",
    "mask_hotpixels=False\n",
    "mask_radius=4\n",
    "replace_distance_percent=0.05\n",
    "return_spots=False\n",
    "return_stats=False"
   ]
  },
  {
   "cell_type": "code",
   "execution_count": 3,
   "id": "75164ebd",
   "metadata": {},
   "outputs": [],
   "source": [
    "os.chdir('/home/rkarimi/saxtal/pbs-apo_100/')"
   ]
  },
  {
   "cell_type": "code",
   "execution_count": 4,
   "id": "3652d07e",
   "metadata": {
    "scrolled": true
   },
   "outputs": [],
   "source": [
    "movie_filenames_in = [\"mrc/\" + str(x) for x in os.listdir('mrc')]\n",
    "movie_filenames_in.sort()"
   ]
  },
  {
   "cell_type": "code",
   "execution_count": 5,
   "id": "6feebbc5",
   "metadata": {},
   "outputs": [],
   "source": [
    "movie_filenames_out = [\"mrc_masked/\" + str(x) for x in os.listdir('mrc')]\n",
    "movie_filenames_out.sort()"
   ]
  },
  {
   "cell_type": "code",
   "execution_count": 6,
   "id": "5d4113c1",
   "metadata": {},
   "outputs": [],
   "source": [
    "micrograph_filenames_in = [\"micrograph/\" + str(x) for x in os.listdir('micrograph')]\n",
    "micrograph_filenames_in.sort()\n",
    "micrograph_filenames_in = micrograph_filenames_in[-50:]"
   ]
  },
  {
   "cell_type": "code",
   "execution_count": null,
   "id": "fb788bfb",
   "metadata": {},
   "outputs": [
    {
     "name": "stderr",
     "output_type": "stream",
     "text": [
      "\r",
      "0it [00:00, ?it/s]"
     ]
    },
    {
     "name": "stdout",
     "output_type": "stream",
     "text": [
      "scipy_fft(): FFT performed in 88.13 milliseconds.\n",
      "Number of first-pass spots found: 206\n",
      "Starting basis: [[ 89 -58]\n",
      " [ 57  89]]\n",
      "Starting basis size: 22455\n",
      "Running basis shortening...\n",
      "The angle between the basis vectors is: 90.45419235439675\n",
      "[-58  89] is larger than [89 57]\n",
      "The updated basis vectors are [ 31 146][89 57]\n",
      "This run resulted in a basis larger than the last: 33447\n",
      "Terminating loop.\n",
      "------------------------------------\n",
      "Starting basis: [[ 89 -58]\n",
      " [ 57  89]]\n",
      "Refined_basis: [[ 88.92562212 -58.14707437]\n",
      " [ 56.86592045  89.1532475 ]]\n"
     ]
    },
    {
     "name": "stderr",
     "output_type": "stream",
     "text": [
      "/home/rkarimi/anaconda3/envs/saxtal/lib/python3.10/site-packages/numpy/core/fromnumeric.py:3432: RuntimeWarning: Mean of empty slice.\n",
      "  return _methods._mean(a, axis=axis, dtype=dtype,\n",
      "/home/rkarimi/anaconda3/envs/saxtal/lib/python3.10/site-packages/numpy/core/_methods.py:190: RuntimeWarning: invalid value encountered in divide\n",
      "  ret = ret.dtype.type(ret / rcount)\n",
      "/home/rkarimi/anaconda3/envs/saxtal/lib/python3.10/site-packages/numpy/core/_methods.py:265: RuntimeWarning: Degrees of freedom <= 0 for slice\n",
      "  ret = _var(a, axis=axis, dtype=dtype, out=out, ddof=ddof,\n",
      "/home/rkarimi/anaconda3/envs/saxtal/lib/python3.10/site-packages/numpy/core/_methods.py:223: RuntimeWarning: invalid value encountered in divide\n",
      "  arrmean = um.true_divide(arrmean, div, out=arrmean, casting='unsafe',\n",
      "/home/rkarimi/anaconda3/envs/saxtal/lib/python3.10/site-packages/numpy/core/_methods.py:257: RuntimeWarning: invalid value encountered in divide\n",
      "  ret = ret.dtype.type(ret / rcount)\n"
     ]
    },
    {
     "name": "stdout",
     "output_type": "stream",
     "text": [
      "Starting basis: [[-147  326]\n",
      " [  36   77]]\n",
      "Starting basis size: 135110\n",
      "Running basis shortening...\n",
      "The angle between the basis vectors is: 152.94972423322557\n",
      "[326  77] is larger than [-147   36]\n",
      "The updated basis vectors are [179 113][-147   36]\n",
      "This run resulted in a basis smaller than the last: 67715\n",
      "The updated basis vectors are: [[ 179 -147]\n",
      " [ 113   36]]\n",
      "------------------------------------\n",
      "Running basis shortening...\n",
      "The angle between the basis vectors is: 133.9756150930066\n",
      "[179 113] is larger than [-147   36]\n",
      "The updated basis vectors are [ 32 149][-147   36]\n",
      "This run resulted in a basis smaller than the last: 46130\n",
      "The updated basis vectors are: [[  32 -147]\n",
      " [ 149   36]]\n",
      "------------------------------------\n",
      "Running basis shortening...\n",
      "The angle between the basis vectors is: 88.36023034079452\n",
      "[ 32 149] is larger than [-147   36]\n",
      "The updated basis vectors are [179 113][-147   36]\n",
      "This run resulted in a basis larger than the last: 67715\n",
      "Terminating loop.\n",
      "------------------------------------\n",
      "Lattice has less than 8 points. Terminating function.\n",
      "scipy_batch_fft(): FFT performed in 3238.85 milliseconds.\n",
      "scipy_batch_fft(): 64.78 milliseconds per frame.\n",
      "scipy_inverse_batch_fft(): iFFT performed in 4201.64 milliseconds.\n",
      "scipy_inverse_batch_fft(): 84.03 milliseconds per frame.\n",
      "Export complete!\n",
      "mrc_masked/SFO2_101_0015_bin2.mrc masked successfully!\n"
     ]
    },
    {
     "name": "stderr",
     "output_type": "stream",
     "text": [
      "\r",
      "1it [00:41, 41.47s/it]"
     ]
    },
    {
     "name": "stdout",
     "output_type": "stream",
     "text": [
      "scipy_fft(): FFT performed in 92.39 milliseconds.\n",
      "Number of first-pass spots found: 197\n",
      "Starting basis: [[-59  89]\n",
      " [ 89  56]]\n",
      "Starting basis size: 22459\n",
      "Running basis shortening...\n",
      "The angle between the basis vectors is: 91.36259144752172\n",
      "[-59  89] is larger than [89 56]\n",
      "The updated basis vectors are [ 30 145][89 56]\n",
      "This run resulted in a basis larger than the last: 32982\n",
      "Terminating loop.\n",
      "------------------------------------\n",
      "Starting basis: [[-59  89]\n",
      " [ 89  56]]\n",
      "Refined_basis: [[-58.98151951  88.87748118]\n",
      " [ 88.79145502  56.27861234]]\n",
      "Lattice has less than 8 candidate basis vectors during first pass. Terminating function.\n",
      "scipy_batch_fft(): FFT performed in 3219.14 milliseconds.\n",
      "scipy_batch_fft(): 64.38 milliseconds per frame.\n",
      "scipy_inverse_batch_fft(): iFFT performed in 4166.96 milliseconds.\n",
      "scipy_inverse_batch_fft(): 83.34 milliseconds per frame.\n",
      "Export complete!\n",
      "mrc_masked/SFO2_101_0016_bin2.mrc masked successfully!\n"
     ]
    },
    {
     "name": "stderr",
     "output_type": "stream",
     "text": [
      "\r",
      "2it [01:22, 41.17s/it]"
     ]
    },
    {
     "name": "stdout",
     "output_type": "stream",
     "text": [
      "scipy_fft(): FFT performed in 92.24 milliseconds.\n",
      "Number of first-pass spots found: 211\n",
      "Starting basis: [[ 56 -89]\n",
      " [ 90  56]]\n",
      "Starting basis size: 22293\n",
      "Running basis shortening...\n",
      "The angle between the basis vectors is: 89.71213559524463\n",
      "[56 90] is larger than [-89  56]\n",
      "The updated basis vectors are [145  34][-89  56]\n",
      "This run resulted in a basis larger than the last: 33238\n",
      "Terminating loop.\n",
      "------------------------------------\n",
      "Starting basis: [[ 56 -89]\n",
      " [ 90  56]]\n",
      "Refined_basis: [[ 55.86181835 -88.8774661 ]\n",
      " [ 90.03743996  56.28968013]]\n",
      "Lattice has less than 8 candidate basis vectors during first pass. Terminating function.\n",
      "scipy_batch_fft(): FFT performed in 3211.07 milliseconds.\n",
      "scipy_batch_fft(): 64.22 milliseconds per frame.\n",
      "scipy_inverse_batch_fft(): iFFT performed in 4211.78 milliseconds.\n",
      "scipy_inverse_batch_fft(): 84.24 milliseconds per frame.\n",
      "Export complete!\n",
      "mrc_masked/SFO2_101_0017_bin2.mrc masked successfully!\n"
     ]
    },
    {
     "name": "stderr",
     "output_type": "stream",
     "text": [
      "\r",
      "3it [02:03, 41.23s/it]"
     ]
    },
    {
     "name": "stdout",
     "output_type": "stream",
     "text": [
      "scipy_fft(): FFT performed in 92.6 milliseconds.\n",
      "Number of first-pass spots found: 207\n",
      "Starting basis: [[ 56 -33]\n",
      " [ 90 147]]\n",
      "Starting basis size: 33934\n",
      "Running basis shortening...\n",
      "The angle between the basis vectors is: 44.54334830240368\n",
      "[-33 147] is larger than [56 90]\n",
      "The updated basis vectors are [-89  57][56 90]\n",
      "This run resulted in a basis smaller than the last: 22406\n",
      "The updated basis vectors are: [[-89  56]\n",
      " [ 57  90]]\n",
      "------------------------------------\n",
      "Running basis shortening...\n",
      "The angle between the basis vectors is: 89.25328421756002\n",
      "[56 90] is larger than [-89  57]\n",
      "The updated basis vectors are [145  33][-89  57]\n",
      "This run resulted in a basis larger than the last: 33284\n",
      "Terminating loop.\n",
      "------------------------------------\n",
      "Starting basis: [[-89  56]\n",
      " [ 57  90]]\n",
      "Refined_basis: [[-88.75475657  55.8770134 ]\n",
      " [ 56.66062865  89.95461061]]\n",
      "Lattice has less than 8 candidate basis vectors during first pass. Terminating function.\n",
      "scipy_batch_fft(): FFT performed in 3204.5 milliseconds.\n",
      "scipy_batch_fft(): 64.09 milliseconds per frame.\n",
      "scipy_inverse_batch_fft(): iFFT performed in 4196.27 milliseconds.\n",
      "scipy_inverse_batch_fft(): 83.93 milliseconds per frame.\n",
      "Export complete!\n",
      "mrc_masked/SFO2_101_0018_bin2.mrc masked successfully!\n"
     ]
    },
    {
     "name": "stderr",
     "output_type": "stream",
     "text": [
      "\r",
      "4it [02:44, 41.20s/it]"
     ]
    },
    {
     "name": "stdout",
     "output_type": "stream",
     "text": [
      "scipy_fft(): FFT performed in 90.01 milliseconds.\n",
      "Number of first-pass spots found: 202\n",
      "Starting basis: [[-33  56]\n",
      " [147  90]]\n",
      "Starting basis size: 33934\n",
      "Running basis shortening...\n",
      "The angle between the basis vectors is: 44.54334830240368\n",
      "[-33 147] is larger than [56 90]\n",
      "The updated basis vectors are [-89  57][56 90]\n",
      "This run resulted in a basis smaller than the last: 22406\n",
      "The updated basis vectors are: [[-89  56]\n",
      " [ 57  90]]\n",
      "------------------------------------\n",
      "Running basis shortening...\n",
      "The angle between the basis vectors is: 89.25328421756002\n",
      "[56 90] is larger than [-89  57]\n",
      "The updated basis vectors are [145  33][-89  57]\n",
      "This run resulted in a basis larger than the last: 33284\n",
      "Terminating loop.\n",
      "------------------------------------\n",
      "Starting basis: [[-89  56]\n",
      " [ 57  90]]\n",
      "Refined_basis: [[-89.00299136  55.90282437]\n",
      " [ 57.05374283  89.9982865 ]]\n",
      "Lattice has less than 8 candidate basis vectors during first pass. Terminating function.\n",
      "scipy_batch_fft(): FFT performed in 3196.12 milliseconds.\n",
      "scipy_batch_fft(): 63.92 milliseconds per frame.\n",
      "scipy_inverse_batch_fft(): iFFT performed in 4240.71 milliseconds.\n",
      "scipy_inverse_batch_fft(): 84.81 milliseconds per frame.\n",
      "Export complete!\n",
      "mrc_masked/SFO2_101_0019_bin2.mrc masked successfully!\n"
     ]
    },
    {
     "name": "stderr",
     "output_type": "stream",
     "text": [
      "\r",
      "5it [03:25, 41.11s/it]"
     ]
    },
    {
     "name": "stdout",
     "output_type": "stream",
     "text": [
      "scipy_fft(): FFT performed in 95.5 milliseconds.\n",
      "Number of first-pass spots found: 198\n",
      "Starting basis: [[-96  48]\n",
      " [ 45  94]]\n",
      "Starting basis size: 22381\n",
      "Running basis shortening...\n",
      "The angle between the basis vectors is: 91.93576212094156\n",
      "[-96  45] is larger than [48 94]\n",
      "The updated basis vectors are [-48 139][48 94]\n",
      "This run resulted in a basis larger than the last: 32765\n",
      "Terminating loop.\n",
      "------------------------------------\n",
      "Starting basis: [[-96  48]\n",
      " [ 45  94]]\n",
      "Refined_basis: [[-95.85438742  47.70635285]\n",
      " [ 45.2760877   94.16261536]]\n",
      "Lattice has less than 8 candidate basis vectors during first pass. Terminating function.\n",
      "scipy_batch_fft(): FFT performed in 3202.71 milliseconds.\n",
      "scipy_batch_fft(): 64.05 milliseconds per frame.\n",
      "scipy_inverse_batch_fft(): iFFT performed in 4123.79 milliseconds.\n",
      "scipy_inverse_batch_fft(): 82.48 milliseconds per frame.\n",
      "Export complete!\n",
      "mrc_masked/SFO2_101_0021_bin2.mrc masked successfully!\n"
     ]
    },
    {
     "name": "stderr",
     "output_type": "stream",
     "text": [
      "\r",
      "6it [04:06, 41.08s/it]"
     ]
    },
    {
     "name": "stdout",
     "output_type": "stream",
     "text": [
      "scipy_fft(): FFT performed in 94.41 milliseconds.\n",
      "Number of first-pass spots found: 176\n",
      "Starting basis: [[-96  48]\n",
      " [ 46  94]]\n",
      "Starting basis size: 22472\n",
      "Running basis shortening...\n",
      "The angle between the basis vectors is: 91.44840945564435\n",
      "[-96  46] is larger than [48 94]\n",
      "The updated basis vectors are [-48 140][48 94]\n",
      "This run resulted in a basis larger than the last: 33044\n",
      "Terminating loop.\n",
      "------------------------------------\n",
      "Starting basis: [[-96  48]\n",
      " [ 46  94]]\n",
      "Refined_basis: [[-95.58678297  47.70695045]\n",
      " [ 46.02531752  93.72862526]]\n",
      "Lattice has less than 8 candidate basis vectors during first pass. Terminating function.\n",
      "scipy_batch_fft(): FFT performed in 3191.29 milliseconds.\n",
      "scipy_batch_fft(): 63.83 milliseconds per frame.\n",
      "scipy_inverse_batch_fft(): iFFT performed in 4115.58 milliseconds.\n",
      "scipy_inverse_batch_fft(): 82.31 milliseconds per frame.\n",
      "Export complete!\n",
      "mrc_masked/SFO2_101_0022_bin2.mrc masked successfully!\n"
     ]
    },
    {
     "name": "stderr",
     "output_type": "stream",
     "text": [
      "\r",
      "7it [04:48, 41.15s/it]"
     ]
    },
    {
     "name": "stdout",
     "output_type": "stream",
     "text": [
      "scipy_fft(): FFT performed in 94.67 milliseconds.\n",
      "Number of first-pass spots found: 217\n",
      "Starting basis: [[-96  47]\n",
      " [ 47  94]]\n",
      "Starting basis size: 22470\n",
      "Running basis shortening...\n",
      "The angle between the basis vectors is: 90.47945139879657\n",
      "[-96  47] is larger than [47 94]\n",
      "The updated basis vectors are [-49 141][47 94]\n",
      "This run resulted in a basis larger than the last: 33327\n",
      "Terminating loop.\n",
      "------------------------------------\n",
      "Starting basis: [[-96  47]\n",
      " [ 47  94]]\n",
      "Refined_basis: [[-95.90780314  47.25205666]\n",
      " [ 46.83399049  93.90869558]]\n",
      "Starting basis: [[-193 -432]\n",
      " [ 557  558]]\n",
      "Starting basis size: 845486\n",
      "Running basis shortening...\n",
      "The angle between the basis vectors is: 18.635650220842336\n",
      "[-432  558] is larger than [-193  557]\n",
      "The updated basis vectors are [-239    1][-193  557]\n",
      "This run resulted in a basis smaller than the last: 404620\n",
      "The updated basis vectors are: [[-239 -193]\n",
      " [   1  557]]\n",
      "------------------------------------\n",
      "Running basis shortening...\n",
      "The angle between the basis vectors is: 70.6491149374868\n",
      "[-193  557] is larger than [-239    1]\n",
      "The updated basis vectors are [ 46 556][-239    1]\n",
      "This run resulted in a basis smaller than the last: 368374\n",
      "The updated basis vectors are: [[  46 -239]\n",
      " [ 556    1]]\n",
      "------------------------------------\n",
      "Running basis shortening...\n",
      "The angle between the basis vectors is: 94.48979701480474\n",
      "[ 46 556] is larger than [-239    1]\n",
      "The updated basis vectors are [-193  557][-239    1]\n",
      "This run resulted in a basis larger than the last: 404620\n",
      "Terminating loop.\n",
      "------------------------------------\n",
      "Lattice has less than 8 points. Terminating function.\n",
      "scipy_batch_fft(): FFT performed in 3195.68 milliseconds.\n",
      "scipy_batch_fft(): 63.91 milliseconds per frame.\n",
      "scipy_inverse_batch_fft(): iFFT performed in 4128.58 milliseconds.\n",
      "scipy_inverse_batch_fft(): 82.57 milliseconds per frame.\n",
      "Export complete!\n",
      "mrc_masked/SFO2_101_0023_bin2.mrc masked successfully!\n"
     ]
    },
    {
     "name": "stderr",
     "output_type": "stream",
     "text": [
      "\r",
      "8it [05:29, 41.06s/it]"
     ]
    },
    {
     "name": "stdout",
     "output_type": "stream",
     "text": [
      "scipy_fft(): FFT performed in 89.84 milliseconds.\n",
      "Number of first-pass spots found: 203\n",
      "Starting basis: [[-96  47]\n",
      " [ 46  94]]\n",
      "Starting basis size: 22377\n",
      "Running basis shortening...\n",
      "The angle between the basis vectors is: 90.96286362563622\n",
      "[-96  46] is larger than [47 94]\n",
      "The updated basis vectors are [-49 140][47 94]\n",
      "This run resulted in a basis larger than the last: 33046\n",
      "Terminating loop.\n",
      "------------------------------------\n",
      "Starting basis: [[-96  47]\n",
      " [ 46  94]]\n",
      "Refined_basis: [[-96.23618279  47.42834977]\n",
      " [ 46.02497223  93.89503168]]\n",
      "Lattice has less than 8 candidate basis vectors during first pass. Terminating function.\n",
      "scipy_batch_fft(): FFT performed in 3218.75 milliseconds.\n",
      "scipy_batch_fft(): 64.38 milliseconds per frame.\n",
      "scipy_inverse_batch_fft(): iFFT performed in 4221.9 milliseconds.\n",
      "scipy_inverse_batch_fft(): 84.44 milliseconds per frame.\n",
      "Export complete!\n",
      "mrc_masked/SFO2_101_0024_bin2.mrc masked successfully!\n"
     ]
    },
    {
     "name": "stderr",
     "output_type": "stream",
     "text": [
      "\r",
      "9it [06:09, 41.03s/it]"
     ]
    },
    {
     "name": "stdout",
     "output_type": "stream",
     "text": [
      "scipy_fft(): FFT performed in 91.68 milliseconds.\n",
      "Number of first-pass spots found: 100\n",
      "Starting basis: [[ 48 -95]\n",
      " [ 95  47]]\n",
      "Starting basis size: 22563\n",
      "Running basis shortening...\n",
      "The angle between the basis vectors is: 90.4824900619899\n",
      "[48 95] is larger than [-95  47]\n",
      "The updated basis vectors are [-47 142][-95  47]\n",
      "This run resulted in a basis larger than the last: 33607\n",
      "Terminating loop.\n",
      "------------------------------------\n",
      "Starting basis: [[ 48 -95]\n",
      " [ 95  47]]\n",
      "Refined_basis: [[ 47.72143454 -94.53462862]\n",
      " [ 95.21215746  47.37233794]]\n",
      "Lattice has less than 8 candidate basis vectors during first pass. Terminating function.\n",
      "scipy_batch_fft(): FFT performed in 3210.21 milliseconds.\n",
      "scipy_batch_fft(): 64.2 milliseconds per frame.\n",
      "scipy_inverse_batch_fft(): iFFT performed in 4250.35 milliseconds.\n",
      "scipy_inverse_batch_fft(): 85.01 milliseconds per frame.\n",
      "Export complete!\n",
      "mrc_masked/SFO2_101_0025_bin2.mrc masked successfully!\n"
     ]
    },
    {
     "name": "stderr",
     "output_type": "stream",
     "text": [
      "\r",
      "10it [06:51, 41.10s/it]"
     ]
    },
    {
     "name": "stdout",
     "output_type": "stream",
     "text": [
      "scipy_fft(): FFT performed in 90.46 milliseconds.\n",
      "Number of first-pass spots found: 103\n",
      "Starting basis: [[-94  48]\n",
      " [ 48  94]]\n",
      "Starting basis size: 22280\n",
      "Running basis shortening...\n",
      "The angle between the basis vectors is: 90.0\n",
      "[-94  48] is larger than [-94  48]\n",
      "The updated basis vectors are [-94  48][-94  48]\n",
      "This run resulted in a basis larger than the last: 22280\n",
      "Terminating loop.\n",
      "------------------------------------\n",
      "Starting basis: [[-94  48]\n",
      " [ 48  94]]\n",
      "Refined_basis: [[-93.85152943  47.79937705]\n",
      " [ 47.69243671  94.27681495]]\n",
      "Lattice has less than 8 candidate basis vectors during first pass. Terminating function.\n",
      "scipy_batch_fft(): FFT performed in 3202.87 milliseconds.\n",
      "scipy_batch_fft(): 64.06 milliseconds per frame.\n",
      "scipy_inverse_batch_fft(): iFFT performed in 4144.45 milliseconds.\n",
      "scipy_inverse_batch_fft(): 82.89 milliseconds per frame.\n",
      "Export complete!\n",
      "mrc_masked/SFO2_101_0026_bin2.mrc masked successfully!\n"
     ]
    },
    {
     "name": "stderr",
     "output_type": "stream",
     "text": [
      "\r",
      "11it [07:32, 41.10s/it]"
     ]
    },
    {
     "name": "stdout",
     "output_type": "stream",
     "text": [
      "scipy_fft(): FFT performed in 92.94 milliseconds.\n",
      "Number of first-pass spots found: 159\n",
      "Starting basis: [[-94  48]\n",
      " [ 48  94]]\n",
      "Starting basis size: 22280\n",
      "Running basis shortening...\n",
      "The angle between the basis vectors is: 90.0\n",
      "[-94  48] is larger than [-94  48]\n",
      "The updated basis vectors are [-94  48][-94  48]\n",
      "This run resulted in a basis larger than the last: 22280\n",
      "Terminating loop.\n",
      "------------------------------------\n",
      "Starting basis: [[-94  48]\n",
      " [ 48  94]]\n",
      "Refined_basis: [[-93.96840119  47.74775979]\n",
      " [ 48.03843735  94.07003616]]\n",
      "Starting basis: [[-48 -94]\n",
      " [147  53]]\n",
      "Starting basis size: 35558\n",
      "Running basis shortening...\n",
      "The angle between the basis vectors is: 42.50095578385578\n",
      "[-48 147] is larger than [-94  53]\n",
      "The updated basis vectors are [46 94][-94  53]\n",
      "This run resulted in a basis smaller than the last: 22597\n",
      "The updated basis vectors are: [[ 46 -94]\n",
      " [ 94  53]]\n",
      "------------------------------------\n",
      "Running basis shortening...\n",
      "The angle between the basis vectors is: 86.65975675085322\n",
      "[-94  53] is larger than [46 94]\n",
      "The updated basis vectors are [-140  -41][46 94]\n",
      "This run resulted in a basis larger than the last: 32233\n",
      "Terminating loop.\n",
      "------------------------------------\n",
      "Lattice has less than 8 points. Terminating function.\n",
      "scipy_batch_fft(): FFT performed in 3200.6 milliseconds.\n",
      "scipy_batch_fft(): 64.01 milliseconds per frame.\n",
      "scipy_inverse_batch_fft(): iFFT performed in 4173.84 milliseconds.\n",
      "scipy_inverse_batch_fft(): 83.48 milliseconds per frame.\n",
      "Export complete!\n",
      "mrc_masked/SFO2_101_0027_bin2.mrc masked successfully!\n"
     ]
    },
    {
     "name": "stderr",
     "output_type": "stream",
     "text": [
      "\r",
      "12it [08:13, 41.10s/it]"
     ]
    },
    {
     "name": "stdout",
     "output_type": "stream",
     "text": [
      "scipy_fft(): FFT performed in 89.97 milliseconds.\n",
      "Number of first-pass spots found: 154\n",
      "Starting basis: [[-47 -95]\n",
      " [142  48]]\n",
      "Starting basis size: 33702\n",
      "Running basis shortening...\n",
      "The angle between the basis vectors is: 44.88039539304661\n",
      "[-47 142] is larger than [-95  48]\n",
      "The updated basis vectors are [48 94][-95  48]\n",
      "This run resulted in a basis smaller than the last: 22469\n",
      "The updated basis vectors are: [[ 48 -95]\n",
      " [ 94  48]]\n",
      "------------------------------------\n",
      "Running basis shortening...\n",
      "The angle between the basis vectors is: 90.24480867728633\n",
      "[-95  48] is larger than [48 94]\n",
      "The updated basis vectors are [-47 142][48 94]\n",
      "This run resulted in a basis larger than the last: 33513\n",
      "Terminating loop.\n",
      "------------------------------------\n",
      "Starting basis: [[ 48 -95]\n",
      " [ 94  48]]\n",
      "Refined_basis: [[ 47.56221914 -94.88156712]\n",
      " [ 94.37102704  47.78437781]]\n"
     ]
    },
    {
     "name": "stderr",
     "output_type": "stream",
     "text": [
      "/home/rkarimi/saxtal/saxtal_functions.py:243: RuntimeWarning: invalid value encountered in arccos\n",
      "  angle = (360/(2*np.pi))*np.arccos(np.dot(basis_matrix[:,0], basis_matrix[:,1])/\n"
     ]
    },
    {
     "name": "stdout",
     "output_type": "stream",
     "text": [
      "Lattice has less than 8 candidate basis vectors during first pass. Terminating function.\n",
      "scipy_batch_fft(): FFT performed in 3209.15 milliseconds.\n",
      "scipy_batch_fft(): 64.18 milliseconds per frame.\n",
      "scipy_inverse_batch_fft(): iFFT performed in 4219.66 milliseconds.\n",
      "scipy_inverse_batch_fft(): 84.39 milliseconds per frame.\n",
      "Export complete!\n",
      "mrc_masked/SFO2_101_0028_bin2.mrc masked successfully!\n"
     ]
    },
    {
     "name": "stderr",
     "output_type": "stream",
     "text": [
      "\r",
      "13it [08:54, 41.07s/it]"
     ]
    },
    {
     "name": "stdout",
     "output_type": "stream",
     "text": [
      "scipy_fft(): FFT performed in 90.84 milliseconds.\n",
      "Number of first-pass spots found: 82\n",
      "Starting basis: [[-70  80]\n",
      " [ 80  69]]\n",
      "Starting basis size: 22461\n",
      "Running basis shortening...\n",
      "The angle between the basis vectors is: 90.40815537185235\n",
      "[-70  80] is larger than [80 69]\n",
      "The updated basis vectors are [ 10 149][80 69]\n",
      "This run resulted in a basis larger than the last: 33462\n",
      "Terminating loop.\n",
      "------------------------------------\n",
      "Starting basis: [[-70  80]\n",
      " [ 80  69]]\n",
      "Refined_basis: [[-69.71481998  80.59726486]\n",
      " [ 79.73284957  68.90399107]]\n",
      "Lattice has less than 8 candidate basis vectors during first pass. Terminating function.\n",
      "scipy_batch_fft(): FFT performed in 3200.46 milliseconds.\n",
      "scipy_batch_fft(): 64.01 milliseconds per frame.\n",
      "scipy_inverse_batch_fft(): iFFT performed in 4164.45 milliseconds.\n",
      "scipy_inverse_batch_fft(): 83.29 milliseconds per frame.\n",
      "Export complete!\n",
      "mrc_masked/SFO2_101_0029_bin2.mrc masked successfully!\n"
     ]
    },
    {
     "name": "stderr",
     "output_type": "stream",
     "text": [
      "\r",
      "14it [09:35, 41.09s/it]"
     ]
    },
    {
     "name": "stdout",
     "output_type": "stream",
     "text": [
      "scipy_fft(): FFT performed in 92.33 milliseconds.\n",
      "Number of first-pass spots found: 144\n",
      "Starting basis: [[-70  80]\n",
      " [ 79  68]]\n",
      "Starting basis size: 22165\n",
      "Running basis shortening...\n",
      "The angle between the basis vectors is: 91.17884425486065\n",
      "[-70  79] is larger than [80 68]\n",
      "The updated basis vectors are [ 10 147][80 68]\n",
      "This run resulted in a basis larger than the last: 32733\n",
      "Terminating loop.\n",
      "------------------------------------\n",
      "Starting basis: [[-70  80]\n",
      " [ 79  68]]\n",
      "Refined_basis: [[-69.65578691  80.60732374]\n",
      " [ 79.23297693  68.00510491]]\n",
      "Lattice has less than 8 candidate basis vectors during first pass. Terminating function.\n",
      "scipy_batch_fft(): FFT performed in 3211.94 milliseconds.\n",
      "scipy_batch_fft(): 64.24 milliseconds per frame.\n",
      "scipy_inverse_batch_fft(): iFFT performed in 4240.46 milliseconds.\n",
      "scipy_inverse_batch_fft(): 84.81 milliseconds per frame.\n",
      "Export complete!\n",
      "mrc_masked/SFO2_101_0030_bin2.mrc masked successfully!\n"
     ]
    },
    {
     "name": "stderr",
     "output_type": "stream",
     "text": [
      "\r",
      "15it [10:16, 41.11s/it]"
     ]
    },
    {
     "name": "stdout",
     "output_type": "stream",
     "text": [
      "scipy_fft(): FFT performed in 90.11 milliseconds.\n",
      "Number of first-pass spots found: 150\n",
      "Starting basis: [[-70  11]\n",
      " [ 80 147]]\n",
      "Starting basis size: 33030\n",
      "Running basis shortening...\n",
      "The angle between the basis vectors is: 45.46538869595488\n",
      "[ 11 147] is larger than [-70  80]\n",
      "The updated basis vectors are [81 67][-70  80]\n",
      "This run resulted in a basis smaller than the last: 22350\n",
      "The updated basis vectors are: [[ 81 -70]\n",
      " [ 67  80]]\n",
      "------------------------------------\n",
      "Running basis shortening...\n",
      "The angle between the basis vectors is: 91.58971652595936\n",
      "[-70  80] is larger than [81 67]\n",
      "The updated basis vectors are [ 11 147][81 67]\n",
      "This run resulted in a basis larger than the last: 32780\n",
      "Terminating loop.\n",
      "------------------------------------\n",
      "Starting basis: [[ 81 -70]\n",
      " [ 67  80]]\n",
      "Refined_basis: [[ 80.8714117  -69.82370865]\n",
      " [ 67.1972562   79.84521293]]\n",
      "Lattice has less than 8 candidate basis vectors during first pass. Terminating function.\n",
      "scipy_batch_fft(): FFT performed in 3210.74 milliseconds.\n",
      "scipy_batch_fft(): 64.21 milliseconds per frame.\n",
      "scipy_inverse_batch_fft(): iFFT performed in 4196.51 milliseconds.\n",
      "scipy_inverse_batch_fft(): 83.93 milliseconds per frame.\n",
      "Export complete!\n",
      "mrc_masked/SFO2_101_0031_bin2.mrc masked successfully!\n"
     ]
    },
    {
     "name": "stderr",
     "output_type": "stream",
     "text": [
      "\r",
      "16it [10:58, 41.18s/it]"
     ]
    },
    {
     "name": "stdout",
     "output_type": "stream",
     "text": [
      "scipy_fft(): FFT performed in 94.62 milliseconds.\n",
      "Number of first-pass spots found: 126\n",
      "Starting basis: [[ 81 -71]\n",
      " [ 68  79]]\n",
      "Starting basis size: 22467\n",
      "Running basis shortening...\n",
      "The angle between the basis vectors is: 91.93345125644308\n",
      "[-71  79] is larger than [81 68]\n",
      "The updated basis vectors are [ 10 147][81 68]\n",
      "This run resulted in a basis larger than the last: 32894\n",
      "Terminating loop.\n",
      "------------------------------------\n",
      "Starting basis: [[ 81 -71]\n",
      " [ 68  79]]\n",
      "Refined_basis: [[ 81.17942757 -70.71961584]\n",
      " [ 67.869774    79.24318762]]\n",
      "Lattice has less than 8 candidate basis vectors during first pass. Terminating function.\n",
      "scipy_batch_fft(): FFT performed in 3233.9 milliseconds.\n",
      "scipy_batch_fft(): 64.68 milliseconds per frame.\n",
      "scipy_inverse_batch_fft(): iFFT performed in 4230.2 milliseconds.\n",
      "scipy_inverse_batch_fft(): 84.6 milliseconds per frame.\n",
      "Export complete!\n",
      "mrc_masked/SFO2_101_0032_bin2.mrc masked successfully!\n"
     ]
    },
    {
     "name": "stderr",
     "output_type": "stream",
     "text": [
      "\r",
      "17it [11:39, 41.17s/it]"
     ]
    },
    {
     "name": "stdout",
     "output_type": "stream",
     "text": [
      "scipy_fft(): FFT performed in 92.28 milliseconds.\n",
      "Number of first-pass spots found: 129\n",
      "Starting basis: [[ 47  94]\n",
      " [143  49]]\n",
      "Starting basis size: 33895\n",
      "Running basis shortening...\n",
      "The angle between the basis vectors is: 44.2738115810775\n",
      "[ 47 143] is larger than [94 49]\n",
      "The updated basis vectors are [-47  94][94 49]\n",
      "This run resulted in a basis smaller than the last: 22282\n",
      "The updated basis vectors are: [[-47  94]\n",
      " [ 94  49]]\n",
      "------------------------------------\n",
      "Running basis shortening...\n",
      "The angle between the basis vectors is: 89.0330744283557\n",
      "[94 49] is larger than [-47  94]\n",
      "The updated basis vectors are [141 -45][-47  94]\n",
      "This run resulted in a basis larger than the last: 32951\n",
      "Terminating loop.\n",
      "------------------------------------\n",
      "Starting basis: [[-47  94]\n",
      " [ 94  49]]\n",
      "Refined_basis: [[-47.11285139  94.00707864]\n",
      " [ 94.08815752  49.12713071]]\n",
      "Lattice has less than 8 candidate basis vectors during first pass. Terminating function.\n",
      "scipy_batch_fft(): FFT performed in 3212.64 milliseconds.\n",
      "scipy_batch_fft(): 64.25 milliseconds per frame.\n",
      "scipy_inverse_batch_fft(): iFFT performed in 4155.28 milliseconds.\n",
      "scipy_inverse_batch_fft(): 83.11 milliseconds per frame.\n",
      "Export complete!\n",
      "mrc_masked/SFO2_101_0033_bin2.mrc masked successfully!\n"
     ]
    },
    {
     "name": "stderr",
     "output_type": "stream",
     "text": [
      "\r",
      "18it [12:20, 41.09s/it]"
     ]
    },
    {
     "name": "stdout",
     "output_type": "stream",
     "text": [
      "scipy_fft(): FFT performed in 90.23 milliseconds.\n",
      "Number of first-pass spots found: 126\n",
      "Starting basis: [[ 94 -47]\n",
      " [ 49  94]]\n",
      "Starting basis size: 22282\n",
      "Running basis shortening...\n",
      "The angle between the basis vectors is: 89.0330744283557\n",
      "[94 49] is larger than [-47  94]\n",
      "The updated basis vectors are [141 -45][-47  94]\n",
      "This run resulted in a basis larger than the last: 32951\n",
      "Terminating loop.\n",
      "------------------------------------\n",
      "Starting basis: [[ 94 -47]\n",
      " [ 49  94]]\n",
      "Refined_basis: [[ 93.83205724 -47.08669631]\n",
      " [ 49.0651309   93.85723361]]\n",
      "Lattice has less than 8 candidate basis vectors during first pass. Terminating function.\n",
      "scipy_batch_fft(): FFT performed in 3204.24 milliseconds.\n",
      "scipy_batch_fft(): 64.08 milliseconds per frame.\n",
      "scipy_inverse_batch_fft(): iFFT performed in 4194.71 milliseconds.\n",
      "scipy_inverse_batch_fft(): 83.89 milliseconds per frame.\n",
      "Export complete!\n",
      "mrc_masked/SFO2_101_0034_bin2.mrc masked successfully!\n"
     ]
    },
    {
     "name": "stderr",
     "output_type": "stream",
     "text": [
      "\r",
      "19it [13:00, 41.00s/it]"
     ]
    },
    {
     "name": "stdout",
     "output_type": "stream",
     "text": [
      "scipy_fft(): FFT performed in 93.67 milliseconds.\n",
      "Number of first-pass spots found: 134\n",
      "Starting basis: [[ 47 -47]\n",
      " [142  93]]\n",
      "Starting basis size: 33231\n",
      "Running basis shortening...\n",
      "The angle between the basis vectors is: 45.1247705775023\n",
      "[ 47 142] is larger than [-47  93]\n",
      "The updated basis vectors are [94 49][-47  93]\n",
      "This run resulted in a basis smaller than the last: 22095\n",
      "The updated basis vectors are: [[ 94 -47]\n",
      " [ 49  93]]\n",
      "------------------------------------\n",
      "Running basis shortening...\n",
      "The angle between the basis vectors is: 89.2789775516264\n",
      "[94 49] is larger than [-47  93]\n",
      "The updated basis vectors are [141 -44][-47  93]\n",
      "This run resulted in a basis larger than the last: 32675\n",
      "Terminating loop.\n",
      "------------------------------------\n",
      "Starting basis: [[ 94 -47]\n",
      " [ 49  93]]\n",
      "Refined_basis: [[ 93.9899055  -46.98704647]\n",
      " [ 48.8126981   93.28794226]]\n",
      "Lattice has less than 8 candidate basis vectors during first pass. Terminating function.\n",
      "scipy_batch_fft(): FFT performed in 3199.68 milliseconds.\n",
      "scipy_batch_fft(): 63.99 milliseconds per frame.\n",
      "scipy_inverse_batch_fft(): iFFT performed in 4162.58 milliseconds.\n",
      "scipy_inverse_batch_fft(): 83.25 milliseconds per frame.\n",
      "Export complete!\n",
      "mrc_masked/SFO2_101_0035_bin2.mrc masked successfully!\n"
     ]
    },
    {
     "name": "stderr",
     "output_type": "stream",
     "text": [
      "\r",
      "20it [13:42, 41.22s/it]"
     ]
    },
    {
     "name": "stdout",
     "output_type": "stream",
     "text": [
      "scipy_fft(): FFT performed in 95.98 milliseconds.\n",
      "Number of first-pass spots found: 136\n",
      "Starting basis: [[ 95 -47]\n",
      " [ 49  93]]\n",
      "Starting basis size: 22284\n",
      "Running basis shortening...\n",
      "The angle between the basis vectors is: 89.52674700672563\n",
      "[95 49] is larger than [-47  93]\n",
      "The updated basis vectors are [142 -44][-47  93]\n",
      "This run resulted in a basis larger than the last: 32958\n",
      "Terminating loop.\n",
      "------------------------------------\n",
      "Starting basis: [[ 95 -47]\n",
      " [ 49  93]]\n",
      "Refined_basis: [[ 94.89816759 -47.27823135]\n",
      " [ 48.90653915  93.21779022]]\n",
      "Lattice has less than 8 candidate basis vectors during first pass. Terminating function.\n",
      "scipy_batch_fft(): FFT performed in 3226.5 milliseconds.\n",
      "scipy_batch_fft(): 64.53 milliseconds per frame.\n",
      "scipy_inverse_batch_fft(): iFFT performed in 4180.48 milliseconds.\n",
      "scipy_inverse_batch_fft(): 83.61 milliseconds per frame.\n",
      "Export complete!\n",
      "mrc_masked/SFO2_101_0036_bin2.mrc masked successfully!\n"
     ]
    },
    {
     "name": "stderr",
     "output_type": "stream",
     "text": [
      "\r",
      "21it [14:23, 41.16s/it]"
     ]
    },
    {
     "name": "stdout",
     "output_type": "stream",
     "text": [
      "scipy_fft(): FFT performed in 90.11 milliseconds.\n",
      "Number of first-pass spots found: 178\n",
      "Starting basis: [[-103    2]\n",
      " [ 109  107]]\n",
      "Starting basis size: 33943\n",
      "Running basis shortening...\n",
      "The angle between the basis vectors is: 44.449678541133544\n",
      "[-103  109] is larger than [  2 107]\n",
      "The updated basis vectors are [-105    2][  2 107]\n",
      "This run resulted in a basis smaller than the last: 22482\n",
      "The updated basis vectors are: [[-105    2]\n",
      " [   2  107]]\n",
      "------------------------------------\n",
      "Running basis shortening...\n",
      "The angle between the basis vectors is: 89.97960822952436\n",
      "[  2 107] is larger than [-105    2]\n",
      "The updated basis vectors are [107 105][-105    2]\n",
      "This run resulted in a basis larger than the last: 33503\n",
      "Terminating loop.\n",
      "------------------------------------\n",
      "Starting basis: [[-105    2]\n",
      " [   2  107]]\n",
      "Refined_basis: [[-105.34425542    1.85642356]\n",
      " [   2.58470972  106.89178364]]\n",
      "Lattice has less than 8 candidate basis vectors during first pass. Terminating function.\n",
      "scipy_batch_fft(): FFT performed in 3212.55 milliseconds.\n",
      "scipy_batch_fft(): 64.25 milliseconds per frame.\n",
      "scipy_inverse_batch_fft(): iFFT performed in 4162.11 milliseconds.\n",
      "scipy_inverse_batch_fft(): 83.24 milliseconds per frame.\n",
      "Export complete!\n",
      "mrc_masked/SFO2_102_0001_bin2.mrc masked successfully!\n"
     ]
    },
    {
     "name": "stderr",
     "output_type": "stream",
     "text": [
      "\r",
      "22it [15:05, 41.23s/it]"
     ]
    },
    {
     "name": "stdout",
     "output_type": "stream",
     "text": [
      "scipy_fft(): FFT performed in 90.41 milliseconds.\n",
      "Number of first-pass spots found: 156\n",
      "Starting basis: [[   3 -101]\n",
      " [ 212  320]]\n",
      "Starting basis size: 157554\n",
      "Running basis shortening...\n",
      "The angle between the basis vectors is: 18.327734077716663\n",
      "[-101  320] is larger than [  3 212]\n",
      "The updated basis vectors are [-104  108][  3 212]\n",
      "This run resulted in a basis smaller than the last: 67433\n",
      "The updated basis vectors are: [[-104    3]\n",
      " [ 108  212]]\n",
      "------------------------------------\n",
      "Running basis shortening...\n",
      "The angle between the basis vectors is: 44.72981103260169\n",
      "[  3 212] is larger than [-104  108]\n",
      "The updated basis vectors are [107 104][-104  108]\n",
      "This run resulted in a basis smaller than the last: 44745\n",
      "The updated basis vectors are: [[ 107 -104]\n",
      " [ 104  108]]\n",
      "------------------------------------\n",
      "Running basis shortening...\n",
      "The angle between the basis vectors is: 89.73365286309904\n",
      "[-104  108] is larger than [107 104]\n",
      "The updated basis vectors are [-211    4][107 104]\n",
      "This run resulted in a basis larger than the last: 66802\n",
      "Terminating loop.\n",
      "------------------------------------\n",
      "Starting basis: [[ 107 -104]\n",
      " [ 104  108]]\n",
      "Refined_basis: [[ 106.65074732 -103.80313019]\n",
      " [ 103.35670072  108.77530069]]\n",
      "Starting basis: [[-102 -209]\n",
      " [ 215  112]]\n",
      "Starting basis size: 112854\n",
      "Running basis shortening...\n",
      "The angle between the basis vectors is: 36.43327011784409\n",
      "[-102  215] is larger than [-209  112]\n",
      "The updated basis vectors are [107 103][-209  112]\n",
      "This run resulted in a basis smaller than the last: 78283\n",
      "The updated basis vectors are: [[ 107 -209]\n",
      " [ 103  112]]\n",
      "------------------------------------\n",
      "Running basis shortening...\n",
      "The angle between the basis vectors is: 107.9050191345312\n",
      "[-209  112] is larger than [107 103]\n",
      "The updated basis vectors are [-102  215][107 103]\n",
      "This run resulted in a basis larger than the last: 78687\n",
      "Terminating loop.\n",
      "------------------------------------\n",
      "Lattice has less than 8 points. Terminating function.\n",
      "scipy_batch_fft(): FFT performed in 3201.8 milliseconds.\n",
      "scipy_batch_fft(): 64.04 milliseconds per frame.\n",
      "scipy_inverse_batch_fft(): iFFT performed in 4311.78 milliseconds.\n",
      "scipy_inverse_batch_fft(): 86.24 milliseconds per frame.\n",
      "Export complete!\n",
      "mrc_masked/SFO2_102_0002_bin2.mrc masked successfully!\n"
     ]
    },
    {
     "name": "stderr",
     "output_type": "stream",
     "text": [
      "\r",
      "23it [15:45, 41.07s/it]"
     ]
    },
    {
     "name": "stdout",
     "output_type": "stream",
     "text": [
      "scipy_fft(): FFT performed in 89.89 milliseconds.\n",
      "Number of first-pass spots found: 155\n",
      "Starting basis: [[-103    2]\n",
      " [ 108  105]]\n",
      "Starting basis size: 33302\n",
      "Running basis shortening...\n",
      "The angle between the basis vectors is: 44.73375038073198\n",
      "[-103  108] is larger than [  2 105]\n",
      "The updated basis vectors are [-105    3][  2 105]\n",
      "This run resulted in a basis smaller than the last: 22063\n",
      "The updated basis vectors are: [[-105    2]\n",
      " [   3  105]]\n",
      "------------------------------------\n",
      "Running basis shortening...\n",
      "The angle between the basis vectors is: 89.45463918364588\n",
      "[-105    3] is larger than [  2 105]\n",
      "The updated basis vectors are [-107 -102][  2 105]\n",
      "This run resulted in a basis larger than the last: 32882\n",
      "Terminating loop.\n",
      "------------------------------------\n",
      "Starting basis: [[-105    2]\n",
      " [   3  105]]\n",
      "Refined_basis: [[-105.16804809    1.87101981]\n",
      " [   2.82732295  105.43098994]]\n",
      "Starting basis: [[-103    2]\n",
      " [ 108  105]]\n",
      "Starting basis size: 33302\n",
      "Running basis shortening...\n",
      "The angle between the basis vectors is: 44.73375038073198\n",
      "[-103  108] is larger than [  2 105]\n",
      "The updated basis vectors are [-105    3][  2 105]\n",
      "This run resulted in a basis smaller than the last: 22063\n",
      "The updated basis vectors are: [[-105    2]\n",
      " [   3  105]]\n",
      "------------------------------------\n",
      "Running basis shortening...\n",
      "The angle between the basis vectors is: 89.45463918364588\n",
      "[-105    3] is larger than [  2 105]\n",
      "The updated basis vectors are [-107 -102][  2 105]\n",
      "This run resulted in a basis larger than the last: 32882\n",
      "Terminating loop.\n",
      "------------------------------------\n",
      "Starting basis: [[-105    2]\n",
      " [   3  105]]\n",
      "Refined_basis: [[-105.17039621    1.86948849]\n",
      " [   2.85781858  105.44379295]]\n",
      "Lattice has less than 8 candidate basis vectors during first pass. Terminating function.\n",
      "scipy_batch_fft(): FFT performed in 3192.7 milliseconds.\n",
      "scipy_batch_fft(): 63.85 milliseconds per frame.\n",
      "scipy_inverse_batch_fft(): iFFT performed in 4221.54 milliseconds.\n",
      "scipy_inverse_batch_fft(): 84.43 milliseconds per frame.\n",
      "Export complete!\n",
      "mrc_masked/SFO2_102_0003_bin2.mrc masked successfully!\n"
     ]
    },
    {
     "name": "stderr",
     "output_type": "stream",
     "text": [
      "\r",
      "24it [16:27, 41.42s/it]"
     ]
    },
    {
     "name": "stdout",
     "output_type": "stream",
     "text": [
      "scipy_fft(): FFT performed in 96.93 milliseconds.\n",
      "Number of first-pass spots found: 152\n",
      "Starting basis: [[-103    2]\n",
      " [ 108  106]]\n",
      "Starting basis size: 33513\n",
      "Running basis shortening...\n",
      "The angle between the basis vectors is: 44.72345834213008\n",
      "[-103  108] is larger than [  2 106]\n",
      "The updated basis vectors are [-105    2][  2 106]\n",
      "This run resulted in a basis smaller than the last: 22269\n",
      "The updated basis vectors are: [[-105    2]\n",
      " [   2  106]]\n",
      "------------------------------------\n",
      "Running basis shortening...\n",
      "The angle between the basis vectors is: 89.9897079613981\n",
      "[  2 106] is larger than [-105    2]\n",
      "The updated basis vectors are [107 104][-105    2]\n",
      "This run resulted in a basis larger than the last: 33294\n",
      "Terminating loop.\n",
      "------------------------------------\n",
      "Starting basis: [[-105    2]\n",
      " [   2  106]]\n",
      "Refined_basis: [[-105.25926342    2.08963878]\n",
      " [   2.70626877  105.78251233]]\n",
      "Starting basis: [[-314 -103]\n",
      " [ 116  102]]\n",
      "Starting basis size: 133065\n",
      "Running basis shortening...\n",
      "The angle between the basis vectors is: 24.444932000464267\n",
      "[-314  116] is larger than [-103  102]\n",
      "The updated basis vectors are [-211   14][-103  102]\n",
      "This run resulted in a basis smaller than the last: 65730\n",
      "The updated basis vectors are: [[-211 -103]\n",
      " [  14  102]]\n",
      "------------------------------------\n",
      "Running basis shortening...\n",
      "The angle between the basis vectors is: 40.92445898297341\n",
      "[-211   14] is larger than [-103  102]\n",
      "The updated basis vectors are [-108  -88][-103  102]\n",
      "This run resulted in a basis smaller than the last: 40421\n",
      "The updated basis vectors are: [[ 108 -103]\n",
      " [  88  102]]\n",
      "------------------------------------\n",
      "Running basis shortening...\n",
      "The angle between the basis vectors is: 96.10583142010051\n",
      "[-103  102] is larger than [108  88]\n",
      "The updated basis vectors are [  5 190][108  88]\n",
      "This run resulted in a basis larger than the last: 55533\n",
      "Terminating loop.\n",
      "------------------------------------\n",
      "Lattice has less than 8 points. Terminating function.\n",
      "scipy_batch_fft(): FFT performed in 3209.62 milliseconds.\n",
      "scipy_batch_fft(): 64.19 milliseconds per frame.\n",
      "scipy_inverse_batch_fft(): iFFT performed in 4155.99 milliseconds.\n",
      "scipy_inverse_batch_fft(): 83.12 milliseconds per frame.\n",
      "Export complete!\n",
      "mrc_masked/SFO2_102_0004_bin2.mrc masked successfully!\n"
     ]
    },
    {
     "name": "stderr",
     "output_type": "stream",
     "text": [
      "\r",
      "25it [17:08, 41.18s/it]"
     ]
    },
    {
     "name": "stdout",
     "output_type": "stream",
     "text": [
      "scipy_fft(): FFT performed in 90.64 milliseconds.\n",
      "Number of first-pass spots found: 162\n",
      "Starting basis: [[100 -34]\n",
      " [ 33 100]]\n",
      "Starting basis size: 22245\n",
      "Running basis shortening...\n",
      "The angle between the basis vectors is: 90.51514328025142\n",
      "[-34 100] is larger than [100  33]\n",
      "The updated basis vectors are [ 66 133][100  33]\n",
      "This run resulted in a basis larger than the last: 33134\n",
      "Terminating loop.\n",
      "------------------------------------\n",
      "Starting basis: [[100 -34]\n",
      " [ 33 100]]\n",
      "Refined_basis: [[100.25339047 -34.47795935]\n",
      " [ 33.26334454  99.89669407]]\n",
      "Lattice has less than 8 candidate basis vectors during first pass. Terminating function.\n",
      "scipy_batch_fft(): FFT performed in 3221.21 milliseconds.\n",
      "scipy_batch_fft(): 64.42 milliseconds per frame.\n",
      "scipy_inverse_batch_fft(): iFFT performed in 4157.03 milliseconds.\n",
      "scipy_inverse_batch_fft(): 83.14 milliseconds per frame.\n",
      "Export complete!\n",
      "mrc_masked/SFO2_102_0005_bin2.mrc masked successfully!\n"
     ]
    },
    {
     "name": "stderr",
     "output_type": "stream",
     "text": [
      "\r",
      "26it [17:49, 41.08s/it]"
     ]
    },
    {
     "name": "stdout",
     "output_type": "stream",
     "text": [
      "scipy_fft(): FFT performed in 90.87 milliseconds.\n",
      "Number of first-pass spots found: 151\n",
      "Starting basis: [[-134  -35]\n",
      " [  67  100]]\n",
      "Starting basis size: 33670\n",
      "Running basis shortening...\n",
      "The angle between the basis vectors is: 44.14490260373327\n",
      "[-134   67] is larger than [-35 100]\n",
      "The updated basis vectors are [-99 -33][-35 100]\n",
      "This run resulted in a basis smaller than the last: 22115\n",
      "The updated basis vectors are: [[ 99 -35]\n",
      " [ 33 100]]\n",
      "------------------------------------\n",
      "Running basis shortening...\n",
      "The angle between the basis vectors is: 90.85509739626673\n",
      "[-35 100] is larger than [99 33]\n",
      "The updated basis vectors are [ 64 133][99 33]\n",
      "This run resulted in a basis larger than the last: 32675\n",
      "Terminating loop.\n",
      "------------------------------------\n",
      "Starting basis: [[ 99 -35]\n",
      " [ 33 100]]\n",
      "Refined_basis: [[ 99.86044648 -34.55665183]\n",
      " [ 32.9553589   99.88059199]]\n",
      "Lattice has less than 8 candidate basis vectors during first pass. Terminating function.\n",
      "scipy_batch_fft(): FFT performed in 3199.93 milliseconds.\n",
      "scipy_batch_fft(): 64.0 milliseconds per frame.\n",
      "scipy_inverse_batch_fft(): iFFT performed in 4274.16 milliseconds.\n",
      "scipy_inverse_batch_fft(): 85.48 milliseconds per frame.\n",
      "Export complete!\n",
      "mrc_masked/SFO2_102_0006_bin2.mrc masked successfully!\n"
     ]
    },
    {
     "name": "stderr",
     "output_type": "stream",
     "text": [
      "\r",
      "27it [18:30, 41.08s/it]"
     ]
    },
    {
     "name": "stdout",
     "output_type": "stream",
     "text": [
      "scipy_fft(): FFT performed in 90.53 milliseconds.\n",
      "Number of first-pass spots found: 179\n",
      "Starting basis: [[100 -34]\n",
      " [ 33 100]]\n",
      "Starting basis size: 22245\n",
      "Running basis shortening...\n",
      "The angle between the basis vectors is: 90.51514328025142\n",
      "[-34 100] is larger than [100  33]\n",
      "The updated basis vectors are [ 66 133][100  33]\n",
      "This run resulted in a basis larger than the last: 33134\n",
      "Terminating loop.\n",
      "------------------------------------\n",
      "Starting basis: [[100 -34]\n",
      " [ 33 100]]\n",
      "Refined_basis: [[100.21471993 -34.4170146 ]\n",
      " [ 32.7704857  100.065643  ]]\n",
      "Lattice has less than 8 candidate basis vectors during first pass. Terminating function.\n",
      "scipy_batch_fft(): FFT performed in 3189.27 milliseconds.\n",
      "scipy_batch_fft(): 63.79 milliseconds per frame.\n",
      "scipy_inverse_batch_fft(): iFFT performed in 4141.13 milliseconds.\n",
      "scipy_inverse_batch_fft(): 82.82 milliseconds per frame.\n",
      "Export complete!\n",
      "mrc_masked/SFO2_102_0007_bin2.mrc masked successfully!\n"
     ]
    },
    {
     "name": "stderr",
     "output_type": "stream",
     "text": [
      "\r",
      "28it [19:11, 41.05s/it]"
     ]
    },
    {
     "name": "stdout",
     "output_type": "stream",
     "text": [
      "scipy_fft(): FFT performed in 94.61 milliseconds.\n",
      "Number of first-pass spots found: 162\n",
      "Starting basis: [[ 101 -136]\n",
      " [  33   67]]\n",
      "Starting basis size: 34275\n",
      "Running basis shortening...\n",
      "The angle between the basis vectors is: 135.6790665547964\n",
      "[-136   67] is larger than [101  33]\n",
      "The updated basis vectors are [-35 100][101  33]\n",
      "This run resulted in a basis smaller than the last: 22515\n",
      "The updated basis vectors are: [[-35 101]\n",
      " [100  33]]\n",
      "------------------------------------\n",
      "Running basis shortening...\n",
      "The angle between the basis vectors is: 91.19613967512558\n",
      "[101  33] is larger than [-35 100]\n",
      "The updated basis vectors are [ 66 133][-35 100]\n",
      "This run resulted in a basis larger than the last: 33270\n",
      "Terminating loop.\n",
      "------------------------------------\n",
      "Starting basis: [[-35 101]\n",
      " [100  33]]\n",
      "Refined_basis: [[-34.87067642 100.79773443]\n",
      " [ 99.95709196  32.94026824]]\n",
      "Lattice has less than 8 candidate basis vectors during first pass. Terminating function.\n",
      "scipy_batch_fft(): FFT performed in 3211.71 milliseconds.\n",
      "scipy_batch_fft(): 64.23 milliseconds per frame.\n",
      "scipy_inverse_batch_fft(): iFFT performed in 4210.38 milliseconds.\n",
      "scipy_inverse_batch_fft(): 84.21 milliseconds per frame.\n",
      "Export complete!\n",
      "mrc_masked/SFO2_102_0008_bin2.mrc masked successfully!\n"
     ]
    },
    {
     "name": "stderr",
     "output_type": "stream",
     "text": [
      "\r",
      "29it [19:52, 41.06s/it]"
     ]
    },
    {
     "name": "stdout",
     "output_type": "stream",
     "text": [
      "scipy_fft(): FFT performed in 92.52 milliseconds.\n",
      "Number of first-pass spots found: 80\n",
      "Starting basis: [[ 40 -99]\n",
      " [ 97  40]]\n",
      "Starting basis size: 22410\n",
      "Running basis shortening...\n",
      "The angle between the basis vectors is: 90.40913902095267\n",
      "[-99  40] is larger than [40 97]\n",
      "The updated basis vectors are [-59 137][40 97]\n",
      "This run resulted in a basis larger than the last: 33259\n",
      "Terminating loop.\n",
      "------------------------------------\n",
      "Starting basis: [[ 40 -99]\n",
      " [ 97  40]]\n",
      "Refined_basis: [[ 40.25282545 -98.75797405]\n",
      " [ 96.98158225  39.60753453]]\n",
      "Lattice has less than 8 candidate basis vectors during first pass. Terminating function.\n",
      "scipy_batch_fft(): FFT performed in 3213.04 milliseconds.\n",
      "scipy_batch_fft(): 64.26 milliseconds per frame.\n",
      "scipy_inverse_batch_fft(): iFFT performed in 4090.66 milliseconds.\n",
      "scipy_inverse_batch_fft(): 81.81 milliseconds per frame.\n",
      "Export complete!\n",
      "mrc_masked/SFO2_102_0009_bin2.mrc masked successfully!\n"
     ]
    },
    {
     "name": "stderr",
     "output_type": "stream",
     "text": [
      "\r",
      "30it [20:33, 40.92s/it]"
     ]
    },
    {
     "name": "stdout",
     "output_type": "stream",
     "text": [
      "scipy_fft(): FFT performed in 92.11 milliseconds.\n",
      "Number of first-pass spots found: 82\n",
      "Starting basis: [[ 40 -99]\n",
      " [ 97  40]]\n",
      "Starting basis size: 22410\n",
      "Running basis shortening...\n",
      "The angle between the basis vectors is: 90.40913902095267\n",
      "[-99  40] is larger than [40 97]\n",
      "The updated basis vectors are [-59 137][40 97]\n",
      "This run resulted in a basis larger than the last: 33259\n",
      "Terminating loop.\n",
      "------------------------------------\n",
      "Starting basis: [[ 40 -99]\n",
      " [ 97  40]]\n",
      "Refined_basis: [[ 40.30337079 -98.75842697]\n",
      " [ 96.85955056  39.76779026]]\n",
      "Lattice has less than 8 candidate basis vectors during first pass. Terminating function.\n",
      "scipy_batch_fft(): FFT performed in 3242.14 milliseconds.\n",
      "scipy_batch_fft(): 64.84 milliseconds per frame.\n",
      "scipy_inverse_batch_fft(): iFFT performed in 4217.13 milliseconds.\n",
      "scipy_inverse_batch_fft(): 84.34 milliseconds per frame.\n",
      "Export complete!\n",
      "mrc_masked/SFO2_102_0010_bin2.mrc masked successfully!\n"
     ]
    },
    {
     "name": "stderr",
     "output_type": "stream",
     "text": [
      "\r",
      "31it [21:13, 40.79s/it]"
     ]
    },
    {
     "name": "stdout",
     "output_type": "stream",
     "text": [
      "scipy_fft(): FFT performed in 90.63 milliseconds.\n",
      "Number of first-pass spots found: 86\n",
      "Starting basis: [[-99  40]\n",
      " [ 40  97]]\n",
      "Starting basis size: 22410\n",
      "Running basis shortening...\n",
      "The angle between the basis vectors is: 90.40913902095267\n",
      "[-99  40] is larger than [40 97]\n",
      "The updated basis vectors are [-59 137][40 97]\n",
      "This run resulted in a basis larger than the last: 33259\n",
      "Terminating loop.\n",
      "------------------------------------\n",
      "Starting basis: [[-99  40]\n",
      " [ 40  97]]\n",
      "Refined_basis: [[-98.93939755  40.29098702]\n",
      " [ 39.70460769  96.98047387]]\n",
      "Lattice has less than 8 candidate basis vectors during first pass. Terminating function.\n",
      "scipy_batch_fft(): FFT performed in 3212.21 milliseconds.\n",
      "scipy_batch_fft(): 64.24 milliseconds per frame.\n",
      "scipy_inverse_batch_fft(): iFFT performed in 4185.14 milliseconds.\n",
      "scipy_inverse_batch_fft(): 83.7 milliseconds per frame.\n",
      "Export complete!\n",
      "mrc_masked/SFO2_102_0011_bin2.mrc masked successfully!\n"
     ]
    },
    {
     "name": "stderr",
     "output_type": "stream",
     "text": [
      "\r",
      "32it [21:54, 40.69s/it]"
     ]
    },
    {
     "name": "stdout",
     "output_type": "stream",
     "text": [
      "scipy_fft(): FFT performed in 91.77 milliseconds.\n",
      "Number of first-pass spots found: 64\n",
      "Starting basis: [[-99  40]\n",
      " [ 40  97]]\n",
      "Starting basis size: 22410\n",
      "Running basis shortening...\n",
      "The angle between the basis vectors is: 90.40913902095267\n",
      "[-99  40] is larger than [40 97]\n",
      "The updated basis vectors are [-59 137][40 97]\n",
      "This run resulted in a basis larger than the last: 33259\n",
      "Terminating loop.\n",
      "------------------------------------\n",
      "Starting basis: [[-99  40]\n",
      " [ 40  97]]\n",
      "Refined_basis: [[-99.04637224  40.31230284]\n",
      " [ 39.71198738  96.85804416]]\n",
      "Lattice has less than 8 candidate basis vectors during first pass. Terminating function.\n",
      "scipy_batch_fft(): FFT performed in 3211.56 milliseconds.\n",
      "scipy_batch_fft(): 64.23 milliseconds per frame.\n",
      "scipy_inverse_batch_fft(): iFFT performed in 4170.1 milliseconds.\n",
      "scipy_inverse_batch_fft(): 83.4 milliseconds per frame.\n",
      "Export complete!\n",
      "mrc_masked/SFO2_102_0012_bin2.mrc masked successfully!\n"
     ]
    },
    {
     "name": "stderr",
     "output_type": "stream",
     "text": [
      "\r",
      "33it [22:34, 40.59s/it]"
     ]
    },
    {
     "name": "stdout",
     "output_type": "stream",
     "text": [
      "scipy_fft(): FFT performed in 92.41 milliseconds.\n",
      "Number of first-pass spots found: 78\n",
      "Starting basis: [[ 83 104]\n",
      " [126  23]]\n",
      "Starting basis size: 34110\n",
      "Running basis shortening...\n",
      "The angle between the basis vectors is: 44.15543692163971\n",
      "[ 83 126] is larger than [104  23]\n",
      "The updated basis vectors are [-21 103][104  23]\n",
      "This run resulted in a basis smaller than the last: 22395\n",
      "The updated basis vectors are: [[-21 104]\n",
      " [103  23]]\n",
      "------------------------------------\n",
      "Running basis shortening...\n",
      "The angle between the basis vectors is: 89.05325998222844\n",
      "[104  23] is larger than [-21 103]\n",
      "The updated basis vectors are [125 -80][-21 103]\n",
      "This run resulted in a basis larger than the last: 33075\n",
      "Terminating loop.\n",
      "------------------------------------\n",
      "Starting basis: [[-21 104]\n",
      " [103  23]]\n",
      "Refined_basis: [[-20.8430822  103.67337389]\n",
      " [103.07799095  22.61300889]]\n",
      "Lattice has less than 8 candidate basis vectors during first pass. Terminating function.\n",
      "scipy_batch_fft(): FFT performed in 3207.03 milliseconds.\n",
      "scipy_batch_fft(): 64.14 milliseconds per frame.\n",
      "scipy_inverse_batch_fft(): iFFT performed in 4387.67 milliseconds.\n",
      "scipy_inverse_batch_fft(): 87.75 milliseconds per frame.\n",
      "Export complete!\n",
      "mrc_masked/SFO2_102_0013_bin2.mrc masked successfully!\n"
     ]
    },
    {
     "name": "stderr",
     "output_type": "stream",
     "text": [
      "\r",
      "34it [23:17, 41.25s/it]"
     ]
    },
    {
     "name": "stdout",
     "output_type": "stream",
     "text": [
      "scipy_fft(): FFT performed in 93.78 milliseconds.\n",
      "Number of first-pass spots found: 74\n",
      "Starting basis: [[ 83 104]\n",
      " [126  23]]\n",
      "Starting basis size: 34110\n",
      "Running basis shortening...\n",
      "The angle between the basis vectors is: 44.15543692163971\n",
      "[ 83 126] is larger than [104  23]\n",
      "The updated basis vectors are [-21 103][104  23]\n",
      "This run resulted in a basis smaller than the last: 22395\n",
      "The updated basis vectors are: [[-21 104]\n",
      " [103  23]]\n",
      "------------------------------------\n",
      "Running basis shortening...\n",
      "The angle between the basis vectors is: 89.05325998222844\n",
      "[104  23] is larger than [-21 103]\n",
      "The updated basis vectors are [125 -80][-21 103]\n",
      "This run resulted in a basis larger than the last: 33075\n",
      "Terminating loop.\n",
      "------------------------------------\n",
      "Starting basis: [[-21 104]\n",
      " [103  23]]\n",
      "Refined_basis: [[-20.82479219 103.58663546]\n",
      " [103.20369623  22.453555  ]]\n",
      "Lattice has less than 8 candidate basis vectors during first pass. Terminating function.\n",
      "scipy_batch_fft(): FFT performed in 3207.64 milliseconds.\n",
      "scipy_batch_fft(): 64.15 milliseconds per frame.\n",
      "scipy_inverse_batch_fft(): iFFT performed in 4239.6 milliseconds.\n",
      "scipy_inverse_batch_fft(): 84.79 milliseconds per frame.\n",
      "Export complete!\n",
      "mrc_masked/SFO2_102_0014_bin2.mrc masked successfully!\n"
     ]
    },
    {
     "name": "stderr",
     "output_type": "stream",
     "text": [
      "\r",
      "35it [23:59, 41.55s/it]"
     ]
    },
    {
     "name": "stdout",
     "output_type": "stream",
     "text": [
      "scipy_fft(): FFT performed in 91.6 milliseconds.\n",
      "Number of first-pass spots found: 82\n",
      "Starting basis: [[104  83]\n",
      " [ 23 126]]\n",
      "Starting basis size: 34110\n",
      "Running basis shortening...\n",
      "The angle between the basis vectors is: 44.15543692163971\n",
      "[ 83 126] is larger than [104  23]\n",
      "The updated basis vectors are [-21 103][104  23]\n",
      "This run resulted in a basis smaller than the last: 22395\n",
      "The updated basis vectors are: [[-21 104]\n",
      " [103  23]]\n",
      "------------------------------------\n",
      "Running basis shortening...\n",
      "The angle between the basis vectors is: 89.05325998222844\n",
      "[104  23] is larger than [-21 103]\n",
      "The updated basis vectors are [125 -80][-21 103]\n",
      "This run resulted in a basis larger than the last: 33075\n",
      "Terminating loop.\n",
      "------------------------------------\n",
      "Starting basis: [[-21 104]\n",
      " [103  23]]\n",
      "Refined_basis: [[-20.8601785  103.63833404]\n",
      " [103.13089673  22.55503612]]\n",
      "Lattice has less than 8 candidate basis vectors during first pass. Terminating function.\n",
      "scipy_batch_fft(): FFT performed in 3224.95 milliseconds.\n",
      "scipy_batch_fft(): 64.5 milliseconds per frame.\n",
      "scipy_inverse_batch_fft(): iFFT performed in 4146.35 milliseconds.\n",
      "scipy_inverse_batch_fft(): 82.93 milliseconds per frame.\n",
      "Export complete!\n",
      "mrc_masked/SFO2_102_0015_bin2.mrc masked successfully!\n"
     ]
    },
    {
     "name": "stderr",
     "output_type": "stream",
     "text": [
      "\r",
      "36it [24:40, 41.46s/it]"
     ]
    },
    {
     "name": "stdout",
     "output_type": "stream",
     "text": [
      "scipy_fft(): FFT performed in 91.18 milliseconds.\n",
      "Number of first-pass spots found: 71\n",
      "Starting basis: [[104  84]\n",
      " [ 22 125]]\n",
      "Starting basis size: 33981\n",
      "Running basis shortening...\n",
      "The angle between the basis vectors is: 44.154722061196\n",
      "[ 84 125] is larger than [104  22]\n",
      "The updated basis vectors are [-20 103][104  22]\n",
      "This run resulted in a basis smaller than the last: 22309\n",
      "The updated basis vectors are: [[-20 104]\n",
      " [103  22]]\n",
      "------------------------------------\n",
      "Running basis shortening...\n",
      "The angle between the basis vectors is: 89.04447390804765\n",
      "[104  22] is larger than [-20 103]\n",
      "The updated basis vectors are [124 -81][-20 103]\n",
      "This run resulted in a basis larger than the last: 32946\n",
      "Terminating loop.\n",
      "------------------------------------\n",
      "Starting basis: [[-20 104]\n",
      " [103  22]]\n",
      "Refined_basis: [[-20.51222352 103.81468939]\n",
      " [102.96041909  22.40427558]]\n",
      "Lattice has less than 8 candidate basis vectors during first pass. Terminating function.\n",
      "scipy_batch_fft(): FFT performed in 3201.7 milliseconds.\n",
      "scipy_batch_fft(): 64.03 milliseconds per frame.\n",
      "scipy_inverse_batch_fft(): iFFT performed in 4177.37 milliseconds.\n",
      "scipy_inverse_batch_fft(): 83.55 milliseconds per frame.\n",
      "Export complete!\n",
      "mrc_masked/SFO2_102_0016_bin2.mrc masked successfully!\n"
     ]
    },
    {
     "name": "stderr",
     "output_type": "stream",
     "text": [
      "\r",
      "37it [25:22, 41.40s/it]"
     ]
    },
    {
     "name": "stdout",
     "output_type": "stream",
     "text": [
      "scipy_fft(): FFT performed in 91.38 milliseconds.\n",
      "Number of first-pass spots found: 82\n",
      "Starting basis: [[105  91]\n",
      " [ 16 120]]\n",
      "Starting basis size: 33962\n",
      "Running basis shortening...\n",
      "The angle between the basis vectors is: 44.161609733300836\n",
      "[ 91 120] is larger than [105  16]\n",
      "The updated basis vectors are [-14 104][105  16]\n",
      "This run resulted in a basis smaller than the last: 22293\n",
      "The updated basis vectors are: [[-14 105]\n",
      " [104  16]]\n",
      "------------------------------------\n",
      "Running basis shortening...\n",
      "The angle between the basis vectors is: 89.00266882870612\n",
      "[105  16] is larger than [-14 104]\n",
      "The updated basis vectors are [119 -88][-14 104]\n",
      "This run resulted in a basis larger than the last: 32917\n",
      "Terminating loop.\n",
      "------------------------------------\n",
      "Starting basis: [[-14 105]\n",
      " [104  16]]\n",
      "Refined_basis: [[-13.77435852 104.89260206]\n",
      " [104.15042765  15.92840138]]\n",
      "Lattice has less than 8 candidate basis vectors during first pass. Terminating function.\n",
      "scipy_batch_fft(): FFT performed in 3224.56 milliseconds.\n",
      "scipy_batch_fft(): 64.49 milliseconds per frame.\n",
      "scipy_inverse_batch_fft(): iFFT performed in 4164.83 milliseconds.\n",
      "scipy_inverse_batch_fft(): 83.3 milliseconds per frame.\n",
      "Export complete!\n",
      "mrc_masked/SFO2_102_0017_bin2.mrc masked successfully!\n"
     ]
    },
    {
     "name": "stderr",
     "output_type": "stream",
     "text": [
      "\r",
      "38it [26:02, 41.22s/it]"
     ]
    },
    {
     "name": "stdout",
     "output_type": "stream",
     "text": [
      "scipy_fft(): FFT performed in 93.15 milliseconds.\n",
      "Number of first-pass spots found: 63\n",
      "Starting basis: [[ 91 105]\n",
      " [120  16]]\n",
      "Starting basis size: 33962\n",
      "Running basis shortening...\n",
      "The angle between the basis vectors is: 44.161609733300836\n",
      "[ 91 120] is larger than [105  16]\n",
      "The updated basis vectors are [-14 104][105  16]\n",
      "This run resulted in a basis smaller than the last: 22293\n",
      "The updated basis vectors are: [[-14 105]\n",
      " [104  16]]\n",
      "------------------------------------\n",
      "Running basis shortening...\n",
      "The angle between the basis vectors is: 89.00266882870612\n",
      "[105  16] is larger than [-14 104]\n",
      "The updated basis vectors are [119 -88][-14 104]\n",
      "This run resulted in a basis larger than the last: 32917\n",
      "Terminating loop.\n",
      "------------------------------------\n",
      "Starting basis: [[-14 105]\n",
      " [104  16]]\n",
      "Refined_basis: [[-13.8452381  104.91666667]\n",
      " [104.14384921  15.80257937]]\n",
      "Lattice has less than 8 candidate basis vectors during first pass. Terminating function.\n",
      "scipy_batch_fft(): FFT performed in 3199.76 milliseconds.\n",
      "scipy_batch_fft(): 64.0 milliseconds per frame.\n",
      "scipy_inverse_batch_fft(): iFFT performed in 4166.93 milliseconds.\n",
      "scipy_inverse_batch_fft(): 83.34 milliseconds per frame.\n",
      "Export complete!\n",
      "mrc_masked/SFO2_102_0018_bin2.mrc masked successfully!\n"
     ]
    },
    {
     "name": "stderr",
     "output_type": "stream",
     "text": [
      "\r",
      "39it [26:43, 41.14s/it]"
     ]
    },
    {
     "name": "stdout",
     "output_type": "stream",
     "text": [
      "scipy_fft(): FFT performed in 92.52 milliseconds.\n",
      "Number of first-pass spots found: 69\n",
      "Starting basis: [[105  91]\n",
      " [ 16 120]]\n",
      "Starting basis size: 33962\n",
      "Running basis shortening...\n",
      "The angle between the basis vectors is: 44.161609733300836\n",
      "[ 91 120] is larger than [105  16]\n",
      "The updated basis vectors are [-14 104][105  16]\n",
      "This run resulted in a basis smaller than the last: 22293\n",
      "The updated basis vectors are: [[-14 105]\n",
      " [104  16]]\n",
      "------------------------------------\n",
      "Running basis shortening...\n",
      "The angle between the basis vectors is: 89.00266882870612\n",
      "[105  16] is larger than [-14 104]\n",
      "The updated basis vectors are [119 -88][-14 104]\n",
      "This run resulted in a basis larger than the last: 32917\n",
      "Terminating loop.\n",
      "------------------------------------\n",
      "Starting basis: [[-14 105]\n",
      " [104  16]]\n",
      "Refined_basis: [[-13.58506407 104.74856385]\n",
      " [104.13919576  15.77507733]]\n",
      "Lattice has less than 8 candidate basis vectors during first pass. Terminating function.\n",
      "scipy_batch_fft(): FFT performed in 3223.55 milliseconds.\n",
      "scipy_batch_fft(): 64.47 milliseconds per frame.\n",
      "scipy_inverse_batch_fft(): iFFT performed in 4227.83 milliseconds.\n",
      "scipy_inverse_batch_fft(): 84.56 milliseconds per frame.\n",
      "Export complete!\n",
      "mrc_masked/SFO2_102_0019_bin2.mrc masked successfully!\n"
     ]
    },
    {
     "name": "stderr",
     "output_type": "stream",
     "text": [
      "\r",
      "40it [27:24, 41.07s/it]"
     ]
    },
    {
     "name": "stdout",
     "output_type": "stream",
     "text": [
      "scipy_fft(): FFT performed in 94.88 milliseconds.\n",
      "Number of first-pass spots found: 76\n",
      "Starting basis: [[105  91]\n",
      " [ 15 119]]\n",
      "Starting basis size: 33692\n",
      "Running basis shortening...\n",
      "The angle between the basis vectors is: 44.46454101443546\n",
      "[ 91 119] is larger than [105  15]\n",
      "The updated basis vectors are [-14 104][105  15]\n",
      "This run resulted in a basis smaller than the last: 22262\n",
      "The updated basis vectors are: [[-14 105]\n",
      " [104  15]]\n",
      "------------------------------------\n",
      "Running basis shortening...\n",
      "The angle between the basis vectors is: 89.5367019076582\n",
      "[105  15] is larger than [-14 104]\n",
      "The updated basis vectors are [119 -89][-14 104]\n",
      "This run resulted in a basis larger than the last: 33094\n",
      "Terminating loop.\n",
      "------------------------------------\n",
      "Starting basis: [[-14 105]\n",
      " [104  15]]\n",
      "Refined_basis: [[-13.70576288 105.11601929]\n",
      " [104.00304646  15.458492  ]]\n",
      "Lattice has less than 8 candidate basis vectors during first pass. Terminating function.\n",
      "scipy_batch_fft(): FFT performed in 3190.32 milliseconds.\n",
      "scipy_batch_fft(): 63.81 milliseconds per frame.\n",
      "scipy_inverse_batch_fft(): iFFT performed in 4190.32 milliseconds.\n",
      "scipy_inverse_batch_fft(): 83.81 milliseconds per frame.\n",
      "Export complete!\n",
      "mrc_masked/SFO2_102_0020_bin2.mrc masked successfully!\n"
     ]
    },
    {
     "name": "stderr",
     "output_type": "stream",
     "text": [
      "\r",
      "41it [28:05, 41.11s/it]"
     ]
    },
    {
     "name": "stdout",
     "output_type": "stream",
     "text": [
      "scipy_fft(): FFT performed in 94.84 milliseconds.\n",
      "Number of first-pass spots found: 135\n",
      "Starting basis: [[-39  52]\n",
      " [145  93]]\n",
      "Starting basis size: 33899\n",
      "Running basis shortening...\n",
      "The angle between the basis vectors is: 44.26560881733296\n",
      "[-39 145] is larger than [52 93]\n",
      "The updated basis vectors are [-91  52][52 93]\n",
      "This run resulted in a basis smaller than the last: 22338\n",
      "The updated basis vectors are: [[-91  52]\n",
      " [ 52  93]]\n",
      "------------------------------------\n",
      "Running basis shortening...\n",
      "The angle between the basis vectors is: 89.4664109607859\n",
      "[52 93] is larger than [-91  52]\n",
      "The updated basis vectors are [143  41][-91  52]\n",
      "This run resulted in a basis larger than the last: 33115\n",
      "Terminating loop.\n",
      "------------------------------------\n",
      "Starting basis: [[-91  52]\n",
      " [ 52  93]]\n",
      "Refined_basis: [[-91.00459981  52.02412389]\n",
      " [ 52.41442479  92.52522196]]\n",
      "Lattice has less than 8 candidate basis vectors during first pass. Terminating function.\n",
      "scipy_batch_fft(): FFT performed in 3325.5 milliseconds.\n",
      "scipy_batch_fft(): 66.51 milliseconds per frame.\n",
      "scipy_inverse_batch_fft(): iFFT performed in 4228.52 milliseconds.\n",
      "scipy_inverse_batch_fft(): 84.57 milliseconds per frame.\n",
      "Export complete!\n",
      "mrc_masked/SFO2_102_0021_bin2.mrc masked successfully!\n"
     ]
    },
    {
     "name": "stderr",
     "output_type": "stream",
     "text": [
      "\r",
      "42it [28:49, 41.71s/it]"
     ]
    },
    {
     "name": "stdout",
     "output_type": "stream",
     "text": [
      "scipy_fft(): FFT performed in 94.72 milliseconds.\n",
      "Number of first-pass spots found: 132\n",
      "Starting basis: [[-39  52]\n",
      " [144  92]]\n",
      "Starting basis size: 33425\n",
      "Running basis shortening...\n",
      "The angle between the basis vectors is: 44.629957053558336\n",
      "[-39 144] is larger than [52 92]\n",
      "The updated basis vectors are [-91  52][52 92]\n",
      "This run resulted in a basis smaller than the last: 22153\n",
      "The updated basis vectors are: [[-91  52]\n",
      " [ 52  92]]\n",
      "------------------------------------\n",
      "Running basis shortening...\n",
      "The angle between the basis vectors is: 89.73100770630352\n",
      "[52 92] is larger than [-91  52]\n",
      "The updated basis vectors are [143  40][-91  52]\n",
      "This run resulted in a basis larger than the last: 33034\n",
      "Terminating loop.\n",
      "------------------------------------\n",
      "Starting basis: [[-91  52]\n",
      " [ 52  92]]\n",
      "Refined_basis: [[-91.00485488  52.11889443]\n",
      " [ 52.3163431   92.03907344]]\n",
      "Lattice has less than 8 candidate basis vectors during first pass. Terminating function.\n",
      "scipy_batch_fft(): FFT performed in 3228.74 milliseconds.\n",
      "scipy_batch_fft(): 64.57 milliseconds per frame.\n",
      "scipy_inverse_batch_fft(): iFFT performed in 4261.13 milliseconds.\n",
      "scipy_inverse_batch_fft(): 85.22 milliseconds per frame.\n",
      "Export complete!\n",
      "mrc_masked/SFO2_102_0022_bin2.mrc masked successfully!\n"
     ]
    },
    {
     "name": "stderr",
     "output_type": "stream",
     "text": [
      "\r",
      "43it [29:32, 42.13s/it]"
     ]
    },
    {
     "name": "stdout",
     "output_type": "stream",
     "text": [
      "scipy_fft(): FFT performed in 93.2 milliseconds.\n",
      "Number of first-pass spots found: 135\n",
      "Starting basis: [[-39 -91]\n",
      " [145  53]]\n",
      "Starting basis size: 33636\n",
      "Running basis shortening...\n",
      "The angle between the basis vectors is: 44.72840948301084\n",
      "[-39 145] is larger than [-91  53]\n",
      "The updated basis vectors are [52 92][-91  53]\n",
      "This run resulted in a basis smaller than the last: 22258\n",
      "The updated basis vectors are: [[ 52 -91]\n",
      " [ 92  53]]\n",
      "------------------------------------\n",
      "Running basis shortening...\n",
      "The angle between the basis vectors is: 89.25861504586142\n",
      "[52 92] is larger than [-91  53]\n",
      "The updated basis vectors are [143  39][-91  53]\n",
      "This run resulted in a basis larger than the last: 33060\n",
      "Terminating loop.\n",
      "------------------------------------\n",
      "Starting basis: [[ 52 -91]\n",
      " [ 92  53]]\n",
      "Refined_basis: [[ 51.95963822 -90.79099243]\n",
      " [ 92.09933551  52.84307512]]\n",
      "Lattice has less than 8 candidate basis vectors during first pass. Terminating function.\n",
      "scipy_batch_fft(): FFT performed in 3244.89 milliseconds.\n",
      "scipy_batch_fft(): 64.9 milliseconds per frame.\n",
      "scipy_inverse_batch_fft(): iFFT performed in 4313.98 milliseconds.\n",
      "scipy_inverse_batch_fft(): 86.28 milliseconds per frame.\n",
      "Export complete!\n",
      "mrc_masked/SFO2_102_0023_bin2.mrc masked successfully!\n"
     ]
    },
    {
     "name": "stderr",
     "output_type": "stream",
     "text": [
      "\r",
      "44it [30:14, 42.32s/it]"
     ]
    },
    {
     "name": "stdout",
     "output_type": "stream",
     "text": [
      "scipy_fft(): FFT performed in 95.99 milliseconds.\n",
      "Number of first-pass spots found: 132\n",
      "Starting basis: [[ 52 -91]\n",
      " [ 92  52]]\n",
      "Starting basis size: 22153\n",
      "Running basis shortening...\n",
      "The angle between the basis vectors is: 89.73100770630352\n",
      "[52 92] is larger than [-91  52]\n",
      "The updated basis vectors are [143  40][-91  52]\n",
      "This run resulted in a basis larger than the last: 33034\n",
      "Terminating loop.\n",
      "------------------------------------\n",
      "Starting basis: [[ 52 -91]\n",
      " [ 92  52]]\n",
      "Refined_basis: [[ 52.05584104 -91.12624186]\n",
      " [ 91.94307411  52.04484983]]\n",
      "Lattice has less than 8 candidate basis vectors during first pass. Terminating function.\n",
      "scipy_batch_fft(): FFT performed in 3230.56 milliseconds.\n",
      "scipy_batch_fft(): 64.61 milliseconds per frame.\n",
      "scipy_inverse_batch_fft(): iFFT performed in 4221.16 milliseconds.\n",
      "scipy_inverse_batch_fft(): 84.42 milliseconds per frame.\n",
      "Export complete!\n",
      "mrc_masked/SFO2_102_0024_bin2.mrc masked successfully!\n"
     ]
    },
    {
     "name": "stderr",
     "output_type": "stream",
     "text": [
      "\r",
      "45it [30:57, 42.35s/it]"
     ]
    },
    {
     "name": "stdout",
     "output_type": "stream",
     "text": [
      "scipy_fft(): FFT performed in 94.34 milliseconds.\n",
      "Number of first-pass spots found: 135\n",
      "Starting basis: [[ 96 -44]\n",
      " [ 46  96]]\n",
      "Starting basis size: 22484\n",
      "Running basis shortening...\n",
      "The angle between the basis vectors is: 89.02137723472184\n",
      "[96 46] is larger than [-44  96]\n",
      "The updated basis vectors are [140 -50][-44  96]\n",
      "This run resulted in a basis larger than the last: 33252\n",
      "Terminating loop.\n",
      "------------------------------------\n",
      "Starting basis: [[ 96 -44]\n",
      " [ 46  96]]\n",
      "Refined_basis: [[ 95.66549708 -43.88479532]\n",
      " [ 45.78050682  95.78674464]]\n",
      "Lattice has less than 8 candidate basis vectors during first pass. Terminating function.\n",
      "scipy_batch_fft(): FFT performed in 3259.05 milliseconds.\n",
      "scipy_batch_fft(): 65.18 milliseconds per frame.\n",
      "scipy_inverse_batch_fft(): iFFT performed in 4295.92 milliseconds.\n",
      "scipy_inverse_batch_fft(): 85.92 milliseconds per frame.\n",
      "Export complete!\n",
      "mrc_masked/SFO2_102_0025_bin2.mrc masked successfully!\n"
     ]
    },
    {
     "name": "stderr",
     "output_type": "stream",
     "text": [
      "\r",
      "46it [31:39, 42.35s/it]"
     ]
    },
    {
     "name": "stdout",
     "output_type": "stream",
     "text": [
      "scipy_fft(): FFT performed in 97.55 milliseconds.\n",
      "Number of first-pass spots found: 143\n",
      "Starting basis: [[-44  96]\n",
      " [ 95  46]]\n",
      "Starting basis size: 22293\n",
      "Running basis shortening...\n",
      "The angle between the basis vectors is: 89.2493983082704\n",
      "[96 46] is larger than [-44  95]\n",
      "The updated basis vectors are [140 -49][-44  95]\n",
      "This run resulted in a basis larger than the last: 32962\n",
      "Terminating loop.\n",
      "------------------------------------\n",
      "Starting basis: [[-44  96]\n",
      " [ 95  46]]\n",
      "Refined_basis: [[-44.09297594  95.86529953]\n",
      " [ 94.97778137  45.98378815]]\n",
      "Lattice has less than 8 candidate basis vectors during first pass. Terminating function.\n",
      "scipy_batch_fft(): FFT performed in 3273.96 milliseconds.\n",
      "scipy_batch_fft(): 65.48 milliseconds per frame.\n",
      "scipy_inverse_batch_fft(): iFFT performed in 4279.72 milliseconds.\n",
      "scipy_inverse_batch_fft(): 85.59 milliseconds per frame.\n",
      "Export complete!\n",
      "mrc_masked/SFO2_102_0026_bin2.mrc masked successfully!\n"
     ]
    },
    {
     "name": "stderr",
     "output_type": "stream",
     "text": [
      "\r",
      "47it [32:22, 42.51s/it]"
     ]
    },
    {
     "name": "stdout",
     "output_type": "stream",
     "text": [
      "scipy_fft(): FFT performed in 95.86 milliseconds.\n",
      "Number of first-pass spots found: 85\n",
      "Starting basis: [[-43  95]\n",
      " [ 95  45]]\n",
      "Starting basis size: 21924\n",
      "Running basis shortening...\n",
      "The angle between the basis vectors is: 89.00683323308294\n",
      "[95 45] is larger than [-43  95]\n",
      "The updated basis vectors are [138 -50][-43  95]\n",
      "This run resulted in a basis larger than the last: 32418\n",
      "Terminating loop.\n",
      "------------------------------------\n",
      "Starting basis: [[-43  95]\n",
      " [ 95  45]]\n",
      "Refined_basis: [[-43.03834808  95.21238938]\n",
      " [ 94.87217306  45.37463127]]\n",
      "Lattice has less than 8 candidate basis vectors during first pass. Terminating function.\n",
      "scipy_batch_fft(): FFT performed in 3252.34 milliseconds.\n",
      "scipy_batch_fft(): 65.05 milliseconds per frame.\n",
      "scipy_inverse_batch_fft(): iFFT performed in 4285.36 milliseconds.\n",
      "scipy_inverse_batch_fft(): 85.71 milliseconds per frame.\n",
      "Export complete!\n",
      "mrc_masked/SFO2_102_0027_bin2.mrc masked successfully!\n"
     ]
    },
    {
     "name": "stderr",
     "output_type": "stream",
     "text": [
      "\r",
      "48it [33:04, 42.40s/it]"
     ]
    },
    {
     "name": "stdout",
     "output_type": "stream",
     "text": [
      "scipy_fft(): FFT performed in 93.45 milliseconds.\n",
      "Number of first-pass spots found: 146\n",
      "Starting basis: [[-44  96]\n",
      " [ 95  46]]\n",
      "Starting basis size: 22293\n",
      "Running basis shortening...\n",
      "The angle between the basis vectors is: 89.2493983082704\n",
      "[96 46] is larger than [-44  95]\n",
      "The updated basis vectors are [140 -49][-44  95]\n",
      "This run resulted in a basis larger than the last: 32962\n",
      "Terminating loop.\n",
      "------------------------------------\n",
      "Starting basis: [[-44  96]\n",
      " [ 95  46]]\n",
      "Refined_basis: [[-43.83574661  95.81719457]\n",
      " [ 94.87204096  45.80052393]]\n",
      "Lattice has less than 8 candidate basis vectors during first pass. Terminating function.\n",
      "scipy_batch_fft(): FFT performed in 3244.52 milliseconds.\n",
      "scipy_batch_fft(): 64.89 milliseconds per frame.\n",
      "scipy_inverse_batch_fft(): iFFT performed in 4297.49 milliseconds.\n",
      "scipy_inverse_batch_fft(): 85.95 milliseconds per frame.\n"
     ]
    }
   ],
   "source": [
    "for movie_filename_in, movie_filename_out, micrograph_filename_in, micrograph_filename_out in tqdm(zip(movie_filenames_in, movie_filenames_out, micrograph_filenames_in, micrograph_filenames_in)):\n",
    "    sax.mask_movie(movie_filename_in,\n",
    "                   movie_filename_out,\n",
    "                   micrograph_filename_in,\n",
    "                   micrograph_filename_out,\n",
    "                   threshold_method = threshold_method,\n",
    "                   pixel_size = pixel_size,\n",
    "                   verbose = True,\n",
    "                   show_plots = False,\n",
    "                   threads = threads,\n",
    "                   sigma = sigma,\n",
    "                   num_sd = num_sd,\n",
    "                   num_sd_secondpass = num_sd_secondpass,\n",
    "                   x_window_percent = x_window_percent,\n",
    "                   y_window_percent = y_window_percent,\n",
    "                   miller_index_buffer = miller_index_buffer,\n",
    "                   box_radius = box_radius,\n",
    "                   min_lattice_size = min_lattice_size,\n",
    "                   mask_radius= mask_radius,\n",
    "                   replace_distance_percent = replace_distance_percent,\n",
    "                   return_spots = True)"
   ]
  },
  {
   "cell_type": "code",
   "execution_count": 11,
   "id": "5391bced",
   "metadata": {},
   "outputs": [],
   "source": [
    "input_filename = \"micrograph/SFO2_102_0001_bin2_patch_aligned_doseweighted.mrc\"\n",
    "output_filename = \"micrograph/SFO2_102_0001_bin2_patch_aligned_doseweighted_masked.mrc\""
   ]
  },
  {
   "cell_type": "code",
   "execution_count": 21,
   "id": "50e14a71",
   "metadata": {},
   "outputs": [
    {
     "name": "stdout",
     "output_type": "stream",
     "text": [
      "scipy_fft(): FFT performed in 90.8 milliseconds.\n",
      "Number of first-pass spots found: 178\n"
     ]
    },
    {
     "data": {
      "image/png": "[encoded data removed]",
      "text/plain": [
       "<Figure size 640x480 with 1 Axes>"
      ]
     },
     "metadata": {},
     "output_type": "display_data"
    },
    {
     "name": "stdout",
     "output_type": "stream",
     "text": [
      "Starting basis: [[-103    2]\n",
      " [ 109  107]]\n",
      "Starting basis size: 33943\n",
      "Running basis shortening...\n",
      "The angle between the basis vectors is: 44.449678541133544\n",
      "[-103  109] is larger than [  2 107]\n",
      "The updated basis vectors are [-105    2][  2 107]\n",
      "This run resulted in a basis smaller than the last: 22482\n",
      "The updated basis vectors are: [[-105    2]\n",
      " [   2  107]]\n",
      "------------------------------------\n",
      "Running basis shortening...\n",
      "The angle between the basis vectors is: 89.97960822952436\n",
      "[  2 107] is larger than [-105    2]\n",
      "The updated basis vectors are [107 105][-105    2]\n",
      "This run resulted in a basis larger than the last: 33503\n",
      "Terminating loop.\n",
      "------------------------------------\n"
     ]
    },
    {
     "data": {
      "image/png": "[encoded data removed]",
      "text/plain": [
       "<Figure size 640x480 with 1 Axes>"
      ]
     },
     "metadata": {},
     "output_type": "display_data"
    },
    {
     "name": "stdout",
     "output_type": "stream",
     "text": [
      "Starting basis: [[-105    2]\n",
      " [   2  107]]\n",
      "Refined_basis: [[-105.34425542    1.85642356]\n",
      " [   2.58470972  106.89178364]]\n"
     ]
    },
    {
     "data": {
      "image/png": "[encoded data removed]",
      "text/plain": [
       "<Figure size 640x480 with 1 Axes>"
      ]
     },
     "metadata": {},
     "output_type": "display_data"
    },
    {
     "data": {
      "image/png": "[encoded data removed]",
      "text/plain": [
       "<Figure size 640x480 with 1 Axes>"
      ]
     },
     "metadata": {},
     "output_type": "display_data"
    },
    {
     "data": {
      "image/png": "[encoded data removed]",
      "text/plain": [
       "<Figure size 640x480 with 1 Axes>"
      ]
     },
     "metadata": {},
     "output_type": "display_data"
    },
    {
     "data": {
      "image/png": "[encoded data removed]",
      "text/plain": [
       "<Figure size 640x480 with 1 Axes>"
      ]
     },
     "metadata": {},
     "output_type": "display_data"
    },
    {
     "name": "stdout",
     "output_type": "stream",
     "text": [
      "Lattice has less than 8 candidate basis vectors during first pass. Terminating function.\n",
      "scipy_ifft(): iFFT performed in 69.48 milliseconds.\n",
      "Export complete!\n",
      "micrograph/SFO2_102_0001_bin2_patch_aligned_doseweighted.mrc masked successfully!\n"
     ]
    }
   ],
   "source": [
    "sax.mask_image(input_filename,\n",
    "               output_filename,\n",
    "               threshold_method = threshold_method,\n",
    "               pixel_size = pixel_size,\n",
    "               verbose = True,\n",
    "               show_plots = True,\n",
    "               threads = threads,\n",
    "               sigma = sigma,\n",
    "               num_sd = num_sd,\n",
    "               num_sd_secondpass = num_sd_secondpass,\n",
    "               x_window_percent = x_window_percent,\n",
    "               y_window_percent = y_window_percent,\n",
    "               miller_index_buffer = miller_index_buffer,\n",
    "               box_radius = box_radius,\n",
    "               min_lattice_size = min_lattice_size,\n",
    "               mask_radius= mask_radius,\n",
    "               replace_distance_percent = replace_distance_percent)"
   ]
  }
 ],
 "metadata": {
  "kernelspec": {
   "display_name": "Python 3 (ipykernel)",
   "language": "python",
   "name": "python3"
  },
  "language_info": {
   "codemirror_mode": {
    "name": "ipython",
    "version": 3
   },
   "file_extension": ".py",
   "mimetype": "text/x-python",
   "name": "python",
   "nbconvert_exporter": "python",
   "pygments_lexer": "ipython3",
   "version": "3.10.8"
  }
 },
 "nbformat": 4,
 "nbformat_minor": 5
}
