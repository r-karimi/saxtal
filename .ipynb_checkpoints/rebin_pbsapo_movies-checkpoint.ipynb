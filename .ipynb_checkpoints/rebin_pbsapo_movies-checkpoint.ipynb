{
 "cells": [
  {
   "cell_type": "code",
   "execution_count": 15,
   "id": "4355ddec",
   "metadata": {},
   "outputs": [],
   "source": [
    "# Quick script to rebin PBS apo movies"
   ]
  },
  {
   "cell_type": "code",
   "execution_count": 1,
   "id": "e7654400",
   "metadata": {},
   "outputs": [],
   "source": [
    "import saxtal_functions as sax\n",
    "import matplotlib.pyplot as plt\n",
    "import numpy as np\n",
    "from tqdm import tqdm, trange\n",
    "import os\n",
    "from funcs_mrcio import iwrhdr_opened, irdhdr_opened, iwrsec_opened, irdsec_opened"
   ]
  },
  {
   "cell_type": "code",
   "execution_count": 2,
   "id": "4ebdae26",
   "metadata": {},
   "outputs": [],
   "source": [
    "# Change working directory\n",
    "os.chdir('/home/rkarimi/saxtal/pbs-apo_100/mrc')"
   ]
  },
  {
   "cell_type": "code",
   "execution_count": 3,
   "id": "2447b916",
   "metadata": {},
   "outputs": [],
   "source": [
    "# Point at file\n",
    "#filename = 'SFO2_100_0001.mrc'\n",
    "bin_size = 2"
   ]
  },
  {
   "cell_type": "code",
   "execution_count": 5,
   "id": "7bc24cc1",
   "metadata": {},
   "outputs": [
    {
     "ename": "SyntaxError",
     "evalue": "invalid syntax (3406104171.py, line 4)",
     "output_type": "error",
     "traceback": [
      "\u001b[0;36m  Cell \u001b[0;32mIn [5], line 4\u001b[0;36m\u001b[0m\n\u001b[0;31m    filename_out = filename[:-4]+\u001b[0m\n\u001b[0m                                 ^\u001b[0m\n\u001b[0;31mSyntaxError\u001b[0m\u001b[0;31m:\u001b[0m invalid syntax\n"
     ]
    }
   ],
   "source": [
    "for filename in os.listdir():\n",
    "    \n",
    "    # Generate the new filename\n",
    "    filename_out = filename[:-4]+\"_bin2.mrc\"\n",
    "    print(filename_out)\n",
    "    \n",
    "#     # Open the movie\n",
    "#     raw_movie = open(filename,'rb')\n",
    "\n",
    "#     # Read in the header\n",
    "#     header = irdhdr_opened(raw_movie)\n",
    "\n",
    "#     # Extract info from the header\n",
    "#     nx = header['nx']\n",
    "#     ny = header['ny']\n",
    "#     nz = header['nz']\n",
    "#     mode = header['datatype']\n",
    "\n",
    "#     # Read each frame into a numpy array\n",
    "#     movie = np.empty((int(nx/2), int(ny/2), nz), dtype=np.float32)\n",
    "#     for z in trange(nz):\n",
    "#         movie[:,:,z] = sax.rebin_helper(irdsec_opened(raw_movie, z), 2)\n",
    "    \n",
    "#     sax.export_masked_movie(movie, (filename, True)"
   ]
  },
  {
   "cell_type": "code",
   "execution_count": 14,
   "id": "f1e2c3ee",
   "metadata": {},
   "outputs": [
    {
     "name": "stdout",
     "output_type": "stream",
     "text": [
      "Export complete!\n"
     ]
    }
   ],
   "source": [
    "sax.export_masked_movie(movie, 'SFO2_100_0001_bin2.mrc', True)"
   ]
  }
 ],
 "metadata": {
  "kernelspec": {
   "display_name": "Python 3 (ipykernel)",
   "language": "python",
   "name": "python3"
  },
  "language_info": {
   "codemirror_mode": {
    "name": "ipython",
    "version": 3
   },
   "file_extension": ".py",
   "mimetype": "text/x-python",
   "name": "python",
   "nbconvert_exporter": "python",
   "pygments_lexer": "ipython3",
   "version": "3.10.8"
  }
 },
 "nbformat": 4,
 "nbformat_minor": 5
}
