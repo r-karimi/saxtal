{
 "cells": [
  {
   "cell_type": "code",
   "execution_count": 1,
   "id": "08a486c4",
   "metadata": {},
   "outputs": [],
   "source": [
    "from tqdm import tqdm, trange\n",
    "import saxtal_functions as sax\n",
    "import os"
   ]
  },
  {
   "cell_type": "code",
   "execution_count": 2,
   "id": "5d0f2b97",
   "metadata": {},
   "outputs": [],
   "source": [
    "# Change the working directory\n",
    "os.chdir('/home/rkarimi/saxtal/IY_dataset')\n",
    "\n",
    "# Find micrograph filenames\n",
    "micrograph_filenames = os.listdir('/home/rkarimi/saxtal/IY_dataset/motion_corrected')\n",
    "micrograph_filenames.sort()\n",
    "micrograph_filenames = [\"motion_corrected/\" + filename for filename in micrograph_filenames]\n",
    "\n",
    "# Find movie filenames\n",
    "movie_filenames = os.listdir('/home/rkarimi/saxtal/IY_dataset/raw')\n",
    "movie_filenames.sort()\n",
    "movie_filenames = [\"raw/\" + filename for filename in movie_filenames]"
   ]
  },
  {
   "cell_type": "code",
   "execution_count": 3,
   "id": "0eb853cc",
   "metadata": {},
   "outputs": [
    {
     "name": "stdout",
     "output_type": "stream",
     "text": [
      "motion_corrected/TfpB_SA_0.05_2XBiotin_Leica8s_0001_patch_aligned_doseweighted.mrc\n",
      "raw/TfpB_SA_0.05_2XBiotin_Leica8s_0001.mrc\n"
     ]
    }
   ],
   "source": [
    "print(micrograph_filenames[0])\n",
    "print(movie_filenames[0])"
   ]
  },
  {
   "cell_type": "code",
   "execution_count": 4,
   "id": "284678af",
   "metadata": {},
   "outputs": [
    {
     "name": "stderr",
     "output_type": "stream",
     "text": [
      "\r",
      "  0%|                                                    | 0/16 [00:00<?, ?it/s]"
     ]
    },
    {
     "name": "stdout",
     "output_type": "stream",
     "text": [
      "[-0.16890189]\n",
      "[0.6425408]\n",
      "[1.7587205]\n"
     ]
    },
    {
     "name": "stderr",
     "output_type": "stream",
     "text": [
      "  6%|██▊                                         | 1/16 [00:12<03:12, 12.80s/it]\n"
     ]
    },
    {
     "ename": "KeyboardInterrupt",
     "evalue": "",
     "output_type": "error",
     "traceback": [
      "\u001b[0;31m---------------------------------------------------------------------------\u001b[0m",
      "\u001b[0;31mKeyboardInterrupt\u001b[0m                         Traceback (most recent call last)",
      "Cell \u001b[0;32mIn [4], line 2\u001b[0m\n\u001b[1;32m      1\u001b[0m \u001b[38;5;28;01mfor\u001b[39;00m i \u001b[38;5;129;01min\u001b[39;00m trange(\u001b[38;5;28mlen\u001b[39m(micrograph_filenames)):\n\u001b[0;32m----> 2\u001b[0m     \u001b[43msax\u001b[49m\u001b[38;5;241;43m.\u001b[39;49m\u001b[43mmask_movie\u001b[49m\u001b[43m(\u001b[49m\u001b[43mmovie_filenames\u001b[49m\u001b[43m[\u001b[49m\u001b[43mi\u001b[49m\u001b[43m]\u001b[49m\u001b[43m,\u001b[49m\n\u001b[1;32m      3\u001b[0m \u001b[43m                   \u001b[49m\u001b[43mmicrograph_filenames\u001b[49m\u001b[43m[\u001b[49m\u001b[43mi\u001b[49m\u001b[43m]\u001b[49m\u001b[43m,\u001b[49m\n\u001b[1;32m      4\u001b[0m \u001b[43m                   \u001b[49m\u001b[43mthreshold_method\u001b[49m\u001b[38;5;241;43m=\u001b[39;49m\u001b[38;5;124;43m'\u001b[39;49m\u001b[38;5;124;43msd\u001b[39;49m\u001b[38;5;124;43m'\u001b[39;49m\u001b[43m,\u001b[49m\u001b[43m \u001b[49m\n\u001b[1;32m      5\u001b[0m \u001b[43m                   \u001b[49m\u001b[43mverbose\u001b[49m\u001b[38;5;241;43m=\u001b[39;49m\u001b[38;5;28;43;01mFalse\u001b[39;49;00m\u001b[43m,\u001b[49m\u001b[43m \u001b[49m\n\u001b[1;32m      6\u001b[0m \u001b[43m                   \u001b[49m\u001b[43mthreads\u001b[49m\u001b[38;5;241;43m=\u001b[39;49m\u001b[38;5;241;43m16\u001b[39;49m\u001b[43m,\u001b[49m\u001b[43m \u001b[49m\n\u001b[1;32m      7\u001b[0m \u001b[43m                   \u001b[49m\u001b[43msigma\u001b[49m\u001b[38;5;241;43m=\u001b[39;49m\u001b[38;5;241;43m15\u001b[39;49m\u001b[43m,\u001b[49m\u001b[43m \u001b[49m\n\u001b[1;32m      8\u001b[0m \u001b[43m                   \u001b[49m\u001b[43mnum_sd\u001b[49m\u001b[38;5;241;43m=\u001b[39;49m\u001b[38;5;241;43m2.5\u001b[39;49m\u001b[43m,\u001b[49m\u001b[43m \u001b[49m\n\u001b[1;32m      9\u001b[0m \u001b[43m                   \u001b[49m\u001b[43mx_window_percent\u001b[49m\u001b[38;5;241;43m=\u001b[39;49m\u001b[43m(\u001b[49m\u001b[38;5;241;43m0.005\u001b[39;49m\u001b[43m,\u001b[49m\u001b[43m \u001b[49m\u001b[38;5;241;43m0.7\u001b[39;49m\u001b[43m)\u001b[49m\u001b[43m,\u001b[49m\n\u001b[1;32m     10\u001b[0m \u001b[43m                   \u001b[49m\u001b[43my_window_percent\u001b[49m\u001b[38;5;241;43m=\u001b[39;49m\u001b[43m(\u001b[49m\u001b[38;5;241;43m0.005\u001b[39;49m\u001b[43m,\u001b[49m\u001b[43m \u001b[49m\u001b[38;5;241;43m0.995\u001b[39;49m\u001b[43m)\u001b[49m\u001b[43m,\u001b[49m\n\u001b[1;32m     11\u001b[0m \u001b[43m                   \u001b[49m\u001b[43mmask_hotpixels\u001b[49m\u001b[38;5;241;43m=\u001b[39;49m\u001b[38;5;28;43;01mFalse\u001b[39;49;00m\u001b[43m,\u001b[49m\n\u001b[1;32m     12\u001b[0m \u001b[43m                   \u001b[49m\u001b[43mreplace_distance_percent\u001b[49m\u001b[38;5;241;43m=\u001b[39;49m\u001b[38;5;241;43m0.05\u001b[39;49m\u001b[43m,\u001b[49m\n\u001b[1;32m     13\u001b[0m \u001b[43m                   \u001b[49m\u001b[43mreturn_spots\u001b[49m\u001b[38;5;241;43m=\u001b[39;49m\u001b[38;5;28;43;01mTrue\u001b[39;49;00m\u001b[43m)\u001b[49m\n",
      "File \u001b[0;32m~/saxtal/saxtal_functions.py:519\u001b[0m, in \u001b[0;36mmask_movie\u001b[0;34m(movie_filename, micrograph_filename, threshold_method, verbose, threads, sigma, quantile, num_sd, x_window_percent, y_window_percent, mask_hotpixels, replace_distance_percent, return_spots)\u001b[0m\n\u001b[1;32m    504\u001b[0m \u001b[38;5;28;01mdef\u001b[39;00m \u001b[38;5;21mmask_movie\u001b[39m(movie_filename,\n\u001b[1;32m    505\u001b[0m                micrograph_filename,\n\u001b[1;32m    506\u001b[0m                threshold_method,\n\u001b[0;32m   (...)\u001b[0m\n\u001b[1;32m    517\u001b[0m     \n\u001b[1;32m    518\u001b[0m     \u001b[38;5;66;03m# Import the movie\u001b[39;00m\n\u001b[0;32m--> 519\u001b[0m     movie, header \u001b[38;5;241m=\u001b[39m \u001b[43mimport_movie\u001b[49m\u001b[43m(\u001b[49m\u001b[43mmovie_filename\u001b[49m\u001b[43m)\u001b[49m\n\u001b[1;32m    521\u001b[0m     \u001b[38;5;66;03m# Perform an FFT of the movie\u001b[39;00m\n\u001b[1;32m    522\u001b[0m     padded_movie_fft \u001b[38;5;241m=\u001b[39m scipy_batch_fft(movie, verbose, threads)\n",
      "File \u001b[0;32m~/saxtal/saxtal_functions.py:408\u001b[0m, in \u001b[0;36mimport_movie\u001b[0;34m(filename)\u001b[0m\n\u001b[1;32m    406\u001b[0m movie \u001b[38;5;241m=\u001b[39m np\u001b[38;5;241m.\u001b[39mempty((nx, ny, nz), dtype\u001b[38;5;241m=\u001b[39mnp\u001b[38;5;241m.\u001b[39mfloat32)\n\u001b[1;32m    407\u001b[0m \u001b[38;5;28;01mfor\u001b[39;00m z \u001b[38;5;129;01min\u001b[39;00m \u001b[38;5;28mrange\u001b[39m(nz):\n\u001b[0;32m--> 408\u001b[0m     movie[:,:,z] \u001b[38;5;241m=\u001b[39m rescale_intensity(irdsec_opened(raw_movie, z))\n\u001b[1;32m    410\u001b[0m \u001b[38;5;66;03m# Return the array and the header\u001b[39;00m\n\u001b[1;32m    411\u001b[0m \u001b[38;5;28;01mreturn\u001b[39;00m movie, header\n",
      "\u001b[0;31mKeyboardInterrupt\u001b[0m: "
     ]
    }
   ],
   "source": [
    "for i in trange(len(micrograph_filenames)):\n",
    "    sax.mask_movie(movie_filenames[i],\n",
    "                   micrograph_filenames[i],\n",
    "                   threshold_method='sd', \n",
    "                   verbose=False, \n",
    "                   threads=16, \n",
    "                   sigma=15, \n",
    "                   num_sd=2.5, \n",
    "                   x_window_percent=(0.005, 0.7),\n",
    "                   y_window_percent=(0.005, 0.995),\n",
    "                   mask_hotpixels=False,\n",
    "                   replace_distance_percent=0.05,\n",
    "                   return_spots=True)"
   ]
  }
 ],
 "metadata": {
  "kernelspec": {
   "display_name": "Python 3 (ipykernel)",
   "language": "python",
   "name": "python3"
  },
  "language_info": {
   "codemirror_mode": {
    "name": "ipython",
    "version": 3
   },
   "file_extension": ".py",
   "mimetype": "text/x-python",
   "name": "python",
   "nbconvert_exporter": "python",
   "pygments_lexer": "ipython3",
   "version": "3.10.8"
  }
 },
 "nbformat": 4,
 "nbformat_minor": 5
}
