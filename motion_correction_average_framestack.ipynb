{
 "cells": [
  {
   "cell_type": "code",
   "execution_count": 1,
   "id": "c5c65bc6",
   "metadata": {},
   "outputs": [],
   "source": [
    "# Let's look at the FFTs of an image BEFORE and AFTER motion correction to see which yields the cleaner FFT.\n",
    "# We already know the SA lattice doesn't move much, and any translation would result in a phase shift in the FFT\n",
    "# without affecting the magnitudes of the spatial frequencies in the image."
   ]
  },
  {
   "cell_type": "code",
   "execution_count": 2,
   "id": "2907e9d6",
   "metadata": {},
   "outputs": [],
   "source": [
    "# Import packages\n",
    "\n",
    "from funcs_mrcio import iwrhdr_opened, irdhdr_opened, iwrsec_opened, irdpas_opened\n",
    "from funcs_mrcio import irdsec_opened\n",
    "import matplotlib.pyplot as plt\n",
    "import numpy as np\n",
    "import scipy.fft as sfft\n",
    "import time\n",
    "from skimage.filters import gaussian\n",
    "from skimage.exposure import rescale_intensity\n",
    "import pyfftw\n",
    "import multiprocessing\n",
    "import os\n",
    "from tqdm import tqdm\n",
    "import time\n",
    "from PIL import Image"
   ]
  },
  {
   "cell_type": "code",
   "execution_count": 3,
   "id": "a3cf53b6",
   "metadata": {},
   "outputs": [],
   "source": [
    "def rebin_helper(array, bin_size=2):\n",
    "    \"\"\"Take a two dimensional pixel array and average each bin_size x bin_size square to one pixel.\"\"\"\n",
    "    shape = (array.shape[0] // bin_size, bin_size,\n",
    "             array.shape[1] // bin_size, bin_size)\n",
    "    return array.reshape(shape).mean(-1).mean(1)"
   ]
  },
  {
   "cell_type": "code",
   "execution_count": 4,
   "id": "08b94179",
   "metadata": {},
   "outputs": [],
   "source": [
    "Image.MAX_IMAGE_PIXELS = None"
   ]
  },
  {
   "cell_type": "code",
   "execution_count": 5,
   "id": "6426f86e",
   "metadata": {},
   "outputs": [],
   "source": [
    "os.chdir('/home/rkarimi/saxtal/motion_correction_average')"
   ]
  },
  {
   "cell_type": "code",
   "execution_count": 6,
   "id": "ce93bd81",
   "metadata": {},
   "outputs": [],
   "source": [
    "image = Image.open('SFO2_100_0001.tif')"
   ]
  },
  {
   "cell_type": "code",
   "execution_count": 7,
   "id": "bde6ab76",
   "metadata": {},
   "outputs": [
    {
     "name": "stdout",
     "output_type": "stream",
     "text": [
      "50\n"
     ]
    }
   ],
   "source": [
    "num_frames = image.n_frames\n",
    "print(num_frames)"
   ]
  },
  {
   "cell_type": "code",
   "execution_count": 8,
   "id": "122a8baf",
   "metadata": {},
   "outputs": [
    {
     "name": "stderr",
     "output_type": "stream",
     "text": [
      "100%|██████████████████████████████████████████████████████████████████████████████████████████████████████████████████████████████████████████| 50/50 [00:42<00:00,  1.17it/s]\n"
     ]
    }
   ],
   "source": [
    "# Create a loop to assemble a stack of rebinned images for a batch FFT\n",
    "\n",
    "frames = []\n",
    "\n",
    "for i in tqdm(range(num_frames)):\n",
    "    image.seek(i)\n",
    "    frame = np.transpose(rescale_intensity(rebin_helper(np.array(image), 2)))\n",
    "    frames.append(frame)\n"
   ]
  },
  {
   "cell_type": "code",
   "execution_count": 9,
   "id": "2ba1fca3",
   "metadata": {},
   "outputs": [],
   "source": [
    "big_array = np.stack(frames, axis=-1).astype('float32')"
   ]
  },
  {
   "cell_type": "code",
   "execution_count": 10,
   "id": "f4f2bf66",
   "metadata": {},
   "outputs": [
    {
     "data": {
      "text/plain": [
       "dtype('float32')"
      ]
     },
     "execution_count": 10,
     "metadata": {},
     "output_type": "execute_result"
    }
   ],
   "source": [
    "big_array.dtype"
   ]
  },
  {
   "cell_type": "code",
   "execution_count": 11,
   "id": "2291a9ae",
   "metadata": {},
   "outputs": [
    {
     "name": "stdout",
     "output_type": "stream",
     "text": [
      "RAM memory % used: 56.8\n",
      "RAM Used (GB): 18.529120256\n"
     ]
    }
   ],
   "source": [
    "# Importing the library\n",
    "import psutil\n",
    "\n",
    "# Getting % usage of virtual_memory ( 3rd field)\n",
    "print('RAM memory % used:', psutil.virtual_memory()[2])\n",
    "# Getting usage of virtual_memory in GB ( 4th field)\n",
    "print('RAM Used (GB):', psutil.virtual_memory()[3]/1000000000)"
   ]
  },
  {
   "cell_type": "code",
   "execution_count": 12,
   "id": "b7e0023e",
   "metadata": {},
   "outputs": [],
   "source": [
    "del frames"
   ]
  },
  {
   "cell_type": "code",
   "execution_count": 13,
   "id": "2062ac73",
   "metadata": {},
   "outputs": [],
   "source": [
    "np.save('SFO2_100_0001/frame_stack_float32.npy', big_array)"
   ]
  }
 ],
 "metadata": {
  "kernelspec": {
   "display_name": "Python 3 (ipykernel)",
   "language": "python",
   "name": "python3"
  },
  "language_info": {
   "codemirror_mode": {
    "name": "ipython",
    "version": 3
   },
   "file_extension": ".py",
   "mimetype": "text/x-python",
   "name": "python",
   "nbconvert_exporter": "python",
   "pygments_lexer": "ipython3",
   "version": "3.10.8"
  }
 },
 "nbformat": 4,
 "nbformat_minor": 5
}
