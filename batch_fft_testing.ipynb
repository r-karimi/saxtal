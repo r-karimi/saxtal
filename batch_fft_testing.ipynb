{
 "cells": [
  {
   "cell_type": "code",
   "execution_count": null,
   "id": "21055134",
   "metadata": {},
   "outputs": [],
   "source": [
    "# Notebook to test batch import of image data and FFTs\n",
    "# Also test to parallelize scipy rfftn\n",
    "\n",
    "# This time, write a function that will auto-pad the images with zeroes\n",
    "# using the s argument\n",
    "\n",
    "# And transforms over the 1st and 2nd axes\n",
    "\n",
    "# This will also allow us to "
   ]
  },
  {
   "cell_type": "code",
   "execution_count": null,
   "id": "2d3423a6",
   "metadata": {},
   "outputs": [],
   "source": [
    "# First, call in 100 test images and stack them.\n",
    "# Should need ~10 GB of space"
   ]
  }
 ],
 "metadata": {
  "kernelspec": {
   "display_name": "Python 3 (ipykernel)",
   "language": "python",
   "name": "python3"
  },
  "language_info": {
   "codemirror_mode": {
    "name": "ipython",
    "version": 3
   },
   "file_extension": ".py",
   "mimetype": "text/x-python",
   "name": "python",
   "nbconvert_exporter": "python",
   "pygments_lexer": "ipython3",
   "version": "3.10.8"
  }
 },
 "nbformat": 4,
 "nbformat_minor": 5
}
