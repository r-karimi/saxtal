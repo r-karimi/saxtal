{
 "cells": [
  {
   "cell_type": "code",
   "execution_count": 1,
   "id": "4355ddec",
   "metadata": {},
   "outputs": [],
   "source": [
    "# Quick script to rebin PBS apo movies"
   ]
  },
  {
   "cell_type": "code",
   "execution_count": 2,
   "id": "e7654400",
   "metadata": {},
   "outputs": [],
   "source": [
    "import saxtal_functions as sax\n",
    "import matplotlib.pyplot as plt\n",
    "import numpy as np\n",
    "from tqdm import tqdm, trange\n",
    "import os\n",
    "from funcs_mrcio import iwrhdr_opened, irdhdr_opened, iwrsec_opened, irdsec_opened"
   ]
  },
  {
   "cell_type": "code",
   "execution_count": 3,
   "id": "4ebdae26",
   "metadata": {},
   "outputs": [],
   "source": [
    "# Change working directory\n",
    "os.chdir('/home/rkarimi/saxtal/pbs-apo_100/mrc')"
   ]
  },
  {
   "cell_type": "code",
   "execution_count": 4,
   "id": "02e25d85",
   "metadata": {},
   "outputs": [],
   "source": [
    "# Point at file\n",
    "#filename = 'SFO2_100_0001.mrc'\n",
    "bin_size = 2"
   ]
  },
  {
   "cell_type": "code",
   "execution_count": 5,
   "id": "2f3d1b25",
   "metadata": {
    "scrolled": true
   },
   "outputs": [
    {
     "name": "stderr",
     "output_type": "stream",
     "text": [
      "  2%|▉                                           | 1/50 [00:08<06:36,  8.10s/it]"
     ]
    },
    {
     "name": "stdout",
     "output_type": "stream",
     "text": [
      "Export complete!\n"
     ]
    },
    {
     "name": "stderr",
     "output_type": "stream",
     "text": [
      "  2%|▉                                           | 1/50 [00:14<11:40, 14.29s/it]\n"
     ]
    },
    {
     "ename": "KeyboardInterrupt",
     "evalue": "",
     "output_type": "error",
     "traceback": [
      "\u001b[0;31m---------------------------------------------------------------------------\u001b[0m",
      "\u001b[0;31mKeyboardInterrupt\u001b[0m                         Traceback (most recent call last)",
      "Cell \u001b[0;32mIn [5], line 21\u001b[0m\n\u001b[1;32m     19\u001b[0m movie \u001b[38;5;241m=\u001b[39m np\u001b[38;5;241m.\u001b[39mempty((\u001b[38;5;28mint\u001b[39m(nx\u001b[38;5;241m/\u001b[39m\u001b[38;5;241m2\u001b[39m), \u001b[38;5;28mint\u001b[39m(ny\u001b[38;5;241m/\u001b[39m\u001b[38;5;241m2\u001b[39m), nz), dtype\u001b[38;5;241m=\u001b[39mnp\u001b[38;5;241m.\u001b[39mfloat32)\n\u001b[1;32m     20\u001b[0m \u001b[38;5;28;01mfor\u001b[39;00m z \u001b[38;5;129;01min\u001b[39;00m \u001b[38;5;28mrange\u001b[39m(nz):\n\u001b[0;32m---> 21\u001b[0m     movie[:,:,z] \u001b[38;5;241m=\u001b[39m \u001b[43msax\u001b[49m\u001b[38;5;241;43m.\u001b[39;49m\u001b[43mrebin_helper\u001b[49m\u001b[43m(\u001b[49m\u001b[43mirdsec_opened\u001b[49m\u001b[43m(\u001b[49m\u001b[43mraw_movie\u001b[49m\u001b[43m,\u001b[49m\u001b[43m \u001b[49m\u001b[43mz\u001b[49m\u001b[43m)\u001b[49m\u001b[43m,\u001b[49m\u001b[43m \u001b[49m\u001b[43mbin_size\u001b[49m\u001b[43m)\u001b[49m\n\u001b[1;32m     23\u001b[0m sax\u001b[38;5;241m.\u001b[39mexport_masked_movie(movie, filename_out, \u001b[38;5;28;01mTrue\u001b[39;00m)\n",
      "File \u001b[0;32m~/saxtal/saxtal_functions.py:20\u001b[0m, in \u001b[0;36mrebin_helper\u001b[0;34m(array, bin_size)\u001b[0m\n\u001b[1;32m     17\u001b[0m \u001b[38;5;124;03m\"\"\"Take a two dimensional pixel array and average each bin_size x bin_size square to one pixel.\"\"\"\u001b[39;00m\n\u001b[1;32m     18\u001b[0m shape \u001b[38;5;241m=\u001b[39m (array\u001b[38;5;241m.\u001b[39mshape[\u001b[38;5;241m0\u001b[39m] \u001b[38;5;241m/\u001b[39m\u001b[38;5;241m/\u001b[39m bin_size, bin_size,\n\u001b[1;32m     19\u001b[0m          array\u001b[38;5;241m.\u001b[39mshape[\u001b[38;5;241m1\u001b[39m] \u001b[38;5;241m/\u001b[39m\u001b[38;5;241m/\u001b[39m bin_size, bin_size)\n\u001b[0;32m---> 20\u001b[0m \u001b[38;5;28;01mreturn\u001b[39;00m \u001b[43marray\u001b[49m\u001b[38;5;241;43m.\u001b[39;49m\u001b[43mreshape\u001b[49m\u001b[43m(\u001b[49m\u001b[43mshape\u001b[49m\u001b[43m)\u001b[49m\u001b[38;5;241;43m.\u001b[39;49m\u001b[43mmean\u001b[49m\u001b[43m(\u001b[49m\u001b[38;5;241;43m-\u001b[39;49m\u001b[38;5;241;43m1\u001b[39;49m\u001b[43m)\u001b[49m\u001b[38;5;241;43m.\u001b[39;49m\u001b[43mmean\u001b[49m\u001b[43m(\u001b[49m\u001b[38;5;241;43m1\u001b[39;49m\u001b[43m)\u001b[49m\n",
      "File \u001b[0;32m~/anaconda3/envs/saxtal/lib/python3.10/site-packages/numpy/core/_methods.py:180\u001b[0m, in \u001b[0;36m_mean\u001b[0;34m(a, axis, dtype, out, keepdims, where)\u001b[0m\n\u001b[1;32m    177\u001b[0m         dtype \u001b[38;5;241m=\u001b[39m mu\u001b[38;5;241m.\u001b[39mdtype(\u001b[38;5;124m'\u001b[39m\u001b[38;5;124mf4\u001b[39m\u001b[38;5;124m'\u001b[39m)\n\u001b[1;32m    178\u001b[0m         is_float16_result \u001b[38;5;241m=\u001b[39m \u001b[38;5;28;01mTrue\u001b[39;00m\n\u001b[0;32m--> 180\u001b[0m ret \u001b[38;5;241m=\u001b[39m \u001b[43mumr_sum\u001b[49m\u001b[43m(\u001b[49m\u001b[43marr\u001b[49m\u001b[43m,\u001b[49m\u001b[43m \u001b[49m\u001b[43maxis\u001b[49m\u001b[43m,\u001b[49m\u001b[43m \u001b[49m\u001b[43mdtype\u001b[49m\u001b[43m,\u001b[49m\u001b[43m \u001b[49m\u001b[43mout\u001b[49m\u001b[43m,\u001b[49m\u001b[43m \u001b[49m\u001b[43mkeepdims\u001b[49m\u001b[43m,\u001b[49m\u001b[43m \u001b[49m\u001b[43mwhere\u001b[49m\u001b[38;5;241;43m=\u001b[39;49m\u001b[43mwhere\u001b[49m\u001b[43m)\u001b[49m\n\u001b[1;32m    181\u001b[0m \u001b[38;5;28;01mif\u001b[39;00m \u001b[38;5;28misinstance\u001b[39m(ret, mu\u001b[38;5;241m.\u001b[39mndarray):\n\u001b[1;32m    182\u001b[0m     ret \u001b[38;5;241m=\u001b[39m um\u001b[38;5;241m.\u001b[39mtrue_divide(\n\u001b[1;32m    183\u001b[0m             ret, rcount, out\u001b[38;5;241m=\u001b[39mret, casting\u001b[38;5;241m=\u001b[39m\u001b[38;5;124m'\u001b[39m\u001b[38;5;124munsafe\u001b[39m\u001b[38;5;124m'\u001b[39m, subok\u001b[38;5;241m=\u001b[39m\u001b[38;5;28;01mFalse\u001b[39;00m)\n",
      "\u001b[0;31mKeyboardInterrupt\u001b[0m: "
     ]
    }
   ],
   "source": [
    "for filename in tqdm(os.listdir()):\n",
    "    \n",
    "    # Generate the new filename\n",
    "    filename_out = filename[:-4]+\"_bin2.mrc\"\n",
    "    \n",
    "    # Open the movie\n",
    "    raw_movie = open(filename,'rb')\n",
    "\n",
    "    # Read in the header\n",
    "    header = irdhdr_opened(raw_movie)\n",
    "\n",
    "    # Extract info from the header\n",
    "    nx = header['nx']\n",
    "    ny = header['ny']\n",
    "    nz = header['nz']\n",
    "    mode = header['datatype']\n",
    "\n",
    "    # Read each frame into a numpy array\n",
    "    movie = np.empty((int(nx/2), int(ny/2), nz), dtype=np.float32)\n",
    "    for z in range(nz):\n",
    "        movie[:,:,z] = sax.rebin_helper(irdsec_opened(raw_movie, z), bin_size)\n",
    "    \n",
    "    sax.export_masked_movie(movie, filename_out, True)"
   ]
  }
 ],
 "metadata": {
  "kernelspec": {
   "display_name": "Python 3 (ipykernel)",
   "language": "python",
   "name": "python3"
  },
  "language_info": {
   "codemirror_mode": {
    "name": "ipython",
    "version": 3
   },
   "file_extension": ".py",
   "mimetype": "text/x-python",
   "name": "python",
   "nbconvert_exporter": "python",
   "pygments_lexer": "ipython3",
   "version": "3.10.8"
  }
 },
 "nbformat": 4,
 "nbformat_minor": 5
}
