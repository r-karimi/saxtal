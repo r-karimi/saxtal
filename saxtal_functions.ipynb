{
 "cells": [
  {
   "cell_type": "code",
   "execution_count": null,
   "id": "2907e9d6",
   "metadata": {},
   "outputs": [],
   "source": [
    "# Import packages\n",
    "\n",
    "from funcs_mrcio import iwrhdr_opened, irdhdr_opened, iwrsec_opened, irdpas_opened\n",
    "from funcs_mrcio import irdsec_opened\n",
    "import matplotlib.pyplot as plt\n",
    "import numpy as np\n",
    "import scipy.fft as sfft\n",
    "import time\n",
    "from skimage.filters import gaussian\n",
    "from skimage.exposure import rescale_intensity"
   ]
  },
  {
   "cell_type": "code",
   "execution_count": null,
   "id": "9d96a40c",
   "metadata": {},
   "outputs": [],
   "source": [
    "def import_mrc(filename):\n",
    "    \"\"\"Use funcs_mrcio to open a specified .mrc file\"\"\"\n",
    "    # Read the .mrc file in binary\n",
    "    micrograph = open(filename,'rb')\n",
    "    \n",
    "    # Use funcs_mrcio to extract image array and rescale values to lie between [-1, 1]\n",
    "    image = rescale_intensity(irdsec_opened(micrograph,0))\n",
    "    \n",
    "    # Use funcs_mrcio to extract header info\n",
    "    header = irdhdr_opened(micrograph)\n",
    "    \n",
    "    # Return the rescaled image and header\n",
    "    return image, header"
   ]
  },
  {
   "cell_type": "code",
   "execution_count": null,
   "id": "a3cf53b6",
   "metadata": {},
   "outputs": [],
   "source": [
    "def rebin_helper(array, bin_size=2):\n",
    "    \"\"\"Take a two dimensional pixel array and average each bin_size x bin_size square to one pixel.\"\"\"\n",
    "    shape = (array.shape[0] // bin_size, bin_size,\n",
    "             array.shape[1] // bin_size, bin_size)\n",
    "    return array.reshape(shape).mean(-1).mean(1)"
   ]
  },
  {
   "cell_type": "code",
   "execution_count": null,
   "id": "87f9fe83",
   "metadata": {},
   "outputs": [],
   "source": [
    "def rebin_mrc(filename, bin_size=2):\n",
    "    \"\"\"Take the filename of an .mrc file to be rebinned, perform the rebinning, and write out a new file.\"\"\"\n",
    "    # Read the .mrc file in binary\n",
    "    micrograph = open(filename,'rb')\n",
    "    \n",
    "    # Use funcs_mrcio to extract image array\n",
    "    image = irdsec_opened(micrograph,0)\n",
    "    \n",
    "    # Rebin the image\n",
    "    rebinned_image = rebin_helper(image, bin_size)\n",
    "    \n",
    "    # Generate a new filename\n",
    "    new_filename = \"rebin_output/\" + filename[0:-4] + \"_bin_\" + str(bin_size) + \".mrc\"\n",
    "    \n",
    "    # Generate a new header\n",
    "    nx, ny = rebinned_image.shape\n",
    "    nxyz = np.array([nx, ny, 1], dtype=np.float32)\n",
    "    dmin = np.min(rebinned_image)\n",
    "    dmax = np.max(rebinned_image)\n",
    "    dmean = np.sum(rebinned_image)/(nx*ny)\n",
    "    \n",
    "    # Open a new file\n",
    "    rebinned_mrc = open(new_filename, 'wb')\n",
    "    \n",
    "    # Write the header to the new file\n",
    "    iwrhdr_opened(rebinned_mrc, \n",
    "                  nxyz, \n",
    "                  dmin, \n",
    "                  dmax, \n",
    "                  dmean, \n",
    "                  mode=2)\n",
    "    \n",
    "    # Write the rebinned array to the new file\n",
    "    iwrsec_opened(rebinned_image, rebinned_mrc)"
   ]
  },
  {
   "cell_type": "code",
   "execution_count": null,
   "id": "fca8e6d2",
   "metadata": {},
   "outputs": [],
   "source": [
    "def pad_image(image, header):\n",
    "    \"\"\"Take image and header from import_mrc() and pad image to make array square\"\"\"\n",
    "    # Find the maximum dimension of the image\n",
    "    max_dimension = np.maximum(header['nx'], header['ny'])\n",
    "    \n",
    "    # Make an array of the median pixel value of the image array with maximum dimensions\n",
    "    padded_image = np.full(shape=(max_dimension, max_dimension),\n",
    "                           fill_value=np.median(image))\n",
    "    \n",
    "    # Transplant image values into padded array\n",
    "    padded_image[0:header['nx'],0:header['ny']] = image\n",
    "    \n",
    "    # Return padded image and header\n",
    "    return padded_image#, header"
   ]
  },
  {
   "cell_type": "code",
   "execution_count": null,
   "id": "5d0ef195",
   "metadata": {},
   "outputs": [],
   "source": [
    "def scipy_fft(padded_image, print_timestamps=False):\n",
    "    \"\"\"Take padded image from pad_image() and return the FFT\"\"\"\n",
    "    \n",
    "    # Record the time it takes to do the FFT\n",
    "    # for later comparison with multi-threaded FFTW\n",
    "    \n",
    "    # Start the timer\n",
    "    start_time = time.time()\n",
    "    \n",
    "    # Perform the FFT\n",
    "    padded_fft = sfft.rfft2(padded_image, norm=\"ortho\")\n",
    "    \n",
    "    # Stop the timer\n",
    "    end_time = time.time()\n",
    "    \n",
    "    if print_timestamps:\n",
    "        # Print the elapsed time to the nearest hundreth of a millisecond\n",
    "        print(\"scipy_fft(): FFT performed in\", np.round((end_time-start_time)*1000, 2), \"milliseconds.\")\n",
    "    \n",
    "    # Return FFT of padded image\n",
    "    return padded_fft"
   ]
  },
  {
   "cell_type": "code",
   "execution_count": null,
   "id": "1e15462c",
   "metadata": {},
   "outputs": [],
   "source": [
    "def generate_diff_spectrum(padded_fft, sigma=1):\n",
    "    \"\"\"\n",
    "    Apply gaussian filter to power spectrum of FFT from scipy_fft() or west_fft() \n",
    "    to generate a difference spectrum\n",
    "    \"\"\"\n",
    "    \n",
    "    # Generate the power spectrum of padded FFT\n",
    "    padded_spectrum = np.abs(padded_fft)\n",
    "    \n",
    "    # Smooth the power spectrum with Gaussian filter\n",
    "    smoothed_spectrum = gaussian(padded_spectrum, sigma)\n",
    "    \n",
    "    # Return the difference spectrum\n",
    "    diff_spectrum = padded_spectrum - smoothed_spectrum\n",
    "    \n",
    "    return diff_spectrum, smoothed_spectrum"
   ]
  },
  {
   "cell_type": "code",
   "execution_count": null,
   "id": "a5a1027a",
   "metadata": {},
   "outputs": [],
   "source": [
    "def find_diffraction_spots_quantile(diff_spectrum, quantile=0.99, x_window_percent = (0, 1), y_window_percent = (0, 1)):\n",
    "    \"\"\"\n",
    "    Take a difference spectrum and find outliers greater than a given quantile,\n",
    "    taking a user-defined window of the FFT.\n",
    "    \"\"\"\n",
    "    \n",
    "    # Define minimum and maximum indices of the window\n",
    "    \n",
    "    y_min = int(diff_spectrum.shape[0]*y_window_percent[0])\n",
    "    y_max = int(diff_spectrum.shape[0]*y_window_percent[1])\n",
    "    x_min = int(diff_spectrum.shape[1]*x_window_percent[0])\n",
    "    x_max = int(diff_spectrum.shape[1]*x_window_percent[1])\n",
    "\n",
    "    # Calculate the threshold on a subset of the spectrum\n",
    "    quantile_threshold = np.quantile(diff_spectrum[y_min:y_max, x_min:x_max].flatten(), \n",
    "                                     quantile)\n",
    "    \n",
    "    # Find the indices of points where the value is greater than the threshold\n",
    "    diffraction_spots = np.transpose(np.where(diff_spectrum >= quantile_threshold))\n",
    "    \n",
    "    # Discard the points that fall outside the window\n",
    "    diffraction_spots_yfilt = np.logical_and(diffraction_spots[:,0] >= y_min, diffraction_spots[:,0] <= y_max)\n",
    "    diffraction_spots_xfilt = np.logical_and(diffraction_spots[:,1] >= x_min, diffraction_spots[:,1] <= x_max)\n",
    "    diffraction_spots_filt = np.array([diffraction_spots_yfilt, diffraction_spots_xfilt]).min(axis=0)\n",
    "    \n",
    "    # Subset the rows of diffraction_spots that fall within the window\n",
    "    diffraction_spots = diffraction_spots[diffraction_spots_filt,:]\n",
    "\n",
    "    return diffraction_spots"
   ]
  },
  {
   "cell_type": "code",
   "execution_count": 1,
   "id": "c399864a",
   "metadata": {},
   "outputs": [],
   "source": [
    "def find_diffraction_spots_sd(diff_spectrum, sd=3.0, x_window_percent = (0, 1), y_window_percent = (0, 1)):\n",
    "    \"\"\"\n",
    "    Take a difference spectrum and find outliers past a certain number of SDs from the mean,\n",
    "    taking a user-defined window of the FFT.\n",
    "    \"\"\"\n",
    "    \n",
    "    # Define minimum and maximum indices of the window\n",
    "    \n",
    "    y_min = int(diff_spectrum.shape[0]*y_window_percent[0])\n",
    "    y_max = int(diff_spectrum.shape[0]*y_window_percent[1])\n",
    "    x_min = int(diff_spectrum.shape[1]*x_window_percent[0])\n",
    "    x_max = int(diff_spectrum.shape[1]*x_window_percent[1])\n",
    "\n",
    "    # Calculate the mean on a subset of the spectrum\n",
    "    mean = np.mean(diff_spectrum[y_min:y_max, x_min:x_max].flatten())\n",
    "    # Calculate the standard deviation\n",
    "    sd = np.std(diff_spectrum[y_min:y_max, x_min:x_max].flatten())\n",
    "    \n",
    "    # Find the indices of points where the value is greater than the threshold\n",
    "    diffraction_spots = np.transpose(np.where(diff_spectrum >= mean+(3*sd)))\n",
    "    \n",
    "    # Discard the points that fall outside the window\n",
    "    diffraction_spots_yfilt = np.logical_and(diffraction_spots[:,0] >= y_min, diffraction_spots[:,0] <= y_max)\n",
    "    diffraction_spots_xfilt = np.logical_and(diffraction_spots[:,1] >= x_min, diffraction_spots[:,1] <= x_max)\n",
    "    diffraction_spots_filt = np.array([diffraction_spots_yfilt, diffraction_spots_xfilt]).min(axis=0)\n",
    "    \n",
    "    # Subset the rows of diffraction_spots that fall within the window\n",
    "    diffraction_spots = diffraction_spots[diffraction_spots_filt,:]\n",
    "\n",
    "    return diffraction_spots"
   ]
  },
  {
   "cell_type": "code",
   "execution_count": null,
   "id": "49d513af",
   "metadata": {},
   "outputs": [],
   "source": [
    "def replace_diffraction_spots(padded_fft, diffraction_spots, replace_distance_percent = 0.05):\n",
    "    \"\"\"\n",
    "    Take FFT from scipy_fft() or west_fft() and replace diffraction spots according to indices from find_diffraction_spots.\n",
    "    replace_distance_percent: fraction of x-dimension to move along the diagonal when finding new amplitude.\n",
    "    \"\"\"\n",
    "    # Generate a masked fft\n",
    "    masked_fft = np.copy(padded_fft)\n",
    "    \n",
    "    # Generate a vector of random phases with the same length as number of diffraction_spots\n",
    "    phases = np.random.uniform(low = 0.0,\n",
    "                               high = 2*np.pi,\n",
    "                               size = diffraction_spots.shape[0])\n",
    "    phase_count = 0\n",
    "    \n",
    "    # Figure out the movement distances horizontally and vertically\n",
    "    replace_distance = int((np.min(padded_fft.shape)*replace_distance_percent)/np.sqrt(2))\n",
    "    \n",
    "    # Loop through axis-0, axis-1 coordinates\n",
    "    for indices in diffraction_spots:\n",
    "        # If we're in the top quadrant\n",
    "        if indices[0] < int(padded_fft.shape[0]/2):\n",
    "            # Construct the complex number by moving down and right\n",
    "            real = np.real(masked_fft[indices[0]+replace_distance, indices[1]+replace_distance])\n",
    "            imaginary = phases[phase_count]\n",
    "            replacement = real + np.imag(imaginary)\n",
    "            # Replace\n",
    "            masked_fft[indices[0], indices[1]] = replacement\n",
    "        # If we're in the bottom quadrant\n",
    "        else:\n",
    "            # Construct the complex number by moving up and right\n",
    "            real = np.real(masked_fft[indices[0]-replace_distance, indices[1]+replace_distance])\n",
    "            imaginary = phases[phase_count]\n",
    "            replacement = real + np.imag(imaginary)\n",
    "            # Replace\n",
    "            masked_fft[indices[0], indices[1]] = replacement\n",
    "        # Increment the phase count\n",
    "        phase_count =+ 1\n",
    "    \n",
    "    return masked_fft"
   ]
  },
  {
   "cell_type": "code",
   "execution_count": null,
   "id": "e4982805",
   "metadata": {},
   "outputs": [],
   "source": [
    "def scipy_inverse_fft(masked_fft, print_timestamps=False):\n",
    "    \"\"\"Take masked FFT from replace_diffraction_spots and return the padded image array\"\"\"\n",
    "    \n",
    "    # Record the time it takes to do the FFT\n",
    "    # for later comparison with multi-threaded FFTW\n",
    "    \n",
    "    # Start the timer\n",
    "    start_time = time.time()\n",
    "    \n",
    "    # Perform the FFT\n",
    "    padded_masked_image = sfft.irfft2(masked_fft, norm=\"ortho\")\n",
    "    \n",
    "    # Stop the timer\n",
    "    end_time = time.time()\n",
    "    \n",
    "    if print_timestamps:\n",
    "        # Print the elapsed time to the nearest hundreth of a millisecond\n",
    "        print(\"scipy_ifft(): FFT performed in\", np.round((end_time-start_time)*1000, 2), \"milliseconds.\")\n",
    "    \n",
    "    # Return FFT of padded image\n",
    "    return padded_masked_image"
   ]
  },
  {
   "cell_type": "code",
   "execution_count": null,
   "id": "163ff483",
   "metadata": {},
   "outputs": [],
   "source": [
    "def unpad_image(padded_masked_image, original_shape, header):\n",
    "    \"\"\"\n",
    "    Take padded masked image from scipy_inverse_fft() or west_inverse_fft() \n",
    "    and original image shape and return unpadded image\n",
    "    \"\"\"\n",
    "    return padded_masked_image[0:original_shape[0], 0:original_shape[1]]"
   ]
  },
  {
   "cell_type": "code",
   "execution_count": null,
   "id": "3de2e303",
   "metadata": {},
   "outputs": [],
   "source": [
    "def export_masked_mrc(masked_image, filename):\n",
    "    \"\"\"Take unpadded masked image from unpad_image() and write out a new header\"\"\"\n",
    "    \n",
    "    # Generate a new filename\n",
    "    new_filename = \"masked_output/\" + filename[0:-4] + \"_masked.mrc\"\n",
    "    \n",
    "    # Generate a new header\n",
    "    nx, ny = masked_image.shape\n",
    "    nxyz = np.array([nx, ny, 1], dtype=np.float32)\n",
    "    dmin = np.min(masked_image)\n",
    "    dmax = np.max(masked_image)\n",
    "    dmean = np.sum(masked_image)/(nx*ny)\n",
    "    \n",
    "    # Open a new file\n",
    "    masked_mrc = open(new_filename, 'wb')\n",
    "    \n",
    "    # Write the header to the new file\n",
    "    iwrhdr_opened(masked_mrc, \n",
    "                  nxyz, \n",
    "                  dmin, \n",
    "                  dmax, \n",
    "                  dmean, \n",
    "                  mode=2)\n",
    "    \n",
    "    # Write the rebinned array to the new file\n",
    "    iwrsec_opened(masked_image, masked_mrc)\n",
    "    \n",
    "    print(\"Export complete!\")"
   ]
  },
  {
   "cell_type": "code",
   "execution_count": null,
   "id": "f7ef382f",
   "metadata": {},
   "outputs": [],
   "source": [
    "def mask_image(filename, \n",
    "               verbose=False, \n",
    "               sigma=1,\n",
    "               quantile=0.99,\n",
    "               sd=3.0,\n",
    "               threshold_method,\n",
    "               x_window_percent=(0, 1),\n",
    "               y_window_percent=(0, 1),\n",
    "               replace_distance_percent=0.05):\n",
    "    \"\"\"\n",
    "    Take the filename of a micrograph in the .mrc format and subtract the streptavidin crystal lattice.\n",
    "    print_timestamps: Boolean, whether to print how long it takes to perform the FFT and iFFT.\n",
    "    sigma: Int. The SD of the Gaussian filter applied.\n",
    "    quantile: Float. The quantile above which points will be designated diffraction spots to be masked.\n",
    "    sd: Float. The number of SDs above the mean at which diffraction spots are detected.\n",
    "    threshold_method: String. The thresholding method used to detect diffraction spots. Can be \"quantile\" or \"sd\".\n",
    "    x_window_percent: Tuple. The upper and lower bounds of the x-dimension window in which to mask points (axis 1).\n",
    "    x_window_percent: Tuple. The upper and lower bounds of the y-dimension window in which to mask points (axis 0).\n",
    "    replace_distance_percent: Float. The fraction of the lesser dimension of the FFT to use as a radial distance to find replacement point values.\n",
    "    \"\"\"\n",
    "    \n",
    "    # Import the image\n",
    "    image, header = import_mrc(filename)\n",
    "    \n",
    "    # Pad the image to make it square\n",
    "    padded_image = pad_image(image, header)\n",
    "    \n",
    "    # Perform an FFT of the image\n",
    "    padded_fft = scipy_fft(padded_image, verbose)\n",
    "    \n",
    "    # Subtract the FFT from a Gaussian-smoothed FFT\n",
    "    diff_spectrum, smoothed_spectrum = generate_diff_spectrum(padded_fft, sigma)\n",
    "    \n",
    "    # Find diffraction spots\n",
    "    if threshold_method == \"quantile\":\n",
    "        diffraction_spots = find_diffraction_spots_quantile(diff_spectrum, quantile, x_window_percent, y_window_percent)\n",
    "    if threshold_method == \"sd\":\n",
    "        diffraction_spots = find_diffraction_spots_sd(diff_spectrum, sd, x_window_percent, y_window_percent)\n",
    "    else:\n",
    "        print(\"No thresholding method specificed. Please specify a method using the threshold_method parameter.\")\n",
    "        return\n",
    "\n",
    "    if verbose:\n",
    "        print(\"Number of diffraction spots:\" + diffraction_spots.shape)\n",
    "    \n",
    "    # Replace the diffraction spots\n",
    "    masked_fft = replace_diffraction_spots(padded_fft, diffraction_spots, replace_distance_percent)\n",
    "    \n",
    "    # Perform the inverse FFT\n",
    "    padded_masked_image = scipy_inverse_fft(masked_fft, print_timestamps)\n",
    "    \n",
    "    # Extract the original image from the padded inverse FFT\n",
    "    masked_image = unpad_image(padded_masked_image, image.shape)\n",
    "    \n",
    "    # Export the image as an .mrc file\n",
    "    export_masked_mrc(masked_image, filename)\n",
    "    \n",
    "    if verbose:\n",
    "        print(filename + \" masked successfully!\")"
   ]
  },
  {
   "cell_type": "code",
   "execution_count": null,
   "id": "6c071f93",
   "metadata": {},
   "outputs": [],
   "source": [
    "filename = \"test_image_bin_2.mrc\""
   ]
  },
  {
   "cell_type": "code",
   "execution_count": null,
   "id": "6e295b90",
   "metadata": {},
   "outputs": [],
   "source": [
    "image, header = import_mrc(filename)"
   ]
  },
  {
   "cell_type": "code",
   "execution_count": null,
   "id": "2f6f2f6d",
   "metadata": {},
   "outputs": [],
   "source": [
    "padded_image, header = pad_image(image, header)"
   ]
  },
  {
   "cell_type": "code",
   "execution_count": null,
   "id": "8838c862",
   "metadata": {
    "scrolled": true
   },
   "outputs": [],
   "source": [
    "padded_fft = scipy_fft(padded_image, True)"
   ]
  },
  {
   "cell_type": "code",
   "execution_count": null,
   "id": "2ad8824f",
   "metadata": {},
   "outputs": [],
   "source": [
    "plt.matshow(np.log10(np.abs(padded_fft))[10:1000, 10:1000],\n",
    "           cmap = \"Greys_r\",\n",
    "           vmax = 1,\n",
    "           vmin = -1)"
   ]
  },
  {
   "cell_type": "code",
   "execution_count": null,
   "id": "4562c37d",
   "metadata": {},
   "outputs": [],
   "source": [
    "diff_spectrum, smoothed_spectrum = generate_diff_spectrum(padded_fft, 9)"
   ]
  },
  {
   "cell_type": "code",
   "execution_count": null,
   "id": "6a8f882d",
   "metadata": {},
   "outputs": [],
   "source": [
    "plt.matshow(np.log10(np.abs(smoothed_spectrum))[10:1000, 10:1000],\n",
    "           cmap = \"Greys_r\",\n",
    "           vmax = 1,\n",
    "           vmin = -1)"
   ]
  },
  {
   "cell_type": "code",
   "execution_count": null,
   "id": "aea88579",
   "metadata": {},
   "outputs": [],
   "source": [
    "plt.matshow(np.log10(np.abs(diff_spectrum))[10:1000, 10:1000],\n",
    "           cmap = \"Greys_r\",\n",
    "           vmax = 1,\n",
    "           vmin = -1)"
   ]
  },
  {
   "cell_type": "code",
   "execution_count": null,
   "id": "6cf95901",
   "metadata": {
    "scrolled": false
   },
   "outputs": [],
   "source": [
    "# Look at a histogram of diff_spectrum values\n",
    "\n",
    "plt.hist(np.abs(diff_spectrum)[100:200, 100:200].flatten(),bins = 50)\n",
    "plt.show()"
   ]
  },
  {
   "cell_type": "code",
   "execution_count": null,
   "id": "ab7d45cd",
   "metadata": {
    "scrolled": false
   },
   "outputs": [],
   "source": [
    "diffraction_spots = find_diffraction_spots(diff_spectrum, 0.99, (0, 0.7), (0, 1))"
   ]
  },
  {
   "cell_type": "code",
   "execution_count": null,
   "id": "7c73a53a",
   "metadata": {},
   "outputs": [],
   "source": [
    "masked_fft = replace_diffraction_spots(padded_fft, diffraction_spots, 0.1)"
   ]
  },
  {
   "cell_type": "code",
   "execution_count": null,
   "id": "2dede7e2",
   "metadata": {},
   "outputs": [],
   "source": [
    "plt.matshow(np.log10(np.abs(masked_fft))[10:1000, 10:1000],\n",
    "           cmap = \"Greys_r\",\n",
    "           vmax = 1,\n",
    "           vmin = -1)"
   ]
  },
  {
   "cell_type": "code",
   "execution_count": null,
   "id": "05cb54f9",
   "metadata": {
    "scrolled": true
   },
   "outputs": [],
   "source": [
    "padded_masked_image = scipy_inverse_fft(masked_fft, True)"
   ]
  },
  {
   "cell_type": "code",
   "execution_count": null,
   "id": "ee8bdc32",
   "metadata": {},
   "outputs": [],
   "source": [
    "plt.matshow(padded_masked_image)"
   ]
  },
  {
   "cell_type": "code",
   "execution_count": null,
   "id": "20c298d7",
   "metadata": {},
   "outputs": [],
   "source": [
    "masked_image = unpad_image(padded_masked_image, image.shape)"
   ]
  },
  {
   "cell_type": "code",
   "execution_count": null,
   "id": "c2effc36",
   "metadata": {
    "scrolled": true
   },
   "outputs": [],
   "source": [
    "plt.matshow(rescale_intensity(masked_image, in_range=(-1, 1)))"
   ]
  },
  {
   "cell_type": "code",
   "execution_count": null,
   "id": "bfadda05",
   "metadata": {},
   "outputs": [],
   "source": [
    "export_masked_mrc(masked_image, filename)"
   ]
  },
  {
   "cell_type": "code",
   "execution_count": null,
   "id": "e6a94f71",
   "metadata": {},
   "outputs": [],
   "source": [
    "mask_image(filename, \n",
    "        print_timestamps=True, \n",
    "               sigma=9,\n",
    "               quantile=0.99,\n",
    "               x_window_percent=(0.1, 0.7),\n",
    "               y_window_percent=(0.1, 1),\n",
    "               replace_distance_percent=0.05)"
   ]
  },
  {
   "cell_type": "code",
   "execution_count": null,
   "id": "553523f8",
   "metadata": {
    "scrolled": false
   },
   "outputs": [],
   "source": [
    "# Ground truth: we know that 10, 105 is a diffraction spot. Let's make sure we can see it.\n",
    "\n",
    "padded_spectrum = np.abs(padded_fft)\n",
    "print(padded_spectrum[10, 105])\n",
    "plt.matshow(padded_spectrum[5:15, 100:110],\n",
    "           cmap = \"Greys_r\")"
   ]
  },
  {
   "cell_type": "code",
   "execution_count": null,
   "id": "1b1379fd",
   "metadata": {},
   "outputs": [],
   "source": []
  }
 ],
 "metadata": {
  "kernelspec": {
   "display_name": "Python 3 (ipykernel)",
   "language": "python",
   "name": "python3"
  },
  "language_info": {
   "codemirror_mode": {
    "name": "ipython",
    "version": 3
   },
   "file_extension": ".py",
   "mimetype": "text/x-python",
   "name": "python",
   "nbconvert_exporter": "python",
   "pygments_lexer": "ipython3",
   "version": "3.10.8"
  }
 },
 "nbformat": 4,
 "nbformat_minor": 5
}
