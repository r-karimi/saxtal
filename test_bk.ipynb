{
 "cells": [
  {
   "cell_type": "code",
   "execution_count": 4,
   "id": "af7cff01",
   "metadata": {},
   "outputs": [],
   "source": [
    "from funcs_mrcio import iwrhdr_opened, irdhdr_opened, iwrsec_opened, irdpas_opened\n",
    "from funcs_mrcio import irdsec_opened\n",
    "import matplotlib.pyplot as plt\n",
    "import numpy as np\n",
    "\n",
    "from skimage.exposure import rescale_intensity"
   ]
  },
  {
   "cell_type": "code",
   "execution_count": 5,
   "id": "ad3597f8",
   "metadata": {},
   "outputs": [],
   "source": [
    "micrographnamein= \"test_data/test_lattice.mrc\"\n",
    "micrographnameout= micrographnamein.replace(\".mrc\", \"_filt.mrc\")\n",
    "psize = 1.048 # Angstroms/pixel\n",
    "\n",
    "micrograph = open(micrographnamein,'rb')\n",
    "image = rescale_intensity(irdsec_opened(micrograph,0)) #rescale to range (-1,1)\n",
    "header = irdhdr_opened(micrograph)\n",
    "nx = header['nx']; ny = header['ny']; nz = header['nz']"
   ]
  },
  {
   "cell_type": "code",
   "execution_count": 6,
   "id": "25b08e54",
   "metadata": {},
   "outputs": [],
   "source": [
    "boxsize = np.maximum(nx,ny)\n",
    "image_padded=np.empty([boxsize,boxsize])\n",
    "image_padded[:,:]=np.mean(image)\n",
    "image_padded[0:nx,0:ny]=image"
   ]
  },
  {
   "cell_type": "code",
   "execution_count": 7,
   "id": "a5b24b80",
   "metadata": {},
   "outputs": [],
   "source": [
    "import pyfftw   \n",
    "fftmod = pyfftw.interfaces.numpy_fft\n",
    "pyfftw.interfaces.cache.enable()\n",
    "import multiprocessing\n",
    "imagefftw  = pyfftw.empty_aligned([boxsize,boxsize],dtype=np.float64)\n",
    "imagefftw[:,:]=image_padded\n",
    "imagec=fftmod.rfftn(imagefftw,threads=1,planner_effort=\"FFTW_ESTIMATE\")\n",
    "ny_fft, nx_fft= np.shape(imagec)\n"
   ]
  },
  {
   "cell_type": "code",
   "execution_count": 8,
   "id": "35b43483",
   "metadata": {},
   "outputs": [],
   "source": [
    "from skimage import filters\n",
    "power        = np.log(np.real(imagec * np.conj(imagec)))\n",
    "power_smooth = filters.gaussian(power,9)\n",
    "peaky        = power-power_smooth\n",
    "peaky_smooth = filters.gaussian(peaky,1)"
   ]
  },
  {
   "cell_type": "code",
   "execution_count": 9,
   "id": "ba03359b",
   "metadata": {},
   "outputs": [
    {
     "data": {
      "text/plain": [
       "-0.00460664620970096"
      ]
     },
     "execution_count": 9,
     "metadata": {},
     "output_type": "execute_result"
    }
   ],
   "source": [
    "filters.threshold_mean(peaky_smooth)"
   ]
  },
  {
   "cell_type": "code",
   "execution_count": 14,
   "id": "80a7fa5e",
   "metadata": {},
   "outputs": [
    {
     "data": {
      "text/plain": [
       "0.3853848838142234"
      ]
     },
     "execution_count": 14,
     "metadata": {},
     "output_type": "execute_result"
    }
   ],
   "source": [
    "np.std(peaky_smooth)"
   ]
  },
  {
   "cell_type": "code",
   "execution_count": 11,
   "id": "6ac7d4d7",
   "metadata": {},
   "outputs": [
    {
     "name": "stderr",
     "output_type": "stream",
     "text": [
      "/tmp/ipykernel_32124/162142332.py:2: DeprecationWarning: `np.int` is a deprecated alias for the builtin `int`. To silence this warning, use `int` by itself. Doing this will not modify any behavior and is safe. When replacing `np.int`, you may wish to use e.g. `np.int64` or `np.int32` to specify the precision. If you wish to review your current use, check the release note link for additional information.\n",
      "Deprecated in NumPy 1.20; for more details and guidance: https://numpy.org/devdocs/release/1.20.0-notes.html#deprecations\n",
      "  masked_index_y, masked_index_x= np.where(peaky_smooth[:, 0:7*np.int(nx_fft/8)]>threshold)\n"
     ]
    }
   ],
   "source": [
    "threshold    = 3*np.std(peaky_smooth)+filters.threshold_mean(peaky_smooth) \n",
    "masked_index_y, masked_index_x= np.where(peaky_smooth[:, 0:7*np.int(nx_fft/8)]>threshold)\n",
    "masked= power.copy()\n",
    "first_half= np.where(masked_index_y<=(ny_fft/2))[0]\n",
    "second_half= np.where(masked_index_y>(ny_fft/2))[0]\n",
    "masked_index_y_first= masked_index_y[first_half]\n",
    "masked_index_y_second= masked_index_y[second_half]"
   ]
  },
  {
   "cell_type": "code",
   "execution_count": 39,
   "id": "f92c8052",
   "metadata": {
    "scrolled": false
   },
   "outputs": [
    {
     "name": "stderr",
     "output_type": "stream",
     "text": [
      "/tmp/ipykernel_30981/4165795667.py:1: DeprecationWarning: `np.int` is a deprecated alias for the builtin `int`. To silence this warning, use `int` by itself. Doing this will not modify any behavior and is safe. When replacing `np.int`, you may wish to use e.g. `np.int64` or `np.int32` to specify the precision. If you wish to review your current use, check the release note link for additional information.\n",
      "Deprecated in NumPy 1.20; for more details and guidance: https://numpy.org/devdocs/release/1.20.0-notes.html#deprecations\n",
      "  X= np.int(0.01*nx_fft)\n",
      "/tmp/ipykernel_30981/4165795667.py:2: DeprecationWarning: `np.int` is a deprecated alias for the builtin `int`. To silence this warning, use `int` by itself. Doing this will not modify any behavior and is safe. When replacing `np.int`, you may wish to use e.g. `np.int64` or `np.int32` to specify the precision. If you wish to review your current use, check the release note link for additional information.\n",
      "Deprecated in NumPy 1.20; for more details and guidance: https://numpy.org/devdocs/release/1.20.0-notes.html#deprecations\n",
      "  Y= np.int(0.01*ny_fft)\n"
     ]
    }
   ],
   "source": [
    "X= np.int(0.01*nx_fft)\n",
    "Y= np.int(0.01*ny_fft)"
   ]
  },
  {
   "cell_type": "code",
   "execution_count": 40,
   "id": "a0a12faf",
   "metadata": {},
   "outputs": [],
   "source": [
    "masked_index_y_shifted= np.append(masked_index_y_first+Y, masked_index_y_second-Y)\n",
    "masked_index_x_shifted= masked_index_x+X"
   ]
  },
  {
   "cell_type": "code",
   "execution_count": 41,
   "id": "94340fae",
   "metadata": {},
   "outputs": [],
   "source": [
    "masked[masked_index_y, masked_index_x]= power[masked_index_y_shifted, masked_index_x_shifted]"
   ]
  },
  {
   "cell_type": "code",
   "execution_count": 44,
   "id": "763b7c46",
   "metadata": {},
   "outputs": [],
   "source": [
    "phase_array= np.random.uniform(low= 0.0, high= 2*np.pi, size= np.shape(imagec))\n",
    "j= 0.0+1j\n",
    "\n",
    "#copying fourier transformed image\n",
    "imagecmasked = imagec.copy()\n",
    "#adding a random phase to the fourier transformed image\n",
    "imagecmasked_random_phase= imagec.copy()*np.exp(phase_array*j)\n",
    "\n",
    "#masking out the diffraction spots by replacing the peaks with the values (with added random phase) from the shifted axis\n",
    "imagecmasked[masked_index_y, masked_index_x]= imagecmasked_random_phase[masked_index_y_shifted,masked_index_x_shifted]\n",
    "\n",
    "# calculate inverse FFT of masked FTi\n",
    "image_nolattice_padded=fftmod.irfftn(imagecmasked,threads=1,planner_effort='FFTW_ESTIMATE')\n",
    "\n",
    "#extract micrograph from the padded, masked\n",
    "image_nolattice=image_nolattice_padded[0:nx,0:ny]\n",
    "\n",
    "#plt.rcParams['figure.figsize'] = [20, 40]\n",
    "#print(np.min(image_nolattice),np.max(image_nolattice))\n",
    "#plt.imshow(image_nolattice,cmap='gray')\n",
    "#plt.show()\n",
    "\n",
    "filteredmic = open(micrographnameout,'wb')\n",
    "nxyz  = np.array([nx,ny,1],dtype=np.float32)\n",
    "dmin  = np.min(image_nolattice)\n",
    "dmax  = np.max(image_nolattice)\n",
    "dmean = np.sum(image_nolattice)/(nx*ny)\n",
    "iwrhdr_opened(filteredmic,nxyz,dmin,dmax,dmean,mode=2)\n",
    "iwrsec_opened(image_nolattice,filteredmic)"
   ]
  }
 ],
 "metadata": {
  "kernelspec": {
   "display_name": "Python 3 (ipykernel)",
   "language": "python",
   "name": "python3"
  },
  "language_info": {
   "codemirror_mode": {
    "name": "ipython",
    "version": 3
   },
   "file_extension": ".py",
   "mimetype": "text/x-python",
   "name": "python",
   "nbconvert_exporter": "python",
   "pygments_lexer": "ipython3",
   "version": "3.10.8"
  }
 },
 "nbformat": 4,
 "nbformat_minor": 5
}
