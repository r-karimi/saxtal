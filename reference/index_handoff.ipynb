{
 "cells": [
  {
   "cell_type": "code",
   "execution_count": null,
   "id": "8905df74",
   "metadata": {},
   "outputs": [],
   "source": [
    "# This notebook will be used to develop a function, mask_stack(), \n",
    "# that takes a motion-corrected micrograph, finds lattice points, and then masks\n",
    "# each frame in the movie.\n",
    "\n",
    "# Inputs:\n",
    "# mask_images inputs\n",
    "# patch motion corrected, dose-weighted micrograph\n",
    "# raw movie\n",
    "\n",
    "\n",
    "# Outputs:\n",
    "# raw movie with each frame masked"
   ]
  },
  {
   "cell_type": "code",
   "execution_count": 1,
   "id": "1cee906d",
   "metadata": {},
   "outputs": [],
   "source": [
    "from funcs_mrcio import iwrhdr_opened, irdhdr_opened, iwrsec_opened, irdsec_opened\n",
    "import saxtal_functions as sax\n",
    "import numpy as np\n",
    "import time\n",
    "import scipy.fft as sfft\n",
    "from skimage.exposure import rescale_intensity\n",
    "import matplotlib.pyplot as plt"
   ]
  },
  {
   "cell_type": "code",
   "execution_count": 2,
   "id": "6cc2e5f8",
   "metadata": {},
   "outputs": [],
   "source": [
    "movie_filename = \"test_movie.mrc\"\n",
    "micrograph_filename = \"test_micrograph.mrc\"\n",
    "threads = 16\n",
    "replace_distance_percent=0.05\n"
   ]
  },
  {
   "cell_type": "code",
   "execution_count": 3,
   "id": "3a090507",
   "metadata": {},
   "outputs": [
    {
     "name": "stdout",
     "output_type": "stream",
     "text": [
      "scipy_batch_fft(): FFT performed in 1073.83 milliseconds.\n",
      "scipy_batch_fft(): 35.79 milliseconds per frame.\n",
      "scipy_fft(): FFT performed in 47.13 milliseconds.\n",
      "Number of diffraction spots found: 5771\n",
      "Removing hot pixels...\n"
     ]
    },
    {
     "name": "stderr",
     "output_type": "stream",
     "text": [
      "100%|█████████████████████████████████████| 5771/5771 [00:01<00:00, 3319.88it/s]\n"
     ]
    },
    {
     "name": "stdout",
     "output_type": "stream",
     "text": [
      "5225 hot pixels removed.\n",
      "scipy_inverse_batch_fft(): iFFT performed in 860.25 milliseconds.\n",
      "scipy_inverse_batch_fft(): 28.68 milliseconds per frame.\n",
      "Export complete!\n",
      "test_movie.mrc masked successfully!\n"
     ]
    }
   ],
   "source": [
    "sax.mask_movie(movie_filename,\n",
    "               micrograph_filename,\n",
    "               threshold_method='sd', \n",
    "               verbose=True, \n",
    "               threads=16, \n",
    "               sigma=9, \n",
    "               num_sd=4.0, \n",
    "               x_window_percent=(0.005, 0.7),\n",
    "               y_window_percent=(0.005, 0.995),\n",
    "               mask_hotpixels=True,\n",
    "               replace_distance_percent=0.05,\n",
    "               return_spots=True)"
   ]
  },
  {
   "cell_type": "code",
   "execution_count": null,
   "id": "6f38b9a2",
   "metadata": {},
   "outputs": [],
   "source": [
    "movie, header = sax.import_movie(movie_filename)"
   ]
  },
  {
   "cell_type": "code",
   "execution_count": null,
   "id": "e64d92c6",
   "metadata": {},
   "outputs": [],
   "source": [
    "# Start the timer\n",
    "start_time = time.time()\n",
    "\n",
    "# Perform an FFT over the 0th and 1st axis of the movie\n",
    "movie_FFT = sfft.rfftn(movie, \n",
    "                       s=(np.max(movie[:,:,0].shape), np.max(movie[:,:,0].shape)), \n",
    "                       axes=(0,1),\n",
    "                       overwrite_x=True,\n",
    "                       workers=threads)\n",
    "\n",
    "# Stop the timer\n",
    "end_time = time.time()\n",
    "    \n",
    "print(\"scipy_fft(): FFT performed in\", np.round((end_time-start_time)*1000, 2), \"milliseconds.\")\n",
    "print(\"scipy_fft():\", np.round((end_time-start_time)*1000/movie.shape[2], 2), \"milliseconds per image.\")"
   ]
  },
  {
   "cell_type": "code",
   "execution_count": null,
   "id": "2e7541a7",
   "metadata": {
    "scrolled": true
   },
   "outputs": [],
   "source": [
    "# Look at the 1st, 8th, and 15th frame\n",
    "\n",
    "plt.matshow(np.log10(np.abs(movie_FFT[:,:,0]))[:500, :500],\n",
    "           cmap = \"Greys_r\",\n",
    "           vmax = 3,\n",
    "           vmin = 1)\n",
    "\n",
    "plt.matshow(np.log10(np.abs(movie_FFT[:,:,7]))[:500, :500],\n",
    "           cmap = \"Greys_r\",\n",
    "           vmax = 3,\n",
    "           vmin = 1)\n",
    "\n",
    "plt.matshow(np.log10(np.abs(movie_FFT[:,:,14]))[:500, :500],\n",
    "           cmap = \"Greys_r\",\n",
    "           vmax = 3,\n",
    "           vmin = 1)"
   ]
  },
  {
   "cell_type": "code",
   "execution_count": null,
   "id": "21bb3dcb",
   "metadata": {},
   "outputs": [],
   "source": [
    "# Find diffraction spots by running mask_image\n",
    "\n",
    "diffraction_spots = sax.mask_image(micrograph_filename, \n",
    "               threshold_method='sd', \n",
    "               verbose=False, \n",
    "               threads=16, \n",
    "               sigma=9, \n",
    "               num_sd=4.0, \n",
    "               x_window_percent=(0.005, 0.7),\n",
    "               y_window_percent=(0.005, 0.995),\n",
    "               mask_hotpixels=True,\n",
    "               replace_distance_percent=0.05,\n",
    "               return_spots=True)"
   ]
  },
  {
   "cell_type": "code",
   "execution_count": null,
   "id": "a736eae8",
   "metadata": {},
   "outputs": [],
   "source": [
    "# Make a new array to hold masked movie\n",
    "\n",
    "masked_movie_FFT = np.empty(movie_FFT.shape, dtype=np.complex64)"
   ]
  },
  {
   "cell_type": "code",
   "execution_count": null,
   "id": "44349c76",
   "metadata": {},
   "outputs": [],
   "source": [
    "# Replace diffraction spots in each subframe\n",
    "\n",
    "for z in range(header['nz']):\n",
    "    frame_FFT = movie_FFT[:,:,z]\n",
    "    masked_movie_FFT[:,:,z] = sax.replace_diffraction_spots(frame_FFT, \n",
    "                                                            diffraction_spots, \n",
    "                                                            replace_distance_percent)"
   ]
  },
  {
   "cell_type": "code",
   "execution_count": null,
   "id": "6ea9e863",
   "metadata": {
    "scrolled": true
   },
   "outputs": [],
   "source": [
    "# Look at the 1st, 8th, and 15th frame of the masked movie\n",
    "\n",
    "plt.matshow(np.log10(np.abs(masked_movie_FFT[:,:,0]))[:200, :200],\n",
    "           cmap = \"Greys_r\",\n",
    "           vmax = 3,\n",
    "           vmin = 1)\n",
    "\n",
    "plt.matshow(np.log10(np.abs(masked_movie_FFT[:,:,7]))[:200, :200],\n",
    "           cmap = \"Greys_r\",\n",
    "           vmax = 3,\n",
    "           vmin = 1)\n",
    "\n",
    "plt.matshow(np.log10(np.abs(masked_movie_FFT[:,:,14]))[:200, :200],\n",
    "           cmap = \"Greys_r\",\n",
    "           vmax = 3,\n",
    "           vmin = 1)"
   ]
  },
  {
   "cell_type": "code",
   "execution_count": null,
   "id": "73f6f692",
   "metadata": {},
   "outputs": [],
   "source": [
    "# Perform the inverse transform of the movie\n",
    "\n",
    "# Start the timer\n",
    "start_time = time.time()\n",
    "\n",
    "# Perform an FFT over the 0th and 1st axis of the movie\n",
    "masked_movie = sfft.irfftn(masked_movie_FFT, \n",
    "                           axes=(0,1),\n",
    "                           overwrite_x=True,\n",
    "                           workers=threads)\n",
    "\n",
    "# Stop the timer\n",
    "end_time = time.time()\n",
    "    \n",
    "print(\"scipy_inverse_batch_fft(): iFFT performed in\", np.round((end_time-start_time)*1000, 2), \"milliseconds.\")\n",
    "print(\"scipy_inverse_batch_fft():\", np.round((end_time-start_time)*1000/movie.shape[2], 2), \"milliseconds per image.\")"
   ]
  },
  {
   "cell_type": "code",
   "execution_count": null,
   "id": "7fd2332c",
   "metadata": {},
   "outputs": [],
   "source": [
    "unpadded_masked_movie = masked_movie[0:movie.shape[0], 0:movie.shape[1], 0:movie.shape[2]]"
   ]
  },
  {
   "cell_type": "code",
   "execution_count": null,
   "id": "9d0b3f9a",
   "metadata": {},
   "outputs": [],
   "source": [
    "# Generate a new filename\n",
    "new_movie_filename = \"masked_output/\" + movie_filename[0:-4] + \"_masked.mrc\"\n",
    "\n",
    "# Generate a new header\n",
    "nx, ny, nz = unpadded_masked_movie.shape\n",
    "nxyz = np.array([nx, ny, nz], dtype=np.float32)\n",
    "dmin = np.min(unpadded_masked_movie)\n",
    "dmax = np.max(unpadded_masked_movie)\n",
    "dmean = np.sum(unpadded_masked_movie)/(nx*ny*nz)"
   ]
  },
  {
   "cell_type": "code",
   "execution_count": null,
   "id": "cc0bdff5",
   "metadata": {},
   "outputs": [],
   "source": [
    "# Open a new file\n",
    "masked_movie_mrc = open(new_movie_filename, 'wb')"
   ]
  },
  {
   "cell_type": "code",
   "execution_count": null,
   "id": "e9c0aacc",
   "metadata": {},
   "outputs": [],
   "source": [
    "# Write the header to the new file\n",
    "iwrhdr_opened(masked_movie_mrc, \n",
    "              nxyz, \n",
    "              dmin, \n",
    "              dmax, \n",
    "              dmean, \n",
    "              mode=2)\n",
    "\n",
    "# Write the rebinned array to the new file\n",
    "iwrsec_opened(unpadded_masked_movie, masked_movie_mrc)"
   ]
  }
 ],
 "metadata": {
  "kernelspec": {
   "display_name": "Python 3 (ipykernel)",
   "language": "python",
   "name": "python3"
  },
  "language_info": {
   "codemirror_mode": {
    "name": "ipython",
    "version": 3
   },
   "file_extension": ".py",
   "mimetype": "text/x-python",
   "name": "python",
   "nbconvert_exporter": "python",
   "pygments_lexer": "ipython3",
   "version": "3.10.8"
  }
 },
 "nbformat": 4,
 "nbformat_minor": 5
}
